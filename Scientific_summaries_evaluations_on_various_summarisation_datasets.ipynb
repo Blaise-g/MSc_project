{
  "cells": [
    {
      "cell_type": "markdown",
      "metadata": {
        "id": "Nhg-3BJDhkcJ"
      },
      "source": [
        "# Get performance metrics of the task of generating abstract given text with baseline, zero shot classification and fine tuned on arxiv"
      ]
    },
    {
      "cell_type": "code",
      "execution_count": null,
      "metadata": {
        "id": "h4Mz8-jFhkcN"
      },
      "outputs": [],
      "source": [
        "from datasets import load_dataset_builder, get_dataset_config_names, load_dataset, get_dataset_split_names\n",
        "import psutil\n",
        "import nltk\n",
        "from nltk.tokenize import sent_tokenize, word_tokenize\n",
        "import matplotlib.pyplot as plt\n",
        "from datasets import load_metric\n",
        "import pandas as pd\n",
        "from transformers import pipeline"
      ]
    },
    {
      "cell_type": "code",
      "source": [
        "nltk.download(\"punkt\")"
      ],
      "metadata": {
        "colab": {
          "base_uri": "https://localhost:8080/"
        },
        "id": "j1dCwzFory6r",
        "outputId": "bb42953f-8cf1-4380-9b7d-ab35e36b7bc8"
      },
      "execution_count": null,
      "outputs": [
        {
          "output_type": "stream",
          "name": "stderr",
          "text": [
            "[nltk_data] Downloading package punkt to\n",
            "[nltk_data]     /Users/lorenzogermini/nltk_data...\n",
            "[nltk_data]   Package punkt is already up-to-date!\n"
          ]
        },
        {
          "output_type": "execute_result",
          "data": {
            "text/plain": [
              "True"
            ]
          },
          "metadata": {},
          "execution_count": 2
        }
      ]
    },
    {
      "cell_type": "code",
      "source": [
        "configs = get_dataset_config_names(\"scitldr\")\n",
        "print(configs)"
      ],
      "metadata": {
        "colab": {
          "base_uri": "https://localhost:8080/"
        },
        "id": "Q8Sjs-vki1yy",
        "outputId": "21ebc7d8-dacf-4925-aca4-9bf1cb26d451"
      },
      "execution_count": null,
      "outputs": [
        {
          "output_type": "stream",
          "name": "stdout",
          "text": [
            "['Abstract', 'AIC', 'FullText']\n"
          ]
        }
      ]
    },
    {
      "cell_type": "markdown",
      "source": [
        "## Abstract section only of scitldr."
      ],
      "metadata": {
        "id": "KDe8-2GkZ7e8"
      }
    },
    {
      "cell_type": "code",
      "source": [
        "dataset_builder = load_dataset_builder('scitldr', 'Abstract')"
      ],
      "metadata": {
        "id": "qzosR7pRaSMH"
      },
      "execution_count": null,
      "outputs": []
    },
    {
      "cell_type": "markdown",
      "source": [
        "Using the AIC is still too long apparently for most of the texts and will cut significantly pieces of texts. Still have also some baselines for those."
      ],
      "metadata": {
        "id": "AMNRPy9zaSMH"
      }
    },
    {
      "cell_type": "code",
      "source": [
        "ab = load_dataset('scitldr', 'Abstract', split='test')"
      ],
      "metadata": {
        "colab": {
          "base_uri": "https://localhost:8080/"
        },
        "outputId": "6e78378c-f0f9-4a50-d9ab-290c17f42f32",
        "id": "_yFHR8Q2aSMI"
      },
      "execution_count": null,
      "outputs": [
        {
          "output_type": "stream",
          "name": "stderr",
          "text": [
            "Reusing dataset scitldr (/Users/lorenzogermini/.cache/huggingface/datasets/scitldr/Abstract/0.0.0/79e0fa75961392034484808cfcc8f37deb15ceda153b798c92d9f621d1042fef)\n"
          ]
        }
      ]
    },
    {
      "cell_type": "markdown",
      "source": [
        "Some analysis of og data"
      ],
      "metadata": {
        "id": "vNlT5tKFaSMI"
      }
    },
    {
      "cell_type": "code",
      "source": [
        "def compute_n_summ(x):\n",
        "    return {\"n_summ\": len(x['target'])}"
      ],
      "metadata": {
        "id": "v6dUGTCZaSMI"
      },
      "execution_count": null,
      "outputs": []
    },
    {
      "cell_type": "code",
      "source": [
        "ab = ab.map(compute_n_summ)"
      ],
      "metadata": {
        "colab": {
          "base_uri": "https://localhost:8080/"
        },
        "outputId": "3f25856f-8de7-4191-a0ac-a74c2a6ecf3e",
        "id": "FBLFzWidaSMI"
      },
      "execution_count": null,
      "outputs": [
        {
          "output_type": "stream",
          "name": "stderr",
          "text": [
            "Loading cached processed dataset at /Users/lorenzogermini/.cache/huggingface/datasets/scitldr/Abstract/0.0.0/79e0fa75961392034484808cfcc8f37deb15ceda153b798c92d9f621d1042fef/cache-157088b006b0aa3c.arrow\n"
          ]
        }
      ]
    },
    {
      "cell_type": "code",
      "source": [
        "plt.hist(ab['n_summ']);"
      ],
      "metadata": {
        "colab": {
          "base_uri": "https://localhost:8080/",
          "height": 266
        },
        "outputId": "89440919-f1b9-49c1-f32e-8946d0530e90",
        "id": "_Xqdg2X6aSMI"
      },
      "execution_count": null,
      "outputs": [
        {
          "output_type": "display_data",
          "data": {
            "text/plain": [
              "<Figure size 432x288 with 1 Axes>"
            ],
            "image/png": "[encoded data removed]"
          },
          "metadata": {
            "needs_background": "light"
          }
        }
      ]
    },
    {
      "cell_type": "markdown",
      "source": [
        "Merge all strings in source into one big string to be given in input to the model."
      ],
      "metadata": {
        "id": "R8l6jzc8aSMI"
      }
    },
    {
      "cell_type": "code",
      "source": [
        "' '.join(ab['source'][0])"
      ],
      "metadata": {
        "colab": {
          "base_uri": "https://localhost:8080/"
        },
        "outputId": "29f75964-a274-415a-934e-c3be4c512201",
        "id": "1gQ5aMc8aSMI"
      },
      "execution_count": null,
      "outputs": [
        {
          "output_type": "execute_result",
          "data": {
            "text/plain": [
              "'Incremental class learning involves sequentially learning classes in bursts of examples from the same class. This violates the assumptions that underlie  methods for training standard deep neural networks, and will cause them to suffer from catastrophic forgetting. Arguably, the best method for incremental class learning is iCaRL, but it requires storing  training examples for each class, making it challenging to scale. Here, we propose FearNet for incremental class learning. FearNet is a generative model that does not store previous examples, making it memory efficient. FearNet uses a brain-inspired dual-memory system in which new memories are consolidated from a network for recent memories inspired by the mammalian hippocampal complex to a network for long-term storage inspired by medial prefrontal cortex. Memory consolidation is inspired by mechanisms that occur during sleep. FearNet also uses a module inspired by the basolateral amygdala for determining which memory system to use for recall.   FearNet achieves state-of-the-art performance at incremental class learning on image (CIFAR-100, CUB-200) and audio classification (AudioSet) benchmarks.\\n'"
            ]
          },
          "metadata": {},
          "execution_count": 9
        }
      ]
    },
    {
      "cell_type": "code",
      "source": [
        "def merge_strs(x):\n",
        "  x['source'] = ' '.join(x['source'])\n",
        "  return x"
      ],
      "metadata": {
        "id": "QDS7e99haSMI"
      },
      "execution_count": null,
      "outputs": []
    },
    {
      "cell_type": "code",
      "source": [
        "ab = ab.map(merge_strs)"
      ],
      "metadata": {
        "colab": {
          "base_uri": "https://localhost:8080/"
        },
        "outputId": "ddb925ba-aac2-4647-f7ac-7b890f5f3d5e",
        "id": "POtEY6t-aSMI"
      },
      "execution_count": null,
      "outputs": [
        {
          "output_type": "stream",
          "name": "stderr",
          "text": [
            "Loading cached processed dataset at /Users/lorenzogermini/.cache/huggingface/datasets/scitldr/Abstract/0.0.0/79e0fa75961392034484808cfcc8f37deb15ceda153b798c92d9f621d1042fef/cache-8570bbc2ba7a68bf.arrow\n"
          ]
        }
      ]
    },
    {
      "cell_type": "code",
      "source": [
        "ab['source'][0]"
      ],
      "metadata": {
        "colab": {
          "base_uri": "https://localhost:8080/"
        },
        "outputId": "a7527283-0e74-4738-b0e5-bfe062618f5f",
        "id": "YfzVrl0UaSMI"
      },
      "execution_count": null,
      "outputs": [
        {
          "output_type": "execute_result",
          "data": {
            "text/plain": [
              "'Incremental class learning involves sequentially learning classes in bursts of examples from the same class. This violates the assumptions that underlie  methods for training standard deep neural networks, and will cause them to suffer from catastrophic forgetting. Arguably, the best method for incremental class learning is iCaRL, but it requires storing  training examples for each class, making it challenging to scale. Here, we propose FearNet for incremental class learning. FearNet is a generative model that does not store previous examples, making it memory efficient. FearNet uses a brain-inspired dual-memory system in which new memories are consolidated from a network for recent memories inspired by the mammalian hippocampal complex to a network for long-term storage inspired by medial prefrontal cortex. Memory consolidation is inspired by mechanisms that occur during sleep. FearNet also uses a module inspired by the basolateral amygdala for determining which memory system to use for recall.   FearNet achieves state-of-the-art performance at incremental class learning on image (CIFAR-100, CUB-200) and audio classification (AudioSet) benchmarks.\\n'"
            ]
          },
          "metadata": {},
          "execution_count": 12
        }
      ]
    },
    {
      "cell_type": "markdown",
      "source": [
        "could like remove all the unused columns to be tidy and reduce memory occupied by dataset."
      ],
      "metadata": {
        "id": "7UD1fwogaSMI"
      }
    },
    {
      "cell_type": "code",
      "source": [
        "ab = ab.remove_columns(['source_labels', 'rouge_scores'])"
      ],
      "metadata": {
        "id": "qcXXFfQraSMI"
      },
      "execution_count": null,
      "outputs": []
    },
    {
      "cell_type": "markdown",
      "source": [
        "Insights into tokens length distribution for aic full texts."
      ],
      "metadata": {
        "id": "YTLtVDhtaSMI"
      }
    },
    {
      "cell_type": "code",
      "source": [
        "from transformers import AutoTokenizer, AutoModelForSeq2SeqLM\n",
        "\n",
        "tokenizer = AutoTokenizer.from_pretrained(\"sshleifer/distilbart-xsum-12-6\")\n",
        "\n",
        "model = AutoModelForSeq2SeqLM.from_pretrained(\"sshleifer/distilbart-xsum-12-6\")"
      ],
      "metadata": {
        "id": "O0SYQBAgaSMI"
      },
      "execution_count": null,
      "outputs": []
    },
    {
      "cell_type": "code",
      "source": [
        "def preprocess_function(examples):\n",
        "    model_inputs = tokenizer(\n",
        "        examples[\"source\"]\n",
        "    ) #not truncate to see tokens distribution\n",
        "    return model_inputs"
      ],
      "metadata": {
        "id": "mihwKEwPaSMI"
      },
      "execution_count": null,
      "outputs": []
    },
    {
      "cell_type": "code",
      "source": [
        "ab = ab.map(preprocess_function, batched=True)"
      ],
      "metadata": {
        "colab": {
          "base_uri": "https://localhost:8080/"
        },
        "outputId": "02d72a0c-1035-4b76-957c-9fc26cecd474",
        "id": "InxQfbzraSMI"
      },
      "execution_count": null,
      "outputs": [
        {
          "output_type": "stream",
          "name": "stderr",
          "text": [
            "Loading cached processed dataset at /Users/lorenzogermini/.cache/huggingface/datasets/scitldr/Abstract/0.0.0/79e0fa75961392034484808cfcc8f37deb15ceda153b798c92d9f621d1042fef/cache-6e9b0a949e2c07a8.arrow\n"
          ]
        }
      ]
    },
    {
      "cell_type": "code",
      "source": [
        "def compute_tok_length(example):\n",
        "    return {\"n_tokens\": len(example[\"input_ids\"])}"
      ],
      "metadata": {
        "id": "Is98qqyFaSMJ"
      },
      "execution_count": null,
      "outputs": []
    },
    {
      "cell_type": "code",
      "source": [
        "ab = ab.map(compute_tok_length)"
      ],
      "metadata": {
        "colab": {
          "base_uri": "https://localhost:8080/"
        },
        "outputId": "2ec11c2f-cfb4-4495-ab76-fa66772a3a03",
        "id": "CDec05lDaSMJ"
      },
      "execution_count": null,
      "outputs": [
        {
          "output_type": "stream",
          "name": "stderr",
          "text": [
            "Loading cached processed dataset at /Users/lorenzogermini/.cache/huggingface/datasets/scitldr/Abstract/0.0.0/79e0fa75961392034484808cfcc8f37deb15ceda153b798c92d9f621d1042fef/cache-6132941e61a46d10.arrow\n"
          ]
        }
      ]
    },
    {
      "cell_type": "code",
      "source": [
        "ab.sort('n_tokens', reverse=True)[:10]['n_tokens']"
      ],
      "metadata": {
        "colab": {
          "base_uri": "https://localhost:8080/"
        },
        "outputId": "ed8559d8-7da8-42a2-eab0-959b389fdb7a",
        "id": "0X5HCPEjaSMJ"
      },
      "execution_count": null,
      "outputs": [
        {
          "output_type": "stream",
          "name": "stderr",
          "text": [
            "Loading cached sorted indices for dataset at /Users/lorenzogermini/.cache/huggingface/datasets/scitldr/Abstract/0.0.0/79e0fa75961392034484808cfcc8f37deb15ceda153b798c92d9f621d1042fef/cache-843d04c345b65470.arrow\n"
          ]
        },
        {
          "output_type": "execute_result",
          "data": {
            "text/plain": [
              "[443, 432, 396, 396, 383, 382, 382, 380, 377, 368]"
            ]
          },
          "metadata": {},
          "execution_count": 19
        }
      ]
    },
    {
      "cell_type": "code",
      "source": [
        "ab.sort('n_tokens', reverse=False)[:10]['n_tokens']"
      ],
      "metadata": {
        "colab": {
          "base_uri": "https://localhost:8080/"
        },
        "outputId": "6e5388f7-b461-4b60-c045-b0c2a8f211ee",
        "id": "t6pFXW4GaSMJ"
      },
      "execution_count": null,
      "outputs": [
        {
          "output_type": "stream",
          "name": "stderr",
          "text": [
            "Loading cached sorted indices for dataset at /Users/lorenzogermini/.cache/huggingface/datasets/scitldr/Abstract/0.0.0/79e0fa75961392034484808cfcc8f37deb15ceda153b798c92d9f621d1042fef/cache-d03127fd29e00b73.arrow\n"
          ]
        },
        {
          "output_type": "execute_result",
          "data": {
            "text/plain": [
              "[70, 70, 75, 76, 78, 84, 93, 98, 100, 100]"
            ]
          },
          "metadata": {},
          "execution_count": 20
        }
      ]
    },
    {
      "cell_type": "code",
      "source": [
        "plt.hist(ab['n_tokens'], log=True);"
      ],
      "metadata": {
        "colab": {
          "base_uri": "https://localhost:8080/",
          "height": 265
        },
        "outputId": "dc00bd9c-2e0d-402d-88e7-b3e0b2f10a5c",
        "id": "YJVBZenYaSMJ"
      },
      "execution_count": null,
      "outputs": [
        {
          "output_type": "display_data",
          "data": {
            "text/plain": [
              "<Figure size 432x288 with 1 Axes>"
            ],
            "image/png": "[encoded data removed]"
          },
          "metadata": {
            "needs_background": "light"
          }
        }
      ]
    },
    {
      "cell_type": "markdown",
      "source": [
        "All the examples are significantly lower than 1024 input tokens."
      ],
      "metadata": {
        "id": "5LkH1hOtpk3g"
      }
    },
    {
      "cell_type": "code",
      "source": [
        "#creating baseline only 1st sentence\n",
        "def one_sentence_summary(text):\n",
        "    return \"\\n\".join(sent_tokenize(text)[:1])\n",
        "\n",
        "print(one_sentence_summary(ab['source'][0]))"
      ],
      "metadata": {
        "colab": {
          "base_uri": "https://localhost:8080/"
        },
        "outputId": "492ddeaf-8eaa-422d-d147-f2337f44e2d0",
        "id": "seJzsP6daSMJ"
      },
      "execution_count": null,
      "outputs": [
        {
          "output_type": "stream",
          "name": "stdout",
          "text": [
            "Incremental class learning involves sequentially learning classes in bursts of examples from the same class.\n"
          ]
        }
      ]
    },
    {
      "cell_type": "code",
      "source": [
        "#creating baseline only first 25 words\n",
        "def twenty_words_summary(text):\n",
        "    return \" \".join(word_tokenize(text)[:25])\n",
        "\n",
        "print(twenty_words_summary(ab1['source'][0]))"
      ],
      "metadata": {
        "colab": {
          "base_uri": "https://localhost:8080/"
        },
        "id": "UgIjE1IxBxJB",
        "outputId": "18f313d0-92f9-40bd-9fbc-ffc0bd0aebef"
      },
      "execution_count": null,
      "outputs": [
        {
          "output_type": "stream",
          "name": "stdout",
          "text": [
            "Incremental class learning involves sequentially learning classes in bursts of examples from the same class . This violates the assumptions that underlie methods for training\n"
          ]
        }
      ]
    },
    {
      "cell_type": "markdown",
      "source": [
        "Rerun baseline but not with 3 sentence summary as it is basically all the abstract, have to stay within 30-40 ish tokens."
      ],
      "metadata": {
        "id": "WZ_zMqT7vmds"
      }
    },
    {
      "cell_type": "markdown",
      "source": [
        "Random baseline with no ML could also be text generation with HMMs chains. Given that abstract is not super long could be a more realistic task."
      ],
      "metadata": {
        "id": "J1PtYSyvxS2H"
      }
    },
    {
      "cell_type": "code",
      "source": [
        "rouge_score = load_metric(\"rouge\")"
      ],
      "metadata": {
        "id": "nkCBHYDZaSMJ"
      },
      "execution_count": null,
      "outputs": []
    },
    {
      "cell_type": "markdown",
      "source": [
        "Evaluate baseline for summarization."
      ],
      "metadata": {
        "id": "IkE_iP61aSMJ"
      }
    },
    {
      "cell_type": "code",
      "source": [
        "def sel_sum(x):\n",
        "  x['target'] = x['target'][0]\n",
        "  return x"
      ],
      "metadata": {
        "id": "mj6CCE9KaSMJ"
      },
      "execution_count": null,
      "outputs": []
    },
    {
      "cell_type": "code",
      "source": [
        "ab1 = ab.map(sel_sum)"
      ],
      "metadata": {
        "colab": {
          "base_uri": "https://localhost:8080/",
          "height": 49,
          "referenced_widgets": [
            "1e2d7807e9004c728f1a0df3b2e0743c",
            "8101b9860f7b44e593e2d5d28f69c62e",
            "f63545e902724d9eae5121419be9f123",
            "56da0aa9d84643b48d468f381629090c",
            "4bfb7eda922546699cbe7f77c1047850",
            "82f0756fa34d40f5b686be2c5d1acec1",
            "21dad8c573a6493e8973faac47f81f79",
            "1d1095ce05cc4cfd97d38766e817d7e6",
            "ab813a6737734dca80ae7be759e92902",
            "e52b285ca6094f30a0eb808c6e32250d",
            "6146dac28fe546f18e62b67836524cf7"
          ]
        },
        "outputId": "b42a4168-6f1a-4b53-ae00-f2cd1f374dc2",
        "id": "vV2zTVpHaSMJ"
      },
      "execution_count": null,
      "outputs": [
        {
          "output_type": "display_data",
          "data": {
            "text/plain": [
              "  0%|          | 0/618 [00:00<?, ?ex/s]"
            ],
            "application/vnd.jupyter.widget-view+json": {
              "version_major": 2,
              "version_minor": 0,
              "model_id": "1e2d7807e9004c728f1a0df3b2e0743c"
            }
          },
          "metadata": {}
        }
      ]
    },
    {
      "cell_type": "code",
      "source": [
        "def sel_sum2(x):\n",
        "  x['target'] = x['target'][1]\n",
        "  return x"
      ],
      "metadata": {
        "id": "V4O0IGzFaSMJ"
      },
      "execution_count": null,
      "outputs": []
    },
    {
      "cell_type": "code",
      "source": [
        "ab2=ab.map(sel_sum2)"
      ],
      "metadata": {
        "colab": {
          "base_uri": "https://localhost:8080/",
          "height": 49,
          "referenced_widgets": [
            "33fbb55371414ba4bbc3bff6f3a29d05",
            "ecd4b236e02f4ddd9c1238aa836ca327",
            "449ce055266543dfb691f029c309fadc",
            "bdc19873d200427ebfda25eb238ee3f1",
            "584e0b4537ee4dfeaf69dfdbaf946ae9",
            "05e9631977b743399cf34233c7eee7ec",
            "dc267c1d7fba4acab95eec21efa997a7",
            "222af1c853074838aacd523723e37d09",
            "8e73abc478484dafbe2e0baf6942f911",
            "1cf593141fa541339495234d5c55bd2d",
            "a5db7f047a7a45a2aad8f4176791b967"
          ]
        },
        "outputId": "3890b364-f05c-4646-bf8e-828a2638bdcf",
        "id": "N-rO8lQOaSMK"
      },
      "execution_count": null,
      "outputs": [
        {
          "output_type": "display_data",
          "data": {
            "text/plain": [
              "  0%|          | 0/618 [00:00<?, ?ex/s]"
            ],
            "application/vnd.jupyter.widget-view+json": {
              "version_major": 2,
              "version_minor": 0,
              "model_id": "33fbb55371414ba4bbc3bff6f3a29d05"
            }
          },
          "metadata": {}
        }
      ]
    },
    {
      "cell_type": "code",
      "source": [
        "ab2['target'][0]"
      ],
      "metadata": {
        "colab": {
          "base_uri": "https://localhost:8080/"
        },
        "outputId": "fc7b931c-b767-4c8c-9a41-c6694c7691a5",
        "id": "bdktULXpaSMK"
      },
      "execution_count": null,
      "outputs": [
        {
          "output_type": "execute_result",
          "data": {
            "text/plain": [
              "'This paper presents a novel solution to an incremental classification problem based on a dual memory system. '"
            ]
          },
          "metadata": {},
          "execution_count": 25
        }
      ]
    },
    {
      "cell_type": "code",
      "source": [
        "del ab"
      ],
      "metadata": {
        "id": "V0LRTU-S0tOL"
      },
      "execution_count": null,
      "outputs": []
    },
    {
      "cell_type": "code",
      "source": [
        "def evaluate_baseline1(dataset, metric):\n",
        "    summaries = [one_sentence_summary(text) for text in dataset['source']]\n",
        "    return metric.compute(predictions=summaries, references=dataset['target'])\n",
        "\n",
        "score = evaluate_baseline1(pubmed, rouge_score)\n",
        "rouge_names = [\"rouge1\", \"rouge2\", \"rougeL\", \"rougeLsum\"]\n",
        "rouge_dict = dict((rn, round(score[rn].mid.fmeasure * 100, 2)) for rn in rouge_names)\n",
        "rouge_dict"
      ],
      "metadata": {
        "id": "6ZIq4x4NaSMK"
      },
      "execution_count": null,
      "outputs": []
    },
    {
      "cell_type": "markdown",
      "source": [
        "### Baseline first sentence evaluation."
      ],
      "metadata": {
        "id": "AKVwWAyJCo6q"
      }
    },
    {
      "cell_type": "markdown",
      "source": [
        "With respect to first summary."
      ],
      "metadata": {
        "id": "j1gHRRrEaSMK"
      }
    },
    {
      "cell_type": "code",
      "source": [
        "score = evaluate_baseline1(ab1, rouge_score)\n",
        "rouge_names = [\"rouge1\", \"rouge2\", \"rougeL\", \"rougeLsum\"]\n",
        "rouge_dict = dict((rn, round(score[rn].mid.fmeasure * 100, 2)) for rn in rouge_names)\n",
        "rouge_dict"
      ],
      "metadata": {
        "colab": {
          "base_uri": "https://localhost:8080/"
        },
        "outputId": "8d263a8c-020b-4818-f154-5fcc5be34f6a",
        "id": "Uh8fTsQtaSMK"
      },
      "execution_count": null,
      "outputs": [
        {
          "output_type": "execute_result",
          "data": {
            "text/plain": [
              "{'rouge1': 22.93, 'rouge2': 8.57, 'rougeL': 18.35, 'rougeLsum': 18.51}"
            ]
          },
          "metadata": {},
          "execution_count": 31
        }
      ]
    },
    {
      "cell_type": "markdown",
      "source": [
        "With respect to second summary."
      ],
      "metadata": {
        "id": "bU8F4uRZaSMK"
      }
    },
    {
      "cell_type": "code",
      "source": [
        "score = evaluate_baseline1(ab2, rouge_score)\n",
        "rouge_names = [\"rouge1\", \"rouge2\", \"rougeL\", \"rougeLsum\"]\n",
        "rouge_dict = dict((rn, round(score[rn].mid.fmeasure * 100, 2)) for rn in rouge_names)\n",
        "rouge_dict"
      ],
      "metadata": {
        "colab": {
          "base_uri": "https://localhost:8080/"
        },
        "outputId": "8f4ee35c-b17b-47e7-a2fc-08267dbeedac",
        "id": "f3D3w8wLaSMK"
      },
      "execution_count": null,
      "outputs": [
        {
          "output_type": "execute_result",
          "data": {
            "text/plain": [
              "{'rouge1': 18.07, 'rouge2': 3.49, 'rougeL': 14.05, 'rougeLsum': 14.08}"
            ]
          },
          "metadata": {},
          "execution_count": 32
        }
      ]
    },
    {
      "cell_type": "markdown",
      "source": [
        "We can see that the rouge2 score is significantly lower than the rest; this likely reflects the fact that review titles are typically concise and so the lead-3 baseline is too verbose."
      ],
      "metadata": {
        "id": "fO1E1EfBsEVw"
      }
    },
    {
      "cell_type": "markdown",
      "source": [
        "Quite different results between the two (check significance), just need to get sign from rouge computation results."
      ],
      "metadata": {
        "id": "KF2NonKzaSMK"
      }
    },
    {
      "cell_type": "markdown",
      "source": [
        "### Baseline evaluation with only first 20 words (avg words length for target summaries) (more precise given that we have control over total number of words and thus more relatable to the machine generated summaries."
      ],
      "metadata": {
        "id": "jbBBRWpuC8BJ"
      }
    },
    {
      "cell_type": "code",
      "source": [
        "def evaluate_baseline2(dataset, metric):\n",
        "    summaries = [twenty_words_summary(text) for text in dataset['source']]\n",
        "    return metric.compute(predictions=summaries, references=dataset['target'])"
      ],
      "metadata": {
        "id": "KxOlnC5YDJUN"
      },
      "execution_count": null,
      "outputs": []
    },
    {
      "cell_type": "markdown",
      "source": [
        "With respect to first summary."
      ],
      "metadata": {
        "id": "ybrCE6UPDeGr"
      }
    },
    {
      "cell_type": "code",
      "source": [
        "score = evaluate_baseline2(ab1, rouge_score)\n",
        "rouge_names = [\"rouge1\", \"rouge2\", \"rougeL\", \"rougeLsum\"]\n",
        "rouge_dict = dict((rn, round(score[rn].mid.fmeasure * 100, 2)) for rn in rouge_names)\n",
        "rouge_dict"
      ],
      "metadata": {
        "colab": {
          "base_uri": "https://localhost:8080/"
        },
        "outputId": "6a5c5481-2e9e-498f-9e67-90c7eeefd75f",
        "id": "pOcsnKAlDQzH"
      },
      "execution_count": null,
      "outputs": [
        {
          "output_type": "execute_result",
          "data": {
            "text/plain": [
              "{'rouge1': 23.05, 'rouge2': 8.31, 'rougeL': 17.96, 'rougeLsum': 17.99}"
            ]
          },
          "metadata": {},
          "execution_count": 31
        }
      ]
    },
    {
      "cell_type": "markdown",
      "source": [
        "With respect to second summary."
      ],
      "metadata": {
        "id": "ZZ8DPm2yDQzH"
      }
    },
    {
      "cell_type": "code",
      "source": [
        "score = evaluate_baseline2(ab2, rouge_score)\n",
        "rouge_names = [\"rouge1\", \"rouge2\", \"rougeL\", \"rougeLsum\"]\n",
        "rouge_dict = dict((rn, round(score[rn].mid.fmeasure * 100, 2)) for rn in rouge_names)\n",
        "rouge_dict"
      ],
      "metadata": {
        "colab": {
          "base_uri": "https://localhost:8080/"
        },
        "outputId": "1fda1be9-9f94-4f4b-b855-a0090adcedb5",
        "id": "jHk8DQ3mDQzI"
      },
      "execution_count": null,
      "outputs": [
        {
          "output_type": "execute_result",
          "data": {
            "text/plain": [
              "{'rouge1': 18.85, 'rouge2': 3.55, 'rougeL': 14.4, 'rougeLsum': 14.39}"
            ]
          },
          "metadata": {},
          "execution_count": 32
        }
      ]
    },
    {
      "cell_type": "markdown",
      "source": [
        "Evaluate zero shot summarization with distilbart finetuned on xsum given amount of summarization."
      ],
      "metadata": {
        "id": "RcXFO0ojaSMK"
      }
    },
    {
      "cell_type": "code",
      "source": [
        "summarizer = pipeline(\"summarization\", model='sshleifer/distilbart-xsum-12-6')"
      ],
      "metadata": {
        "id": "iXQUVncKq-DT"
      },
      "execution_count": null,
      "outputs": []
    },
    {
      "cell_type": "markdown",
      "source": [
        "Have to check better what beams mean and also gpu stuff."
      ],
      "metadata": {
        "id": "ECIpS666q-DU"
      }
    },
    {
      "cell_type": "code",
      "source": [
        "def evaluate_zeroshot(dataset, metric): #removed top 50 k\n",
        "    summaries = [summarizer(text, min_length=20, max_length=35, num_beams=10, early_stopping=True, clean_up_tokenization_spaces=True)[0]['summary_text'] for text in dataset['source']]\n",
        "    return metric.compute(predictions=summaries, references=dataset['target'])"
      ],
      "metadata": {
        "id": "FJGEM4kHq-DU"
      },
      "execution_count": null,
      "outputs": []
    },
    {
      "cell_type": "code",
      "source": [
        "score = evaluate_zeroshot(ab1, rouge_score)\n",
        "rouge_names = [\"rouge1\", \"rouge2\", \"rougeL\", \"rougeLsum\"]\n",
        "rouge_dict = dict((rn, round(score[rn].mid.fmeasure * 100, 2)) for rn in rouge_names)\n",
        "rouge_dict"
      ],
      "metadata": {
        "colab": {
          "base_uri": "https://localhost:8080/"
        },
        "id": "NpKjo_gA1l3W",
        "outputId": "776bb6be-6321-4daf-a7f9-e7fc80f27bf1"
      },
      "execution_count": null,
      "outputs": [
        {
          "output_type": "execute_result",
          "data": {
            "text/plain": [
              "{'rouge1': 22.23, 'rouge2': 5.92, 'rougeL': 17.79, 'rougeLsum': 17.78}"
            ]
          },
          "metadata": {},
          "execution_count": 45
        }
      ]
    },
    {
      "cell_type": "code",
      "source": [
        "score = evaluate_zeroshot(ab2, rouge_score)\n",
        "rouge_names = [\"rouge1\", \"rouge2\", \"rougeL\", \"rougeLsum\"]\n",
        "rouge_dict = dict((rn, round(score[rn].mid.fmeasure * 100, 2)) for rn in rouge_names)\n",
        "rouge_dict"
      ],
      "metadata": {
        "colab": {
          "base_uri": "https://localhost:8080/"
        },
        "id": "fvqQQF3K2DTg",
        "outputId": "fc37e043-517a-4554-8b00-c53446855ccb"
      },
      "execution_count": null,
      "outputs": [
        {
          "output_type": "execute_result",
          "data": {
            "text/plain": [
              "{'rouge1': 20.22, 'rouge2': 3.03, 'rougeL': 15.62, 'rougeLsum': 15.6}"
            ]
          },
          "metadata": {},
          "execution_count": 46
        }
      ]
    },
    {
      "cell_type": "markdown",
      "source": [
        "#### This one was done with old measures and error of always including summary error thingy, rouge1 improved by 2 and both rougeL and Lsum by 1."
      ],
      "metadata": {
        "id": "nZVDJHAB1opg"
      }
    },
    {
      "cell_type": "code",
      "source": [
        "#score = evaluate_zeroshot(ab1, rouge_score)\n",
        "#rouge_names = [\"rouge1\", \"rouge2\", \"rougeL\", \"rougeLsum\"]\n",
        "#rouge_dict = dict((rn, round(score[rn].mid.fmeasure * 100, 2)) for rn in rouge_names)\n",
        "#rouge_dict"
      ],
      "metadata": {
        "colab": {
          "base_uri": "https://localhost:8080/"
        },
        "outputId": "f03765ad-ba54-421b-cd0c-e2ed774b9efa",
        "id": "54tLPLmDq-DU"
      },
      "execution_count": null,
      "outputs": [
        {
          "output_type": "execute_result",
          "data": {
            "text/plain": [
              "{'rouge1': 20.71, 'rouge2': 5.37, 'rougeL': 16.68, 'rougeLsum': 16.68}"
            ]
          },
          "metadata": {},
          "execution_count": 46
        }
      ]
    },
    {
      "cell_type": "markdown",
      "source": [
        "20 mins to run on cpu."
      ],
      "metadata": {
        "id": "cnffPLIHq-DU"
      }
    },
    {
      "cell_type": "code",
      "source": [
        "#score = evaluate_zeroshot(ab2, rouge_score)\n",
        "#rouge_names = [\"rouge1\", \"rouge2\", \"rougeL\", \"rougeLsum\"]\n",
        "#rouge_dict = dict((rn, round(score[rn].mid.fmeasure * 100, 2)) for rn in rouge_names)\n",
        "#rouge_dict"
      ],
      "metadata": {
        "colab": {
          "base_uri": "https://localhost:8080/"
        },
        "outputId": "e989f91d-0894-4441-9598-f9aabf5d8c1e",
        "id": "EdOUlY8Nq-DU"
      },
      "execution_count": null,
      "outputs": [
        {
          "output_type": "execute_result",
          "data": {
            "text/plain": [
              "{'rouge1': 18.4, 'rouge2': 2.64, 'rougeL': 14.49, 'rougeLsum': 14.5}"
            ]
          },
          "metadata": {},
          "execution_count": 47
        }
      ]
    },
    {
      "cell_type": "markdown",
      "source": [
        ""
      ],
      "metadata": {
        "id": "NNgLMmkd1Z5s"
      }
    },
    {
      "cell_type": "markdown",
      "source": [
        "Test with different machine generated summaries from different models, just to see which one looks better (abstract from fermented food sonnenburg)."
      ],
      "metadata": {
        "id": "N4E-s3nqBHag"
      }
    },
    {
      "cell_type": "code",
      "source": [
        "tex = 'Diet modulates the gut microbiome, which in turn can impact the immune system. Here, we determined how two microbiota-targeted dietary interventions, plant-based fiber and fermented foods, influence the human microbiome and immune system in healthy adults. Using a 17-week randomized, prospective study (n = 18/arm) combined with -omics measurements of microbiome and host, including extensive immune profiling, we found diet-specific effects. The high-fiber diet increased microbiome-encoded glycan-degrading carbohydrate active enzymes (CAZymes) despite stable microbial community diversity. Although cytokine response score (primary outcome) was unchanged, three distinct immunological trajectories in high-fiber consumers corresponded to baseline microbiota diversity. Alternatively, the high-fermented-food diet steadily increased microbiota diversity and decreased inflammatory markers. The data highlight how coupling dietary interventions to deep and longitudinal immune and microbiome profiling can provide individualized and population-wide insight. Fermented foods may be valuable in countering the decreased microbiome diversity and increased inflammation pervasive in industrialized society.'"
      ],
      "metadata": {
        "id": "dx4oJw1rCj6O"
      },
      "execution_count": null,
      "outputs": []
    },
    {
      "cell_type": "markdown",
      "source": [
        ""
      ],
      "metadata": {
        "id": "qp8GrduycK70"
      }
    },
    {
      "cell_type": "code",
      "source": [
        "tldr_pap = 'The foods you eat can change the bacteria in your body. These bacteria can help or hurt your immune system.The people who ate the most fermented foods had the most diverse kinds of bacteria and the lowest levels of inflammation.'"
      ],
      "metadata": {
        "id": "cRfDyv2DDMw1"
      },
      "execution_count": null,
      "outputs": []
    },
    {
      "cell_type": "code",
      "source": [
        "distil_xsum = summarizer(tex, min_length=20, max_length=50, num_beams=10, early_stopping=True, clean_up_tokenization_spaces=True)[0]['summary_text']"
      ],
      "metadata": {
        "id": "bdvYvyyjCKVS"
      },
      "execution_count": null,
      "outputs": []
    },
    {
      "cell_type": "code",
      "source": [
        "distil_xsum"
      ],
      "metadata": {
        "colab": {
          "base_uri": "https://localhost:8080/"
        },
        "id": "_plPOpQdCyvD",
        "outputId": "b58fea76-0013-4fce-cbcf-bb1b731f700c"
      },
      "execution_count": null,
      "outputs": [
        {
          "output_type": "execute_result",
          "data": {
            "text/plain": [
              "' A high-fiber diet can increase the diversity of the human gut and reduce inflammation, a study suggests.'"
            ]
          },
          "metadata": {},
          "execution_count": 55
        }
      ]
    },
    {
      "cell_type": "markdown",
      "source": [
        ""
      ],
      "metadata": {
        "id": "E5zziu3OBjze"
      }
    },
    {
      "cell_type": "markdown",
      "source": [
        "### Used fine tuned version of catts allenai model (the one which was generated with this dataset to evaluate performance on test set.\n"
      ],
      "metadata": {
        "id": "M2mHDKIcGt4U"
      }
    },
    {
      "cell_type": "code",
      "source": [
        "summarizer = pipeline('summarization', model='lrakotoson/scitldr-catts-xsum-ao')"
      ],
      "metadata": {
        "id": "OD0m89lbDuP-"
      },
      "execution_count": null,
      "outputs": []
    },
    {
      "cell_type": "code",
      "source": [
        "scitldr_sum = summarizer(tex, min_length=20, max_length=35, num_beams=10, early_stopping=True, clean_up_tokenization_spaces=True)[0]['summary_text']"
      ],
      "metadata": {
        "id": "G5kiKNOMEWbG"
      },
      "execution_count": null,
      "outputs": []
    },
    {
      "cell_type": "code",
      "source": [
        "scitldr_sum"
      ],
      "metadata": {
        "colab": {
          "base_uri": "https://localhost:8080/"
        },
        "id": "HGv4tjJWEqDu",
        "outputId": "ea06940f-ae0a-4678-e5d2-fe53e42ed64c"
      },
      "execution_count": null,
      "outputs": [
        {
          "output_type": "execute_result",
          "data": {
            "text/plain": [
              "'High-Fiber Diet and Fermented Foods Influence Microbiome Diversity and Immune System in Healthy Adults.'"
            ]
          },
          "metadata": {},
          "execution_count": 67
        }
      ]
    },
    {
      "cell_type": "code",
      "source": [
        "def evaluate_zeroshot1(dataset, metric): #removed top 50 k\n",
        "    summaries = [summarizer(text, min_length=20, max_length=35, num_beams=10, early_stopping=True, clean_up_tokenization_spaces=True)[0]['summary_text'] for text in dataset['source']]\n",
        "    return metric.compute(predictions=summaries, references=dataset['target'])"
      ],
      "metadata": {
        "id": "HZ5FfFBBD26M"
      },
      "execution_count": null,
      "outputs": []
    },
    {
      "cell_type": "code",
      "source": [
        "score = evaluate_zeroshot1(ab1, rouge_score)\n",
        "rouge_names = [\"rouge1\", \"rouge2\", \"rougeL\", \"rougeLsum\"]\n",
        "rouge_dict = dict((rn, round(score[rn].mid.fmeasure * 100, 2)) for rn in rouge_names)\n",
        "rouge_dict"
      ],
      "metadata": {
        "colab": {
          "base_uri": "https://localhost:8080/"
        },
        "id": "fyGzxPMKFB_6",
        "outputId": "a6d829cd-9d72-4dd0-f540-0d58328fbd53"
      },
      "execution_count": null,
      "outputs": [
        {
          "output_type": "execute_result",
          "data": {
            "text/plain": [
              "{'rouge1': 29.6, 'rouge2': 13.07, 'rougeL': 24.35, 'rougeLsum': 24.32}"
            ]
          },
          "metadata": {},
          "execution_count": 69
        }
      ]
    },
    {
      "cell_type": "code",
      "source": [
        "score = evaluate_zeroshot1(ab2, rouge_score)\n",
        "rouge_names = [\"rouge1\", \"rouge2\", \"rougeL\", \"rougeLsum\"]\n",
        "rouge_dict = dict((rn, round(score[rn].mid.fmeasure * 100, 2)) for rn in rouge_names)\n",
        "rouge_dict"
      ],
      "metadata": {
        "colab": {
          "base_uri": "https://localhost:8080/"
        },
        "id": "44gC1d58E7gv",
        "outputId": "d7a8a51a-62e4-470a-9a01-2a17f5fe398a"
      },
      "execution_count": null,
      "outputs": [
        {
          "output_type": "execute_result",
          "data": {
            "text/plain": [
              "{'rouge1': 21.51, 'rouge2': 5.96, 'rougeL': 16.92, 'rougeLsum': 16.91}"
            ]
          },
          "metadata": {},
          "execution_count": 70
        }
      ]
    },
    {
      "cell_type": "code",
      "source": [
        "allenai_semantic_search = 'The data highlight how coupling dietary interventions to deep and longitudinal immune and microbiome profiling can provide individualized and population-wide insight and indicate that fermented foods may be valuable in countering the decreased microbiome diversity and increased inflammation pervasive in the industrialized society.'"
      ],
      "metadata": {
        "id": "IULOKl7pYC3s"
      },
      "execution_count": null,
      "outputs": []
    },
    {
      "cell_type": "markdown",
      "source": [
        "Big bird pegasus (can handle up to 4096 tokens) fine tuned on pubmed."
      ],
      "metadata": {
        "id": "umZ5rhTMXwqu"
      }
    },
    {
      "cell_type": "code",
      "source": [
        "summarizer = pipeline('summarization', model='google/bigbird-pegasus-large-pubmed')"
      ],
      "metadata": {
        "colab": {
          "base_uri": "https://localhost:8080/",
          "height": 209,
          "referenced_widgets": [
            "bff59d4d49124651b63ec0aa9f2c19bb",
            "35161cafcd8649f8bd60ae1e26cf5474",
            "626f09a42b754e33860b6628d3e0393e",
            "dc7b4ab0f2f047c6ac637dbce1bd2e39",
            "05de7e60fad74dafa19cb4b102508f08",
            "7c6eb5775c8c4e6b8eb55361f532f326",
            "4103fbe3040e40aa8e4f803dcc81a2f2",
            "411ca987f3e242928788c9ea27203466",
            "bb969719b12d4ab1816e0cd27627db18",
            "c5677137a13b4ff78b077219c95a3422",
            "0eecd31406604de28a18f592714f6c56",
            "aa42dc534c024134926f142169206823",
            "2b7fa79a48c84fa9b06086aee1e58aab",
            "ae2fd73c2e294effbded2f80eb9f13f0",
            "62150d7e1bef4ae3aee49f9e26392fa3",
            "ea227fb5b0ba40d69b38c099f31f1750",
            "c2cc9272ea1042d49774f34d772c3f5a",
            "e6dd795a44144a5394d087ae05a8934c",
            "fcc6c3d259e24efabcc697601fdc6558",
            "aec07aedbfc44dcbbde43704d0bd069d",
            "aa0182f08fd149a0a9972bf56d56b889",
            "aa9b819ec196407b99925f35f88ac4f4",
            "2f3b1baf1b87412a9522fe19fe7b5d26",
            "537c9e4041ea4adba121f2456496f476",
            "db9f524e334244cd91611824fa9caba6",
            "2c482534e73a43408e311ed983d77d8b",
            "ac3e8b3a121f4b59b72a4d7980fc047d",
            "28e547cc3c8b4d56af68dcc3f858c496",
            "ed5269806c37446aa3c6e2092bedbf38",
            "4a4ab7112c444a908dd308b13f61da78",
            "ad22d6b505c9453cb353dac5b0509bc0",
            "ae499f50fff54140a21d7f709e3dedad",
            "7b78e83cc2ac4a919ae3ac5819fbe5a0",
            "9ea6058bdba74bed9da821d2af7e89fc",
            "d22a1bf4214d4127abb91c60e68c8bf0",
            "35f5e32eef6840f78818783cb7600b5f",
            "fcd403bffb2044ebbf001eaafb768e6f",
            "ba056899cfbe45f69e325b4b962e4da5",
            "120f0a98fb824032a3ae990ae74e09ee",
            "477e7fa5f40b4dbc985feb6e1e3649f8",
            "c2269dd1d23149eabd184a1540f2b0e8",
            "20290335e3e446b19b02e2f6402a1d9e",
            "9bce29d589204f07bca481767ac9f17b",
            "3ab45fd4c8fd42a9a874a69da76a3168",
            "f3becf59fb1a47b89fea350a3b798680",
            "12096acfc309424d86ed935d2c199665",
            "2456446d7a0e43d19162f46de761ab17",
            "a16f272b331843379edbe8149f24b1ef",
            "11f8ed49fcaf4939a5b7fb6a2abaeae1",
            "2690bdb0631e45019bc11ce160af73c6",
            "06998579fae84ef299e28a80e788eecb",
            "888e5880ada44138a3f9bc0bf2856dc8",
            "9b898669cdb744b2927cf5e968ef0d9e",
            "903e00a695364fef913a69e0ec628bff",
            "be673cee99a1411fa4ea4133bd6d8185",
            "adfc515677124936bdff9202fdc3ee99",
            "fa9dc5cbe1ea4283b277790d2f690e45",
            "a437cc41915a456191503b051b6f7931",
            "ab0daeb72cd84fa79cbe3fd38cb9622b",
            "2b04aeee7afe4774a2a93812e07f1159",
            "2e5100427bc2419083e5c632611bbd10",
            "b627db57bc584e7ab2ede42065ce6aed",
            "79ce1efc5c01446ebe0de41f0de4d827",
            "07c4e104573a4b1e9ae9e104a944a738",
            "7e20d2b13650454fa2b4e40e2b3a3142",
            "a99e90255b824b9881fd63a66afdc4c3"
          ]
        },
        "id": "BWCD4Zy3gDz6",
        "outputId": "79aaebfc-7848-4b20-bb60-28cacee32262"
      },
      "execution_count": null,
      "outputs": [
        {
          "output_type": "display_data",
          "data": {
            "text/plain": [
              "Downloading:   0%|          | 0.00/1.03k [00:00<?, ?B/s]"
            ],
            "application/vnd.jupyter.widget-view+json": {
              "version_major": 2,
              "version_minor": 0,
              "model_id": "bff59d4d49124651b63ec0aa9f2c19bb"
            }
          },
          "metadata": {}
        },
        {
          "output_type": "display_data",
          "data": {
            "text/plain": [
              "Downloading:   0%|          | 0.00/2.15G [00:00<?, ?B/s]"
            ],
            "application/vnd.jupyter.widget-view+json": {
              "version_major": 2,
              "version_minor": 0,
              "model_id": "aa42dc534c024134926f142169206823"
            }
          },
          "metadata": {}
        },
        {
          "output_type": "display_data",
          "data": {
            "text/plain": [
              "Downloading:   0%|          | 0.00/1.17k [00:00<?, ?B/s]"
            ],
            "application/vnd.jupyter.widget-view+json": {
              "version_major": 2,
              "version_minor": 0,
              "model_id": "2f3b1baf1b87412a9522fe19fe7b5d26"
            }
          },
          "metadata": {}
        },
        {
          "output_type": "display_data",
          "data": {
            "text/plain": [
              "Downloading:   0%|          | 0.00/1.83M [00:00<?, ?B/s]"
            ],
            "application/vnd.jupyter.widget-view+json": {
              "version_major": 2,
              "version_minor": 0,
              "model_id": "9ea6058bdba74bed9da821d2af7e89fc"
            }
          },
          "metadata": {}
        },
        {
          "output_type": "display_data",
          "data": {
            "text/plain": [
              "Downloading:   0%|          | 0.00/3.35M [00:00<?, ?B/s]"
            ],
            "application/vnd.jupyter.widget-view+json": {
              "version_major": 2,
              "version_minor": 0,
              "model_id": "f3becf59fb1a47b89fea350a3b798680"
            }
          },
          "metadata": {}
        },
        {
          "output_type": "display_data",
          "data": {
            "text/plain": [
              "Downloading:   0%|          | 0.00/775 [00:00<?, ?B/s]"
            ],
            "application/vnd.jupyter.widget-view+json": {
              "version_major": 2,
              "version_minor": 0,
              "model_id": "adfc515677124936bdff9202fdc3ee99"
            }
          },
          "metadata": {}
        }
      ]
    },
    {
      "cell_type": "code",
      "source": [
        "%%timeit\n",
        "summarizer(tex, min_length=20, max_length=40, num_beams=6, early_stopping=True, clean_up_tokenization_spaces=True)[0]['summary_text']"
      ],
      "metadata": {
        "colab": {
          "base_uri": "https://localhost:8080/"
        },
        "id": "gVQqOn08nPNV",
        "outputId": "b3fb2249-0725-4708-eae0-54d2f60f7a94"
      },
      "execution_count": null,
      "outputs": [
        {
          "output_type": "stream",
          "name": "stdout",
          "text": [
            "4.66 s ± 64.8 ms per loop (mean ± std. dev. of 7 runs, 1 loop each)\n"
          ]
        }
      ]
    },
    {
      "cell_type": "code",
      "source": [
        "big_birdsum"
      ],
      "metadata": {
        "colab": {
          "base_uri": "https://localhost:8080/"
        },
        "id": "fYVGLgYjnicU",
        "outputId": "9c439697-1bb7-43c1-afef-56708618e9c2"
      },
      "execution_count": null,
      "outputs": [
        {
          "output_type": "execute_result",
          "data": {
            "text/plain": [
              "'the human microbiome is an integral part of the human immune system, yet little is known about how this microorganism influences host health. in a prospective 18-week randomized controlled trial, we determined the effects of a highfiber diet and'"
            ]
          },
          "metadata": {},
          "execution_count": 85
        }
      ]
    },
    {
      "cell_type": "markdown",
      "source": [
        "Seems to not work super well with generating extremely short summaries"
      ],
      "metadata": {
        "id": "YpuHNKFkoQ7p"
      }
    },
    {
      "cell_type": "code",
      "source": [
        "big_birdsum"
      ],
      "metadata": {
        "colab": {
          "base_uri": "https://localhost:8080/"
        },
        "id": "nvF2_s9RnvHy",
        "outputId": "393f54ea-dde1-493b-cec3-5f171220c82c"
      },
      "execution_count": null,
      "outputs": [
        {
          "output_type": "execute_result",
          "data": {
            "text/plain": [
              "'the human microbiome is an integral part of the human immune system, yet little is known about how this microorganism influences host health. in a prospective 18-week randomized controlled trial, we determined the effects of a highfiber diet and'"
            ]
          },
          "metadata": {},
          "execution_count": 84
        }
      ]
    },
    {
      "cell_type": "markdown",
      "source": [
        "Seems to not work super well for very short generated summaries. Still check with ab1 how it performs."
      ],
      "metadata": {
        "id": "IXgnulsPnmTr"
      }
    },
    {
      "cell_type": "code",
      "source": [
        "def evaluate_zeroshot1(dataset, dataset2, metric): #removed top 50 k\n",
        "    summaries = [summarizer(text, min_length=20, max_length=40, num_beams=10, early_stopping=True, clean_up_tokenization_spaces=True)[0]['summary_text'] for text in dataset['source']]\n",
        "    return metric.compute(predictions=summaries, references=dataset['target']), metric.compute(predictions=summaries, references=dataset2['target'])"
      ],
      "metadata": {
        "id": "k4rcP2HH46CU"
      },
      "execution_count": null,
      "outputs": []
    },
    {
      "cell_type": "code",
      "source": [
        "score1, score2 = evaluate_zeroshot1(ab1[1:10], ab2[1:10], rouge_score)\n",
        "rouge_names = [\"rouge1\", \"rouge2\", \"rougeL\", \"rougeLsum\"]\n",
        "rouge_dict1 = dict((rn, round(score1[rn].mid.fmeasure * 100, 2)) for rn in rouge_names)\n",
        "print(rouge_dict1)\n",
        "rouge_dict2 = dict((rn, round(score2[rn].mid.fmeasure * 100, 2)) for rn in rouge_names)\n",
        "rouge_dict2"
      ],
      "metadata": {
        "colab": {
          "base_uri": "https://localhost:8080/"
        },
        "id": "VnTG4Go25zro",
        "outputId": "39bca613-8c20-4a1c-b978-3ed2024c25b0"
      },
      "execution_count": null,
      "outputs": [
        {
          "output_type": "stream",
          "name": "stdout",
          "text": [
            "{'rouge1': 19.55, 'rouge2': 5.96, 'rougeL': 15.37, 'rougeLsum': 15.62}\n"
          ]
        },
        {
          "output_type": "execute_result",
          "data": {
            "text/plain": [
              "{'rouge1': 14.94, 'rouge2': 1.96, 'rougeL': 12.74, 'rougeLsum': 12.75}"
            ]
          },
          "metadata": {},
          "execution_count": 93
        }
      ]
    },
    {
      "cell_type": "markdown",
      "source": [
        "Big bird pegasus seems to significantly struggle with this kind of dataset, maybe needs more data? Let's try it out with the AIC dataset in the next round."
      ],
      "metadata": {
        "id": "q4OJ7_tK8Zm9"
      }
    },
    {
      "cell_type": "markdown",
      "source": [
        ""
      ],
      "metadata": {
        "id": "nna5FhEwFHS3"
      }
    },
    {
      "cell_type": "code",
      "source": [
        "import torch\n",
        "if torch.backends.mps.is_available():\n",
        "    device = torch.device(\"mps\")\n",
        "print(torch.backends.mps.is_built())\n",
        "# And that the current hardware and MacOS version are sufficient to\n",
        "# be able to use MPS\n",
        "print(torch.backends.mps.is_available())"
      ],
      "metadata": {
        "colab": {
          "base_uri": "https://localhost:8080/"
        },
        "id": "GIhkrDlivfsS",
        "outputId": "94e0a130-b649-4093-d881-a62d43ce09e1"
      },
      "execution_count": null,
      "outputs": [
        {
          "output_type": "stream",
          "name": "stdout",
          "text": [
            "True\n",
            "True\n"
          ]
        }
      ]
    },
    {
      "cell_type": "markdown",
      "source": [
        "## AIC test split of scitldr."
      ],
      "metadata": {
        "id": "xsHphgPkHTvL"
      }
    },
    {
      "cell_type": "markdown",
      "source": [
        "Using the AIC is still too long apparently for most of the of the summarization models (>> 1024 tokens but big bird pegasus can handle it) and will cut significantly pieces of texts."
      ],
      "metadata": {
        "id": "Dz9RAmIa_Pyr"
      }
    },
    {
      "cell_type": "code",
      "source": [
        "aic = load_dataset('scitldr', 'AIC', split='test')"
      ],
      "metadata": {
        "colab": {
          "base_uri": "https://localhost:8080/"
        },
        "outputId": "eb05c8b7-e55a-4282-dd66-14cf8dedb91d",
        "id": "N7D2Vnlt_Pyr"
      },
      "execution_count": null,
      "outputs": [
        {
          "output_type": "stream",
          "name": "stderr",
          "text": [
            "Reusing dataset scitldr (/Users/lorenzogermini/.cache/huggingface/datasets/scitldr/AIC/0.0.0/79e0fa75961392034484808cfcc8f37deb15ceda153b798c92d9f621d1042fef)\n"
          ]
        }
      ]
    },
    {
      "cell_type": "markdown",
      "source": [
        "Some analysis of og data"
      ],
      "metadata": {
        "id": "BsRb7_oN_Pyr"
      }
    },
    {
      "cell_type": "code",
      "source": [
        "def compute_n_summ(x):\n",
        "    return {\"n_summ\": len(x['target'])}"
      ],
      "metadata": {
        "id": "W0sT6-sd_Pyr"
      },
      "execution_count": null,
      "outputs": []
    },
    {
      "cell_type": "code",
      "source": [
        "aic = aic.map(compute_n_summ)"
      ],
      "metadata": {
        "colab": {
          "base_uri": "https://localhost:8080/"
        },
        "outputId": "7090aee7-8595-42a6-f0f4-4dcca2dfd520",
        "id": "_nKy1PkW_Pyr"
      },
      "execution_count": null,
      "outputs": [
        {
          "output_type": "stream",
          "name": "stderr",
          "text": [
            "Loading cached processed dataset at /Users/lorenzogermini/.cache/huggingface/datasets/scitldr/AIC/0.0.0/79e0fa75961392034484808cfcc8f37deb15ceda153b798c92d9f621d1042fef/cache-8761990cf6080808.arrow\n"
          ]
        }
      ]
    },
    {
      "cell_type": "code",
      "source": [
        "plt.hist(aic['n_summ']);"
      ],
      "metadata": {
        "colab": {
          "base_uri": "https://localhost:8080/",
          "height": 266
        },
        "outputId": "afad79a5-6c61-4450-85b8-dcd227c4743e",
        "id": "QFxdOddt_Pyr"
      },
      "execution_count": null,
      "outputs": [
        {
          "output_type": "display_data",
          "data": {
            "text/plain": [
              "<Figure size 432x288 with 1 Axes>"
            ],
            "image/png": "[encoded data removed]"
          },
          "metadata": {
            "needs_background": "light"
          }
        }
      ]
    },
    {
      "cell_type": "markdown",
      "source": [
        "Merge all strings in source into one big string to be given in input to the model."
      ],
      "metadata": {
        "id": "42tTA0o__Pyr"
      }
    },
    {
      "cell_type": "code",
      "source": [
        "' '.join(aic['source'][0])"
      ],
      "metadata": {
        "colab": {
          "base_uri": "https://localhost:8080/"
        },
        "outputId": "ea3b8792-a690-4b32-eb81-13532c3c4205",
        "id": "rsVQq5jz_Pys"
      },
      "execution_count": null,
      "outputs": [
        {
          "output_type": "execute_result",
          "data": {
            "text/plain": [
              "'Incremental class learning involves sequentially learning classes in bursts of examples from the same class. This violates the assumptions that underlie  methods for training standard deep neural networks, and will cause them to suffer from catastrophic forgetting. Arguably, the best method for incremental class learning is iCaRL, but it requires storing  training examples for each class, making it challenging to scale. Here, we propose FearNet for incremental class learning. FearNet is a generative model that does not store previous examples, making it memory efficient. FearNet uses a brain-inspired dual-memory system in which new memories are consolidated from a network for recent memories inspired by the mammalian hippocampal complex to a network for long-term storage inspired by medial prefrontal cortex. Memory consolidation is inspired by mechanisms that occur during sleep. FearNet also uses a module inspired by the basolateral amygdala for determining which memory system to use for recall.   FearNet achieves state-of-the-art performance at incremental class learning on image (CIFAR-100, CUB-200) and audio classification (AudioSet) benchmarks.\\n In incremental classification, an agent must sequentially learn to classify training examples, without necessarily having the ability to re-study previously seen examples. While deep neural networks (DNNs) have revolutionized machine perception BID26 , off-the-shelf DNNs cannot incrementally learn classes due to catastrophic forgetting. Catastrophic forgetting is a phenomenon in which a DNN completely fails to learn new data without forgetting much of its previously learned knowledge BID29 . While methods have been developed to try and mitigate catastrophic forgetting, as shown in BID23 , these methods are not sufficient and perform poorly on larger datasets. In this paper, we propose FearNet, a brain-inspired system for incrementally learning categories that significantly outperforms previous methods.The standard way for dealing with catastrophic forgetting in DNNs is to avoid it altogether by mixing new training examples with old ones and completely re-training the model offline. For large datasets, this may require weeks of time, and it is not a scalable solution. An ideal incremental learning system would be able to assimilate new information without the need to store the entire training dataset. A major application for incremental learning includes real-time operation on-board embedded platforms that have limited computing power, storage, and memory, e.g., smart toys, smartphone applications, and robots. For example, a toy robot may need to learn to recognize objects within its local environment and of interest to its owner. Using cloud computing to overcome these resource limitations may pose privacy risks and may not be scalable to a large number of embedded devices. A better solution is on-device incremental learning, which requires the model to use less storage and computational power.In this paper, we propose an incremental learning framework called FearNet (see Fig. 1 ). FearNet has three brain-inspired sub-systems: 1) a recent memory system for quick recall, 2) a memory system for long-term storage, and 3) a sub-system that determines which memory system to use for a particular example. FearNet mitigates catastrophic forgetting by consolidating recent memories into long-term storage using pseudorehearsal BID34 . Pseudorehearsal allows the network to revisit previous memories during incremental training without the need to store previous training examples, which is more memory efficient.Figure 1: FearNet consists of three braininspired modules based on 1) mPFC (longterm storage), 2) HC (recent storage), and 3) BLA for determining whether to use mPFC or HC for recall.Problem Formulation: Here, incremental class learning consists of T study-sessions. At time t, the learner receives a batch of data B t , which contains N t labeled training samples, i.e., B t = {(x j , y j )} Nt j=1 , where x j ∈ R d is the input feature vector to be classified and y j is its corresponding label. The number of training samples N t may vary between sessions, and the data inside a study-session is not assumed to be independent and identically distributed (iid). During a study session, the learner only has access to its current batch, but it may use its own memory to store information from prior study sessions. We refer to the first session as the model\\'s \"base-knowledge,\" which contains exemplars from M ≥ 1 classes. The batches learned in all subsequent sessions contain only one class, i.e., all y j will be identical within those sessions.Novel Contributions: Our contributions include:1. FearNet\\'s architecture includes three neural networks: one inspired by the hippocampal complex (HC) for recent memories, one inspired by the medial prefrontal cortex (mPFC) for long-term storage, and one inspired by the basolateral amygdala (BLA) that determines whether to use HC or mPFC for recall.2. Motivated by memory replay during sleep, FearNet employs a generative autoencoder for pseudorehearsal, which mitigates catastrophic forgetting by generating previously learned examples that are replayed alongside novel information during consolidation. This process does not involve storing previous training data.3. FearNet achieves state-of-the-art results on large image and audio datasets with a relatively small memory footprint, demonstrating how dual-memory models can be scaled. FearNet\\'s mPFC is trained to both discriminate examples and also generate new examples. While the main use of mPFC\\'s generative abilities is to enable psuedorehearsal, this ability may also help make the model more robust to catastrophic forgetting. BID18 observed that unsupervised networks are more robust (but not immune) to catastrophic forgetting because there are no target outputs to be forgotten. Since the pseudoexample generator is learned as a unsupervised reconstruction task, this could explain why FearNet is slow to forget old information. Table 5 : Memory requirements to train CIFAR-100 and the amount of memory that would be required if these models were trained up to 1,000 classes. Table 5 shows the memory requirements for each model in Sec. 6.1 for learning CIFAR-100 and a hypothetical extrapolation for learning 1,000 classes. This chart accounts for a fixed model capacity and storage of any data or class statistics. FearNet\\'s memory footprint is comparatively small because it only stores class statistics rather than some or all of the raw training data, which makes it better suited for deployment.An open question is how to deal with storage and updating of class statistics if classes are seen in more than one study sessions. One possibility is to use a running update for the class means and covariances, but it may be better to favor the data from the most recent study session due to learning in the autoencoder.FearNet assumed that the output of the mPFC encoder was normally distributed for each class, which may not be the case. It would be interesting to consider modeling the classes with a more complex model, e.g., a Gaussian Mixture Model. BID34 showed that pseudorehearsal worked reasonably well with randomly generated vectors because they were associated with the weights of a given class. Replaying these vectors strengthened their corresponding weights, which could be what is happening with the pseudo-examples generated by FearNet\\'s decoder. The largest impact on model size is the stored covariance matrix Σ c for each class. We tested a variant of FearNet that used a diagonal Σ c instead of a full covariance matrix. TAB5 shows that performance degrades, but FearNet still works.FearNet can be adapted to other paradigms, such as unsupervised learning and regression. For unsupervised learning, FearNet\\'s mPFC already does a form of it implicitly. For regression, this would require changing mPFC\\'s loss function and may require grouping input feature vectors into similar collections. FearNet could also be adapted to perform the supervised data permutation experiment performed by BID20 and BID24 . This would likely require storing statistics from previous permutations and classes. FearNet would sleep between learning different permutations; however, if the number of classes was high, recent recall may suffer. In this paper, we proposed a brain-inspired framework capable of incrementally learning data with different modalities and object classes. FearNet outperforms existing methods for incremental class learning on large image and audio classification benchmarks, demonstrating that FearNet is capable of recalling and consolidating recently learned information while also retaining old information. In addition, we showed that FearNet is more memory efficient, making it ideal for platforms where size, weight, and power requirements are limited. Future work will include 1) integrating BLA directly into the model (versus training it independently); 2) replacing HC with a semi-parametric model; 3) learning the feature embedding from raw inputs; and 4) replacing the pseduorehearsal mechanism with a generative model that does not require the storage of class statistics, which would be more memory efficient.A SUPPLEMENTAL MATERIAL A.1 MODEL HYPERPARAMETERS TAB1 shows the training parameters for the FearNet model for each dataset. We also experimented with various dropout rates, weight decay, and various activation functions; however, weight decay did not work well with FearNet\\'s mPFC. TAB1 : FearNet Training Parameters TAB2 shows the training parameters for the iCaRL framework used in this paper. We adapted the code from the author\\'s GitHub page for our own experiments. The ResNet-18 convolutional neural network was replaced with a fully-connected neural network. We experimented with various regularization strategies to increase the initial base-knowledge accuracy with weight decay working the best. The values that are given as a range of values are the hyperparameter search spaces. TAB9 shows the training parameters for GeppNet and GeppNet+STM. Parameters not listed here are the default parameters defined by BID17 . The values that are given as a range of values are the hyperparameter search spaces. A.3 BLA VARIANTS Our BLA model is a classifier that determines whether a prediction should be made using HC (recent memory) or mPFC (remote memory). An alternative approach would be to use an outlier detection algorithm that determines whether the data being processed by a sub-network is an outlier for that sub-network and should therefore be processed by the other sub-network. To explore this alternative BLA formulation, we experimented with three outlier detection algorithms: 1) one-class support vector machine (SVM) BID36 , 2) determining if the data fits into a Gaussian distribution using a minimum covariance determinant estimation (i.e., elliptical envelope) (Rousseeuw BID35 , and 3) the isolation forest BID27 . All three of these methods set a rejection criterion for if the test sample exists in HC; whereas the binary MLP reports a probability on how likely the test sample resides in HC. TAB5 : Performance of different BLA variants.'"
            ]
          },
          "metadata": {},
          "execution_count": 8
        }
      ]
    },
    {
      "cell_type": "code",
      "source": [
        "def merge_strs(x):\n",
        "  x['source'] = ' '.join(x['source'])\n",
        "  return x"
      ],
      "metadata": {
        "id": "HpGRv2om_Pys"
      },
      "execution_count": null,
      "outputs": []
    },
    {
      "cell_type": "code",
      "source": [
        "aic = aic.map(merge_strs)"
      ],
      "metadata": {
        "colab": {
          "base_uri": "https://localhost:8080/"
        },
        "outputId": "93daf98e-2836-4858-83b0-0e87aa38ae71",
        "id": "MTLWmseB_Pys"
      },
      "execution_count": null,
      "outputs": [
        {
          "output_type": "stream",
          "name": "stderr",
          "text": [
            "Loading cached processed dataset at /Users/lorenzogermini/.cache/huggingface/datasets/scitldr/AIC/0.0.0/79e0fa75961392034484808cfcc8f37deb15ceda153b798c92d9f621d1042fef/cache-dfa31ad84593b5a2.arrow\n"
          ]
        }
      ]
    },
    {
      "cell_type": "code",
      "source": [
        "aic['source'][0]"
      ],
      "metadata": {
        "colab": {
          "base_uri": "https://localhost:8080/"
        },
        "outputId": "deaf5b43-c4cf-4de4-e5ee-683b2ffa8701",
        "id": "TN1GTJH6_Pys"
      },
      "execution_count": null,
      "outputs": [
        {
          "output_type": "execute_result",
          "data": {
            "text/plain": [
              "'Incremental class learning involves sequentially learning classes in bursts of examples from the same class. This violates the assumptions that underlie  methods for training standard deep neural networks, and will cause them to suffer from catastrophic forgetting. Arguably, the best method for incremental class learning is iCaRL, but it requires storing  training examples for each class, making it challenging to scale. Here, we propose FearNet for incremental class learning. FearNet is a generative model that does not store previous examples, making it memory efficient. FearNet uses a brain-inspired dual-memory system in which new memories are consolidated from a network for recent memories inspired by the mammalian hippocampal complex to a network for long-term storage inspired by medial prefrontal cortex. Memory consolidation is inspired by mechanisms that occur during sleep. FearNet also uses a module inspired by the basolateral amygdala for determining which memory system to use for recall.   FearNet achieves state-of-the-art performance at incremental class learning on image (CIFAR-100, CUB-200) and audio classification (AudioSet) benchmarks.\\n In incremental classification, an agent must sequentially learn to classify training examples, without necessarily having the ability to re-study previously seen examples. While deep neural networks (DNNs) have revolutionized machine perception BID26 , off-the-shelf DNNs cannot incrementally learn classes due to catastrophic forgetting. Catastrophic forgetting is a phenomenon in which a DNN completely fails to learn new data without forgetting much of its previously learned knowledge BID29 . While methods have been developed to try and mitigate catastrophic forgetting, as shown in BID23 , these methods are not sufficient and perform poorly on larger datasets. In this paper, we propose FearNet, a brain-inspired system for incrementally learning categories that significantly outperforms previous methods.The standard way for dealing with catastrophic forgetting in DNNs is to avoid it altogether by mixing new training examples with old ones and completely re-training the model offline. For large datasets, this may require weeks of time, and it is not a scalable solution. An ideal incremental learning system would be able to assimilate new information without the need to store the entire training dataset. A major application for incremental learning includes real-time operation on-board embedded platforms that have limited computing power, storage, and memory, e.g., smart toys, smartphone applications, and robots. For example, a toy robot may need to learn to recognize objects within its local environment and of interest to its owner. Using cloud computing to overcome these resource limitations may pose privacy risks and may not be scalable to a large number of embedded devices. A better solution is on-device incremental learning, which requires the model to use less storage and computational power.In this paper, we propose an incremental learning framework called FearNet (see Fig. 1 ). FearNet has three brain-inspired sub-systems: 1) a recent memory system for quick recall, 2) a memory system for long-term storage, and 3) a sub-system that determines which memory system to use for a particular example. FearNet mitigates catastrophic forgetting by consolidating recent memories into long-term storage using pseudorehearsal BID34 . Pseudorehearsal allows the network to revisit previous memories during incremental training without the need to store previous training examples, which is more memory efficient.Figure 1: FearNet consists of three braininspired modules based on 1) mPFC (longterm storage), 2) HC (recent storage), and 3) BLA for determining whether to use mPFC or HC for recall.Problem Formulation: Here, incremental class learning consists of T study-sessions. At time t, the learner receives a batch of data B t , which contains N t labeled training samples, i.e., B t = {(x j , y j )} Nt j=1 , where x j ∈ R d is the input feature vector to be classified and y j is its corresponding label. The number of training samples N t may vary between sessions, and the data inside a study-session is not assumed to be independent and identically distributed (iid). During a study session, the learner only has access to its current batch, but it may use its own memory to store information from prior study sessions. We refer to the first session as the model\\'s \"base-knowledge,\" which contains exemplars from M ≥ 1 classes. The batches learned in all subsequent sessions contain only one class, i.e., all y j will be identical within those sessions.Novel Contributions: Our contributions include:1. FearNet\\'s architecture includes three neural networks: one inspired by the hippocampal complex (HC) for recent memories, one inspired by the medial prefrontal cortex (mPFC) for long-term storage, and one inspired by the basolateral amygdala (BLA) that determines whether to use HC or mPFC for recall.2. Motivated by memory replay during sleep, FearNet employs a generative autoencoder for pseudorehearsal, which mitigates catastrophic forgetting by generating previously learned examples that are replayed alongside novel information during consolidation. This process does not involve storing previous training data.3. FearNet achieves state-of-the-art results on large image and audio datasets with a relatively small memory footprint, demonstrating how dual-memory models can be scaled. FearNet\\'s mPFC is trained to both discriminate examples and also generate new examples. While the main use of mPFC\\'s generative abilities is to enable psuedorehearsal, this ability may also help make the model more robust to catastrophic forgetting. BID18 observed that unsupervised networks are more robust (but not immune) to catastrophic forgetting because there are no target outputs to be forgotten. Since the pseudoexample generator is learned as a unsupervised reconstruction task, this could explain why FearNet is slow to forget old information. Table 5 : Memory requirements to train CIFAR-100 and the amount of memory that would be required if these models were trained up to 1,000 classes. Table 5 shows the memory requirements for each model in Sec. 6.1 for learning CIFAR-100 and a hypothetical extrapolation for learning 1,000 classes. This chart accounts for a fixed model capacity and storage of any data or class statistics. FearNet\\'s memory footprint is comparatively small because it only stores class statistics rather than some or all of the raw training data, which makes it better suited for deployment.An open question is how to deal with storage and updating of class statistics if classes are seen in more than one study sessions. One possibility is to use a running update for the class means and covariances, but it may be better to favor the data from the most recent study session due to learning in the autoencoder.FearNet assumed that the output of the mPFC encoder was normally distributed for each class, which may not be the case. It would be interesting to consider modeling the classes with a more complex model, e.g., a Gaussian Mixture Model. BID34 showed that pseudorehearsal worked reasonably well with randomly generated vectors because they were associated with the weights of a given class. Replaying these vectors strengthened their corresponding weights, which could be what is happening with the pseudo-examples generated by FearNet\\'s decoder. The largest impact on model size is the stored covariance matrix Σ c for each class. We tested a variant of FearNet that used a diagonal Σ c instead of a full covariance matrix. TAB5 shows that performance degrades, but FearNet still works.FearNet can be adapted to other paradigms, such as unsupervised learning and regression. For unsupervised learning, FearNet\\'s mPFC already does a form of it implicitly. For regression, this would require changing mPFC\\'s loss function and may require grouping input feature vectors into similar collections. FearNet could also be adapted to perform the supervised data permutation experiment performed by BID20 and BID24 . This would likely require storing statistics from previous permutations and classes. FearNet would sleep between learning different permutations; however, if the number of classes was high, recent recall may suffer. In this paper, we proposed a brain-inspired framework capable of incrementally learning data with different modalities and object classes. FearNet outperforms existing methods for incremental class learning on large image and audio classification benchmarks, demonstrating that FearNet is capable of recalling and consolidating recently learned information while also retaining old information. In addition, we showed that FearNet is more memory efficient, making it ideal for platforms where size, weight, and power requirements are limited. Future work will include 1) integrating BLA directly into the model (versus training it independently); 2) replacing HC with a semi-parametric model; 3) learning the feature embedding from raw inputs; and 4) replacing the pseduorehearsal mechanism with a generative model that does not require the storage of class statistics, which would be more memory efficient.A SUPPLEMENTAL MATERIAL A.1 MODEL HYPERPARAMETERS TAB1 shows the training parameters for the FearNet model for each dataset. We also experimented with various dropout rates, weight decay, and various activation functions; however, weight decay did not work well with FearNet\\'s mPFC. TAB1 : FearNet Training Parameters TAB2 shows the training parameters for the iCaRL framework used in this paper. We adapted the code from the author\\'s GitHub page for our own experiments. The ResNet-18 convolutional neural network was replaced with a fully-connected neural network. We experimented with various regularization strategies to increase the initial base-knowledge accuracy with weight decay working the best. The values that are given as a range of values are the hyperparameter search spaces. TAB9 shows the training parameters for GeppNet and GeppNet+STM. Parameters not listed here are the default parameters defined by BID17 . The values that are given as a range of values are the hyperparameter search spaces. A.3 BLA VARIANTS Our BLA model is a classifier that determines whether a prediction should be made using HC (recent memory) or mPFC (remote memory). An alternative approach would be to use an outlier detection algorithm that determines whether the data being processed by a sub-network is an outlier for that sub-network and should therefore be processed by the other sub-network. To explore this alternative BLA formulation, we experimented with three outlier detection algorithms: 1) one-class support vector machine (SVM) BID36 , 2) determining if the data fits into a Gaussian distribution using a minimum covariance determinant estimation (i.e., elliptical envelope) (Rousseeuw BID35 , and 3) the isolation forest BID27 . All three of these methods set a rejection criterion for if the test sample exists in HC; whereas the binary MLP reports a probability on how likely the test sample resides in HC. TAB5 : Performance of different BLA variants.'"
            ]
          },
          "metadata": {},
          "execution_count": 11
        }
      ]
    },
    {
      "cell_type": "markdown",
      "source": [
        "could like remove all the unused columns to be tidy and reduce memory occupied by dataset."
      ],
      "metadata": {
        "id": "7vK_Lag6_Pys"
      }
    },
    {
      "cell_type": "code",
      "source": [
        "aic = aic.remove_columns(['source_labels', 'rouge_scores'])"
      ],
      "metadata": {
        "id": "teV2lHDD_Pys"
      },
      "execution_count": null,
      "outputs": []
    },
    {
      "cell_type": "markdown",
      "source": [
        "Insights into tokens length distribution for aic full texts with google bigbird pegasus tokenizer."
      ],
      "metadata": {
        "id": "VC5eusJo_Pys"
      }
    },
    {
      "cell_type": "code",
      "source": [
        "from transformers import AutoTokenizer, AutoModelForSeq2SeqLM\n",
        "\n",
        "tokenizer = AutoTokenizer.from_pretrained(\"google/bigbird-pegasus-large-pubmed\")"
      ],
      "metadata": {
        "id": "3crF63l-_Pys"
      },
      "execution_count": null,
      "outputs": []
    },
    {
      "cell_type": "code",
      "source": [
        "def preprocess_function(examples):\n",
        "    model_inputs = tokenizer(\n",
        "        examples[\"source\"]\n",
        "    ) #not truncate to see tokens distribution\n",
        "    return model_inputs"
      ],
      "metadata": {
        "id": "z7JNhSUi_Pys"
      },
      "execution_count": null,
      "outputs": []
    },
    {
      "cell_type": "code",
      "source": [
        "aic = aic.map(preprocess_function, batched=True)"
      ],
      "metadata": {
        "colab": {
          "base_uri": "https://localhost:8080/"
        },
        "outputId": "32c2fd6f-c629-4c5f-acb1-52910ace3fb1",
        "id": "sJOqHbc3_Pys"
      },
      "execution_count": null,
      "outputs": [
        {
          "output_type": "stream",
          "name": "stderr",
          "text": [
            "Loading cached processed dataset at /Users/lorenzogermini/.cache/huggingface/datasets/scitldr/AIC/0.0.0/79e0fa75961392034484808cfcc8f37deb15ceda153b798c92d9f621d1042fef/cache-33455dc6a8c5715a.arrow\n"
          ]
        }
      ]
    },
    {
      "cell_type": "code",
      "source": [
        "def compute_tok_length(example):\n",
        "    return {\"n_tokens\": len(example[\"input_ids\"])}"
      ],
      "metadata": {
        "id": "385INqIN_Pys"
      },
      "execution_count": null,
      "outputs": []
    },
    {
      "cell_type": "code",
      "source": [
        "aic = aic.map(compute_tok_length)"
      ],
      "metadata": {
        "colab": {
          "base_uri": "https://localhost:8080/"
        },
        "outputId": "bf806982-3a97-4adb-a399-f1fcbc84c894",
        "id": "P9oE-N3z_Pys"
      },
      "execution_count": null,
      "outputs": [
        {
          "output_type": "stream",
          "name": "stderr",
          "text": [
            "Loading cached processed dataset at /Users/lorenzogermini/.cache/huggingface/datasets/scitldr/AIC/0.0.0/79e0fa75961392034484808cfcc8f37deb15ceda153b798c92d9f621d1042fef/cache-589d50caec8b688d.arrow\n"
          ]
        }
      ]
    },
    {
      "cell_type": "code",
      "source": [
        "aic.sort('n_tokens', reverse=True)[:10]['n_tokens']"
      ],
      "metadata": {
        "colab": {
          "base_uri": "https://localhost:8080/"
        },
        "outputId": "29b63b54-fddb-42b4-d1d7-057181013484",
        "id": "yuWt34r6_Pys"
      },
      "execution_count": null,
      "outputs": [
        {
          "output_type": "stream",
          "name": "stderr",
          "text": [
            "Loading cached sorted indices for dataset at /Users/lorenzogermini/.cache/huggingface/datasets/scitldr/AIC/0.0.0/79e0fa75961392034484808cfcc8f37deb15ceda153b798c92d9f621d1042fef/cache-20e2a9ccc9b6b29f.arrow\n"
          ]
        },
        {
          "output_type": "execute_result",
          "data": {
            "text/plain": [
              "[3994, 3598, 3557, 3473, 3322, 3255, 3173, 2812, 2712, 2671]"
            ]
          },
          "metadata": {},
          "execution_count": 18
        }
      ]
    },
    {
      "cell_type": "code",
      "source": [
        "aic.sort('n_tokens', reverse=False)[:10]['n_tokens']"
      ],
      "metadata": {
        "colab": {
          "base_uri": "https://localhost:8080/"
        },
        "outputId": "ed3ddd3b-8697-4dc8-da11-51e98507cc8d",
        "id": "-RLAHlxA_Pys"
      },
      "execution_count": null,
      "outputs": [
        {
          "output_type": "stream",
          "name": "stderr",
          "text": [
            "Loading cached sorted indices for dataset at /Users/lorenzogermini/.cache/huggingface/datasets/scitldr/AIC/0.0.0/79e0fa75961392034484808cfcc8f37deb15ceda153b798c92d9f621d1042fef/cache-0598d5b3e1d08f8f.arrow\n"
          ]
        },
        {
          "output_type": "execute_result",
          "data": {
            "text/plain": [
              "[128, 167, 168, 170, 174, 176, 178, 182, 192, 204]"
            ]
          },
          "metadata": {},
          "execution_count": 19
        }
      ]
    },
    {
      "cell_type": "code",
      "source": [
        "plt.hist(aic['n_tokens'], log=True);"
      ],
      "metadata": {
        "colab": {
          "base_uri": "https://localhost:8080/",
          "height": 265
        },
        "outputId": "8ce9e041-9e92-4b41-b001-bcf745a608d0",
        "id": "eQe0tDb__Pys"
      },
      "execution_count": null,
      "outputs": [
        {
          "output_type": "display_data",
          "data": {
            "text/plain": [
              "<Figure size 432x288 with 1 Axes>"
            ],
            "image/png": "[encoded data removed]"
          },
          "metadata": {
            "needs_background": "light"
          }
        }
      ]
    },
    {
      "cell_type": "markdown",
      "source": [
        "Filter out examples with more than 2500 words."
      ],
      "metadata": {
        "id": "NAQIzrhRXGCN"
      }
    },
    {
      "cell_type": "code",
      "source": [
        "aic.filter(lambda x: x[\"n_tokens\"] > 2500).num_rows"
      ],
      "metadata": {
        "colab": {
          "base_uri": "https://localhost:8080/"
        },
        "id": "Svws3S4kXOnJ",
        "outputId": "d8fb83a2-eaec-4954-a255-86e341c08779"
      },
      "execution_count": null,
      "outputs": [
        {
          "output_type": "stream",
          "name": "stderr",
          "text": [
            "Loading cached processed dataset at /Users/lorenzogermini/.cache/huggingface/datasets/scitldr/AIC/0.0.0/79e0fa75961392034484808cfcc8f37deb15ceda153b798c92d9f621d1042fef/cache-43ac02cf3a3fa6c6.arrow\n"
          ]
        },
        {
          "output_type": "execute_result",
          "data": {
            "text/plain": [
              "14"
            ]
          },
          "metadata": {},
          "execution_count": 21
        }
      ]
    },
    {
      "cell_type": "code",
      "source": [
        "aic = aic.filter(lambda x: x[\"n_tokens\"] <= 2500)"
      ],
      "metadata": {
        "colab": {
          "base_uri": "https://localhost:8080/"
        },
        "id": "CKqkUnmTXdbg",
        "outputId": "e00a8d6a-34a4-476e-a7ac-a45046b1c047"
      },
      "execution_count": null,
      "outputs": [
        {
          "output_type": "stream",
          "name": "stderr",
          "text": [
            "Loading cached processed dataset at /Users/lorenzogermini/.cache/huggingface/datasets/scitldr/AIC/0.0.0/79e0fa75961392034484808cfcc8f37deb15ceda153b798c92d9f621d1042fef/cache-1d802f3b78ee11c0.arrow\n"
          ]
        }
      ]
    },
    {
      "cell_type": "markdown",
      "source": [
        "All the examples are significantly lower than 1024 input tokens."
      ],
      "metadata": {
        "id": "zSt3aaGA_Pyt"
      }
    },
    {
      "cell_type": "code",
      "source": [
        "#creating baseline only 1st sentence\n",
        "def one_sentence_summary(text):\n",
        "    return \"\\n\".join(sent_tokenize(text)[:1])\n",
        "\n",
        "print(one_sentence_summary(aic['source'][0]))"
      ],
      "metadata": {
        "colab": {
          "base_uri": "https://localhost:8080/"
        },
        "outputId": "dc085374-9037-4b8a-c344-e735c9fe8ed0",
        "id": "fWnY5rY2_Pyt"
      },
      "execution_count": null,
      "outputs": [
        {
          "output_type": "stream",
          "name": "stdout",
          "text": [
            "Incremental class learning involves sequentially learning classes in bursts of examples from the same class.\n"
          ]
        }
      ]
    },
    {
      "cell_type": "code",
      "source": [
        "#creating baseline only first 25 words\n",
        "def twenty_words_summary(text):\n",
        "    return \" \".join(word_tokenize(text)[:35])\n",
        "\n",
        "print(twenty_words_summary(aic['source'][0]))"
      ],
      "metadata": {
        "colab": {
          "base_uri": "https://localhost:8080/"
        },
        "outputId": "607aa941-d426-4625-8986-123149216e11",
        "id": "kUh62ykX_Pyt"
      },
      "execution_count": null,
      "outputs": [
        {
          "output_type": "stream",
          "name": "stdout",
          "text": [
            "Incremental class learning involves sequentially learning classes in bursts of examples from the same class . This violates the assumptions that underlie methods for training standard deep neural networks , and will cause them to\n"
          ]
        }
      ]
    },
    {
      "cell_type": "markdown",
      "source": [
        "Rerun baseline but not with 3 sentence summary as it is basically all the abstract, have to stay within 30-40 ish tokens."
      ],
      "metadata": {
        "id": "A-U3RpTp_Pyt"
      }
    },
    {
      "cell_type": "markdown",
      "source": [
        "Random baseline with no ML could also be text generation with HMMs chains. Given that abstract is not super long could be a more realistic task."
      ],
      "metadata": {
        "id": "B5coiwDQ_Pyt"
      }
    },
    {
      "cell_type": "code",
      "source": [
        "rouge_score = load_metric(\"rouge\")"
      ],
      "metadata": {
        "id": "nffeuQCJ_Pyt"
      },
      "execution_count": null,
      "outputs": []
    },
    {
      "cell_type": "markdown",
      "source": [
        "Evaluate baseline for summarization."
      ],
      "metadata": {
        "id": "TLRiJxD7_Pyt"
      }
    },
    {
      "cell_type": "code",
      "source": [
        "def sel_sum(x):\n",
        "  x['target'] = x['target'][0]\n",
        "  return x"
      ],
      "metadata": {
        "id": "ar6JRx8z_Pyt"
      },
      "execution_count": null,
      "outputs": []
    },
    {
      "cell_type": "code",
      "source": [
        "aic1 = aic.map(sel_sum)"
      ],
      "metadata": {
        "colab": {
          "base_uri": "https://localhost:8080/"
        },
        "outputId": "60edf0f7-c4b4-4bee-facc-511bb761c2cd",
        "id": "JfqIZ6Zr_Pyt"
      },
      "execution_count": null,
      "outputs": [
        {
          "output_type": "stream",
          "name": "stderr",
          "text": [
            "Loading cached processed dataset at /Users/lorenzogermini/.cache/huggingface/datasets/scitldr/AIC/0.0.0/79e0fa75961392034484808cfcc8f37deb15ceda153b798c92d9f621d1042fef/cache-969af61eaa94f430.arrow\n"
          ]
        }
      ]
    },
    {
      "cell_type": "code",
      "source": [
        "def sel_sum2(x):\n",
        "  x['target'] = x['target'][1]\n",
        "  return x"
      ],
      "metadata": {
        "id": "XU9yAMEA_Pyt"
      },
      "execution_count": null,
      "outputs": []
    },
    {
      "cell_type": "code",
      "source": [
        "aic2=aic.map(sel_sum2)"
      ],
      "metadata": {
        "colab": {
          "base_uri": "https://localhost:8080/"
        },
        "outputId": "ddf3a944-073d-4fa4-ebe7-c19e2e54cee4",
        "id": "Bg4tqf2O_Pyt"
      },
      "execution_count": null,
      "outputs": [
        {
          "output_type": "stream",
          "name": "stderr",
          "text": [
            "Loading cached processed dataset at /Users/lorenzogermini/.cache/huggingface/datasets/scitldr/AIC/0.0.0/79e0fa75961392034484808cfcc8f37deb15ceda153b798c92d9f621d1042fef/cache-87ed1216843f5f5e.arrow\n"
          ]
        }
      ]
    },
    {
      "cell_type": "code",
      "source": [
        "aic2['target'][0]"
      ],
      "metadata": {
        "colab": {
          "base_uri": "https://localhost:8080/"
        },
        "outputId": "41378a79-e705-43af-a64d-5475ecc0af29",
        "id": "dURfpHFe_Pyt"
      },
      "execution_count": null,
      "outputs": [
        {
          "output_type": "execute_result",
          "data": {
            "text/plain": [
              "'This paper presents a novel solution to an incremental classification problem based on a dual memory system. '"
            ]
          },
          "metadata": {},
          "execution_count": 30
        }
      ]
    },
    {
      "cell_type": "code",
      "source": [
        "del aic"
      ],
      "metadata": {
        "id": "DTA1htl2_Pyt"
      },
      "execution_count": null,
      "outputs": []
    },
    {
      "cell_type": "markdown",
      "source": [
        "Evaluate baselines."
      ],
      "metadata": {
        "id": "XANWdWeYVda-"
      }
    },
    {
      "cell_type": "code",
      "source": [
        "def evaluate_baseline1(dataset, dataset2, metric):\n",
        "    summaries = [twenty_words_summary(text) for text in dataset['source']]\n",
        "    return metric.compute(predictions=summaries, references=dataset['target']),\\\n",
        "    metric.compute(predictions=summaries, references=dataset2['target'])"
      ],
      "metadata": {
        "id": "RUen2l-J_Pyt"
      },
      "execution_count": null,
      "outputs": []
    },
    {
      "cell_type": "code",
      "source": [
        "score1, score2 = evaluate_baseline1(aic1, aic2, rouge_score)\n",
        "rouge_names = [\"rouge1\", \"rouge2\", \"rougeL\", \"rougeLsum\"]\n",
        "rouge_dict1 = dict((rn, round(score1[rn].mid.fmeasure * 100, 2)) for rn in rouge_names)\n",
        "print(rouge_dict1)\n",
        "rouge_dict2 = dict((rn, round(score2[rn].mid.fmeasure * 100, 2)) for rn in rouge_names)\n",
        "rouge_dict2"
      ],
      "metadata": {
        "colab": {
          "base_uri": "https://localhost:8080/"
        },
        "id": "HFasvyVQS-Zs",
        "outputId": "97160bf7-c9a0-4f66-e32f-22c2f3ef1a91"
      },
      "execution_count": null,
      "outputs": [
        {
          "output_type": "stream",
          "name": "stdout",
          "text": [
            "{'rouge1': 23.59, 'rouge2': 8.43, 'rougeL': 17.94, 'rougeLsum': 17.94}\n"
          ]
        },
        {
          "output_type": "execute_result",
          "data": {
            "text/plain": [
              "{'rouge1': 19.46, 'rouge2': 3.52, 'rougeL': 14.19, 'rougeLsum': 14.18}"
            ]
          },
          "metadata": {},
          "execution_count": 33
        }
      ]
    },
    {
      "cell_type": "markdown",
      "source": [
        "Evaluate zeroshot summarization with certain"
      ],
      "metadata": {
        "id": "TYSHSw-fVhOe"
      }
    },
    {
      "cell_type": "markdown",
      "source": [
        "Evaluate with big bird pegasus finetuned on pubmed:"
      ],
      "metadata": {
        "id": "5iOH3b_VVolJ"
      }
    },
    {
      "cell_type": "code",
      "source": [
        "summarizer = pipeline('summarization', model='google/bigbird-pegasus-large-pubmed')"
      ],
      "metadata": {
        "id": "V8vmTP81Yfmb"
      },
      "execution_count": null,
      "outputs": []
    },
    {
      "cell_type": "markdown",
      "source": [
        ""
      ],
      "metadata": {
        "id": "88MV-8hGVsK3"
      }
    },
    {
      "cell_type": "code",
      "source": [
        "def evaluate_bigbird(dataset, dataset2, metric): #removed top 50 k\n",
        "    summaries = [summarizer(text, min_length=20, max_length=45, num_beams=4,early_stopping=True, clean_up_tokenization_spaces=True)[0]['summary_text'] for text in dataset['source']]\n",
        "    return metric.compute(predictions=summaries, references=dataset['target']), metric.compute(predictions=summaries, references=dataset2['target'])"
      ],
      "metadata": {
        "id": "2rTn1jkGS-w_"
      },
      "execution_count": null,
      "outputs": []
    },
    {
      "cell_type": "code",
      "source": [
        "summarizer(aic1['source'][0], min_length=20, max_length=45, num_beams=4,\\\n",
        "                            early_stopping=True, \\\n",
        "                            clean_up_tokenization_spaces=True, skip_special_tokens=True)[0]['summary_text']"
      ],
      "metadata": {
        "colab": {
          "base_uri": "https://localhost:8080/"
        },
        "id": "b45STlgYZ7RX",
        "outputId": "ffe9ac75-94c9-45b1-a113-ea29173145db"
      },
      "execution_count": null,
      "outputs": [
        {
          "output_type": "execute_result",
          "data": {
            "text/plain": [
              "'this paper proposes a network architecture for neural networks ( nnn ) based on the pseudocampous model.<n> the nnn is a sequential learning model where each neuron is represented by a set of rules.'"
            ]
          },
          "metadata": {},
          "execution_count": 42
        }
      ]
    },
    {
      "cell_type": "markdown",
      "source": [
        "Still summaries seem a bit off, prob with fine tuning on pubmed struggles a bit more to generate very concise summaries."
      ],
      "metadata": {
        "id": "N0Sswlv8cmAc"
      }
    },
    {
      "cell_type": "code",
      "source": [
        "score1, score2 = evaluate_bigbird(aic1[1:100], aic2[1:100], rouge_score)\n",
        "rouge_names = [\"rouge1\", \"rouge2\", \"rougeL\", \"rougeLsum\"]\n",
        "rouge_dict1 = dict((rn, round(score1[rn].mid.fmeasure * 100, 2)) for rn in\\\n",
        "                   rouge_names)\n",
        "print(rouge_dict1)\n",
        "rouge_dict2 = dict((rn, round(score2[rn].mid.fmeasure * 100, 2)) for rn in\\\n",
        "                   rouge_names)\n",
        "rouge_dict2"
      ],
      "metadata": {
        "colab": {
          "base_uri": "https://localhost:8080/"
        },
        "id": "im9h_aUMI9UQ",
        "outputId": "bbfa91fa-366b-4d3d-c1ff-91ab5fe836fb"
      },
      "execution_count": null,
      "outputs": [
        {
          "output_type": "stream",
          "name": "stdout",
          "text": [
            "{'rouge1': 16.98, 'rouge2': 2.6, 'rougeL': 13.15, 'rougeLsum': 13.23}\n"
          ]
        },
        {
          "output_type": "execute_result",
          "data": {
            "text/plain": [
              "{'rouge1': 17.14, 'rouge2': 2.03, 'rougeL': 13.28, 'rougeLsum': 13.25}"
            ]
          },
          "metadata": {},
          "execution_count": 43
        }
      ]
    },
    {
      "cell_type": "markdown",
      "source": [
        "Try to reduce max_length after having succesfully improved performance by reducing n_beams to 4. Big bird fine tuned on pubmed seems to struggle significantly when asked to generate very long summaries."
      ],
      "metadata": {
        "id": "4Jo8DklxM5Li"
      }
    },
    {
      "cell_type": "markdown",
      "source": [
        "Try with booksum fine tuned big bird pegasus"
      ],
      "metadata": {
        "id": "XHk9nwZWN0oQ"
      }
    },
    {
      "cell_type": "markdown",
      "source": [
        "### For optimal abstract summary length look at rhonda patrick tweets and tldr length."
      ],
      "metadata": {
        "id": "UaAeVg6FI8J9"
      }
    },
    {
      "cell_type": "markdown",
      "source": [
        "Bart struggles with long docs more than 1024 tokens, might look into "
      ],
      "metadata": {
        "id": "AXyFcLVCOQQb"
      }
    },
    {
      "cell_type": "markdown",
      "source": [
        "## AIC of scitldr dataset section"
      ],
      "metadata": {
        "id": "1qmWT8h6aAyx"
      }
    },
    {
      "cell_type": "code",
      "source": [
        "dataset_builder = load_dataset_builder('scitldr', 'AIC')"
      ],
      "metadata": {
        "id": "2ijCNGsohuKR"
      },
      "execution_count": null,
      "outputs": []
    },
    {
      "cell_type": "code",
      "source": [
        "print(dataset_builder.info.features)"
      ],
      "metadata": {
        "colab": {
          "base_uri": "https://localhost:8080/"
        },
        "id": "MU3QhCe1iG0c",
        "outputId": "e85094aa-b072-4072-cb8b-1c5487e732b5"
      },
      "execution_count": null,
      "outputs": [
        {
          "output_type": "stream",
          "name": "stdout",
          "text": [
            "{'source': Sequence(feature=Value(dtype='string', id=None), length=-1, id=None), 'source_labels': Sequence(feature=ClassLabel(num_classes=2, names=[0, 1], id=None), length=-1, id=None), 'rouge_scores': Sequence(feature=Value(dtype='float32', id=None), length=-1, id=None), 'paper_id': Value(dtype='string', id=None), 'ic': Value(dtype='bool_', id=None), 'target': Sequence(feature=Value(dtype='string', id=None), length=-1, id=None)}\n"
          ]
        }
      ]
    },
    {
      "cell_type": "code",
      "source": [
        "print(dataset_builder.info.splits)"
      ],
      "metadata": {
        "colab": {
          "base_uri": "https://localhost:8080/"
        },
        "id": "P8FBrG9YiSBo",
        "outputId": "b3562591-3d0a-41d4-c9bc-cea56353a5f6"
      },
      "execution_count": null,
      "outputs": [
        {
          "output_type": "stream",
          "name": "stdout",
          "text": [
            "{'train': SplitInfo(name='train', num_bytes=14473794, num_examples=1992, dataset_name='scitldr'), 'test': SplitInfo(name='test', num_bytes=4821998, num_examples=618, dataset_name='scitldr'), 'validation': SplitInfo(name='validation', num_bytes=4476209, num_examples=619, dataset_name='scitldr')}\n"
          ]
        }
      ]
    },
    {
      "cell_type": "code",
      "source": [
        "print(dataset_builder.cache_dir)"
      ],
      "metadata": {
        "colab": {
          "base_uri": "https://localhost:8080/"
        },
        "id": "EIhVFN2IiWLM",
        "outputId": "e4c4c238-9181-49d6-bf24-40f99566a98e"
      },
      "execution_count": null,
      "outputs": [
        {
          "output_type": "stream",
          "name": "stdout",
          "text": [
            "/Users/lorenzogermini/.cache/huggingface/datasets/scitldr/AIC/0.0.0/79e0fa75961392034484808cfcc8f37deb15ceda153b798c92d9f621d1042fef\n"
          ]
        }
      ]
    },
    {
      "cell_type": "markdown",
      "source": [
        "Using the AIC is still too long apparently for most of the texts and will cut significantly pieces of texts. Still have also some baselines for those."
      ],
      "metadata": {
        "id": "8SIbgOgnN0tj"
      }
    },
    {
      "cell_type": "code",
      "source": [
        "tldr_aic = load_dataset('scitldr', 'Abstract', split='test')"
      ],
      "metadata": {
        "colab": {
          "base_uri": "https://localhost:8080/"
        },
        "id": "QEECS4KKi79R",
        "outputId": "96e774d7-5fe2-4293-af04-23659141b038"
      },
      "execution_count": null,
      "outputs": [
        {
          "output_type": "stream",
          "name": "stderr",
          "text": [
            "Reusing dataset scitldr (/Users/lorenzogermini/.cache/huggingface/datasets/scitldr/Abstract/0.0.0/79e0fa75961392034484808cfcc8f37deb15ceda153b798c92d9f621d1042fef)\n"
          ]
        }
      ]
    },
    {
      "cell_type": "markdown",
      "source": [
        "Some analysis of og data"
      ],
      "metadata": {
        "id": "iS7DnPfPEXqV"
      }
    },
    {
      "cell_type": "code",
      "source": [
        "len(tldr_aic['target'][3])"
      ],
      "metadata": {
        "colab": {
          "base_uri": "https://localhost:8080/"
        },
        "id": "JXIiEXjjIL9-",
        "outputId": "c9a95034-9533-4aee-9ad0-84a5eb860299"
      },
      "execution_count": null,
      "outputs": [
        {
          "output_type": "execute_result",
          "data": {
            "text/plain": [
              "4"
            ]
          },
          "metadata": {},
          "execution_count": 10
        }
      ]
    },
    {
      "cell_type": "code",
      "source": [
        "def compute_n_summ(x):\n",
        "    return {\"n_summ\": len(x['target'])}"
      ],
      "metadata": {
        "id": "M35pNYb0Eq8g"
      },
      "execution_count": null,
      "outputs": []
    },
    {
      "cell_type": "code",
      "source": [
        "tldr_aic = tldr_aic.map(compute_n_summ)"
      ],
      "metadata": {
        "colab": {
          "base_uri": "https://localhost:8080/",
          "height": 49,
          "referenced_widgets": [
            "2e434a13aecf427f99e04ec187cb657b",
            "6757c1ca50c145e8995db44e2d29afac",
            "20e78f1897384db395bf99144308a404",
            "4c854e77b18241c5b27015b513f84a4a",
            "2df546513aac4a289425355b329d33fb",
            "e84d7b01185b43b4bbfa3511753e4bfa",
            "f5ada59db7ae4ae0bdfa25364e2243bd",
            "aa71a745a4fc4aebbf6a4cea0e4846e0",
            "a7d490717a63442d885454efa4eb6dd8",
            "41641d832bed460e8b05c630d1359e64",
            "62eea9cf0eeb480381a5d1b16bd6ae4d"
          ]
        },
        "id": "gh9uEkqfITnl",
        "outputId": "f4dd1833-2ee2-448d-e399-3e85fed994c3"
      },
      "execution_count": null,
      "outputs": [
        {
          "output_type": "display_data",
          "data": {
            "text/plain": [
              "  0%|          | 0/618 [00:00<?, ?ex/s]"
            ],
            "application/vnd.jupyter.widget-view+json": {
              "version_major": 2,
              "version_minor": 0,
              "model_id": "2e434a13aecf427f99e04ec187cb657b"
            }
          },
          "metadata": {}
        }
      ]
    },
    {
      "cell_type": "code",
      "source": [
        "plt.hist(tldr_aic['n_summ']);"
      ],
      "metadata": {
        "colab": {
          "base_uri": "https://localhost:8080/",
          "height": 266
        },
        "id": "XKvYGrrVEZi_",
        "outputId": "ecf2af1a-638d-4553-9a9e-0ebfc6092790"
      },
      "execution_count": null,
      "outputs": [
        {
          "output_type": "display_data",
          "data": {
            "text/plain": [
              "<Figure size 432x288 with 1 Axes>"
            ],
            "image/png": "[encoded data removed]"
          },
          "metadata": {
            "needs_background": "light"
          }
        }
      ]
    },
    {
      "cell_type": "markdown",
      "source": [
        "Merge all strings in source into one big string to be given in input to the model."
      ],
      "metadata": {
        "id": "5yWe_jbXL0VJ"
      }
    },
    {
      "cell_type": "code",
      "source": [
        "' '.join(tldr_aic['source'][0])"
      ],
      "metadata": {
        "colab": {
          "base_uri": "https://localhost:8080/"
        },
        "id": "2Ar9TeuPKFf5",
        "outputId": "0652bc7d-c82b-464b-aad1-fd6eadc9aaa8"
      },
      "execution_count": null,
      "outputs": [
        {
          "output_type": "execute_result",
          "data": {
            "text/plain": [
              "'Incremental class learning involves sequentially learning classes in bursts of examples from the same class. This violates the assumptions that underlie  methods for training standard deep neural networks, and will cause them to suffer from catastrophic forgetting. Arguably, the best method for incremental class learning is iCaRL, but it requires storing  training examples for each class, making it challenging to scale. Here, we propose FearNet for incremental class learning. FearNet is a generative model that does not store previous examples, making it memory efficient. FearNet uses a brain-inspired dual-memory system in which new memories are consolidated from a network for recent memories inspired by the mammalian hippocampal complex to a network for long-term storage inspired by medial prefrontal cortex. Memory consolidation is inspired by mechanisms that occur during sleep. FearNet also uses a module inspired by the basolateral amygdala for determining which memory system to use for recall.   FearNet achieves state-of-the-art performance at incremental class learning on image (CIFAR-100, CUB-200) and audio classification (AudioSet) benchmarks.\\n'"
            ]
          },
          "metadata": {},
          "execution_count": 14
        }
      ]
    },
    {
      "cell_type": "code",
      "source": [
        "def merge_strs(x):\n",
        "  x['source'] = ' '.join(x['source'])\n",
        "  return x"
      ],
      "metadata": {
        "id": "HgHL1kOQLKRj"
      },
      "execution_count": null,
      "outputs": []
    },
    {
      "cell_type": "code",
      "source": [
        "up_d = tldr_aic.map(merge_strs)"
      ],
      "metadata": {
        "colab": {
          "base_uri": "https://localhost:8080/",
          "height": 49,
          "referenced_widgets": [
            "d5e641d450914c52b37b8f1e351a9b6c",
            "aed50e67850f4328824388b9b3aaabbc",
            "3ad44640859d44c2893ae559aedfe3bf",
            "438660f20ae144d7b838f4b2ef54a44e",
            "8d8e37a324fe473f8e5f339bae0bb295",
            "792bd8d320eb4ae0bf0bd5ccf12d0a0e",
            "e6af2691df3349c3b24c8e52ec907b4d",
            "e09760291dba4ec0b0622e91f21d92bf",
            "3712cdc7668d4544ae27d678c8b008b4",
            "6c9faa75a5bc4ce298a2967ee3d18ce3",
            "2a8f2a03834647bb9400d836b3007a8b"
          ]
        },
        "id": "P92P0eraLSra",
        "outputId": "56941241-1f39-4fb2-db46-2ab44a879b09"
      },
      "execution_count": null,
      "outputs": [
        {
          "output_type": "display_data",
          "data": {
            "text/plain": [
              "  0%|          | 0/618 [00:00<?, ?ex/s]"
            ],
            "application/vnd.jupyter.widget-view+json": {
              "version_major": 2,
              "version_minor": 0,
              "model_id": "d5e641d450914c52b37b8f1e351a9b6c"
            }
          },
          "metadata": {}
        }
      ]
    },
    {
      "cell_type": "code",
      "source": [
        "up_d['source'][0]"
      ],
      "metadata": {
        "colab": {
          "base_uri": "https://localhost:8080/"
        },
        "id": "nnLENGUJLaGB",
        "outputId": "24615a5d-aa20-49b5-d3e2-18ba4a4efb79"
      },
      "execution_count": null,
      "outputs": [
        {
          "output_type": "execute_result",
          "data": {
            "text/plain": [
              "'Incremental class learning involves sequentially learning classes in bursts of examples from the same class. This violates the assumptions that underlie  methods for training standard deep neural networks, and will cause them to suffer from catastrophic forgetting. Arguably, the best method for incremental class learning is iCaRL, but it requires storing  training examples for each class, making it challenging to scale. Here, we propose FearNet for incremental class learning. FearNet is a generative model that does not store previous examples, making it memory efficient. FearNet uses a brain-inspired dual-memory system in which new memories are consolidated from a network for recent memories inspired by the mammalian hippocampal complex to a network for long-term storage inspired by medial prefrontal cortex. Memory consolidation is inspired by mechanisms that occur during sleep. FearNet also uses a module inspired by the basolateral amygdala for determining which memory system to use for recall.   FearNet achieves state-of-the-art performance at incremental class learning on image (CIFAR-100, CUB-200) and audio classification (AudioSet) benchmarks.\\n'"
            ]
          },
          "metadata": {},
          "execution_count": 17
        }
      ]
    },
    {
      "cell_type": "markdown",
      "source": [
        "could like remove all the unused columns to be tidy and reduce memory occupied by dataset."
      ],
      "metadata": {
        "id": "BpR-OrxpLoUr"
      }
    },
    {
      "cell_type": "code",
      "source": [
        "#...."
      ],
      "metadata": {
        "id": "LVxfan9RLoEy"
      },
      "execution_count": null,
      "outputs": []
    },
    {
      "cell_type": "markdown",
      "source": [
        "Insights into tokens length distribution for aic full texts."
      ],
      "metadata": {
        "id": "Ta4fe3cc6-zs"
      }
    },
    {
      "cell_type": "code",
      "source": [
        "from transformers import AutoTokenizer, AutoModelForSeq2SeqLM\n",
        "\n",
        "tokenizer = AutoTokenizer.from_pretrained(\"sshleifer/distilbart-xsum-12-6\")\n",
        "\n",
        "model = AutoModelForSeq2SeqLM.from_pretrained(\"sshleifer/distilbart-xsum-12-6\")"
      ],
      "metadata": {
        "id": "OapG0C51MH8D"
      },
      "execution_count": null,
      "outputs": []
    },
    {
      "cell_type": "code",
      "source": [
        "def preprocess_function(examples):\n",
        "    model_inputs = tokenizer(\n",
        "        examples[\"source\"]\n",
        "    ) #not truncate to see tokens distribution\n",
        "    return model_inputs"
      ],
      "metadata": {
        "id": "F1fwEMLQ8OzY"
      },
      "execution_count": null,
      "outputs": []
    },
    {
      "cell_type": "code",
      "source": [
        "up_d = up_d.map(preprocess_function, batched=True)"
      ],
      "metadata": {
        "colab": {
          "base_uri": "https://localhost:8080/",
          "height": 49,
          "referenced_widgets": [
            "96915a0415e7400e812ce4e008e2debc",
            "a0cccb9c29ee4df186feb33ba466e694",
            "f24ef914aa234102ae62e4cf5c38d206",
            "7370c291348a41229a96381abed55615",
            "9b6a66b2f5f0435191b74ff7ea4bd4ab",
            "6123d9676f784915ad32e43842c4e085",
            "248dbab35ec9474796211f85e7a8dece",
            "83ea07c102f24a07890f3b63027f0b7f",
            "59fb4b4b515c4a29898f015134a78765",
            "54e897427bc54acc807ab115cf945fd3",
            "fab594d5eb1443b899f03d442825a066"
          ]
        },
        "outputId": "27182cdf-5d05-4073-8599-c8430176c65a",
        "id": "-MSMSuf58OzZ"
      },
      "execution_count": null,
      "outputs": [
        {
          "output_type": "display_data",
          "data": {
            "text/plain": [
              "  0%|          | 0/1 [00:00<?, ?ba/s]"
            ],
            "application/vnd.jupyter.widget-view+json": {
              "version_major": 2,
              "version_minor": 0,
              "model_id": "96915a0415e7400e812ce4e008e2debc"
            }
          },
          "metadata": {}
        }
      ]
    },
    {
      "cell_type": "code",
      "source": [
        "def compute_tok_length(example):\n",
        "    return {\"n_tokens\": len(example[\"input_ids\"])}"
      ],
      "metadata": {
        "id": "g8QWdDXH8Oza"
      },
      "execution_count": null,
      "outputs": []
    },
    {
      "cell_type": "code",
      "source": [
        "up_d = up_d.map(compute_tok_length)"
      ],
      "metadata": {
        "colab": {
          "base_uri": "https://localhost:8080/",
          "height": 49,
          "referenced_widgets": [
            "ef6ce30d327f44c2bb2705987886f607",
            "560b7ac2414d47d4910869ecaffe8da1",
            "0c0f28e2896c4c1d93f9e2890077b4d8",
            "66e4f106f98042da9603b4aa208cd3e1",
            "98e62379e75448818f1b76299c4c3677",
            "ecbe21bc2f0b4a11ba3dbdb8dd1c8637",
            "ab1abc0d910848cc82e415342b82ccd6",
            "a3399ec20ff440cba86adfcfe59be7c3",
            "34f8ce41ca4b47f2bd6616ad3a244353",
            "d48eeed97391478fa89555a416228462",
            "f808bf3abdc34f769595fadb16317894"
          ]
        },
        "id": "VL6dAB4Q8Ozc",
        "outputId": "12016c16-7bb3-4bee-bd00-73b37ad725d8"
      },
      "execution_count": null,
      "outputs": [
        {
          "output_type": "display_data",
          "data": {
            "text/plain": [
              "  0%|          | 0/618 [00:00<?, ?ex/s]"
            ],
            "application/vnd.jupyter.widget-view+json": {
              "version_major": 2,
              "version_minor": 0,
              "model_id": "ef6ce30d327f44c2bb2705987886f607"
            }
          },
          "metadata": {}
        }
      ]
    },
    {
      "cell_type": "code",
      "source": [
        "up_d.sort('n_tokens', reverse=True)[:10]['n_tokens']"
      ],
      "metadata": {
        "colab": {
          "base_uri": "https://localhost:8080/"
        },
        "id": "SUT58Vzdvtyi",
        "outputId": "f881c2e5-a9bd-44c2-d941-76e1319b51c5"
      },
      "execution_count": null,
      "outputs": [
        {
          "output_type": "execute_result",
          "data": {
            "text/plain": [
              "[443, 432, 396, 396, 383, 382, 382, 380, 377, 368]"
            ]
          },
          "metadata": {},
          "execution_count": 25
        }
      ]
    },
    {
      "cell_type": "code",
      "source": [
        "up_d.sort('n_tokens', reverse=False)[:10]['n_tokens']"
      ],
      "metadata": {
        "colab": {
          "base_uri": "https://localhost:8080/"
        },
        "outputId": "a88577a7-b954-4602-fec4-b9ecf94049ba",
        "id": "cSoz1bdv8Ozc"
      },
      "execution_count": null,
      "outputs": [
        {
          "output_type": "execute_result",
          "data": {
            "text/plain": [
              "[70, 70, 75, 76, 78, 84, 93, 98, 100, 100]"
            ]
          },
          "metadata": {},
          "execution_count": 26
        }
      ]
    },
    {
      "cell_type": "code",
      "source": [
        "plt.hist(up_d['n_tokens'], log=True);"
      ],
      "metadata": {
        "colab": {
          "base_uri": "https://localhost:8080/",
          "height": 265
        },
        "outputId": "a51e85c5-cd34-4ab6-e76f-3f63731a0f66",
        "id": "md7bHKCH8Ozc"
      },
      "execution_count": null,
      "outputs": [
        {
          "output_type": "display_data",
          "data": {
            "text/plain": [
              "<Figure size 432x288 with 1 Axes>"
            ],
            "image/png": "[encoded data removed]"
          },
          "metadata": {
            "needs_background": "light"
          }
        }
      ]
    },
    {
      "cell_type": "markdown",
      "source": [
        "We see that even in the AIC we have quite a few input text longer than 1024 tokens. For now let's just filter out the ones more than 2500 words and proceed with the Rouge evaluations."
      ],
      "metadata": {
        "id": "D5z7CV1mx9V1"
      }
    },
    {
      "cell_type": "code",
      "source": [
        "#look comment below"
      ],
      "metadata": {
        "id": "Hs_qvilYqzLE"
      },
      "execution_count": null,
      "outputs": []
    },
    {
      "cell_type": "code",
      "source": [
        "print(up_d.filter(lambda x: x[\"n_tokens\"] > 1000).num_rows) #re run until here for aic dataset, used to be 458 rows (i ran this analysis on the abstract and not aic)"
      ],
      "metadata": {
        "colab": {
          "base_uri": "https://localhost:8080/",
          "height": 67,
          "referenced_widgets": [
            "5ea56ff916ff46c0be1e46bcfd4be808",
            "9c6e6e8f0d8f406eb6c119118fd7d16b",
            "82f9694660c44495a20be9e8ed542812",
            "8cffc55d7a3d4ff18faf7654a4fd3c86",
            "4bf2a2ac324c431290fc61bc2b3a0005",
            "6ec1ab9c54e5433992fc97df0116cf79",
            "8a5651a814924c429c955415914fd27e",
            "dc4b03c590e74db68d2203b60fb97b00",
            "b00fc1b3b3b243d894095497c5fd2bb9",
            "fac0201dd8614dc9859e413b32fd4d93",
            "e825b478e81d414dbcfb181a1bcc8f1e"
          ]
        },
        "id": "eC_k8jO2yi37",
        "outputId": "4f854338-1bf6-42e1-e192-3f6e3b2d08b4"
      },
      "execution_count": null,
      "outputs": [
        {
          "output_type": "display_data",
          "data": {
            "text/plain": [
              "  0%|          | 0/1 [00:00<?, ?ba/s]"
            ],
            "application/vnd.jupyter.widget-view+json": {
              "version_major": 2,
              "version_minor": 0,
              "model_id": "5ea56ff916ff46c0be1e46bcfd4be808"
            }
          },
          "metadata": {}
        },
        {
          "output_type": "stream",
          "name": "stdout",
          "text": [
            "0\n"
          ]
        }
      ]
    },
    {
      "cell_type": "code",
      "source": [
        "gg = up_d.filter(lambda x: x[\"n_tokens\"] > 1000)"
      ],
      "metadata": {
        "colab": {
          "base_uri": "https://localhost:8080/"
        },
        "id": "lIVsb0BqzaME",
        "outputId": "4a283590-4821-4dd0-e97c-8fd631e215e4"
      },
      "execution_count": null,
      "outputs": [
        {
          "output_type": "stream",
          "name": "stderr",
          "text": [
            "Loading cached processed dataset at /Users/lorenzogermini/.cache/huggingface/datasets/scitldr/AIC/0.0.0/79e0fa75961392034484808cfcc8f37deb15ceda153b798c92d9f621d1042fef/cache-36c9c74a9a6c7f05.arrow\n"
          ]
        }
      ]
    },
    {
      "cell_type": "code",
      "source": [
        "plt.hist(gg['n_summ']);"
      ],
      "metadata": {
        "colab": {
          "base_uri": "https://localhost:8080/",
          "height": 265
        },
        "id": "jNo7nvOZ2dcF",
        "outputId": "8688d0d4-d254-4494-8e02-a5e7a5862d5b"
      },
      "execution_count": null,
      "outputs": [
        {
          "output_type": "display_data",
          "data": {
            "text/plain": [
              "<Figure size 432x288 with 1 Axes>"
            ],
            "image/png": "[encoded data removed]"
          },
          "metadata": {
            "needs_background": "light"
          }
        }
      ]
    },
    {
      "cell_type": "code",
      "source": [
        "gg = gg.remove_columns(['source_labels', 'rouge_scores', 'ic', 'attention_mask'])"
      ],
      "metadata": {
        "id": "bvMEKVGs4nlR"
      },
      "execution_count": null,
      "outputs": []
    },
    {
      "cell_type": "code",
      "source": [
        "gg"
      ],
      "metadata": {
        "colab": {
          "base_uri": "https://localhost:8080/"
        },
        "id": "KxNm04C936--",
        "outputId": "10c7d889-27f7-45f4-f03a-57b9a5a0b9d6"
      },
      "execution_count": null,
      "outputs": [
        {
          "output_type": "execute_result",
          "data": {
            "text/plain": [
              "Dataset({\n",
              "    features: ['source', 'paper_id', 'target', 'n_summ', 'input_ids', 'n_tokens'],\n",
              "    num_rows: 458\n",
              "})"
            ]
          },
          "metadata": {},
          "execution_count": 130
        }
      ]
    },
    {
      "cell_type": "code",
      "source": [
        "#creating baseline\n",
        "def three_sentence_summary(text):\n",
        "    return \"\\n\".join(sent_tokenize(text)[:3])\n",
        "\n",
        "print(three_sentence_summary(gg['source'][0]))"
      ],
      "metadata": {
        "colab": {
          "base_uri": "https://localhost:8080/"
        },
        "outputId": "50ac8a04-d0d3-45c8-f5c0-8badc924f3cf",
        "id": "IFkunPkVyRJV"
      },
      "execution_count": null,
      "outputs": [
        {
          "output_type": "stream",
          "name": "stdout",
          "text": [
            "Incremental class learning involves sequentially learning classes in bursts of examples from the same class.\n",
            "This violates the assumptions that underlie  methods for training standard deep neural networks, and will cause them to suffer from catastrophic forgetting.\n",
            "Arguably, the best method for incremental class learning is iCaRL, but it requires storing  training examples for each class, making it challenging to scale.\n"
          ]
        }
      ]
    },
    {
      "cell_type": "code",
      "source": [
        "rouge_score = load_metric(\"rouge\")"
      ],
      "metadata": {
        "id": "VPzJZNBTyRJV"
      },
      "execution_count": null,
      "outputs": []
    },
    {
      "cell_type": "markdown",
      "source": [
        "Evaluate baseline for summarization."
      ],
      "metadata": {
        "id": "7GEk_jn2yRJW"
      }
    },
    {
      "cell_type": "code",
      "source": [
        "def sel_sum(x):\n",
        "  x['target'] = x['target'][0]\n",
        "  return x"
      ],
      "metadata": {
        "id": "oZ_fPb8-5vaQ"
      },
      "execution_count": null,
      "outputs": []
    },
    {
      "cell_type": "code",
      "source": [
        "gg1 = gg.map(sel_sum)"
      ],
      "metadata": {
        "colab": {
          "base_uri": "https://localhost:8080/",
          "height": 49,
          "referenced_widgets": [
            "89ea1502b86641e3b9a00ea078f2f957",
            "343bb7818a694852be1e567e4e52a5b7",
            "557c87775ff041619f5b528d8a0f4624",
            "5f99b3b7e01b4588b56a824db35a5f0c",
            "27ab0bab80a54b549aa9f54ee182803c",
            "2d561b48da314eb2ab7b8ffead7dd719",
            "e3796e9649154e04a56264f974bb3654",
            "d35d46af7b124967879248a5afb05aa0",
            "1a90ac3aa95442da9522868e0fe50cad",
            "c1438a55997d4d52886becd115844057",
            "41ff13f6b3194292a7e6a1da15894c14"
          ]
        },
        "id": "4vkLjyev8fMB",
        "outputId": "353dcd28-f47a-47f8-c145-465c8218dac7"
      },
      "execution_count": null,
      "outputs": [
        {
          "output_type": "display_data",
          "data": {
            "text/plain": [
              "  0%|          | 0/458 [00:00<?, ?ex/s]"
            ],
            "application/vnd.jupyter.widget-view+json": {
              "version_major": 2,
              "version_minor": 0,
              "model_id": "89ea1502b86641e3b9a00ea078f2f957"
            }
          },
          "metadata": {}
        }
      ]
    },
    {
      "cell_type": "code",
      "source": [
        "def sel_sum2(x):\n",
        "  x['target'] = x['target'][1]\n",
        "  return x"
      ],
      "metadata": {
        "id": "_rG7W4yu9I_e"
      },
      "execution_count": null,
      "outputs": []
    },
    {
      "cell_type": "code",
      "source": [
        "gg2=gg.map(sel_sum2)"
      ],
      "metadata": {
        "colab": {
          "base_uri": "https://localhost:8080/",
          "height": 49,
          "referenced_widgets": [
            "ddeb954985b94b24b00d2383fb8ce303",
            "e96a77a82938405c82a0924e441bc723",
            "7a0a0891b9954e1db414ee0d31970f86",
            "63fde95abaa44ee389beeea78856d044",
            "af674b70c56d4bea8b772a08b8f4cb24",
            "e2c71905e4414363bd73d9c386fe2717",
            "bef47d7cef594b97928c5f48bb320cba",
            "bb00a3fea9f743a294c8107fdf89e6c3",
            "333e88cd442743db95307903eda9589a",
            "e1541c23a02242c2a4170cbbfd54c91c",
            "c68fb324ab944c4787ecc04da67a0102"
          ]
        },
        "id": "fd-ZiNE49GIk",
        "outputId": "41f2b6df-33cd-42f5-ed24-f859437c2d89"
      },
      "execution_count": null,
      "outputs": [
        {
          "output_type": "display_data",
          "data": {
            "text/plain": [
              "  0%|          | 0/458 [00:00<?, ?ex/s]"
            ],
            "application/vnd.jupyter.widget-view+json": {
              "version_major": 2,
              "version_minor": 0,
              "model_id": "ddeb954985b94b24b00d2383fb8ce303"
            }
          },
          "metadata": {}
        }
      ]
    },
    {
      "cell_type": "code",
      "source": [
        "gg2['target'][0]"
      ],
      "metadata": {
        "colab": {
          "base_uri": "https://localhost:8080/"
        },
        "id": "RWFvC_3v71Am",
        "outputId": "af4f65da-9d7c-4691-861d-b2121616ee65"
      },
      "execution_count": null,
      "outputs": [
        {
          "output_type": "execute_result",
          "data": {
            "text/plain": [
              "'This paper presents a novel solution to an incremental classification problem based on a dual memory system. '"
            ]
          },
          "metadata": {},
          "execution_count": 158
        }
      ]
    },
    {
      "cell_type": "code",
      "source": [
        "def evaluate_baseline(dataset, metric):\n",
        "    summaries = [three_sentence_summary(text) for text in dataset['source']]\n",
        "    return metric.compute(predictions=summaries, references=dataset['target'])"
      ],
      "metadata": {
        "id": "AbOp5hpGyRJW"
      },
      "execution_count": null,
      "outputs": []
    },
    {
      "cell_type": "markdown",
      "source": [
        "Baseline evaluation with respect to first summary."
      ],
      "metadata": {
        "id": "bEvyZpwk9lj7"
      }
    },
    {
      "cell_type": "code",
      "source": [
        "import pandas as pd\n",
        "\n",
        "score = evaluate_baseline(gg1, rouge_score)\n",
        "rouge_names = [\"rouge1\", \"rouge2\", \"rougeL\", \"rougeLsum\"]\n",
        "rouge_dict = dict((rn, round(score[rn].mid.fmeasure * 100, 2)) for rn in rouge_names)\n",
        "rouge_dict"
      ],
      "metadata": {
        "colab": {
          "base_uri": "https://localhost:8080/"
        },
        "outputId": "aa6e2042-6fd1-40c1-a609-06a495276fb9",
        "id": "mtC6NwLwyRJW"
      },
      "execution_count": null,
      "outputs": [
        {
          "output_type": "execute_result",
          "data": {
            "text/plain": [
              "{'rouge1': 22.51, 'rouge2': 9.01, 'rougeL': 16.83, 'rougeLsum': 19.37}"
            ]
          },
          "metadata": {},
          "execution_count": 155
        }
      ]
    },
    {
      "cell_type": "markdown",
      "source": [
        "Baseline evaluation with respect to second summary."
      ],
      "metadata": {
        "id": "87pakNLw9pzr"
      }
    },
    {
      "cell_type": "code",
      "source": [
        "import pandas as pd\n",
        "\n",
        "score = evaluate_baseline(gg2, rouge_score)\n",
        "rouge_names = [\"rouge1\", \"rouge2\", \"rougeL\", \"rougeLsum\"]\n",
        "rouge_dict = dict((rn, round(score[rn].mid.fmeasure * 100, 2)) for rn in rouge_names)\n",
        "rouge_dict"
      ],
      "metadata": {
        "colab": {
          "base_uri": "https://localhost:8080/"
        },
        "id": "nzqnVIF_9sRw",
        "outputId": "482c1654-5dbb-4574-a8b5-1ba02e283eca"
      },
      "execution_count": null,
      "outputs": [
        {
          "output_type": "execute_result",
          "data": {
            "text/plain": [
              "{'rouge1': 19.18, 'rouge2': 3.82, 'rougeL': 12.96, 'rougeLsum': 15.32}"
            ]
          },
          "metadata": {},
          "execution_count": 159
        }
      ]
    },
    {
      "cell_type": "markdown",
      "source": [
        "Quite different results between the two (check significance), just need to get sign from rouge computation results."
      ],
      "metadata": {
        "id": "eJ7mJGqB94n3"
      }
    },
    {
      "cell_type": "markdown",
      "source": [
        "Evaluate zero shot summarization with distilbart finetuned on xsum given amount of summarization."
      ],
      "metadata": {
        "id": "scVsNC12yRJW"
      }
    },
    {
      "cell_type": "code",
      "source": [
        "from transformers import pipeline\n",
        "summarizer = pipeline(\"summarization\", model='sshleifer/distilbart-xsum-12-6')"
      ],
      "metadata": {
        "id": "J2TN82x1_jGq"
      },
      "execution_count": null,
      "outputs": []
    },
    {
      "cell_type": "markdown",
      "source": [
        "Have to check better what beams mean and also gpu stuff."
      ],
      "metadata": {
        "id": "g8fcLSBcDapW"
      }
    },
    {
      "cell_type": "code",
      "source": [
        "def evaluate_zeroshot(dataset, metric):\n",
        "    summaries = [summarizer(text, truncation=True, min_length=15, max_length=25, ) for text in dataset['source']]\n",
        "    return metric.compute(predictions=summaries, references=dataset['target'])"
      ],
      "metadata": {
        "id": "4jJG2en9-K-k"
      },
      "execution_count": null,
      "outputs": []
    },
    {
      "cell_type": "code",
      "source": [
        ""
      ],
      "metadata": {
        "id": "OSaA6Z41_iqq"
      },
      "execution_count": null,
      "outputs": []
    },
    {
      "cell_type": "code",
      "source": [
        "score = evaluate_zeroshot(gg1, rouge_score)\n",
        "rouge_names = [\"rouge1\", \"rouge2\", \"rougeL\", \"rougeLsum\"]\n",
        "rouge_dict = dict((rn, round(score[rn].mid.fmeasure * 100, 2)) for rn in rouge_names)\n",
        "rouge_dict"
      ],
      "metadata": {
        "colab": {
          "base_uri": "https://localhost:8080/"
        },
        "outputId": "16e7a5bd-57fa-4d6f-920a-a526f34f9f9f",
        "id": "2s3IYQvHyRJX"
      },
      "execution_count": null,
      "outputs": [
        {
          "output_type": "execute_result",
          "data": {
            "text/plain": [
              "{'rouge1': 23.86, 'rouge2': 7.42, 'rougeL': 19.32, 'rougeLsum': 19.29}"
            ]
          },
          "metadata": {},
          "execution_count": 169
        }
      ]
    },
    {
      "cell_type": "markdown",
      "source": [
        "20 mins to run on cpu."
      ],
      "metadata": {
        "id": "NO4SYBV6H1tE"
      }
    },
    {
      "cell_type": "code",
      "source": [
        "score = evaluate_zeroshot(gg2, rouge_score)\n",
        "rouge_names = [\"rouge1\", \"rouge2\", \"rougeL\", \"rougeLsum\"]\n",
        "rouge_dict = dict((rn, round(score[rn].mid.fmeasure * 100, 2)) for rn in rouge_names)\n",
        "rouge_dict"
      ],
      "metadata": {
        "colab": {
          "base_uri": "https://localhost:8080/"
        },
        "id": "pSluCIguDe97",
        "outputId": "fa2a14e0-b37c-445f-be92-5c8d4cf58c83"
      },
      "execution_count": null,
      "outputs": [
        {
          "output_type": "execute_result",
          "data": {
            "text/plain": [
              "{'rouge1': 19.51, 'rouge2': 3.34, 'rougeL': 15.4, 'rougeLsum': 15.41}"
            ]
          },
          "metadata": {},
          "execution_count": 202
        }
      ]
    },
    {
      "cell_type": "markdown",
      "source": [
        "Evaluate zeroshot with gpu model with function."
      ],
      "metadata": {
        "id": "tu1kGTOpHU0y"
      }
    },
    {
      "cell_type": "code",
      "source": [
        "gg1 = gg1.remove_columns(['input_ids'])"
      ],
      "metadata": {
        "id": "2z9NqPx_ADaT"
      },
      "execution_count": null,
      "outputs": []
    },
    {
      "cell_type": "markdown",
      "source": [
        "Move everything on gpu."
      ],
      "metadata": {
        "id": "yXrNhAEfJ8_U"
      }
    },
    {
      "cell_type": "code",
      "source": [
        ""
      ],
      "metadata": {
        "id": "Ja7gYqFyJ8ce"
      },
      "execution_count": null,
      "outputs": []
    },
    {
      "cell_type": "code",
      "source": [
        "def preprocess(examples):\n",
        "    model_inputs = tokenizer(\n",
        "        examples[\"source\"], max_length=1024, truncation=True)\n",
        "    return model_inputs"
      ],
      "metadata": {
        "id": "pyDEdSxZJUIZ"
      },
      "execution_count": null,
      "outputs": []
    },
    {
      "cell_type": "code",
      "source": [
        "gg1_proc = gg1.map(preprocess, batched=True)"
      ],
      "metadata": {
        "colab": {
          "base_uri": "https://localhost:8080/",
          "height": 49,
          "referenced_widgets": [
            "0ebe7836e79844228de2a6e3f2ce103f",
            "3c9900206cbe418cafd403d02e185def",
            "f1dad1024f7442188e5badc76149a383",
            "29c245c563c84ce0a9cf7bfd9eee3a8b",
            "8522c5bec03544c2a4ce5ad506afc740",
            "2769553952b348d39585623f24bbc18a",
            "76a803377d08404c88c45adb7f7e5097",
            "d49a0f6f664e446590f421985c9e99e5",
            "52f5d9a5541d4aeea8999f0d79d1078b",
            "3a2ddea3057e466c8a774f93e8fce912",
            "f1d09d27b1754d958cc3f350531a078e"
          ]
        },
        "id": "n5zXJam1JYm1",
        "outputId": "a86e5c90-55fb-4308-fed8-406986c932fd"
      },
      "execution_count": null,
      "outputs": [
        {
          "output_type": "display_data",
          "data": {
            "text/plain": [
              "  0%|          | 0/1 [00:00<?, ?ba/s]"
            ],
            "application/vnd.jupyter.widget-view+json": {
              "version_major": 2,
              "version_minor": 0,
              "model_id": "0ebe7836e79844228de2a6e3f2ce103f"
            }
          },
          "metadata": {}
        }
      ]
    },
    {
      "cell_type": "code",
      "source": [
        "gg1_proc['input_ids'][0]"
      ],
      "metadata": {
        "id": "KUBUlsSsMSI1"
      },
      "execution_count": null,
      "outputs": []
    },
    {
      "cell_type": "code",
      "source": [
        "gg1_proc['target'][0]"
      ],
      "metadata": {
        "colab": {
          "base_uri": "https://localhost:8080/"
        },
        "id": "2Lo5_IYeLohv",
        "outputId": "708f1945-d7f6-459a-fc88-d0ae51c89f43"
      },
      "execution_count": null,
      "outputs": [
        {
          "output_type": "execute_result",
          "data": {
            "text/plain": [
              "'FearNet is a memory efficient neural-network, inspired by memory formation in the mammalian brain, that is capable of incremental class learning without catastrophic forgetting.'"
            ]
          },
          "metadata": {},
          "execution_count": 192
        }
      ]
    },
    {
      "cell_type": "code",
      "source": [
        "%%timeit\n",
        "inputs = tokenizer(gg1['source'][0], max_length=1024, truncation=True, return_tensors=\"pt\")\n",
        "summary_ids = model.generate(inputs['input_ids'], min_length=15, max_length=25) #avg summ length is 20 words\n",
        "tokenizer.batch_decode(summary_ids, skip_special_tokens=True, clean_up_tokenization_spaces=False)[0]"
      ],
      "metadata": {
        "colab": {
          "base_uri": "https://localhost:8080/"
        },
        "id": "JpO7NacpJgCl",
        "outputId": "245ba517-f978-41a6-ec7d-cebf1b14bab5"
      },
      "execution_count": null,
      "outputs": [
        {
          "output_type": "stream",
          "name": "stdout",
          "text": [
            "2.61 s ± 15.4 ms per loop (mean ± std. dev. of 7 runs, 1 loop each)\n"
          ]
        }
      ]
    },
    {
      "cell_type": "code",
      "source": [
        "import torch\n",
        "if torch.backends.mps.is_available():\n",
        "    device = torch.device(\"mps\")"
      ],
      "metadata": {
        "id": "Ws4xYxNiKo59"
      },
      "execution_count": null,
      "outputs": []
    },
    {
      "cell_type": "code",
      "source": [
        "device"
      ],
      "metadata": {
        "colab": {
          "base_uri": "https://localhost:8080/"
        },
        "id": "In4Td2H8X3UH",
        "outputId": "27c5c141-9da2-4e0b-81e7-97c54aa22158"
      },
      "execution_count": null,
      "outputs": [
        {
          "output_type": "execute_result",
          "data": {
            "text/plain": [
              "device(type='mps')"
            ]
          },
          "metadata": {},
          "execution_count": 207
        }
      ]
    },
    {
      "cell_type": "code",
      "source": [
        "import torch\n",
        "if torch.backends.mps.is_available():\n",
        "    device = torch.device(\"mps\")\n",
        "print(torch.backends.mps.is_built())\n",
        "# And that the current hardware and MacOS version are sufficient to\n",
        "# be able to use MPS\n",
        "print(torch.backends.mps.is_available())"
      ],
      "metadata": {
        "colab": {
          "base_uri": "https://localhost:8080/"
        },
        "outputId": "f3f34e08-1283-45a6-99c8-7a9f5542c329",
        "id": "2PDvvfysKo5-"
      },
      "execution_count": null,
      "outputs": [
        {
          "output_type": "stream",
          "name": "stdout",
          "text": [
            "True\n",
            "True\n"
          ]
        }
      ]
    },
    {
      "cell_type": "code",
      "source": [
        "model.to(device)"
      ],
      "metadata": {
        "id": "DuTFTIHeX9Tz"
      },
      "execution_count": null,
      "outputs": []
    },
    {
      "cell_type": "code",
      "source": [
        "inputs = tokenizer(gg1['source'][0], max_length=1024, truncation=True, return_tensors=\"pt\").to(device)"
      ],
      "metadata": {
        "id": "vAGtlfQ1Y3pB"
      },
      "execution_count": null,
      "outputs": []
    },
    {
      "cell_type": "code",
      "source": [
        "#%%timeit\n",
        "#inputs = tokenizer(gg1['source'][0], max_length=1024, truncation=True, return_tensors=\"pt\").to(device)\n",
        "summary_ids = model.generate(inputs['input_ids'], min_length=15, max_length=25) #avg summ length is 20 words\n",
        "tokenizer.batch_decode(summary_ids, skip_special_tokens=True, clean_up_tokenization_spaces=False)[0]"
      ],
      "metadata": {
        "colab": {
          "base_uri": "https://localhost:8080/"
        },
        "id": "vfS6abTZYueq",
        "outputId": "428673cf-6305-436d-efc3-3918a48c8073"
      },
      "execution_count": null,
      "outputs": [
        {
          "output_type": "stream",
          "name": "stderr",
          "text": [
            "/Users/lorenzogermini/miniforge3/envs/ml/lib/python3.9/site-packages/transformers/generation_logits_process.py:333: UserWarning: The operator 'aten::_index_put_impl_' is not currently supported on the MPS backend and will fall back to run on the CPU. This may have performance implications. (Triggered internally at  /Users/runner/work/pytorch/pytorch/pytorch/aten/src/ATen/mps/MPSFallback.mm:11.)\n",
            "  scores[i, banned_tokens] = -float(\"inf\")\n"
          ]
        }
      ]
    },
    {
      "cell_type": "markdown",
      "source": [
        "## Scientific papers - pubmed section -> it has the problem that the article text is way to long to fit in any summarization model. Have to reduce length by 1/10 but in any case then would not be useful."
      ],
      "metadata": {
        "id": "EcW5LKKUb_b3"
      }
    },
    {
      "cell_type": "code",
      "source": [
        "dataset_builder = load_dataset_builder('scientific_papers', 'pubmed')"
      ],
      "metadata": {
        "id": "OSYhVrG6VNU4"
      },
      "execution_count": null,
      "outputs": []
    },
    {
      "cell_type": "code",
      "source": [
        "print(dataset_builder.info.features)"
      ],
      "metadata": {
        "colab": {
          "base_uri": "https://localhost:8080/"
        },
        "id": "8EfHjRhhVpgu",
        "outputId": "ce16ab84-d90b-453d-d06b-7c40eb378188"
      },
      "execution_count": null,
      "outputs": [
        {
          "output_type": "stream",
          "name": "stdout",
          "text": [
            "{'article': Value(dtype='string', id=None), 'abstract': Value(dtype='string', id=None), 'section_names': Value(dtype='string', id=None)}\n"
          ]
        }
      ]
    },
    {
      "cell_type": "code",
      "source": [
        "print(dataset_builder.info.splits)"
      ],
      "metadata": {
        "colab": {
          "base_uri": "https://localhost:8080/"
        },
        "id": "Q4-_zAV0V8Yo",
        "outputId": "5f0dbe79-0fce-479f-8893-f760cee60816"
      },
      "execution_count": null,
      "outputs": [
        {
          "output_type": "stream",
          "name": "stdout",
          "text": [
            "{'train': SplitInfo(name='train', num_bytes=2252027239, num_examples=119924, dataset_name='scientific_papers'), 'validation': SplitInfo(name='validation', num_bytes=127403386, num_examples=6633, dataset_name='scientific_papers'), 'test': SplitInfo(name='test', num_bytes=127184436, num_examples=6658, dataset_name='scientific_papers')}\n"
          ]
        }
      ]
    },
    {
      "cell_type": "code",
      "source": [
        "print(dataset_builder.cache_dir)"
      ],
      "metadata": {
        "colab": {
          "base_uri": "https://localhost:8080/"
        },
        "id": "BE3nU0JEWM-4",
        "outputId": "f62d6aac-f709-47f9-b23b-c8bbd682b303"
      },
      "execution_count": null,
      "outputs": [
        {
          "output_type": "stream",
          "name": "stdout",
          "text": [
            "/Users/lorenzogermini/.cache/huggingface/datasets/scientific_papers/pubmed/1.1.1/306757013fb6f37089b6a75469e6638a553bd9f009484938d8f75a4c5e84206f\n"
          ]
        }
      ]
    },
    {
      "cell_type": "code",
      "source": [
        "#choose right configuaration for the dataset\n",
        "configs = get_dataset_config_names(\"scientific_papers\")\n",
        "print(configs)"
      ],
      "metadata": {
        "colab": {
          "base_uri": "https://localhost:8080/"
        },
        "id": "fG0BVaCrYZvc",
        "outputId": "48a58424-7a29-4aef-90c9-d87d30ff8038"
      },
      "execution_count": null,
      "outputs": [
        {
          "output_type": "stream",
          "name": "stdout",
          "text": [
            "['pubmed', 'arxiv']\n"
          ]
        }
      ]
    },
    {
      "cell_type": "code",
      "source": [
        "get_dataset_split_names(\"scientific_papers\", \"pubmed\")"
      ],
      "metadata": {
        "colab": {
          "base_uri": "https://localhost:8080/"
        },
        "id": "3lWMpJv5sucB",
        "outputId": "380c0504-0d6e-43c7-b482-80872b758034"
      },
      "execution_count": null,
      "outputs": [
        {
          "output_type": "execute_result",
          "data": {
            "text/plain": [
              "['train', 'validation', 'test']"
            ]
          },
          "metadata": {},
          "execution_count": 8
        }
      ]
    },
    {
      "cell_type": "code",
      "source": [
        "pubmed = load_dataset('scientific_papers', 'pubmed')"
      ],
      "metadata": {
        "colab": {
          "base_uri": "https://localhost:8080/",
          "height": 87,
          "referenced_widgets": [
            "9408ddd914f94f8897d6e86ffc1ebb16",
            "8268dfdeede94bd882c78ee2016ab177",
            "c0bb4aaa81694b699af159b1c195ebf3",
            "d7523225a87c4a65b46594412a35fc31",
            "5f7aa908ffd349f8b684e66f7de621b8",
            "0042ab1fcea7403db7090092fc3ff8de",
            "f5a882099295422481ee7cf193a14a2e",
            "a5b3427f280942ef9b6d9b8d2cbf3528",
            "483d33185a524c779436dead042812ae",
            "bdbe4336fca6426faaaf8860938f3a91",
            "9e170f74b1de4ef8a1513159e395e45e"
          ]
        },
        "id": "snvJA2aBWuoJ",
        "outputId": "fd4896dc-b088-4683-c484-bce76f9e31cb"
      },
      "execution_count": null,
      "outputs": [
        {
          "output_type": "stream",
          "name": "stderr",
          "text": [
            "Reusing dataset scientific_papers (/Users/lorenzogermini/.cache/huggingface/datasets/scientific_papers/pubmed/1.1.1/306757013fb6f37089b6a75469e6638a553bd9f009484938d8f75a4c5e84206f)\n"
          ]
        },
        {
          "output_type": "display_data",
          "data": {
            "text/plain": [
              "  0%|          | 0/3 [00:00<?, ?it/s]"
            ],
            "application/vnd.jupyter.widget-view+json": {
              "version_major": 2,
              "version_minor": 0,
              "model_id": "9408ddd914f94f8897d6e86ffc1ebb16"
            }
          },
          "metadata": {}
        }
      ]
    },
    {
      "cell_type": "code",
      "source": [
        "pubmed['test'].info #have to select key from dict before using all features of dataset object"
      ],
      "metadata": {
        "colab": {
          "base_uri": "https://localhost:8080/"
        },
        "id": "MeIayk2KXlR_",
        "outputId": "88c2597d-ed63-4ad2-ac1a-a613224abafa"
      },
      "execution_count": null,
      "outputs": [
        {
          "output_type": "execute_result",
          "data": {
            "text/plain": [
              "DatasetInfo(description='\\nScientific papers datasets contains two sets of long and structured documents.\\nThe datasets are obtained from ArXiv and PubMed OpenAccess repositories.\\n\\nBoth \"arxiv\" and \"pubmed\" have two features:\\n  - article: the body of the document, pagragraphs seperated by \"/n\".\\n  - abstract: the abstract of the document, pagragraphs seperated by \"/n\".\\n  - section_names: titles of sections, seperated by \"/n\".\\n\\n', citation='\\n@article{Cohan_2018,\\n   title={A Discourse-Aware Attention Model for Abstractive Summarization of\\n            Long Documents},\\n   url={http://dx.doi.org/10.18653/v1/n18-2097},\\n   DOI={10.18653/v1/n18-2097},\\n   journal={Proceedings of the 2018 Conference of the North American Chapter of\\n          the Association for Computational Linguistics: Human Language\\n          Technologies, Volume 2 (Short Papers)},\\n   publisher={Association for Computational Linguistics},\\n   author={Cohan, Arman and Dernoncourt, Franck and Kim, Doo Soon and Bui, Trung and Kim, Seokhwan and Chang, Walter and Goharian, Nazli},\\n   year={2018}\\n}\\n', homepage='https://github.com/armancohan/long-summarization', license='', features={'article': Value(dtype='string', id=None), 'abstract': Value(dtype='string', id=None), 'section_names': Value(dtype='string', id=None)}, post_processed=None, supervised_keys=None, task_templates=None, builder_name='scientific_papers', config_name='pubmed', version=1.1.1, splits={'train': SplitInfo(name='train', num_bytes=2252027239, num_examples=119924, dataset_name='scientific_papers'), 'validation': SplitInfo(name='validation', num_bytes=127403386, num_examples=6633, dataset_name='scientific_papers'), 'test': SplitInfo(name='test', num_bytes=127184436, num_examples=6658, dataset_name='scientific_papers')}, download_checksums={'https://s3.amazonaws.com/datasets.huggingface.co/scientific_papers/1.1.1/arxiv-dataset.zip': {'num_bytes': 3624420843, 'checksum': '82ed30dd7c66a6497eeb3d7c3090c274e9e32c012438f8e0bb3cce3e6c1fcada'}, 'https://s3.amazonaws.com/datasets.huggingface.co/scientific_papers/1.1.1/pubmed-dataset.zip': {'num_bytes': 880225504, 'checksum': 'd424074726a5e29e20bf834055fe7efe90f8a37bce0a2b512e4ab7e487013c04'}}, download_size=4504646347, post_processing_size=None, dataset_size=2506615061, size_in_bytes=7011261408)"
            ]
          },
          "metadata": {},
          "execution_count": 10
        }
      ]
    },
    {
      "cell_type": "code",
      "source": [
        "pubmed['test'].description"
      ],
      "metadata": {
        "colab": {
          "base_uri": "https://localhost:8080/"
        },
        "id": "bBZXWdvYsOCo",
        "outputId": "561be212-839c-4453-ad8c-52b0013592e0"
      },
      "execution_count": null,
      "outputs": [
        {
          "output_type": "execute_result",
          "data": {
            "text/plain": [
              "'\\nScientific papers datasets contains two sets of long and structured documents.\\nThe datasets are obtained from ArXiv and PubMed OpenAccess repositories.\\n\\nBoth \"arxiv\" and \"pubmed\" have two features:\\n  - article: the body of the document, pagragraphs seperated by \"/n\".\\n  - abstract: the abstract of the document, pagragraphs seperated by \"/n\".\\n  - section_names: titles of sections, seperated by \"/n\".\\n\\n'"
            ]
          },
          "metadata": {},
          "execution_count": 11
        }
      ]
    },
    {
      "cell_type": "code",
      "source": [
        "pubmed['test'].column_names"
      ],
      "metadata": {
        "colab": {
          "base_uri": "https://localhost:8080/"
        },
        "id": "Xl0b8vq4tCmx",
        "outputId": "17202689-26b5-4e22-e7f5-ec45a6ef1659"
      },
      "execution_count": null,
      "outputs": [
        {
          "output_type": "execute_result",
          "data": {
            "text/plain": [
              "['article', 'abstract', 'section_names']"
            ]
          },
          "metadata": {},
          "execution_count": 12
        }
      ]
    },
    {
      "cell_type": "code",
      "source": [
        "pubmed['test'].features"
      ],
      "metadata": {
        "colab": {
          "base_uri": "https://localhost:8080/"
        },
        "id": "ml4VV8hPHVNw",
        "outputId": "d7ec5675-2c80-4b6b-f2c5-a1c06b99bba7"
      },
      "execution_count": null,
      "outputs": [
        {
          "output_type": "execute_result",
          "data": {
            "text/plain": [
              "{'article': Value(dtype='string', id=None),\n",
              " 'abstract': Value(dtype='string', id=None),\n",
              " 'section_names': Value(dtype='string', id=None)}"
            ]
          },
          "metadata": {},
          "execution_count": 13
        }
      ]
    },
    {
      "cell_type": "code",
      "source": [
        "pub_samp= pubmed['train'].shuffle(seed=42).select(range(10))"
      ],
      "metadata": {
        "colab": {
          "base_uri": "https://localhost:8080/"
        },
        "id": "CDIe6E8mHZXV",
        "outputId": "67b4f5d7-7e51-4c2c-8b8a-c0f6ee2f1b1a"
      },
      "execution_count": null,
      "outputs": [
        {
          "output_type": "stream",
          "name": "stderr",
          "text": [
            "Loading cached shuffled indices for dataset at /Users/lorenzogermini/.cache/huggingface/datasets/scientific_papers/pubmed/1.1.1/306757013fb6f37089b6a75469e6638a553bd9f009484938d8f75a4c5e84206f/cache-bfbd2584f90883d2.arrow\n"
          ]
        }
      ]
    },
    {
      "cell_type": "code",
      "source": [
        "pub_samp[:3]"
      ],
      "metadata": {
        "colab": {
          "base_uri": "https://localhost:8080/"
        },
        "id": "dQGnl0ZoHq1C",
        "outputId": "cf77830b-0869-48fc-c89e-0891a7bf6fc2"
      },
      "execution_count": null,
      "outputs": [
        {
          "output_type": "execute_result",
          "data": {
            "text/plain": [
              "{'article': ['atrial fibrillation ( af ) is the most common sustained arrhythmia in western countries , with an estimated 30 million patients affected by 2050 across united states and europe alone .\\natrial fibrillation has a significant impact on morbidity mainly related to symptoms , heart failure , and thromboembolic events and is the most frequent arrhythmic cause of hospital admission in the usa     [ 13 ] .\\nin addition , af is associated with excess mortality independently of thromboembolic complications     . to date , the most effective treatment for af is radiofrequency catheter ablation , and pulmonary vein antrum isolation ( pvai ) is the mainstay of such an approach     .\\nthe major drawback of catheter ablation of af consists in its potential risk of periprocedural complications     , with thromboembolic and hemorrhagic complications being among the most common and insidious ones     [ 7 , 8 ] . despite the introduction of novel ablation technologies , such as open irrigation catheters , and the widespread use of systemic anticoagulation with heparin\\n, the risk of periprocedural thromboembolism remains not negligible , reaching up to 2.8% in large series     [ 6 , 9 ] . with these premises ,\\nthe development of novel strategies able to further decrease the risk of periprocedural thromboembolism without increasing the risk of bleeding is crucial .\\noral anticoagulant therapy with warfarin is the current standard of care for the treatment of af , with a strikingly favorable balance between thromboembolic protection and bleeding complications when adequate monitoring of international normalized ratio ( inr ) is achieved     . for years ,\\ndiscontinuation of warfarin before ablation associated with the periprocedural use of unfractioned and low molecular weight heparin and bridging with warfarin after ablation has been the most widespread anticoagulation protocol in patients undergoing catheter ablation of af     [ 5 , 11 ] .\\nwe firstly described the feasibility of af ablation without interruption of oral anticoagulation      and recently reported that this approach is able to potentially abolish thromboembolic complications without increasing the risk of bleeding     .\\naccordingly , af ablation without interruption of anticoagulation is nowadays the standard protocol in our center . in this paper , we summarize our approach to anticoagulation in patients undergoing af ablation .\\npatients eligible for catheter ablation of af are started on warfarin as outpatients , at least 2 months before the scheduled procedure .\\nall patients receive weekly inr monitoring during the 4 to 6 weeks preceding the procedure , with a target inr of 2 to 3 .\\npreprocedural transesophageal echocardiography ( tee ) is performed only in patients showing sub - therapeutic inr values in the month prior to the procedure .\\npatients who demonstrate inr values consistently above 2 in the month before the procedure are directly sent to ablation .\\nfour venous accesses are obtained : two right and one left femoral venous accesses , and one right internal jugular vein access .\\nfemoral venous accesses are usually obtained with the seldinger technique or with ultrasound guidance in difficult cases . the right internal jugular vein\\nis accessed with ultrasound guidance or under fluoroscopic guidance with a wire or a deflectable catheter advanced into this vein via the right femoral vein sheath .\\na double transseptal puncture is performed with the assistance of intracardiac echocardiography ( ice )     [ 13 , 14 ] . before transseptal punctures ,\\nall patients receive a bolus of unfractionated heparin ( 10,000 units ) , followed by a noncontinuous infusion to maintain an activated coagulation time ( act ) > 300 seconds .\\nwe found important the addition of unfractionated heparin to periprocedural therapeutic warfarin , since soft thrombus can still be observed on the transeptal sheath or left atrial catheters in patients with periprocedural therapeutic inr .\\nradiofrequency energy is delivered with an open irrigated ablation catheter with a maximum temperature of 42c , power up to 45  w , and flow rate of 30  cm/min .\\nintracardiac echocardiography is continuously used to monitor the electrode surface during ablation , to assist with catheter positioning and identify coagulum formation , and to monitor for complications including pericardial effusion .\\nan esophageal temperature probe is always inserted to assist with power titration during posterior wall ablation . at the end of the left atrial ablation , we partially reverse heparin anticoagulation with up to 40  mg of protamine guided by the act and remove the sheaths when the act is less than 250 seconds . with this approach\\nthe majority of the major bleedings are related to cardiac tamponade , which can be effectively managed with emergent pericardiocentesis , together with heparin interruption and reversal with protamine , and warfarin reversal with fresh - frozen plasma or prothrombin complex concentrate     .\\nif continued significant drainage or reaccumulation of the pericardial effusion occurs despite these measures , emergent open surgical exploration is considered .\\nnotably , there is also no difference in rates of emergent surgical exploration between patients with periprocedural therapeutic inr and those who discontinue warfarin , although patients on therapeutic anticoagulation are more likely to have a larger amount of blood removed from their pericardium for stabilization and require more blood transfusion units     .\\nall patients receive a single dose of aspirin ( 325  mg ) before leaving the electrophysiology laboratory and continue their warfarin dosage regimens to maintain a target inr of 2 to 3 .\\nafter ablation the thromboembolic risk may be further increased by the procedure - related endothelial damage , which may activate the coagulation cascade and increase the risk of thromboembolism     .  \\ntherefore , warfarin discontinuation may be associated with an increased thromboembolic risk also in the postprocedural period , since reachieving a therapeutic inr after the procedure may take several days , and the risk of left atrial thrombosis during af is strikingly time dependent .\\nall patients are strictly monitored for outcome and complications during overnight hospital stay , and on the following day prior to discharge using symptom assessment , serial neurological examinations , and puncture site checks .\\nall patients are instructed to call in case of any symptom development and to send weekly transtelephonic electrocardiogram transmissions for the first 5 months after ablation .\\nprogress of recovery and symptoms are assessed as well by a dedicated nurse . in case of symptoms or suspected complications patients\\nare asked to seek medical attention at either a local emergency department or our emergency department or to follow up with their local physician .\\nmoreover , all patients present for followup 3 to 4 months after ablation with the electrophysiologist who performed the procedure . with regard to the out - of - hospital long - term anticoagulation management , patients are referred to dedicated anticoagulation clinics with the aim of maintaining a stable therapeutic inr level .\\nwe follow a standard , uniform , and validated protocol of long - term postprocedural anticoagulation management     . briefly ,\\noral anticoagulation is discontinued , regardless of the chads2 score , if patients do not experience any recurrence of atrial tachyarrhythmias , severe pulmonary vein stenosis ( pulmonary vein narrowing > 70% ) , and severe left atrial mechanical dysfunction , as assessed by transthoracic echocardiography .\\npatients with a chads2 score 1 experiencing early recurrence of af are maintained on warfarin for at least 6 months . in these patients\\n, warfarin is discontinued if there is no af recurrence in the last 3 months without antiarrhythmic drugs , and aspirin 81 to 325  mg is started . in case of new af recurrence after warfarin discontinuation in patients with a chads2 score 1 , oral anticoagulation\\nour approach to periprocedural anticoagulation has been extensively validated in previous work     [ 12 , 13 , 17 ] . in particular , we found that a conventional anticoagulation approach , which included warfarin discontinuation with peri- and postprocedural bridging with unfractioned and low - molecular - weight heparin actually increases the risk of bleeding and thromboembolic complications , as compared to no periprocedural interruption of oral anticoagulation     [ 12 , 13 , 17 ] .\\nour most recent report provides strong evidence that performing af ablation under therapeutic inr is a safe and effective approach to virtually abolish the risk of thromboembolic complications     .\\nwe reported a multicenter prospective comparison of three anticoagulation protocols in 9 centers performing the same ablation procedure .\\na total of 6,454 patients were included in the study , of whom 2,488 underwent ablation with an 8-mm ablation catheter and preprocedural warfarin discontinuation ( group 1 ) , 1,348 underwent ablation with an open irrigated catheter and preprocedural warfarin discontinuation ( group 2 ) , and 2,618 underwent ablation with an open irrigated catheter without preprocedural warfarin discontinuation ( group 3 ) .\\noverall , periprocedural thromboembolic complications occurred in 39 ( 0.6% ) patients , with a rate of 1.1% in group 1 , and of 0.9% in group 2 .\\nthese data support also the appropriateness of our approach to tee based on the intensity of anticoagulation in the month preceding the procedure , especially considering that 1,178 ( 45% ) group 3 patients had persistent af , and 498 ( 19% ) long - standing persistent af . at multivariable analysis , which adjusted for age , gender , coronary artery disease , type of af , heart failure , diabetes , hypertension , and prior stroke , the anticoagulation strategy of ablation with\\na therapeutic inr was a strong independent predictor of lower periprocedural thromboembolic events ( odds ratio 0.54 , 95% confidence interval 0.32 to 0.89 , p = .017 ) .\\nwith regard to bleedings , the pooled rate of major bleeding complications ( i.e. , bleeding requiring interventions including transfusions , hemopericardium , hemothorax , and retroperitoneal bleeding ) and pericardial effusion in patients who discontinued warfarin before the ablation procedure ( groups 1 and 2 ) was 1.1% , whereas in group 3 was 0.8% ( figure 1 ) .\\nif also minor bleedings were included , patients who discontinued warfarin before ablation procedure had a pooled rate of bleeding complications of 20.7% , while patients who were maintained on warfarin had a rate of 4.8% . translating such percentages into treatment effects , the net clinical benefit associated with af ablation without interruption of oral anticoagulation is overwhelming ( figure 2 ) , with an estimated 170 thromboembolic or hemorrhagic complications avoided every 1,000 patients ablated . in the most recent survey on af catheter ablation , cappato et al . reported thromboembolic and hemorrhagic complication rates in 16,039 patients undergoing af ablation between 2003 and 2006 in 521 centers distributed worldwide     .\\nall these patients had oral anticoagulant discontinuation before the ablation procedure .   accordingly , thromboembolic and bleeding complication rates in this large survey were fairly consistent with that reported in group 1 and 2 patients of our study     [ 13 , 18 ] .\\nbased on our findings it is estimable that , if periprocedural oral anticoagulation was not discontinued in all patients included in the survey , more than 2,700 thromboembolic or hemorrhagic complications would have been avoided worldwide from 2003 to 2006 .\\ntherefore , there are cogent data supporting the benefit of af ablation without discontinuation of oral anticoagulation .\\nsince the acute reversal of the anticoagulant effect of warfarin is possible only through infusion of fresh coagulation factors , we routinely type- and cross - match all patients , so that packed red blood cells and fresh frozen plasma are readily available for infusion in case of hemorragic complications . if the preprocedural inr is above 3.5 , we partially reverse the anticoagulant effect with one to two units of fresh frozen plasma . of interest ,\\nthe strategy of ablation under therapeutic inr could also be more cost - effective compared to bridging therapy with enoxaparin , which is expensive and may be inconvenient for many patients .\\nradiofrequency catheter ablation of af without discontinuation of oral anticoagulation significantly reduces the risk of thromboembolic and minor bleeding complications .\\nmaintenance of periprocedural therapeutic inr should be considered the anticoagulation strategy of choice among patients submitted to catheter ablation of af .',\n",
              "  \"breast cancer is the most frequently diagnosed cancer and the leading cause of cancer death in women worldwide , accounting for 23% ( 1.38 million ) of the total new cancer cases and 14% ( 458,400 ) of the total cancer deaths in 2008 . about half of the breast cancer cases and 60% of the deaths are estimated to occur in economically developing countries . in iran ,\\nalso , patients with advanced stages of the disease are relatively younger ( about 10 years ) than their western counterparts [ 2 , 3 ] .\\nexposure to environmental pollutants such as metals including cadmium , chromium , nickel , and arsenic is classified in group 1 of the international agency for research on cancer categories of carcinogen ; it also reports lead as a suspected human carcinogen ( group 2a )   and also mercury as possibly carcinogenic to humans ( group 2b ) . in order to explain the role of metals in breast cancer incidence\\n, we should refer to the studies in the field of estrogenicity of metals that express estrogen - like activity in breast cancer cells and suggest several pathways to explain association of metals with human cancer [ 711 ] . on the other hand , cadmium , lead , and mercury as carcinogens belong to the group of selenium , the antagonistic elements that compete with selenium uptake as anticarcinogen .\\nthe mechanism of se as an anticarcinogenic element is unknown , but several speculative hypotheses have been advanced .\\nse exerts its essential role in the formation of glutathione peroxidase , a selenoenzyme that protects body against oxidative injury and free radical damage so its suggested mechanism for cancer prevention includes effects upon programmed cell death , dna repair , carcinogen metabolism , and the immune system [ 1417 ] .\\ntherefore , it seems that , according to the results of these researches , a considerable amount of literature has been published on the determination of metals in human breast cancer tissues which show various values in malignant and benign tissues in comparison with healthy tissues [ 1728 ] . in addition , all available studies have only focused on metal concentration totally in breast tissue , but the aim of this study is to determine cd , pb , hg , and se in various parts of breast tissue ( tegmen , tumor tissue , tumor adiposity , and tegmen adiposity ) in order to compare any significant differences which may exist between different parts of breast tissues .\\nalso , this research may be the first report of metal concentration in iranian breast cancer tissues .\\nin order to determine cd , pb , hg , and se concentrations in different parts of malignant breast tissue , 14 removed samples by mastectomy surgery of women patients ( in age range 3050 ) were taken from imam hospitals located in uremia and separate tegmen , tumor , tumor adiposity , and tegmen adiposity of breast cancerous tissues were dried in freeze - dryer at 64c for 20 to 30 hours .\\nthen , about 1  g of each part of separated breast tissue was put in the digestion tubes ( polytetrafluoro ethylene ) with 5  ml concentrated hno3 for 3 hours in 100c on hot block digester until the disappearance of brown fumes .\\nafter cooling , 1 to 3  ml h2o2 30% for 1 hour on heater was added .\\nafter cooling , it was filtered with whatman filter paper number 1 and then diluted with deionized water to final volume of 25  ml [ 26 , 30 ] .\\npb and cd measurements were performed by using aas and with the graphite furnace technique model aa-670 and se analysis was done by icp - oes ( ultima 2ce ) .\\nthe aas instrument was calibrated using aqueous standards of 10 , 30 , and 60  g / kg for pb and 0.5 , 2 , and 5  g / kg for cd in breast cancer tissues .\\nthere was a good linear relation between absorbance and standard concentrations of pb and cd .\\nlinearity was evaluated by calculating the r - square value , which was 0.998 for pb and 0.999 for cd .\\nthe detection limit with aas was calculated as 3 times the sd of the blank sample divided by the slope of calibration curves ( 1.57  g / kg for pb and 0.18  g / kg for cd ) .\\nthe detection limit of se with icp - oes was 0.2  g / kg .\\nabout 0.020.04  g of dried samples was put on nickel boot for measuring hg by leco ama 254 advanced mercury analyzer ( usa ) . to evaluate the analytical potency of the proposed methodology , accuracy of total hg analysis\\nwas checked by running three samples of standard reference materials ( srm ) , national institute of standards and technology ( nist ) , srm 1633b , srm 2709 , and srm 2711 in seven replications .\\nthe detection limit of the used instrument was 1  g / kg of dry weight . to check for contamination ,\\nall of used glassware was acid - washed and one blank was analyzed after five samples .\\n\\n table 1 presents mean , standard deviation , and range of pb , cd , hg , and se concentration in 4 parts of tegmen , tumor , tumor adiposity , and tegmen adiposity of 14 breast cancer tissues . as it can be seen in the table ,\\nthe concentration data of pb in kolmogorov - smirnov test was not normal ( p < 0.05 ) , so by using the kruskal - wallis nonparametric test , no significant differences between pb values in parts of the breast tissues were shown ( p = 0.820 ) . to assay the differences between cd , se , and hg ,\\none - way anova test was used and no significant differences were found between metals in the separated breast cancer tissues ( resp . ,\\nno significant difference between the concentrations of metals in four separate parts might be due to the very close blood relationship between tissues . a noticeable point in this research\\nis that the preparation of healthy tissues as control samples for comparing cancer tissues was not possible , so we compared our results with previous studies . despite the possible relation between cd and breast cancer exposure ,\\nits values in different parts of 14 breast cancer samples show mean concentration in tegmen ( 35.51  g / kg ) , tumor ( 45.04  g / kg ) , tumor adiposity ( 41.15  g / kg ) , and tegmen adiposity ( 32.95  g / kg ) . \\n\\ntable 2 compares cd , pb , and se concentration in breast tissues from results of available studies .\\n, so there were not any significant differences between cd in cancerous ( 20470  g / kg ) and healthy ( 31700  g / kg ) ones and the maximum concentration of cd among hitherto accessible studies has been reported .\\nthe separation of the close parts of breast tissues in this study did not show any significant difference between them and , as it can be inferred from the table , the present results are in accordance with the results of strumylaite et al .   that report the minimum cd values so far .\\ndue to the multiple carcinogenic evidence of lead , its detection has been done in various tumors such as breast ones . according to table 2 , the considerable concentrations in tegmen ( 336.18  g / kg ) , tumor ( 327.50  g / kg ) , tegmen adiposity ( 396.52  g / kg ) , and tumor adiposity ( 365.73  g / kg ) are similar to the results of majewska et al .   and kubala - kuku et al . .\\nalso mercuric chloride has been widely considered as causative of tumors . among collected studies ,\\nrizk and sky - peck   report the mean concentration of hg ( 770  g / kg dry weight ) in breast cancer tissues and , according to the results of this study , it is supposed that the accumulation of this metal in tegmen ( 29.10  g / kg ) , tumor ( 33.26  g / kg ) , tumor adiposity ( 28.04  g / kg ) , and tegmen adiposity ( 26.13  g / kg ) can have a role in carcinogenicity . as it can be seen in table 2 , according to the studies , the accumulation of se in breast cancer tissues has been determined .\\nthe mean concentration of se is similar to the results of rizk and sky - peck , kue et al .\\nthe noticeable issue is that metals are just one of the effective factors in carcinogenesis or anticarcinogenesis , so their clear mechanism would have been investigated .\\nthis study just reports the concentration of some metals in breast cancer in women 's samples from selective hospital , as we know that different factors may affect the occurrence of cancer especially breast cancer in women all over the world and environmental pollutants such as metals from several sources could enter the human body and , by accumulation , increase , and intensification , they may cause the incidence of cancer .\\nthis study showed that there were not any significant differences between metals concentration in different parts of breast cancer tissues .\\nthis result might be because of close relation of separated parts of fatty breast organ .\\nin general , in puberty and presence of estrogen hormone , breast cells have been grown rapidly .\\nin normal situation , after sudden increased rate of estrogen and breast cell growth , hormone balance became in equilibrium and irregular cell proliferation was interrupted .\\naccording to recent researches and hypotheses , it could be concluded that estrogen - like properties of metals could mostly influence hormonal responses by binding to estrogen receptors and disrupt endocrine system and finally increased proliferation of cells would be occurring .\\nwe conclude , thus , that a high level of these heavy metals is accumulated in iranian cancerous breasts and their presence can be one of the reasons for breast cancer appearance .\",\n",
              "  \"in the neonatal intensive care unit ( nicu ) population , hyponatremia is the most frequent encountered water and salt abnormality . with its broad differential diagnosis ,\\nthe most frequent causes are renal salt loosing through an immature kidney and the use of drugs such as diuretics .\\nhypertension , however , is a relatively rare feature in children , especially in neonates , with an incidence in nicu 's ranging from 0.7% to 3.2% , and renal arterial thrombosis following umbilical arterial catheterization as the leading cause [ 2 , 3 ] .  \\na rare clinical presentation of unilateral renal arterial stenosis is the hyponatremic hypertensive syndrome ( hhs ) , characterized by activation of the renin angiotensin aldosterone ( raas ) system in the ischemic kidney , causing hypertension , and a counteracting effect on the other kidney , by different mechanisms leading to volume depletion and loss of electrolytes .\\nthis syndrome is caused by unilateral renal ischemia , due to stenosis or occlusion of a ( branch of a ) renal artery , and also occurs in a variety of other underlying disorders .\\nso far , only a few reports of hhs in children are available , with polydipsia , polyuria , enuresis , weight loss , volume depletion , and various neurological and behavioural symptoms as presenting symptoms .\\nwe present a case of hhs in a preterm infant , with an extremely low sodium concentration , and discuss the difficulties encountered in treatment and the irreversible neurological sequels due to this potentially life - threatening metabolic disturbance .\\na preterm boy presented with extreme hyponatremia ( plasma sodium of 101  mmol / l ) at the 20th day after birth .\\nhe was born from a nulliparous woman at a gestational age of 31 weeks and 4 days after an uncomplicated pregnancy , followed by spontaneous rupture of membranes and antenatal corticosteroid administration .\\napgar scores were 9 and 10 at 1 and 5 minutes , and the birth weight was 2080 grams .\\nan umbilical arterial catheter was inserted directly after birth , for the purpose of blood pressure monitoring , and removed after 3 days .\\nfurthermore an umbilical venous catheter and subsequently a peripheral central venous catheter were inserted for the purpose of parenteral feeding .\\nroutine cerebral ultrasonography showed an image consistent with the gestational age and mild periventricular flaring .\\nhe gained weight ( from 1900 grams at the 3rd day to 2100 grams at two weeks after birth ) . at the age of 3 weeks rejection to feeding ( until this moment consisting of 150  ml / kg / day breast milk with breast milk fortifier ) , weight loss ( to a minimum of 1960 grams ) , irritability , hyperthermia , and\\ncerebrospinal fluid analysis showed 219  leukocytes / mm with 12000  erythrocytes / mm , after a traumatic lumbar puncture , thus a meningitis could no be excluded and intravenous antibiotics were started .\\nintravenous fluids , with a total volume of 150  ml / kg / day , containing 8  mg / kg / min glucose and 5  mmol / kg / day sodium , were administered in the regional hospital for 2 days ( before return to the nicu ) .\\nthe plasma sodium level had declined , from 140  mmol / l nine days before , to 101  mmol / l .\\nthere were no sodium levels examined in the interval between , but the level at the onset of symptoms was established at 112 \\nthe boy returned to the nicu under suspicion of a syndrome of inappropriate antidiuretic hormone secretion ( siadh ) associated with the assumed meningitis , with initiated fluid restriction and sodium supplementation considered to be the appropriate therapy .\\nwe saw a pale , irritated neonate with tachypnea , arterial hypertension ( 104/60  mmhg , mean 78  mmhg ) , opisthotonus , and abnormal synchronized extensions of arms and legs .\\nmmol / l , laboratory analysis revealed a mild hypokalemia , hypochloremia , and hypomagnesemia , with normal calcium and phosphate levels ( for detailed information on all important laboratory results , see table 1 ) .\\nplasma osmolarity was 219  mosmol / kg , and urea and creatinine levels were normal .\\ninfection parameters were low , but liver enzymes and lactate were elevated ( in the blood drawn several shortly after the seizure ) .\\nfurthermore an elevated plasma b - type natriuretic peptide ( bnp ) of 1228  pmol / l was found ( in children , there are no validated data on normal values available ) .\\nurinalysis showed no leucocytes , mild hematuria , low sodium and potassium , with proteinuria , glucosuria , and a urine osmolarity of 129  mosmol / kg .\\nthe combination of hyponatremia and hypertension ( defined as a mean blood pressure of > 2 standard deviations for age and weight , in this case > 75  mmhg ) was suggestive of renal pathology .\\nabdominal doppler ultrasound showed a right renal arterial thrombosis , partially calcified , and an oedematous appearance of the left kidney .\\nit was suggested that the symptoms of this neonate resulted from an hhs secondary to a renal arterial thrombosis .\\nblood pressure levels further increased in the first hours to a maximum of 108/62 ( mean 96 )  mmhg .\\nwe chose to carefully normalise the blood pressure with intravenous dihydralazine , causing the right kidney to become completely afunctional ( as demonstrated with 99  m technetium mag3 renography in combination with the findings on doppler ultrasound as mentioned before ) .\\nplasma sodium levels rose to , relatively fast within the first hours , above 120  mmol / l , and more slowly within the next 24 hours to normal .\\nthe dihydralazine and sodium supplementation could be gradually stopped after a few days , after which a normal blood pressure and electrolyte levels were maintained without any additional therapy , also urinalysis returned to normal . within a few minutes after return to the nicu the boy developed convulsions ,\\ncerebral ultrasound and magnetic resonance imaging ( mri ) showed extensive white matter abnormalities and the presence of a sinus thrombosis of the superior sagittal , straight , and transverse sinus .\\nadditional genetic screening revealed a mutation in the methylenetetra - hydrofolate reductase ( mthfr ) gene .\\nfollow - up mri at one and two months of age showed extension of the white matter abnormalities , with secondary haemorrhage , vacuolisation , and cyst formation .\\nthe gyration and myelinisation had increased , there were no signs of new ischemia , and all sinuses were recanalized .\\nthe child showed abnormal neurological behaviour ( agitation , uncontrolled movements , and delayed motor development ) at three months of followup .\\nthe parents of this child gave their informed consent to publication of this case report .\\nin this case report , we describe a 3-week - old preterm boy , with extreme hyponatremia , hypertension and a dramatic neurological outcome , as a result of hhs following umbilical arterial catheterization .  \\nthe typical combination of symptoms in hhs was first described in 1952 in adults , and the term hhs was established by brown et al . in 1965 .\\nthe syndrome is not encountered frequently and in neonates it is even more rare , with renal arterial stenosis following umbilical arterial catheterization being one of the described causes [ 810 ] , accompanied by renal microthrombi in sepsis   and an association with dexamethasone use .\\nthe syndrome has been described more often in preterm than in term infants [ 811 ] and sometimes showed a lethal course [ 12 , 13 ] .\\nthe high incidence of hyponatremia ( 30% ) reported in hypertensive neonates , suggests that hhs is probably more common than we think .\\nhhs is thought to be due to a complex interplay of different mechanisms , with unilateral renal hypoperfusion and a counteracting effect of the contralateral normal kidney as major hallmarks (  two - kidney - one - clip hypertension  )   ( figure 1 ) .\\nthe renal arterial thrombosis causes hypoperfusion of one kidney , which activates the raas system to cause hypertension .\\nthe contralateral nonstenotic kidney reacts to this hypertension by excreting water and sodium ( pressure diuresis and natriuresis ) [ 12 , 15 ] .\\nthe hypertension additionally stimulates the cardiac atrial natriuretic peptide ( anp ) and bnp to excrete more sodium and protein .  \\nthe resulting hypovolemia , probably together with an increased production of angiotensin ii , stimulates antidiuretic hormone ( adh ) , further aggravating the hyponatremia .\\nfurthermore , aldosterone causes renal potassium loss , which in turn stimulates renin secretion , causing a vicious circle .\\nproteinuria , glucosuria , and hypercalciuria can also be present due to glomerular hyperfiltration in hypertension , increased renin activity , and probably even more extensive tubulointerstitial involvement .\\nin our case , the presence of an umbilical arterial catheter , and the finding of a mutation in the mthfr gene ( suggested to play role in homocysteine metabolism and enhancing atherosclerosis ) were thought to be contributing factors in the development of the renal arterial thrombosis . at the moment of presentation at the nicu\\n, our patient was thought to be already beyond the natriuretic phase of hhs ( probably the severe hyponatremia finally resulted in sodium retention , explaining the low urine sodium ) and most likely adh had been turned on in reaction to the volume depletion .\\nthe initial sepsis - like presentation was retrospectively interpreted as the result of a combination of hypovolemia and central nervous system disturbances .\\nthe prematurity was probably a major contributing factor leading to the severe outcome in this patient .\\nthis could have led to more extreme hyponatremia because preterms have a relatively low sodium intake , reduced tubular sodium reabsorption , and decreased glomerular filtration rate , impairing free water excretion .\\nfurthermore , recognizing the nonspecific clinical symptoms of hhs can be very difficult in a neonate .\\nthe symptoms of hhs disappeared after normalising the blood pressure with a vasodilator agent ( dihydralazine ) , causing the ischemic kidney to become nonvital by totally abrogating the blood flow , destroying the juxtaglomerular cells , and hence stopping renin production .\\nthere was a gradual decline in blood pressure in this patient , different from the potentially dangerous fall which can be seen with angiotensin - converting enzyme ( ace ) inhibitors . with severe volume depletion ,\\ncautious repletion is needed , which can probably also reduce arterial pressure by suppression of raas .  \\ncorrection of longstanding hyponatremia should be managed carefully , to minimise the risk of developing cerebral shrinking .\\nfinal therapy of the underlying renal arterial stenosis was not necessary in this case , but can be achieved by balloon angioplasty , renal artery stenting , or uninephrectomy .\\nthe remarkable irreversible neurological features in this case are most likely to be the consecutive effect of a hypertensive and hyponatremic encephalopathy , aggravated by a diminished cerebral circulation due to hypovolemia and a sinus thrombosis .\\nfurthermore the convulsions could also have led to irreversible damage to the vulnerable preterm brain .\\nprevious case reports in older children mainly mention reversible neurological symptoms , and even reversible findings on computer tomography or mri associated with hhs [ 19 , 2224 ] and only one infant dying from massive cerebral haemorrhage .\\nfirst , there is a lack of ( clinical and laboratory ) information about the period before the patient represented with the severe hyponatremia .\\nunfortunately , no detailed information on water balance or 24-hour urine volumes during the period in which the patient developed the hyponatremia was available .\\nas it is especially cumbersome to collect such data in newborns , this is very rarely done .\\nsecond , no data on plasma adh , rennin , and aldosterone are available to confirm our suggested diagnosis .\\nthis case was meant to describe the complex pathophysiology of hhs , and the possible misleading clinical features in a neonate .\\nfurthermore we want to underline the risk of severe irreversible neurological damage when there is a diagnostic delay .\\nwe think that in evaluating a neonate with severe hyponatremia , hhs should be considered , especially if following umbilical arterial catheterization .\"],\n",
              " 'abstract': [' atrial fibrillation \\n                   ( af ) can be cured by pulmonary vein antrum \\n                   isolation ( pvai ) in a substantial proportion of \\n                   patients . \\n the high efficacy of pvai is partially \\n                   undermined by a small but concrete \\n                   periprocedural risk of complications , such as \\n                   thromboembolic events and bleeding . \\n a correct \\n                   management of anticoagulation is essential to \\n                   prevent such complications . \\n performing pvai \\n                   without interruption of oral anticoagulation has \\n                   been demonstrated feasible by our group in \\n                   previous studies . \\n recently , we reported that \\n                   continuation of therapeutic warfarin during \\n                   radiofrequency catheter ablation consistently \\n                   reduces the risk of periprocedural \\n                   stroke / transient ischemic attack without \\n                   increasing the risk of hemorrhagic events . of \\n                   note , interrupting warfarin anticoagulation may \\n                   actually increase the risk of stroke even when \\n                   bridged with heparin . \\n the latter strategy is \\n                   also associated with an increased risk of minor \\n                   bleeding . with regard to major bleeding , we \\n                   found no significant difference between patients \\n                   with a therapeutic inr and those who were \\n                   bridged with heparin . \\n therefore , continuation of \\n                   therapeutic warfarin during ablation of af \\n                   appears to be the best anticoagulation strategy . \\n                   in this paper \\n we summarize our experience with \\n                   af ablation without interruption of \\n                   anticoagulation . \\n ',\n",
              "  ' breast cancer is the major cause of cancer morbidity and mortality between women in the world . \\n metals involved in environmental toxicology are closely related to tumor growth and cancer . on the other hand , \\n some metals such as selenium have anticarcinogenic properties . \\n the aim of this study is to determine the concentration of cadmium , lead , mercury , and selenium in separated parts of tegmen , tumor , tumor adiposity , and tegmen adiposity of 14 breast cancer tissues which have been analyzed by graphite furnace atomic absorption ( aa-670 ) and icp - oes ( ultima 2ce ) . \\n our results show that se and hg have maximum and minimum concentration , respectively . \\n statistical analysis reveals no significant differences between metal accumulations in different parts of cancer tissues ( p > 0.05 ) and this observation might be due to the close relation of separated parts of fatty breast organ . \\n thus , we could conclude that a high level of these heavy metals is accumulated in iranian cancerous breasts and their presence can be one of the reasons of cancer appearance . ',\n",
              "  \" \\n objective . to report the irreversible severe neurological symptoms following the hyponatremic hypertensive syndrome ( hhs ) in an infant after umbilical arterial catheterization \\n . design . \\n case report with review of the literature . setting . neonatal intensive care unit at a tertiary care children 's hospital . patient . \\n a three - week - old preterm infant . conclusions . in evaluating a neonate with hyponatremia and hypertension , hhs should be considered , especially in case of umbilical arterial catheterization . in case of diagnostic delay \\n , there is a risk of severe irreversible neurological damage . \"],\n",
              " 'section_names': ['1. Introduction\\n2. Preprocedural Management\\n3. Periprocedural Management\\n4. Postprocedural Management\\n5. Discussion\\n6. Conclusions',\n",
              "  '1. Introduction\\n2. Material and Methods\\n3. Results and Discussion\\n4. Conclusion',\n",
              "  '1. Introduction\\n2. Case Report\\n3. Discussion']}"
            ]
          },
          "metadata": {},
          "execution_count": 15
        }
      ]
    },
    {
      "cell_type": "code",
      "source": [
        "#can do all the necessary analysis with pandas on this dataset..."
      ],
      "metadata": {
        "id": "OONcVdtkHuHZ"
      },
      "execution_count": null,
      "outputs": []
    },
    {
      "cell_type": "code",
      "source": [
        "print(f\"RAM used: {psutil.Process().memory_info().rss / (1024 * 1024):.2f} MB\")"
      ],
      "metadata": {
        "colab": {
          "base_uri": "https://localhost:8080/"
        },
        "id": "acfyShBNIHlC",
        "outputId": "82db310b-c3ad-4dcc-ea44-12c44707ce38"
      },
      "execution_count": null,
      "outputs": [
        {
          "output_type": "stream",
          "name": "stdout",
          "text": [
            "RAM used: 1926.59 MB\n"
          ]
        }
      ]
    },
    {
      "cell_type": "code",
      "source": [
        "print(f\"Number of files in dataset : {pubmed['train'].dataset_size}\")\n",
        "size_gb = pubmed['train'].dataset_size / (1024**3)\n",
        "print(f\"Dataset size (cache file) : {size_gb:.2f} GB\")"
      ],
      "metadata": {
        "colab": {
          "base_uri": "https://localhost:8080/"
        },
        "id": "2kP1DPZNJob1",
        "outputId": "363b181a-e454-4c6b-fb30-c904baa341db"
      },
      "execution_count": null,
      "outputs": [
        {
          "output_type": "stream",
          "name": "stdout",
          "text": [
            "Number of files in dataset : 2506615061\n",
            "Dataset size (cache file) : 2.33 GB\n"
          ]
        }
      ]
    },
    {
      "cell_type": "markdown",
      "source": [
        "Data pre-processing on dataset"
      ],
      "metadata": {
        "id": "0PfyJaqRpIxf"
      }
    },
    {
      "cell_type": "code",
      "source": [
        "pubmed"
      ],
      "metadata": {
        "colab": {
          "base_uri": "https://localhost:8080/"
        },
        "id": "KqEB0LxfpaOz",
        "outputId": "53a8ebb3-3055-45b2-8a5d-af0569a95a01"
      },
      "execution_count": null,
      "outputs": [
        {
          "output_type": "execute_result",
          "data": {
            "text/plain": [
              "DatasetDict({\n",
              "    train: Dataset({\n",
              "        features: ['article', 'abstract', 'section_names'],\n",
              "        num_rows: 119924\n",
              "    })\n",
              "    validation: Dataset({\n",
              "        features: ['article', 'abstract', 'section_names'],\n",
              "        num_rows: 6633\n",
              "    })\n",
              "    test: Dataset({\n",
              "        features: ['article', 'abstract', 'section_names'],\n",
              "        num_rows: 6658\n",
              "    })\n",
              "})"
            ]
          },
          "metadata": {},
          "execution_count": 18
        }
      ]
    },
    {
      "cell_type": "code",
      "source": [
        "pub_test= pubmed['test']"
      ],
      "metadata": {
        "id": "PS8rPXsbpLD1"
      },
      "execution_count": null,
      "outputs": []
    },
    {
      "cell_type": "code",
      "source": [
        "print(f\"RAM used: {psutil.Process().memory_info().rss / (1024 * 1024):.2f} MB\")"
      ],
      "metadata": {
        "colab": {
          "base_uri": "https://localhost:8080/"
        },
        "id": "Umo9XBoOp0zA",
        "outputId": "45ec4dda-3e05-480d-8302-95d3ead5ce61"
      },
      "execution_count": null,
      "outputs": [
        {
          "output_type": "stream",
          "name": "stdout",
          "text": [
            "RAM used: 337.81 MB\n"
          ]
        }
      ]
    },
    {
      "cell_type": "code",
      "source": [
        "def compute_review_length(example):\n",
        "    return {\"article_length\": len(example[\"article\"].split())}"
      ],
      "metadata": {
        "id": "a7wTUBiCp4cF"
      },
      "execution_count": null,
      "outputs": []
    },
    {
      "cell_type": "code",
      "source": [
        "pub_test = pub_test.map(compute_review_length)"
      ],
      "metadata": {
        "colab": {
          "base_uri": "https://localhost:8080/"
        },
        "id": "-PJnz-U0qRbL",
        "outputId": "0c1d62e9-25c8-466d-fadb-41c6b3e91a80"
      },
      "execution_count": null,
      "outputs": [
        {
          "output_type": "stream",
          "name": "stderr",
          "text": [
            "Loading cached processed dataset at /Users/lorenzogermini/.cache/huggingface/datasets/scientific_papers/pubmed/1.1.1/306757013fb6f37089b6a75469e6638a553bd9f009484938d8f75a4c5e84206f/cache-07eb20c9b1374eee.arrow\n"
          ]
        }
      ]
    },
    {
      "cell_type": "code",
      "source": [
        "pub_test[0]"
      ],
      "metadata": {
        "colab": {
          "base_uri": "https://localhost:8080/"
        },
        "id": "3xEQcv_RqRyL",
        "outputId": "2e4d2c3b-5a3d-440a-ca20-4f58e6bb5f69"
      },
      "execution_count": null,
      "outputs": [
        {
          "output_type": "execute_result",
          "data": {
            "text/plain": [
              "{'article': \"anxiety affects quality of life in those living with parkinson 's disease ( pd ) more so than overall cognitive status , motor deficits , apathy , and depression [ 13 ] .\\nalthough anxiety and depression are often related and coexist in pd patients , recent research suggests that anxiety rather than depression is the most prominent and prevalent mood disorder in pd [ 5 , 6 ] . yet ,\\nour current understanding of anxiety and its impact on cognition in pd , as well as its neural basis and best treatment practices , remains meager and lags far behind that of depression .\\noverall , neuropsychiatric symptoms in pd have been shown to be negatively associated with cognitive performance .\\nfor example , higher depression scores have been correlated with lower scores on the mini - mental state exam ( mmse ) [ 8 , 9 ] as well as tests of memory and executive functions ( e.g. , attention ) [ 1014 ] .\\nlikewise , apathy and anhedonia in pd patients have been associated with executive dysfunction [ 10 , 1523 ] .\\nhowever , few studies have specifically investigated the relationship between anxiety and cognition in pd .\\none study showed a strong negative relationship between anxiety ( both state and trait ) and overall cognitive performance ( measured by the total of the repeatable battery for the assessment of neuropsychological status index ) within a sample of 27 pd patients .\\nfurthermore , trait anxiety was negatively associated with each of the cognitive domains assessed by the rbans ( i.e. , immediate memory , visuospatial construction , language , attention , and delayed memory ) .\\ntwo further studies have examined whether anxiety differentially affects cognition in patients with left - sided dominant pd ( lpd ) versus right - sided dominant pd ( rpd ) ; however , their findings were inconsistent .\\nthe first study found that working memory performance was worse in lpd patients with anxiety compared to rpd patients with anxiety , whereas the second study reported that , in lpd , apathy but not anxiety was associated with performance on nonverbally mediated executive functions and visuospatial tasks ( e.g. , tmt - b , wms - iii spatial span ) , while in rpd , anxiety but not apathy significantly correlated with performance on verbally mediated tasks ( e.g. , clock reading test and boston naming test ) .\\nfurthermore , anxiety was significantly correlated with neuropsychological measures of attention and executive and visuospatial functions . taken together ,\\nit is evident that there are limited and inconsistent findings describing the relationship between anxiety and cognition in pd and more specifically how anxiety might influence particular domains of cognition such as attention and memory and executive functioning .\\nit is also striking that , to date , no study has examined the influence of anxiety on cognition in pd by directly comparing groups of pd patients with and without anxiety while excluding depression .\\ngiven that research on healthy young adults suggests that anxiety reduces processing capacity and impairs processing efficiency , especially in the central executive and attentional systems of working memory [ 26 , 27 ] , we hypothesized that pd patients with anxiety would show impairments in attentional set - shifting and working memory compared to pd patients without anxiety .\\nfurthermore , since previous work , albeit limited , has focused on the influence of symptom laterality on anxiety and cognition , we also explored this relationship .\\nseventeen pd patients with anxiety and thirty - three pd patients without anxiety were included in this study ( see table 1 ) .\\nthe cross - sectional data from these participants was taken from a patient database that has been compiled over the past 8 years ( since 2008 ) at the parkinson 's disease research clinic at the brain and mind centre , university of sydney .\\ninclusion criteria involved a diagnosis of idiopathic pd according to the united kingdom parkinson 's disease society brain bank criteria   and were confirmed by a neurologist ( sjgl ) .\\npatients also had to have an adequate proficiency in english and have completed a full neuropsychological assessment .\\nten patients in this study ( 5 pd with anxiety ; 5 pd without anxiety ) were taking psychotropic drugs ( i.e. , benzodiazepine or selective serotonin reuptake inhibitor ) .\\npatients were also excluded if they had other neurological disorders , psychiatric disorders other than affective disorders ( such as anxiety ) , or if they reported a score greater than six on the depression subscale of the hospital anxiety and depression scale ( hads ) .\\nthus , all participants who scored within a  depressed  ( hads - d > 6 ) range were excluded from this study , in attempt to examine a refined sample of pd patients with and without anxiety in order to determine the independent effect of anxiety on cognition .\\nthis research was approved by the human research ethics committee of the university of sydney , and written informed consent was obtained from all participants .\\nself - reported hads was used to assess anxiety in pd and has been previously shown to be a useful measure of clinical anxiety in pd .\\na cut - off score of > 8 on the anxiety subscale of the hads ( hads - a ) was used to identify pd cases with anxiety ( pda+ ) , while a cut - off score of < 6 on the hads - a was used to identify pd cases without anxiety ( pda ) .\\nthis criterion was more stringent than usual ( > 7 cut - off score ) , in effort to create distinct patient groups .\\nthe neurological evaluation rated participants according to hoehn and yahr ( h&y ) stages   and assessed their motor symptoms using part iii of the revised mds task force unified parkinson 's disease rating scale ( updrs ) . in a similar way\\nthis was determined by calculating a total left and right score from rigidity items 3035 , voluntary movement items 3643 , and tremor items 5057 from the mds - updrs part iii ( see table 1 ) .\\nprocessing speed was assessed using the trail making test , part a ( tmt - a , z - score ) .\\nattentional set - shifting was measured using the trail making test , part b ( tmt - b , z - score ) .\\nworking memory was assessed using the digit span forward and backward subtest of the wechsler memory scale - iii ( raw scores ) .\\nlanguage was assessed with semantic and phonemic verbal fluency via the controlled oral word associated test ( cowat animals and letters , z - score ) .\\nthe ability to retain learned verbal memory was assessed using the logical memory subtest from the wechsler memory scale - iii ( lm - i z - score , lm - ii z - score , % lm retention z - score ) . the mini - mental state examination ( mmse )\\ndemographic , clinical , and neuropsychological variables were compared between the two groups with the independent t - test or mann  whitney u test , depending on whether the variable met parametric assumptions .\\nchi - square tests were used to examine gender and symptom laterality differences between groups .\\nall analyses employed an alpha level of p < 0.05 and were two - tailed .\\nspearman correlations were performed separately in each group to examine associations between anxiety and/or depression ratings and cognitive functions .\\nas expected , the pda+ group reported significant greater levels of anxiety on the hads - a ( u = 0 , p < 0.001 ) and higher total score on the hads ( u = 1 , p < 0.001 ) compared to the pda group ( table 1 ) .\\ngroups were matched in age ( t(48 ) = 1.31 , p = 0.20 ) , disease duration ( u = 259 , p = 0.66 ) , updrs - iii score ( u = 250.5 , p = 0.65 ) , h&y ( u = 245 , p = 0.43 ) , ledd ( u = 159.5 , p = 0.80 ) , and depression ( hads - d ) ( u = 190.5 , p = 0.06 ) .\\nadditionally , all groups were matched in the distribution of gender (  = 0.098 , p = 0.75 ) and side - affected (  = 0.765 , p = 0.38 ) .\\nthere were no group differences for tmt - a performance ( u = 256 , p = 0.62 ) ( table 2 ) ; however , the pda+ group had worse performance on the trail making test part b ( t(46 ) = 2.03 , p = 0.048 ) compared to the pda group ( figure 1 ) .\\nthe pda+ group also demonstrated significantly worse performance on the digit span forward subtest ( t(48 ) = 2.22 , p = 0.031 ) and backward subtest ( u = 190.5 , p = 0.016 ) compared to the pda group ( figures 2(a ) and 2(b ) ) .\\nneither semantic verbal fluency ( t(47 ) = 0.70 , p = 0.49 ) nor phonemic verbal fluency ( t(47 ) = 0.39 , p = 0.70 ) differed between groups .\\nlogical memory i immediate recall test ( u = 176 , p = 0.059 ) showed a trend that the pda+ group had worse new verbal learning and immediate recall abilities than the pda group . however , logical memory ii test performance ( u = 219 , p = 0.204 ) and logical memory % retention ( u = 242.5 , p = 0.434 ) did not differ between groups .\\nthere were also no differences between groups in global cognition ( mmse ) ( u = 222.5 , p = 0.23 ) .\\nparticipants were split into lpd and rpd , and then further group differences were examined between pda+ and pda. importantly , the groups remained matched in age , disease duration , updrs - iii , dde , h&y stage , and depression but remained significantly different on self - reported anxiety .\\nlpda+ demonstrated worse performance on the digit span forward test ( t(19 ) = 2.29 , p = 0.033 ) compared to lpda , whereas rpda+ demonstrated worse performance on the digit span backward test ( u = 36.5 , p = 0.006 ) , lm - i immediate recall ( u = 37.5 , p = 0.008 ) , and lm - ii ( u = 45.0 , p = 0.021 ) but not lm % retention ( u = 75.5 , p = 0.39 ) compared to rpda.\\nthis study is the first to directly compare cognition between pd patients with and without anxiety .\\nthe findings confirmed our hypothesis that anxiety negatively influences attentional set - shifting and working memory in pd .\\nmore specifically , we found that pd patients with anxiety were more impaired on the trail making test part b which assessed attentional set - shifting , on both digit span tests which assessed working memory and attention , and to a lesser extent on the logical memory test which assessed memory and new verbal learning compared to pd patients without anxiety . taken together ,\\nthese findings suggest that anxiety in pd may reduce processing capacity and impair processing efficiency , especially in the central executive and attentional systems of working memory in a similar way as seen in young healthy adults [ 26 , 27 ] .\\nalthough the neurobiology of anxiety in pd remains unknown , many researchers have postulated that anxiety disorders are related to neurochemical changes that occur during the early , premotor stages of pd - related degeneration [ 37 , 38 ] such as nigrostriatal dopamine depletion , as well as cell loss within serotonergic and noradrenergic brainstem nuclei ( i.e. , raphe nuclei and locus coeruleus , resp . , which provide massive inputs to corticolimbic regions ) . over time\\n, chronic dysregulation of adrenocortical and catecholamine functions can lead to hippocampal damage as well as dysfunctional prefrontal neural circuitries [ 39 , 40 ] , which play a key role in memory and attention .\\nrecent functional neuroimaging work has suggested that enhanced hippocampal activation during executive functioning and working memory tasks may represent compensatory processes for impaired frontostriatal functions in pd patients compared to controls . therefore , chronic stress from anxiety ,\\nfor example , may disrupt compensatory processes in pd patients and explain the cognitive impairments specifically in working memory and attention seen in pd patients with anxiety .\\nit has also been suggested that hyperactivation within the putamen may reflect a compensatory striatal mechanism to maintain normal working memory performance in pd patients ; however , losing this compensatory activation has been shown to contribute to poor working memory performance .\\nanxiety in mild pd has been linked to reduced putamen dopamine uptake which becomes more extensive as the disease progresses .\\nthis further supports the notion that anxiety may disrupt compensatory striatal mechanisms as well , providing another possible explanation for the cognitive impairments observed in pd patients with anxiety in this study .\\nnoradrenergic and serotonergic systems should also be considered when trying to explain the mechanisms by which anxiety may influence cognition in pd . although these neurotransmitter systems are relatively understudied in pd cognition , treating the noradrenergic and serotonergic systems has shown beneficial effects on cognition in pd .\\nselective serotonin reuptake inhibitor , citalopram , was shown to improve response inhibition deficits in pd , while noradrenaline reuptake blocker , atomoxetine , has been recently reported to have promising effects on cognition in pd [ 45 , 46 ] .\\noverall , very few neuroimaging studies have been conducted in pd in order to understand the neural correlates of pd anxiety and its underlying neural pathology .\\nfuture research should focus on relating anatomical changes and neurochemical changes to neural activation in order to gain a clearer understanding on how these pathologies affect anxiety in pd . to further understand how anxiety and cognitive dysfunction are related ,\\nfuture research should focus on using advanced structural and function imaging techniques to explain both cognitive and neural breakdowns that are associated with anxiety in pd patients .\\nresearch has indicated that those with amnestic mild cognitive impairment who have more neuropsychiatric symptoms have a greater risk of developing dementia compared to those with fewer neuropsychiatric symptoms .\\nfuture studies should also examine whether treating neuropsychiatric symptoms might impact the progression of cognitive decline and improve cognitive impairments in pd patients .\\nprevious studies have used pd symptom laterality as a window to infer asymmetrical dysfunction of neural circuits .\\nfor example , lpd patients have greater inferred right hemisphere pathology , whereas rpd patients have greater inferred left hemisphere pathology .\\nthus , cognitive domains predominantly subserved by the left hemisphere ( e.g. , verbally mediated tasks of executive function and verbal memory ) might be hypothesized to be more affected in rpd than lpd ; however , this remains controversial .\\nit has also been suggested that since anxiety is a common feature of left hemisphere involvement [ 48 , 49 ] , cognitive domains subserved by the left hemisphere may also be more strongly related to anxiety .\\nresults from this study showed selective verbal memory deficits in rpd patients with anxiety compared to rpd without anxiety , whereas lpd patients with anxiety had greater attentional / working memory deficits compared to lpd without anxiety .\\nalthough these results align with previous research , interpretations of these findings should be made with caution due to the small sample size in the lpd comparison specifically .\\nrecent work has suggested that the hads questionnaire may underestimate the burden of anxiety related symptomology and therefore be a less sensitive measure of anxiety in pd [ 30 , 50 ] . in addition , our small sample size also limited the statistical power for detecting significant findings .\\nbased on these limitations , our findings are likely conservative and underrepresent the true impact anxiety has on cognition in pd . additionally , the current study employed a very brief neuropsychological assessment including one or two tests for each cognitive domain .\\nfuture studies are encouraged to collect a more complex and comprehensive battery from a larger sample of pd participants in order to better understand the role anxiety plays on cognition in pd .\\nanother limitation of this study was the absence of diagnostic interviews to characterize participants ' psychiatric symptoms and specify the type of anxiety disorders included in this study .\\nfuture studies should perform diagnostic interviews with participants ( e.g. , using dsm - v criteria ) rather than relying on self - reported measures to group participants , in order to better understand whether the type of anxiety disorder ( e.g. , social anxiety , phobias , panic disorders , and generalized anxiety ) influences cognitive performance differently in pd .\\none advantage the hads questionnaire provided over other anxiety scales was that it assessed both anxiety and depression simultaneously and allowed us to control for coexisting depression .\\nalthough there was a trend that the pda+ group self - reported higher levels of depression than the pda group , all participants included in the study scored < 6 on the depression subscale of the hads .\\ncontrolling for depression while assessing anxiety has been identified as a key shortcoming in the majority of recent work .\\nconsidering many previous studies have investigated the influence of depression on cognition in pd without accounting for the presence of anxiety and the inconsistent findings reported to date , we recommend that future research should try to disentangle the influence of anxiety versus depression on cognitive impairments in pd . considering the growing number of clinical trials for treating depression , there are few if any for the treatment of anxiety in pd .\\nanxiety is a key contributor to decreased quality of life in pd and greatly requires better treatment options .\\nmoreover , anxiety has been suggested to play a key role in freezing of gait ( fog ) , which is also related to attentional set - shifting [ 52 , 53 ] .\\nfuture research should examine the link between anxiety , set - shifting , and fog , in order to determine whether treating anxiety might be a potential therapy for improving fog .\",\n",
              " 'abstract': \" research on the implications of anxiety in parkinson 's disease ( pd ) has been neglected despite its prevalence in nearly 50% of patients and its negative impact on quality of life . \\n previous reports have noted that neuropsychiatric symptoms impair cognitive performance in pd patients ; however , to date , no study has directly compared pd patients with and without anxiety to examine the impact of anxiety on cognitive impairments in pd . \\n this study compared cognitive performance across 50 pd participants with and without anxiety ( 17 pda+ ; 33 pda ) , who underwent neurological and neuropsychological assessment . \\n group performance was compared across the following cognitive domains : simple attention / visuomotor processing speed , executive function ( e.g. , set - shifting ) , working memory , language , and memory / new verbal learning . \\n results showed that pda+ performed significantly worse on the digit span forward and backward test and part b of the trail making task ( tmt - b ) compared to the pda group . \\n there were no group differences in verbal fluency , logical memory , or tmt - a performance . in conclusion , \\n anxiety in pd has a measurable impact on working memory and attentional set - shifting . \",\n",
              " 'section_names': '1. Introduction\\n2. Methods\\n3. Results\\n4. Discussion',\n",
              " 'article_length': 3146}"
            ]
          },
          "metadata": {},
          "execution_count": 53
        }
      ]
    },
    {
      "cell_type": "code",
      "source": [
        "pub_test"
      ],
      "metadata": {
        "colab": {
          "base_uri": "https://localhost:8080/"
        },
        "id": "hgtyw7sFv3dF",
        "outputId": "066e8bd4-1dae-436f-b885-7bdb32b567ad"
      },
      "execution_count": null,
      "outputs": [
        {
          "output_type": "execute_result",
          "data": {
            "text/plain": [
              "Dataset({\n",
              "    features: ['article', 'abstract', 'section_names', 'article_length'],\n",
              "    num_rows: 6658\n",
              "})"
            ]
          },
          "metadata": {},
          "execution_count": 54
        }
      ]
    },
    {
      "cell_type": "markdown",
      "source": [
        "Sort to see review length"
      ],
      "metadata": {
        "id": "ofRZijvhqsc5"
      }
    },
    {
      "cell_type": "code",
      "source": [
        "pub_test.sort(\"article_length\")[:10]['article_length']"
      ],
      "metadata": {
        "colab": {
          "base_uri": "https://localhost:8080/"
        },
        "id": "RUpaYtLsqr2z",
        "outputId": "a476adba-bfcd-4a7f-937a-ee95d47b3bf1"
      },
      "execution_count": null,
      "outputs": [
        {
          "output_type": "stream",
          "name": "stderr",
          "text": [
            "Loading cached sorted indices for dataset at /Users/lorenzogermini/.cache/huggingface/datasets/scientific_papers/pubmed/1.1.1/306757013fb6f37089b6a75469e6638a553bd9f009484938d8f75a4c5e84206f/cache-5cd1eb20e98b2889.arrow\n"
          ]
        },
        {
          "output_type": "execute_result",
          "data": {
            "text/plain": [
              "[20, 59, 59, 59, 64, 66, 76, 87, 88, 98]"
            ]
          },
          "metadata": {},
          "execution_count": 55
        }
      ]
    },
    {
      "cell_type": "code",
      "source": [
        "pub_test.sort(\"article_length\", reverse=True)[:10]['article_length']"
      ],
      "metadata": {
        "colab": {
          "base_uri": "https://localhost:8080/"
        },
        "id": "1GQsuoeXrZyy",
        "outputId": "edb579fb-7c57-43c7-a770-87f6ec328c8c"
      },
      "execution_count": null,
      "outputs": [
        {
          "output_type": "stream",
          "name": "stderr",
          "text": [
            "Loading cached sorted indices for dataset at /Users/lorenzogermini/.cache/huggingface/datasets/scientific_papers/pubmed/1.1.1/306757013fb6f37089b6a75469e6638a553bd9f009484938d8f75a4c5e84206f/cache-6a9c7b0f44c1d081.arrow\n"
          ]
        },
        {
          "output_type": "execute_result",
          "data": {
            "text/plain": [
              "[48750, 44330, 37379, 28645, 22590, 22473, 22043, 19891, 19365, 18873]"
            ]
          },
          "metadata": {},
          "execution_count": 56
        }
      ]
    },
    {
      "cell_type": "code",
      "source": [
        "print(pub_test.filter(lambda x: x[\"article_length\"] > 1000).num_rows)"
      ],
      "metadata": {
        "colab": {
          "base_uri": "https://localhost:8080/",
          "height": 67,
          "referenced_widgets": [
            "fb366c021f4d4ed5b7a93d6992e6c4ca",
            "2004a2125d434f51b49dcb5b981985d6",
            "e327590d7a234fc283ad50a071150f05",
            "338809f157704432ab7791bc6173658b",
            "c62abcc3a6dc45eb93a6595eaaa3e7b2",
            "3f71b04dbfc74c728463c3d3011f48bf",
            "63291260a518464186e91c699f227d7e",
            "c8ec963d276b4153ab3b5e9a3ca1872c",
            "964a0bb1637f4e8187e117b60e46ac8b",
            "470af579f4fc4d66a012d88b40af36aa",
            "fc345f9f52964ea1a71d3d9a9839597e"
          ]
        },
        "id": "xH8XSAyCrke7",
        "outputId": "bd9fee90-a106-4176-a492-f77b63e8efde"
      },
      "execution_count": null,
      "outputs": [
        {
          "output_type": "display_data",
          "data": {
            "text/plain": [
              "  0%|          | 0/7 [00:00<?, ?ba/s]"
            ],
            "application/vnd.jupyter.widget-view+json": {
              "version_major": 2,
              "version_minor": 0,
              "model_id": "fb366c021f4d4ed5b7a93d6992e6c4ca"
            }
          },
          "metadata": {}
        },
        {
          "output_type": "stream",
          "name": "stdout",
          "text": [
            "6004\n"
          ]
        }
      ]
    },
    {
      "cell_type": "code",
      "source": [
        "#can do all additional preprocessing with og code ada after having done\n",
        "#english_dataset.set_format(\"pandas\")\n",
        "#pub_test['article'].value_counts() etc..."
      ],
      "metadata": {
        "id": "LEnlgshBruYv"
      },
      "execution_count": null,
      "outputs": []
    },
    {
      "cell_type": "code",
      "source": [
        "#researcj search index dataset function for kinda neural search embeddings"
      ],
      "metadata": {
        "id": "bplHy8WGuJjt"
      },
      "execution_count": null,
      "outputs": []
    },
    {
      "cell_type": "code",
      "source": [
        "import matplotlib.pyplot as plt"
      ],
      "metadata": {
        "id": "V1zI8W8gui48"
      },
      "execution_count": null,
      "outputs": []
    },
    {
      "cell_type": "code",
      "source": [
        "plt.hist(pub_test[\"article_length\"], log=True);"
      ],
      "metadata": {
        "colab": {
          "base_uri": "https://localhost:8080/",
          "height": 265
        },
        "id": "_vFFVZ9nubTw",
        "outputId": "79f7fd61-02ef-49e0-a10b-e510ded63925"
      },
      "execution_count": null,
      "outputs": [
        {
          "output_type": "display_data",
          "data": {
            "text/plain": [
              "<Figure size 432x288 with 1 Axes>"
            ],
            "image/png": "[encoded data removed]"
          },
          "metadata": {
            "needs_background": "light"
          }
        }
      ]
    },
    {
      "cell_type": "code",
      "source": [
        "pub_test.filter(lambda x: x[\"article_length\"] > 10000).num_rows"
      ],
      "metadata": {
        "colab": {
          "base_uri": "https://localhost:8080/",
          "height": 67,
          "referenced_widgets": [
            "d6a11cc06a9d458e9b460833fa5320dd",
            "3a16024278444cbeb4e229707124d5c4",
            "afffc2027f7c4722abae46a315eee88a",
            "22f6010fe9174a219dda67c7069680af",
            "1ddcb243dcfa4474a5dff2ef45c2bc6b",
            "e081eec66f1d4aa698176a2748ff0dfa",
            "0fc323cabc704759a1d0a317505cab0d",
            "c58cf3e22bb74e8da37c4e2efa5a876e",
            "795df9c701ce402aa02c688afa73dd83",
            "8d499bf494974413ab295f368e9880d9",
            "46682a61f4934c7498db2d66156028d8"
          ]
        },
        "id": "RvUrPCq6vPLZ",
        "outputId": "6be813a0-00a1-441f-8685-1355a165b743"
      },
      "execution_count": null,
      "outputs": [
        {
          "output_type": "display_data",
          "data": {
            "text/plain": [
              "  0%|          | 0/7 [00:00<?, ?ba/s]"
            ],
            "application/vnd.jupyter.widget-view+json": {
              "version_major": 2,
              "version_minor": 0,
              "model_id": "d6a11cc06a9d458e9b460833fa5320dd"
            }
          },
          "metadata": {}
        },
        {
          "output_type": "execute_result",
          "data": {
            "text/plain": [
              "84"
            ]
          },
          "metadata": {},
          "execution_count": 59
        }
      ]
    },
    {
      "cell_type": "code",
      "source": [
        "pub_test.filter(lambda x: x[\"article_length\"] < 10000).num_rows"
      ],
      "metadata": {
        "colab": {
          "base_uri": "https://localhost:8080/",
          "height": 67,
          "referenced_widgets": [
            "c295f4312cc74f36947f025456cdf51d",
            "6bbad4bfaa0e40a999bb2b8af6b277a6",
            "39bc05407c05407da0d38aa5515152c2",
            "a5ffce1c598c4bc59d5d67f3315f1aa4",
            "36bdfdf0662d4ad8b5e72f432d77ac94",
            "08fa5eb72a2a4b0c9a57f874ac55dd6c",
            "244d20ac09764ebc96d790454ba4b20f",
            "9789da7ddb8c41ea8261dc462e988119",
            "a5d56fac7bc14d77b51cc41bf7ae813d",
            "9cc11eabd0d44139a6e0e98a7b46b25a",
            "79ba7b4fbfe94611a8aefc6a41a9e412"
          ]
        },
        "id": "AWpICf3ovX1F",
        "outputId": "fbc1aac3-abd0-490a-f651-9add9ba4f63c"
      },
      "execution_count": null,
      "outputs": [
        {
          "output_type": "display_data",
          "data": {
            "text/plain": [
              "  0%|          | 0/7 [00:00<?, ?ba/s]"
            ],
            "application/vnd.jupyter.widget-view+json": {
              "version_major": 2,
              "version_minor": 0,
              "model_id": "c295f4312cc74f36947f025456cdf51d"
            }
          },
          "metadata": {}
        },
        {
          "output_type": "execute_result",
          "data": {
            "text/plain": [
              "6574"
            ]
          },
          "metadata": {},
          "execution_count": 60
        }
      ]
    },
    {
      "cell_type": "markdown",
      "source": [
        "Just to be precise evaluate tokenizers distribution and length."
      ],
      "metadata": {
        "id": "sGZMXLlVwhsY"
      }
    },
    {
      "cell_type": "code",
      "source": [
        "from transformers import AutoTokenizer\n",
        "\n",
        "tokenizer = AutoTokenizer.from_pretrained(\"sshleifer/distilbart-cnn-12-6\")"
      ],
      "metadata": {
        "id": "WMIOM0Kew2oe"
      },
      "execution_count": null,
      "outputs": []
    },
    {
      "cell_type": "code",
      "source": [
        "max_input_length = 1024\n",
        "max_target_length = 300\n",
        "\n",
        "\n",
        "def preprocess_function(examples):\n",
        "    model_inputs = tokenizer(\n",
        "        examples[\"article\"]\n",
        "    )\n",
        "    return model_inputs"
      ],
      "metadata": {
        "id": "DBVBtFtt3TgP"
      },
      "execution_count": null,
      "outputs": []
    },
    {
      "cell_type": "code",
      "source": [
        "tok_pubtest = pub_test.map(preprocess_function, batched=True)"
      ],
      "metadata": {
        "colab": {
          "base_uri": "https://localhost:8080/",
          "height": 49,
          "referenced_widgets": [
            "4adb5cab39ae46279c1d086f99977f4d",
            "25f5234b7f0d47f7ab4c4a7d610a3269",
            "58c729fd386a47ab9f7e9ee5af21ee94",
            "1b161b8321ec4f828621fca02be74448",
            "467aa6e27eb4404ba5c8eaa4a96cc351",
            "cae5912d089c433a8e34e89ae20fbd06",
            "ec477f72520d486fb6773ab9ba85ef43",
            "89b64c1c8f15480ba12cc2e1901e45f9",
            "3d55de6ab5174d91be5966ee990a3b46",
            "c674e683aed9497387535e627466eeed",
            "3d94a4d8bf0e4e6c8d378e57daa5111b"
          ]
        },
        "id": "KbmhSFZs5JtG",
        "outputId": "c49a2c6a-a5e7-4f28-b06b-590f607eb145"
      },
      "execution_count": null,
      "outputs": [
        {
          "output_type": "display_data",
          "data": {
            "text/plain": [
              "  0%|          | 0/7 [00:00<?, ?ba/s]"
            ],
            "application/vnd.jupyter.widget-view+json": {
              "version_major": 2,
              "version_minor": 0,
              "model_id": "4adb5cab39ae46279c1d086f99977f4d"
            }
          },
          "metadata": {}
        }
      ]
    },
    {
      "cell_type": "code",
      "source": [
        "def compute_tok_length(example):\n",
        "    return {\"n_tokens\": len(example[\"input_ids\"])}"
      ],
      "metadata": {
        "id": "vldmtyjq77mY"
      },
      "execution_count": null,
      "outputs": []
    },
    {
      "cell_type": "code",
      "source": [
        "tok_pubtest = tok_pubtest.map(compute_tok_length)"
      ],
      "metadata": {
        "id": "VkDsfbDK8aN-"
      },
      "execution_count": null,
      "outputs": []
    },
    {
      "cell_type": "code",
      "source": [
        "tok_pubtest.sort('n_tokens', reverse=True)[:10]['n_tokens']"
      ],
      "metadata": {
        "colab": {
          "base_uri": "https://localhost:8080/"
        },
        "id": "cSkikQP_9HWZ",
        "outputId": "30844d17-7ebd-4df6-c6be-55359133b20c"
      },
      "execution_count": null,
      "outputs": [
        {
          "output_type": "execute_result",
          "data": {
            "text/plain": [
              "[117407, 87547, 57596, 53422, 44366, 40112, 32726, 32701, 29184, 28862]"
            ]
          },
          "metadata": {},
          "execution_count": 103
        }
      ]
    },
    {
      "cell_type": "code",
      "source": [
        "tok_pubtest.sort('n_tokens', reverse=False)[:10]['n_tokens']"
      ],
      "metadata": {
        "colab": {
          "base_uri": "https://localhost:8080/"
        },
        "id": "WZunAYOS9N5D",
        "outputId": "06af90c0-429e-4c08-c712-9fc813eb93c2"
      },
      "execution_count": null,
      "outputs": [
        {
          "output_type": "execute_result",
          "data": {
            "text/plain": [
              "[28, 66, 66, 69, 79, 81, 97, 104, 109, 113]"
            ]
          },
          "metadata": {},
          "execution_count": 104
        }
      ]
    },
    {
      "cell_type": "code",
      "source": [
        "plt.hist(tok_pubtest['n_tokens'], log=True);"
      ],
      "metadata": {
        "colab": {
          "base_uri": "https://localhost:8080/",
          "height": 271
        },
        "id": "_tUJBKkC5tcA",
        "outputId": "6805d373-7f8d-4f87-dac7-feec07dc1574"
      },
      "execution_count": null,
      "outputs": [
        {
          "output_type": "display_data",
          "data": {
            "text/plain": [
              "<Figure size 432x288 with 1 Axes>"
            ],
            "image/png": "[encoded data removed]"
          },
          "metadata": {
            "needs_background": "light"
          }
        }
      ]
    },
    {
      "cell_type": "code",
      "source": [
        "plt.hist(pub_test[\"article_length\"], log=True);"
      ],
      "metadata": {
        "colab": {
          "base_uri": "https://localhost:8080/",
          "height": 265
        },
        "outputId": "79f7fd61-02ef-49e0-a10b-e510ded63925",
        "id": "k1KenpvYYbge"
      },
      "execution_count": null,
      "outputs": [
        {
          "output_type": "display_data",
          "data": {
            "text/plain": [
              "<Figure size 432x288 with 1 Axes>"
            ],
            "image/png": "[encoded data removed]"
          },
          "metadata": {
            "needs_background": "light"
          }
        }
      ]
    },
    {
      "cell_type": "markdown",
      "source": [
        "oc given that i truncate they are all the same length."
      ],
      "metadata": {
        "id": "0tkw9COe6Ou6"
      }
    },
    {
      "cell_type": "code",
      "source": [
        "%%timeit\n",
        "gg=pub_test.map(lambda x: tokenizer(x['article'], max_length=1024, truncation=True), batched=True)"
      ],
      "metadata": {
        "id": "hM_IKZyCw2k9"
      },
      "execution_count": null,
      "outputs": []
    },
    {
      "cell_type": "markdown",
      "source": [
        ""
      ],
      "metadata": {
        "id": "ozXqE0kG1G0f"
      }
    },
    {
      "cell_type": "code",
      "source": [
        "#creating baseline\n",
        "def three_sentence_summary(text):\n",
        "    return \"\\n\".join(sent_tokenize(text)[:3])\n",
        "\n",
        "\n",
        "print(three_sentence_summary(pubmed[\"train\"][1][\"article\"]))"
      ],
      "metadata": {
        "colab": {
          "base_uri": "https://localhost:8080/"
        },
        "id": "xOg39R6hUCGA",
        "outputId": "a1f0e341-0a30-4d3e-f4c1-622762f02360"
      },
      "execution_count": null,
      "outputs": [
        {
          "output_type": "stream",
          "name": "stdout",
          "text": [
            "it occurs in more than 50% of patients and may reach 90% in certain types of cancers , especially in patients undergoing chemotherapy and/or radiation therapy.1 anemia is defined as an inadequate circulating level of hemoglobin ( hb ) ( hb < 12 g / dl ) and may arise as a result of the underlying disease , bleeding , poor nutrition , chemotherapy , or radiation therapy .\n",
            "preliminary studies suggest that survival and loco - regional control after radiation therapy , especially in head and neck cancers , may be compromised by anemia.24 anemia often worsens symptoms such as fatigue , weakness , and dyspnea , and thus may have a negative effect on quality of life ( qol ) and performance status in patients with cancer .\n",
            "thus , to improve physical functioning , qol , and prognosis in patients with cancer , it would be reasonable to take a proactive approach in identifying populations who need treatment for cancer - associated anemia ( caa ) and provide timely management .\n"
          ]
        }
      ]
    },
    {
      "cell_type": "code",
      "source": [
        "from datasets import load_metric\n",
        "\n",
        "rouge_score = load_metric(\"rouge\")"
      ],
      "metadata": {
        "id": "W2uPFMTKUYNS"
      },
      "execution_count": null,
      "outputs": []
    },
    {
      "cell_type": "code",
      "source": [
        "generated_summary = three_sentence_summary(str('Diet modulates the gut microbiome, which in turn can impact the immune system. Here, we determined how two microbiota-targeted dietary interventions, plant-based fiber and fermented foods, influence the human microbiome and immune system in healthy adults. Using a 17-week randomized, prospective study (n = 18/arm) combined with -omics measurements of microbiome and host, including extensive immune profiling, we found diet-specific effects. The high-fiber diet increased microbiome-encoded glycan-degrading carbohydrate active enzymes (CAZymes) despite stable microbial community diversity. Although cytokine response score (primary outcome) was unchanged, three distinct immunological trajectories in high-fiber consumers corresponded to baseline microbiota diversity. Alternatively, the high-fermented-food diet steadily increased microbiota diversity and decreased inflammatory markers. The data highlight how coupling dietary interventions to deep and longitudinal immune and microbiome profiling can provide individualized and population-wide insight. Fermented foods may be valuable in countering the decreased microbiome diversity and increased inflammation pervasive in industrialized society.'))\n",
        "reference_summary = \"The foods you eat can change the bacteria in your body. These bacteria can help or hurt your immune system.The people who ate the most fermented foods had the most diverse kinds of bacteria and the lowest levels of inflammation.\" #extracted from tldr tweet"
      ],
      "metadata": {
        "id": "Pbd5bXLyWQIM"
      },
      "execution_count": null,
      "outputs": []
    },
    {
      "cell_type": "code",
      "source": [
        "#scores = rouge_score.compute(\n",
        "    #predictions=[generated_summary], references=[reference_summary]\n",
        "#)\n",
        "#scores"
      ],
      "metadata": {
        "id": "fKunbdM5V5Xo"
      },
      "execution_count": null,
      "outputs": []
    },
    {
      "cell_type": "code",
      "source": [
        "#scores[\"rougeLsum\"].mid"
      ],
      "metadata": {
        "id": "vk7ah5pKXOTg"
      },
      "execution_count": null,
      "outputs": []
    },
    {
      "cell_type": "markdown",
      "source": [
        "Evaluate baseline for summarization."
      ],
      "metadata": {
        "id": "meP3IaFpX2TD"
      }
    },
    {
      "cell_type": "code",
      "source": [
        "def evaluate_baseline(dataset, metric):\n",
        "    summaries = [three_sentence_summary(text) for text in dataset['article']]\n",
        "    return metric.compute(predictions=summaries, references=dataset['abstract'])"
      ],
      "metadata": {
        "id": "6hc5u6MXX0rl"
      },
      "execution_count": null,
      "outputs": []
    },
    {
      "cell_type": "code",
      "source": [
        "import pandas as pd\n",
        "\n",
        "score = evaluate_baseline(pubmed['test'], rouge_score)\n",
        "rouge_names = [\"rouge1\", \"rouge2\", \"rougeL\", \"rougeLsum\"]\n",
        "rouge_dict = dict((rn, round(score[rn].mid.fmeasure * 100, 2)) for rn in rouge_names)\n",
        "rouge_dict"
      ],
      "metadata": {
        "colab": {
          "base_uri": "https://localhost:8080/"
        },
        "id": "w4xNvr-DZIi8",
        "outputId": "bacff21e-95e5-4982-b5f0-86bcc7b3eb92"
      },
      "execution_count": null,
      "outputs": [
        {
          "output_type": "execute_result",
          "data": {
            "text/plain": [
              "{'rouge1': 26.7, 'rouge2': 8.83, 'rougeL': 16.7, 'rougeLsum': 24.11}"
            ]
          },
          "metadata": {},
          "execution_count": 71
        }
      ]
    },
    {
      "cell_type": "code",
      "source": [
        "#We can see that the rouge2 score is significantly lower than the rest; this likely reflects the fact that review titles are typically concise and so the lead-3 baseline is too verbose."
      ],
      "metadata": {
        "id": "dZoKFc0zZuuT"
      },
      "execution_count": null,
      "outputs": []
    },
    {
      "cell_type": "markdown",
      "source": [
        "Evaluate zero shot summarization"
      ],
      "metadata": {
        "id": "zwXr28MnYB6K"
      }
    },
    {
      "cell_type": "markdown",
      "source": [
        "distillbart cnn 12 6"
      ],
      "metadata": {
        "id": "mNvHqxp7YvdQ"
      }
    },
    {
      "cell_type": "code",
      "source": [
        "from transformers import AutoTokenizer, AutoModelForSeq2SeqLM\n",
        "\n",
        "tokenizer = AutoTokenizer.from_pretrained(\"sshleifer/distilbart-cnn-12-6\")\n",
        "\n",
        "model = AutoModelForSeq2SeqLM.from_pretrained(\"sshleifer/distilbart-cnn-12-6\")"
      ],
      "metadata": {
        "id": "2-_S0pyxbQ2h"
      },
      "execution_count": null,
      "outputs": []
    },
    {
      "cell_type": "code",
      "source": [
        "from transformers import pipeline\n",
        "summarizer = pipeline(\"summarization\", model='sshleifer/distilbart-cnn-12-6')\n",
        "summ=summarizer(sequence, truncation=True, max_length=1024)"
      ],
      "metadata": {
        "id": "fnxKLjePYhMU"
      },
      "execution_count": null,
      "outputs": []
    },
    {
      "cell_type": "code",
      "source": [
        "sequence = pubmed['test'][1]['article']"
      ],
      "metadata": {
        "id": "ShHPljXxZHky"
      },
      "execution_count": null,
      "outputs": []
    },
    {
      "cell_type": "code",
      "source": [
        "summ=summarizer(sequence, truncation=True, max_length=1024)"
      ],
      "metadata": {
        "id": "fl1JYPoBZCtc"
      },
      "execution_count": null,
      "outputs": []
    },
    {
      "cell_type": "code",
      "source": [
        "def evaluate_zeroshot(dataset, metric):\n",
        "    summaries = [summarizer(text, truncation=True, max_length=1024) for text in dataset['article']]\n",
        "    return metric.compute(predictions=summaries, references=dataset['abstract'])"
      ],
      "metadata": {
        "colab": {
          "base_uri": "https://localhost:8080/"
        },
        "id": "wQADT8j0ZIy1",
        "outputId": "f26bea59-c65d-4146-f6ab-d2e1ad299020"
      },
      "execution_count": null,
      "outputs": [
        {
          "output_type": "execute_result",
          "data": {
            "text/plain": [
              "[{'summary_text': ' small non - coding small rna are transcribed into mrna but remain untranslated in eukaryotic cells . They regulate the stability or translational efficiency of targeted messenger rna . mirnas regulate gene expression and play important roles in the onset and progression of tumorigenesis . The understanding of how mirnas are involved in breast cancer through the cell cycle remains in the rudimentary understanding .'}]"
            ]
          },
          "metadata": {},
          "execution_count": 33
        }
      ]
    },
    {
      "cell_type": "code",
      "source": [
        "import pandas as pd\n",
        "\n",
        "score = evaluate_baseline(pubmed['test'][1:50], rouge_score)\n",
        "rouge_names = [\"rouge1\", \"rouge2\", \"rougeL\", \"rougeLsum\"]\n",
        "rouge_dict = dict((rn, round(score[rn].mid.fmeasure * 100, 2)) for rn in rouge_names)\n",
        "rouge_dict"
      ],
      "metadata": {
        "colab": {
          "base_uri": "https://localhost:8080/"
        },
        "id": "3IVIAnGtZZyj",
        "outputId": "485db106-c4ec-4b03-ae2a-080c40beac5e"
      },
      "execution_count": null,
      "outputs": [
        {
          "output_type": "execute_result",
          "data": {
            "text/plain": [
              "{'rouge1': 26.53, 'rouge2': 9.76, 'rougeL': 17.62, 'rougeLsum': 24.3}"
            ]
          },
          "metadata": {},
          "execution_count": 34
        }
      ]
    },
    {
      "cell_type": "code",
      "source": [
        "score = evaluate_zeroshot(pubmed['test'][1:50], rouge_score)\n",
        "rouge_names = [\"rouge1\", \"rouge2\", \"rougeL\", \"rougeLsum\"]\n",
        "rouge_dict = dict((rn, round(score[rn].mid.fmeasure * 100, 2)) for rn in rouge_names)\n",
        "rouge_dict"
      ],
      "metadata": {
        "colab": {
          "base_uri": "https://localhost:8080/"
        },
        "id": "zBKj3LDwZ6EA",
        "outputId": "5dd318b0-28b6-4241-935b-6581881d00da"
      },
      "execution_count": null,
      "outputs": [
        {
          "output_type": "stream",
          "name": "stderr",
          "text": [
            "Your max_length is set to 1024, but you input_length is only 660. You might consider decreasing max_length manually, e.g. summarizer('...', max_length=330)\n",
            "Your max_length is set to 1024, but you input_length is only 460. You might consider decreasing max_length manually, e.g. summarizer('...', max_length=230)\n",
            "Your max_length is set to 1024, but you input_length is only 804. You might consider decreasing max_length manually, e.g. summarizer('...', max_length=402)\n"
          ]
        },
        {
          "output_type": "execute_result",
          "data": {
            "text/plain": [
              "{'rouge1': 25.44, 'rouge2': 8.95, 'rougeL': 16.44, 'rougeLsum': 21.74}"
            ]
          },
          "metadata": {},
          "execution_count": 36
        }
      ]
    },
    {
      "cell_type": "markdown",
      "source": [
        "Just for 50 examples but worse than our baseline..."
      ],
      "metadata": {
        "id": "Q3_9iYdabmea"
      }
    },
    {
      "cell_type": "markdown",
      "source": [
        "Try with fine tuned pegasus for arxiv (should be better)"
      ],
      "metadata": {
        "id": "0p7SEZUHcEMf"
      }
    },
    {
      "cell_type": "code",
      "source": [
        "from transformers import AutoTokenizer, AutoModelForSeq2SeqLM\n",
        "\n",
        "tokenizer = AutoTokenizer.from_pretrained(\"google/pegasus-arxiv\")\n",
        "\n",
        "model = AutoModelForSeq2SeqLM.from_pretrained(\"google/pegasus-arxiv\")"
      ],
      "metadata": {
        "id": "5uaBYiCZiu9F"
      },
      "execution_count": null,
      "outputs": []
    },
    {
      "cell_type": "code",
      "source": [
        "del summarizer"
      ],
      "metadata": {
        "id": "IR0dwJzQkXZR"
      },
      "execution_count": null,
      "outputs": []
    },
    {
      "cell_type": "code",
      "source": [
        "def evaluate_finetuned(dataset, metric):\n",
        "    summaries = [summarizer(text, truncation=True, max_length=1024) for text in dataset['article']]\n",
        "    return metric.compute(predictions=summaries, references=dataset['abstract'])"
      ],
      "metadata": {
        "id": "h0lcsbEFzB2-"
      },
      "execution_count": null,
      "outputs": []
    },
    {
      "cell_type": "code",
      "source": [
        "import pandas as pd\n",
        "\n",
        "score = evaluate_baseline(pubmed['test'][1:50], rouge_score)\n",
        "rouge_names = [\"rouge1\", \"rouge2\", \"rougeL\", \"rougeLsum\"]\n",
        "rouge_dict = dict((rn, round(score[rn].mid.fmeasure * 100, 2)) for rn in rouge_names)\n",
        "rouge_dict"
      ],
      "metadata": {
        "colab": {
          "base_uri": "https://localhost:8080/"
        },
        "outputId": "485db106-c4ec-4b03-ae2a-080c40beac5e",
        "id": "4U4ikP4CzB2-"
      },
      "execution_count": null,
      "outputs": [
        {
          "output_type": "execute_result",
          "data": {
            "text/plain": [
              "{'rouge1': 26.53, 'rouge2': 9.76, 'rougeL': 17.62, 'rougeLsum': 24.3}"
            ]
          },
          "metadata": {},
          "execution_count": 34
        }
      ]
    },
    {
      "cell_type": "code",
      "source": [
        "score = evaluate_finetuned(pubmed['test'][1:50], rouge_score)\n",
        "rouge_names = [\"rouge1\", \"rouge2\", \"rougeL\", \"rougeLsum\"]\n",
        "rouge_dict = dict((rn, round(score[rn].mid.fmeasure * 100, 2)) for rn in rouge_names)\n",
        "rouge_dict"
      ],
      "metadata": {
        "colab": {
          "base_uri": "https://localhost:8080/"
        },
        "outputId": "ff2cb810-9b3d-4636-e032-374ba2eccefa",
        "id": "9DzsIbahzB2-"
      },
      "execution_count": null,
      "outputs": [
        {
          "output_type": "stream",
          "name": "stderr",
          "text": [
            "Your max_length is set to 1024, but you input_length is only 636. You might consider decreasing max_length manually, e.g. summarizer('...', max_length=318)\n",
            "Your max_length is set to 1024, but you input_length is only 435. You might consider decreasing max_length manually, e.g. summarizer('...', max_length=217)\n",
            "Your max_length is set to 1024, but you input_length is only 784. You might consider decreasing max_length manually, e.g. summarizer('...', max_length=392)\n"
          ]
        },
        {
          "output_type": "execute_result",
          "data": {
            "text/plain": [
              "{'rouge1': 33.87, 'rouge2': 13.24, 'rougeL': 20.34, 'rougeLsum': 28.45}"
            ]
          },
          "metadata": {},
          "execution_count": 28
        }
      ]
    },
    {
      "cell_type": "markdown",
      "source": [
        "Running pegasus on cpu on all article takes too much time, either gpu or just give abstract and restrict it. Still rsults are significantly better despite super long inference."
      ],
      "metadata": {
        "id": "NF95FW5qGU7e"
      }
    },
    {
      "cell_type": "markdown",
      "source": [
        "Check how much only limiting to 1024 tokens is affecting analysis, another reason together with fact that there are sections that are not really relevant to directly summarize the abstract."
      ],
      "metadata": {
        "id": "oyIPlxKEJFSq"
      }
    },
    {
      "cell_type": "code",
      "source": [
        "pubmed[\"test\"][1][\"article\"][0]"
      ],
      "metadata": {
        "colab": {
          "base_uri": "https://localhost:8080/"
        },
        "id": "9NDUjQWfRrFe",
        "outputId": "c8fca0cd-9c74-4eee-d869-8b300cf71bd8"
      },
      "execution_count": null,
      "outputs": [
        {
          "output_type": "execute_result",
          "data": {
            "text/plain": [
              "'s'"
            ]
          },
          "metadata": {},
          "execution_count": 35
        }
      ]
    },
    {
      "cell_type": "code",
      "source": [
        "pubmed"
      ],
      "metadata": {
        "colab": {
          "base_uri": "https://localhost:8080/"
        },
        "id": "gQlmOyyycNNe",
        "outputId": "afc1eca8-fad7-489d-f420-a6859507d02a"
      },
      "execution_count": null,
      "outputs": [
        {
          "output_type": "execute_result",
          "data": {
            "text/plain": [
              "DatasetDict({\n",
              "    train: Dataset({\n",
              "        features: ['article', 'abstract', 'section_names'],\n",
              "        num_rows: 119924\n",
              "    })\n",
              "    validation: Dataset({\n",
              "        features: ['article', 'abstract', 'section_names'],\n",
              "        num_rows: 6633\n",
              "    })\n",
              "    test: Dataset({\n",
              "        features: ['article', 'abstract', 'section_names'],\n",
              "        num_rows: 6658\n",
              "    })\n",
              "})"
            ]
          },
          "metadata": {},
          "execution_count": 29
        }
      ]
    },
    {
      "cell_type": "code",
      "source": [
        "pm = pubmed.filter(lambda x: x[\"test\"][1:10][\"article\"] > 1024)\n",
        "print(pm.num_rows)"
      ],
      "metadata": {
        "id": "NKbxKxwrcNLP"
      },
      "execution_count": null,
      "outputs": []
    },
    {
      "cell_type": "code",
      "source": [
        ""
      ],
      "metadata": {
        "id": "puW-5HTZcNCF"
      },
      "execution_count": null,
      "outputs": []
    },
    {
      "cell_type": "code",
      "source": [
        ""
      ],
      "metadata": {
        "id": "eMv0uD7ScM3t"
      },
      "execution_count": null,
      "outputs": []
    },
    {
      "cell_type": "code",
      "source": [
        "import torch\n",
        "if torch.backends.mps.is_available():\n",
        "    device = torch.device(\"mps\")\n",
        "model.to(device)\n",
        "tokens.to(device)\n",
        "device"
      ],
      "metadata": {
        "id": "ZX5E-hgjmW47"
      },
      "execution_count": null,
      "outputs": []
    },
    {
      "cell_type": "code",
      "source": [
        "print(torch.backends.mps.is_built())\n",
        "# And that the current hardware and MacOS version are sufficient to\n",
        "# be able to use MPS\n",
        "print(torch.backends.mps.is_available())"
      ],
      "metadata": {
        "colab": {
          "base_uri": "https://localhost:8080/"
        },
        "id": "T1gFk0hrm_07",
        "outputId": "c580e035-c163-4570-fc7b-8175e7234c18"
      },
      "execution_count": null,
      "outputs": [
        {
          "output_type": "stream",
          "name": "stdout",
          "text": [
            "True\n",
            "True\n"
          ]
        }
      ]
    },
    {
      "cell_type": "code",
      "source": [
        "from transformers import pipeline\n",
        "summarizer = pipeline(\"summarization\", model='sshleifer/distilbart-cnn-12-6')"
      ],
      "metadata": {
        "id": "ggB5YEhWQI8_"
      },
      "execution_count": null,
      "outputs": []
    },
    {
      "cell_type": "code",
      "source": [
        "%%timeit\n",
        "summ=summarizer(sequence, truncation=True, max_length=1024) #with cpu"
      ],
      "metadata": {
        "colab": {
          "base_uri": "https://localhost:8080/"
        },
        "id": "fg8OUwxyQkIQ",
        "outputId": "def0f5eb-2c8d-469b-af54-10b6fb104c09"
      },
      "execution_count": null,
      "outputs": [
        {
          "output_type": "stream",
          "name": "stdout",
          "text": [
            "5.87 s ± 96 ms per loop (mean ± std. dev. of 7 runs, 1 loop each)\n"
          ]
        }
      ]
    },
    {
      "cell_type": "code",
      "source": [
        "scores = rouge_score.compute(\n",
        "    predictions=[summ], references=[pubmed['test'][1]['abstract']]\n",
        ")\n",
        "scores"
      ],
      "metadata": {
        "colab": {
          "base_uri": "https://localhost:8080/"
        },
        "id": "mcCXK10nTVCc",
        "outputId": "cf21fb98-0190-467d-92cb-ec861cab1f64"
      },
      "execution_count": null,
      "outputs": [
        {
          "output_type": "execute_result",
          "data": {
            "text/plain": [
              "{'rouge1': AggregateScore(low=Score(precision=0.46774193548387094, recall=0.3258426966292135, fmeasure=0.38410596026490074), mid=Score(precision=0.46774193548387094, recall=0.3258426966292135, fmeasure=0.38410596026490074), high=Score(precision=0.46774193548387094, recall=0.3258426966292135, fmeasure=0.38410596026490074)),\n",
              " 'rouge2': AggregateScore(low=Score(precision=0.14754098360655737, recall=0.10227272727272728, fmeasure=0.12080536912751677), mid=Score(precision=0.14754098360655737, recall=0.10227272727272728, fmeasure=0.12080536912751677), high=Score(precision=0.14754098360655737, recall=0.10227272727272728, fmeasure=0.12080536912751677)),\n",
              " 'rougeL': AggregateScore(low=Score(precision=0.3387096774193548, recall=0.23595505617977527, fmeasure=0.27814569536423844), mid=Score(precision=0.3387096774193548, recall=0.23595505617977527, fmeasure=0.27814569536423844), high=Score(precision=0.3387096774193548, recall=0.23595505617977527, fmeasure=0.27814569536423844)),\n",
              " 'rougeLsum': AggregateScore(low=Score(precision=0.43548387096774194, recall=0.30337078651685395, fmeasure=0.3576158940397351), mid=Score(precision=0.43548387096774194, recall=0.30337078651685395, fmeasure=0.3576158940397351), high=Score(precision=0.43548387096774194, recall=0.30337078651685395, fmeasure=0.3576158940397351))}"
            ]
          },
          "metadata": {},
          "execution_count": 68
        }
      ]
    },
    {
      "cell_type": "markdown",
      "source": [
        "retest with bert to see what's optimal batch size for mac gpu"
      ],
      "metadata": {
        "id": "mJxKJosZalRR"
      }
    },
    {
      "cell_type": "markdown",
      "source": [
        "try to use pegasus on gpu mac"
      ],
      "metadata": {
        "id": "pqD8h_kcYQC8"
      }
    },
    {
      "cell_type": "code",
      "source": [
        "from datasets import load_dataset  # pip install datasets\n",
        "\n",
        "# load the first 1K rows of the TREC dataset\n",
        "trec = load_dataset('trec', split='train[:1000]')\n",
        "trec"
      ],
      "metadata": {
        "colab": {
          "base_uri": "https://localhost:8080/"
        },
        "id": "XOJOsNNaap6O",
        "outputId": "2ce759b9-1b0f-4daa-d649-b6cb081fd593"
      },
      "execution_count": null,
      "outputs": [
        {
          "output_type": "stream",
          "name": "stderr",
          "text": [
            "Using custom data configuration default\n",
            "Reusing dataset trec (/Users/lorenzogermini/.cache/huggingface/datasets/trec/default/1.1.0/751da1ab101b8d297a3d6e9c79ee9b0173ff94c4497b75677b59b61d5467a9b9)\n"
          ]
        },
        {
          "output_type": "execute_result",
          "data": {
            "text/plain": [
              "Dataset({\n",
              "    features: ['label-coarse', 'label-fine', 'text'],\n",
              "    num_rows: 1000\n",
              "})"
            ]
          },
          "metadata": {},
          "execution_count": 89
        }
      ]
    },
    {
      "cell_type": "code",
      "source": [
        "trec[0]"
      ],
      "metadata": {
        "colab": {
          "base_uri": "https://localhost:8080/"
        },
        "id": "gw6BfbMMasAY",
        "outputId": "6c2929eb-5baa-45ff-b435-1d16f374c1e0"
      },
      "execution_count": null,
      "outputs": [
        {
          "output_type": "execute_result",
          "data": {
            "text/plain": [
              "{'label-coarse': 0,\n",
              " 'label-fine': 0,\n",
              " 'text': 'How did serfdom develop in and then leave Russia ?'}"
            ]
          },
          "metadata": {},
          "execution_count": 90
        }
      ]
    },
    {
      "cell_type": "code",
      "source": [
        "print(f\"Number of files in dataset : {pubmed['train'].dataset_size}\")\n",
        "size_gb = pubmed['train'].dataset_size / (1024**3)\n",
        "print(f\"Dataset size (cache file) : {size_gb:.2f} GB\")"
      ],
      "metadata": {
        "colab": {
          "base_uri": "https://localhost:8080/"
        },
        "id": "SirUkAqwa7EV",
        "outputId": "c58b1cc8-0b83-4064-9257-b4f28ed66bca"
      },
      "execution_count": null,
      "outputs": [
        {
          "output_type": "stream",
          "name": "stdout",
          "text": [
            "Number of files in dataset : 2506615061\n",
            "Dataset size (cache file) : 2.33 GB\n"
          ]
        }
      ]
    },
    {
      "cell_type": "code",
      "source": [
        "print(f\"Number of files in dataset : {trec.dataset_size}\")\n",
        "size_gb = trec.dataset_size / (1024**3)\n",
        "print(f\"Dataset size (cache file) : {size_gb:.2f} GB\")"
      ],
      "metadata": {
        "colab": {
          "base_uri": "https://localhost:8080/"
        },
        "id": "DsVy4aFLauE-",
        "outputId": "26584edd-6b9b-4a41-ac9f-124c529c60c7"
      },
      "execution_count": null,
      "outputs": [
        {
          "output_type": "stream",
          "name": "stdout",
          "text": [
            "Number of files in dataset : 413065\n",
            "Dataset size (cache file) : 0.00 GB\n"
          ]
        }
      ]
    },
    {
      "cell_type": "code",
      "source": [
        "from transformers import AutoTokenizer, AutoModel  # pip install transformers\n",
        "\n",
        "# initialize BERT tokenizer and model\n",
        "tokenizer = AutoTokenizer.from_pretrained('bert-base-uncased')\n",
        "model = AutoModel.from_pretrained('bert-base-uncased')\n",
        "\n",
        "# take the first 64 rows of the trec data\n",
        "text = trec['text'][:64]\n",
        "# tokenize text using the BERT tokenizer\n",
        "tokens = tokenizer(\n",
        "    text, max_length=512,\n",
        "    truncation=True, padding=True,\n",
        "    return_tensors='pt'\n",
        ")"
      ],
      "metadata": {
        "colab": {
          "base_uri": "https://localhost:8080/"
        },
        "id": "2Hq_bGpMbLZX",
        "outputId": "785e3b01-b9ac-4870-c7b7-a42700926499"
      },
      "execution_count": null,
      "outputs": [
        {
          "output_type": "stream",
          "name": "stderr",
          "text": [
            "Some weights of the model checkpoint at bert-base-uncased were not used when initializing BertModel: ['cls.predictions.bias', 'cls.predictions.transform.LayerNorm.weight', 'cls.predictions.transform.dense.weight', 'cls.seq_relationship.weight', 'cls.predictions.transform.dense.bias', 'cls.predictions.transform.LayerNorm.bias', 'cls.predictions.decoder.weight', 'cls.seq_relationship.bias']\n",
            "- This IS expected if you are initializing BertModel from the checkpoint of a model trained on another task or with another architecture (e.g. initializing a BertForSequenceClassification model from a BertForPreTraining model).\n",
            "- This IS NOT expected if you are initializing BertModel from the checkpoint of a model that you expect to be exactly identical (initializing a BertForSequenceClassification model from a BertForSequenceClassification model).\n"
          ]
        }
      ]
    },
    {
      "cell_type": "code",
      "source": [
        "model.to('cpu')\n",
        "tokens.to('cpu')"
      ],
      "metadata": {
        "id": "gSwXpmIBczWD"
      },
      "execution_count": null,
      "outputs": []
    },
    {
      "cell_type": "code",
      "source": [
        "%%timeit\n",
        "model(**tokens) #64 batch -> 376 on cpu"
      ],
      "metadata": {
        "colab": {
          "base_uri": "https://localhost:8080/"
        },
        "id": "P4cnimbbc1MX",
        "outputId": "c7050dcd-df7d-4b50-edeb-2ce84fab296f"
      },
      "execution_count": null,
      "outputs": [
        {
          "output_type": "stream",
          "name": "stdout",
          "text": [
            "376 ms ± 5.48 ms per loop (mean ± std. dev. of 7 runs, 1 loop each)\n"
          ]
        }
      ]
    },
    {
      "cell_type": "code",
      "source": [
        "# take the first 64 rows of the trec data\n",
        "text = trec['text'][:128]\n",
        "# tokenize text using the BERT tokenizer\n",
        "tokens = tokenizer(\n",
        "    text, max_length=512,\n",
        "    truncation=True, padding=True,\n",
        "    return_tensors='pt'\n",
        ")\n",
        "model.to('cpu')\n",
        "tokens.to('cpu')"
      ],
      "metadata": {
        "id": "JqZdRHvxdLxe"
      },
      "execution_count": null,
      "outputs": []
    },
    {
      "cell_type": "code",
      "source": [
        "%%timeit\n",
        "model(**tokens) #128 batch -> 942 ms on cpu"
      ],
      "metadata": {
        "colab": {
          "base_uri": "https://localhost:8080/"
        },
        "id": "EUBek63edWA4",
        "outputId": "8b178cd0-6491-4ffc-b79e-88cc6d5419d8"
      },
      "execution_count": null,
      "outputs": [
        {
          "output_type": "stream",
          "name": "stdout",
          "text": [
            "942 ms ± 27.2 ms per loop (mean ± std. dev. of 7 runs, 1 loop each)\n"
          ]
        }
      ]
    },
    {
      "cell_type": "code",
      "source": [
        "# take the first 64 rows of the trec data\n",
        "text = trec['text'][:512]\n",
        "# tokenize text using the BERT tokenizer\n",
        "tokens = tokenizer(\n",
        "    text, max_length=512,\n",
        "    truncation=True, padding=True,\n",
        "    return_tensors='pt'\n",
        ")\n",
        "model.to('cpu')\n",
        "tokens.to('cpu')"
      ],
      "metadata": {
        "id": "s_FjbS08dhAP"
      },
      "execution_count": null,
      "outputs": []
    },
    {
      "cell_type": "code",
      "source": [
        "%%timeit\n",
        "model(**tokens) #512 batch ->  7.71s +- 1.5 s on cpu"
      ],
      "metadata": {
        "colab": {
          "base_uri": "https://localhost:8080/"
        },
        "id": "w4AgM_Oadqmb",
        "outputId": "45b84527-efa3-4e44-d171-22c116c549d3"
      },
      "execution_count": null,
      "outputs": [
        {
          "output_type": "stream",
          "name": "stdout",
          "text": [
            "7.71 s ± 1.44 s per loop (mean ± std. dev. of 7 runs, 1 loop each)\n"
          ]
        }
      ]
    },
    {
      "cell_type": "code",
      "source": [
        "# take the first 64 rows of the trec data\n",
        "text = trec['text'][:128]\n",
        "# tokenize text using the BERT tokenizer\n",
        "tokens = tokenizer(\n",
        "    text, max_length=512,\n",
        "    truncation=True, padding=True,\n",
        "    return_tensors='pt'\n",
        ")\n",
        "model.to('cpu')\n",
        "tokens.to('cpu')"
      ],
      "metadata": {
        "id": "EMtdWs0wdmMi"
      },
      "execution_count": null,
      "outputs": []
    },
    {
      "cell_type": "code",
      "source": [
        "model.to(device)\n",
        "tokens.to(device)\n",
        "device"
      ],
      "metadata": {
        "colab": {
          "base_uri": "https://localhost:8080/"
        },
        "id": "4K0nR0iIbQg6",
        "outputId": "fdeb2558-5378-4fee-c790-c9a263dcaaa1"
      },
      "execution_count": null,
      "outputs": [
        {
          "output_type": "execute_result",
          "data": {
            "text/plain": [
              "device(type='mps')"
            ]
          },
          "metadata": {},
          "execution_count": 99
        }
      ]
    },
    {
      "cell_type": "code",
      "source": [
        "%%timeit\n",
        "model(**tokens) #64 batch -> 173ms on gpu"
      ],
      "metadata": {
        "colab": {
          "base_uri": "https://localhost:8080/"
        },
        "id": "kks79ui0bb5b",
        "outputId": "f1447323-8ac0-42cf-e193-f13cb529702f"
      },
      "execution_count": null,
      "outputs": [
        {
          "output_type": "stream",
          "name": "stdout",
          "text": [
            "173 ms ± 967 µs per loop (mean ± std. dev. of 7 runs, 10 loops each)\n"
          ]
        }
      ]
    },
    {
      "cell_type": "code",
      "source": [
        "size_gb = trec[0].dataset_size / (1024**3)\n",
        "print(f\"Dataset size (cache file) : {size_gb:.2f} GB\")"
      ],
      "metadata": {
        "id": "4nZud4ukcBcc"
      },
      "execution_count": null,
      "outputs": []
    },
    {
      "cell_type": "code",
      "source": [
        "# take the first 64 rows of the trec data\n",
        "text = trec['text'][:128]\n",
        "# tokenize text using the BERT tokenizer\n",
        "tokens = tokenizer(\n",
        "    text, max_length=512,\n",
        "    truncation=True, padding=True,\n",
        "    return_tensors='pt'\n",
        ")"
      ],
      "metadata": {
        "id": "ntz9RNi1bqQA"
      },
      "execution_count": null,
      "outputs": []
    },
    {
      "cell_type": "code",
      "source": [
        "tokens.to(device)"
      ],
      "metadata": {
        "id": "TcclC59nb6fO"
      },
      "execution_count": null,
      "outputs": []
    },
    {
      "cell_type": "code",
      "source": [
        "%%timeit\n",
        "model(**tokens) #128 batch -> 333ms + 20 ms"
      ],
      "metadata": {
        "colab": {
          "base_uri": "https://localhost:8080/"
        },
        "id": "9RmH4ZJwb8V1",
        "outputId": "86a118a5-3be9-4cc6-a5a8-95faac22f8df"
      },
      "execution_count": null,
      "outputs": [
        {
          "output_type": "stream",
          "name": "stdout",
          "text": [
            "333 ms ± 19.3 ms per loop (mean ± std. dev. of 7 runs, 1 loop each)\n"
          ]
        }
      ]
    },
    {
      "cell_type": "code",
      "source": [
        ""
      ],
      "metadata": {
        "id": "4p1n_TnsgsgG"
      },
      "execution_count": null,
      "outputs": []
    },
    {
      "cell_type": "code",
      "source": [
        "# take the first 64 rows of the trec data\n",
        "text = trec['text'][:512]\n",
        "# tokenize text using the BERT tokenizer\n",
        "tokens = tokenizer(\n",
        "    text, max_length=512,\n",
        "    truncation=True, padding=True,\n",
        "    return_tensors='pt'\n",
        ")\n",
        "model.to(device)\n",
        "tokens.to(device)"
      ],
      "metadata": {
        "id": "UObNW0IveFUd"
      },
      "execution_count": null,
      "outputs": []
    },
    {
      "cell_type": "code",
      "source": [
        "%%timeit\n",
        "model(**tokens) #512 batch -> 21.2 s + 1.81"
      ],
      "metadata": {
        "colab": {
          "base_uri": "https://localhost:8080/"
        },
        "id": "4XGMe101ePFZ",
        "outputId": "6f127259-e29b-4311-ed43-788bdc721932"
      },
      "execution_count": null,
      "outputs": [
        {
          "output_type": "stream",
          "name": "stdout",
          "text": [
            "21.2 s ± 987 ms per loop (mean ± std. dev. of 7 runs, 1 loop each)\n"
          ]
        }
      ]
    },
    {
      "cell_type": "code",
      "source": [
        "#first test what is optimal ba"
      ],
      "metadata": {
        "id": "HYdTsyZWT53n"
      },
      "execution_count": null,
      "outputs": []
    },
    {
      "cell_type": "code",
      "source": [
        ""
      ],
      "metadata": {
        "id": "wsXKkFDVaUUH"
      },
      "execution_count": null,
      "outputs": []
    },
    {
      "cell_type": "code",
      "source": [
        ""
      ],
      "metadata": {
        "id": "oYHL4te3aVJK"
      },
      "execution_count": null,
      "outputs": []
    },
    {
      "cell_type": "code",
      "source": [
        "sequence = pubmed['test'][1]['article']\n",
        "\n",
        "tokens = tokenizer(sequence, truncation=True, max_length=1024)\n",
        "ids = tokenizer.convert_tokens_to_ids(tokens)\n",
        "input_ids = torch.tensor([ids],device=device)"
      ],
      "metadata": {
        "id": "F1FzhXCRNiDR"
      },
      "execution_count": null,
      "outputs": []
    },
    {
      "cell_type": "code",
      "source": [
        "output = model(input_ids)"
      ],
      "metadata": {
        "id": "RChowOgoNuPf"
      },
      "execution_count": null,
      "outputs": []
    },
    {
      "cell_type": "code",
      "source": [
        "output.logits"
      ],
      "metadata": {
        "colab": {
          "base_uri": "https://localhost:8080/"
        },
        "id": "c0VhEDTaN-WE",
        "outputId": "2a0ef60e-113c-4d8e-f69e-085c93f82494"
      },
      "execution_count": null,
      "outputs": [
        {
          "output_type": "stream",
          "name": "stderr",
          "text": [
            "/Users/lorenzogermini/miniforge3/envs/ml/lib/python3.9/site-packages/torch/_tensor_str.py:103: UserWarning: The operator 'aten::bitwise_and.Tensor_out' is not currently supported on the MPS backend and will fall back to run on the CPU. This may have performance implications. (Triggered internally at  /Users/runner/work/pytorch/pytorch/pytorch/aten/src/ATen/mps/MPSFallback.mm:11.)\n",
            "  nonzero_finite_vals = torch.masked_select(tensor_view, torch.isfinite(tensor_view) & tensor_view.ne(0))\n"
          ]
        },
        {
          "output_type": "execute_result",
          "data": {
            "text/plain": [
              "tensor([[[ 6.8322, -1.1086,  6.5042,  ..., -1.7876, -2.0605, -1.5786],\n",
              "         [ 6.8303, -1.1086,  6.5041,  ..., -1.7877, -2.0606, -1.5785]]],\n",
              "       device='mps:0', grad_fn=<AddBackward0>)"
            ]
          },
          "metadata": {},
          "execution_count": 33
        }
      ]
    },
    {
      "cell_type": "code",
      "source": [
        "predictions = torch.nn.functional.softmax(output.logits, dim=-1)\n",
        "print(predictions)"
      ],
      "metadata": {
        "colab": {
          "base_uri": "https://localhost:8080/"
        },
        "id": "a6bx63UMN5RA",
        "outputId": "814e2103-9c92-4e45-a844-a86c86bd593f"
      },
      "execution_count": null,
      "outputs": [
        {
          "output_type": "stream",
          "name": "stdout",
          "text": [
            "tensor([[[4.5539e-04, 1.6208e-07, 3.2806e-04,  ..., 8.2196e-08,\n",
            "          6.2563e-08, 1.0130e-07],\n",
            "         [4.5451e-04, 1.6207e-07, 3.2801e-04,  ..., 8.2188e-08,\n",
            "          6.2558e-08, 1.0131e-07]]], device='mps:0',\n",
            "       grad_fn=<SoftmaxBackward0>)\n"
          ]
        }
      ]
    },
    {
      "cell_type": "code",
      "source": [
        "model.config.id2label"
      ],
      "metadata": {
        "colab": {
          "base_uri": "https://localhost:8080/"
        },
        "id": "o0P92SeoOpBh",
        "outputId": "1d5e6505-6d53-4e85-9299-72e695ddec26"
      },
      "execution_count": null,
      "outputs": [
        {
          "output_type": "execute_result",
          "data": {
            "text/plain": [
              "{0: 'LABEL_0', 1: 'LABEL_1', 2: 'LABEL_2'}"
            ]
          },
          "metadata": {},
          "execution_count": 35
        }
      ]
    },
    {
      "cell_type": "code",
      "source": [
        "inputs = tokenizer(art, truncation=True, max_length=1024, return_tensors=\"pt\").to(device)\n",
        "model.to(device)\n",
        "\n",
        "# Generate Summary\n",
        "summary_ids = model.generate(inputs[\"input_ids\"])\n",
        "#tokenizer.batch_decode(summary_ids, skip_special_tokens=True, clean_up_tokenization_spaces=False)[0]"
      ],
      "metadata": {
        "id": "KA5d0ltpMLvD"
      },
      "execution_count": null,
      "outputs": []
    },
    {
      "cell_type": "code",
      "source": [
        ""
      ],
      "metadata": {
        "id": "KfUGXtNhNtmR"
      },
      "execution_count": null,
      "outputs": []
    },
    {
      "cell_type": "code",
      "source": [
        "output = model.generate(input_ids, max_length=20)\n",
        "predictions = tokenizer.batch_decode(output, skip_special_tokens=True)\n",
        "\n",
        "inputs = tokenizer([ARTICLE_TO_SUMMARIZE], max_length=1024, return_tensors=\"pt\")\n",
        "\n",
        "# Generate Summary\n",
        "summary_ids = model.generate(inputs[\"input_ids\"], num_beams=2, min_length=0, max_length=20)\n",
        "tokenizer.batch_decode(summary_ids, skip_special_tokens=True, clean_up_tokenization_spaces=False)[0]"
      ],
      "metadata": {
        "id": "jxGg1zCSLLY3"
      },
      "execution_count": null,
      "outputs": []
    },
    {
      "cell_type": "code",
      "source": [
        "input_ids= "
      ],
      "metadata": {
        "id": "e3sG9oh-LeY6"
      },
      "execution_count": null,
      "outputs": []
    },
    {
      "cell_type": "code",
      "source": [
        "sequence = pubmed['test'][1]['article']\n",
        "\n",
        "inpua\n",
        "\n",
        "tokens = tokenizer(sequence, truncation=True, max_length=1024)\n",
        "ids = tokenizer.convert_tokens_to_ids(tokens)\n",
        "input_ids = torch.tensor([ids],device=device)\n",
        "#input_ids.to(device)\n",
        "# This line will fail."
      ],
      "metadata": {
        "id": "IIdvbVNvk0yc"
      },
      "execution_count": null,
      "outputs": []
    },
    {
      "cell_type": "code",
      "source": [
        "input"
      ],
      "metadata": {
        "id": "QT8zuihqK_ub"
      },
      "execution_count": null,
      "outputs": []
    },
    {
      "cell_type": "code",
      "source": [
        "model.to(device)"
      ],
      "metadata": {
        "id": "5fm2wpPLoB4P"
      },
      "execution_count": null,
      "outputs": []
    },
    {
      "cell_type": "code",
      "source": [
        "output= model(input_ids)"
      ],
      "metadata": {
        "id": "Tuw_i-6qvBKG"
      },
      "execution_count": null,
      "outputs": []
    },
    {
      "cell_type": "code",
      "source": [
        "output"
      ],
      "metadata": {
        "id": "peniBJoqKvJj"
      },
      "execution_count": null,
      "outputs": []
    },
    {
      "cell_type": "code",
      "source": [
        "predictions = tokenizer.batch_decode(output, skip_special_tokens=True)"
      ],
      "metadata": {
        "id": "Bfk1TACNJsf1"
      },
      "execution_count": null,
      "outputs": []
    },
    {
      "cell_type": "code",
      "source": [
        "output=model.generate(input_ids, max_length=300)"
      ],
      "metadata": {
        "id": "HxhSzS-TvZwL"
      },
      "execution_count": null,
      "outputs": []
    },
    {
      "cell_type": "code",
      "source": [
        "art = pubmed['test'][1]['article']\n",
        "\n",
        "input_ids = tokenizer(art, max_length=1024, truncation=True, padding='longest', return_tensors=\"pt\").to(device)"
      ],
      "metadata": {
        "id": "-F0aW4LslPFX"
      },
      "execution_count": null,
      "outputs": []
    },
    {
      "cell_type": "code",
      "source": [
        "summary_ids = model.generate(inputs[\"input_ids\"], num_beams=2, min_length=0, max_length=20)"
      ],
      "metadata": {
        "id": "DWfekwB6JKAf"
      },
      "execution_count": null,
      "outputs": []
    },
    {
      "cell_type": "code",
      "source": [
        "model.to(device)"
      ],
      "metadata": {
        "id": "RO1xdDiRJCgY"
      },
      "execution_count": null,
      "outputs": []
    },
    {
      "cell_type": "code",
      "source": [
        "sequence = pubmed['test'][1]['article']\n",
        "\n",
        "tokens = tokenizer.tokenize(sequence)\n",
        "ids = tokenizer.convert_tokens_to_ids(tokens)\n",
        "input_ids = torch.tensor([ids])\n",
        "input_ids.to(device)\n",
        "# This line will fail."
      ],
      "metadata": {
        "colab": {
          "base_uri": "https://localhost:8080/"
        },
        "id": "zgk_fO0olwgY",
        "outputId": "2c189e7c-1370-4052-fdc7-8402fc56398a"
      },
      "execution_count": null,
      "outputs": [
        {
          "output_type": "execute_result",
          "data": {
            "text/plain": [
              "tensor([[23115,   786,   111,  ...,  1668,  1484,   479]], device='mps:0')"
            ]
          },
          "metadata": {},
          "execution_count": 89
        }
      ]
    },
    {
      "cell_type": "code",
      "source": [
        "output=model.generate(input_ids, max_length=300) #model.generate fails"
      ],
      "metadata": {
        "id": "g8OxOZvZl7wX"
      },
      "execution_count": null,
      "outputs": []
    }
  ],
  "metadata": {
    "colab": {
      "name": "Scientific summaries evaluations on various summarisation datasets",
      "provenance": [],
      "collapsed_sections": []
    },
    "language_info": {
      "name": "python"
    },
    "kernelspec": {
      "name": "python3",
      "display_name": "Python 3"
    },
    "widgets": {
      "application/vnd.jupyter.widget-state+json": {
        "2e434a13aecf427f99e04ec187cb657b": {
          "model_module": "@jupyter-widgets/controls",
          "model_name": "HBoxModel",
          "model_module_version": "1.5.0",
          "state": {
            "_dom_classes": [],
            "_model_module": "@jupyter-widgets/controls",
            "_model_module_version": "1.5.0",
            "_model_name": "HBoxModel",
            "_view_count": null,
            "_view_module": "@jupyter-widgets/controls",
            "_view_module_version": "1.5.0",
            "_view_name": "HBoxView",
            "box_style": "",
            "children": [
              "IPY_MODEL_6757c1ca50c145e8995db44e2d29afac",
              "IPY_MODEL_20e78f1897384db395bf99144308a404",
              "IPY_MODEL_4c854e77b18241c5b27015b513f84a4a"
            ],
            "layout": "IPY_MODEL_2df546513aac4a289425355b329d33fb"
          }
        },
        "6757c1ca50c145e8995db44e2d29afac": {
          "model_module": "@jupyter-widgets/controls",
          "model_name": "HTMLModel",
          "model_module_version": "1.5.0",
          "state": {
            "_dom_classes": [],
            "_model_module": "@jupyter-widgets/controls",
            "_model_module_version": "1.5.0",
            "_model_name": "HTMLModel",
            "_view_count": null,
            "_view_module": "@jupyter-widgets/controls",
            "_view_module_version": "1.5.0",
            "_view_name": "HTMLView",
            "description": "",
            "description_tooltip": null,
            "layout": "IPY_MODEL_e84d7b01185b43b4bbfa3511753e4bfa",
            "placeholder": "​",
            "style": "IPY_MODEL_f5ada59db7ae4ae0bdfa25364e2243bd",
            "value": "100%"
          }
        },
        "20e78f1897384db395bf99144308a404": {
          "model_module": "@jupyter-widgets/controls",
          "model_name": "FloatProgressModel",
          "model_module_version": "1.5.0",
          "state": {
            "_dom_classes": [],
            "_model_module": "@jupyter-widgets/controls",
            "_model_module_version": "1.5.0",
            "_model_name": "FloatProgressModel",
            "_view_count": null,
            "_view_module": "@jupyter-widgets/controls",
            "_view_module_version": "1.5.0",
            "_view_name": "ProgressView",
            "bar_style": "success",
            "description": "",
            "description_tooltip": null,
            "layout": "IPY_MODEL_aa71a745a4fc4aebbf6a4cea0e4846e0",
            "max": 618,
            "min": 0,
            "orientation": "horizontal",
            "style": "IPY_MODEL_a7d490717a63442d885454efa4eb6dd8",
            "value": 618
          }
        },
        "4c854e77b18241c5b27015b513f84a4a": {
          "model_module": "@jupyter-widgets/controls",
          "model_name": "HTMLModel",
          "model_module_version": "1.5.0",
          "state": {
            "_dom_classes": [],
            "_model_module": "@jupyter-widgets/controls",
            "_model_module_version": "1.5.0",
            "_model_name": "HTMLModel",
            "_view_count": null,
            "_view_module": "@jupyter-widgets/controls",
            "_view_module_version": "1.5.0",
            "_view_name": "HTMLView",
            "description": "",
            "description_tooltip": null,
            "layout": "IPY_MODEL_41641d832bed460e8b05c630d1359e64",
            "placeholder": "​",
            "style": "IPY_MODEL_62eea9cf0eeb480381a5d1b16bd6ae4d",
            "value": " 618/618 [00:00&lt;00:00, 11003.11ex/s]"
          }
        },
        "2df546513aac4a289425355b329d33fb": {
          "model_module": "@jupyter-widgets/base",
          "model_name": "LayoutModel",
          "model_module_version": "1.2.0",
          "state": {
            "_model_module": "@jupyter-widgets/base",
            "_model_module_version": "1.2.0",
            "_model_name": "LayoutModel",
            "_view_count": null,
            "_view_module": "@jupyter-widgets/base",
            "_view_module_version": "1.2.0",
            "_view_name": "LayoutView",
            "align_content": null,
            "align_items": null,
            "align_self": null,
            "border": null,
            "bottom": null,
            "display": null,
            "flex": null,
            "flex_flow": null,
            "grid_area": null,
            "grid_auto_columns": null,
            "grid_auto_flow": null,
            "grid_auto_rows": null,
            "grid_column": null,
            "grid_gap": null,
            "grid_row": null,
            "grid_template_areas": null,
            "grid_template_columns": null,
            "grid_template_rows": null,
            "height": null,
            "justify_content": null,
            "justify_items": null,
            "left": null,
            "margin": null,
            "max_height": null,
            "max_width": null,
            "min_height": null,
            "min_width": null,
            "object_fit": null,
            "object_position": null,
            "order": null,
            "overflow": null,
            "overflow_x": null,
            "overflow_y": null,
            "padding": null,
            "right": null,
            "top": null,
            "visibility": null,
            "width": null
          }
        },
        "e84d7b01185b43b4bbfa3511753e4bfa": {
          "model_module": "@jupyter-widgets/base",
          "model_name": "LayoutModel",
          "model_module_version": "1.2.0",
          "state": {
            "_model_module": "@jupyter-widgets/base",
            "_model_module_version": "1.2.0",
            "_model_name": "LayoutModel",
            "_view_count": null,
            "_view_module": "@jupyter-widgets/base",
            "_view_module_version": "1.2.0",
            "_view_name": "LayoutView",
            "align_content": null,
            "align_items": null,
            "align_self": null,
            "border": null,
            "bottom": null,
            "display": null,
            "flex": null,
            "flex_flow": null,
            "grid_area": null,
            "grid_auto_columns": null,
            "grid_auto_flow": null,
            "grid_auto_rows": null,
            "grid_column": null,
            "grid_gap": null,
            "grid_row": null,
            "grid_template_areas": null,
            "grid_template_columns": null,
            "grid_template_rows": null,
            "height": null,
            "justify_content": null,
            "justify_items": null,
            "left": null,
            "margin": null,
            "max_height": null,
            "max_width": null,
            "min_height": null,
            "min_width": null,
            "object_fit": null,
            "object_position": null,
            "order": null,
            "overflow": null,
            "overflow_x": null,
            "overflow_y": null,
            "padding": null,
            "right": null,
            "top": null,
            "visibility": null,
            "width": null
          }
        },
        "f5ada59db7ae4ae0bdfa25364e2243bd": {
          "model_module": "@jupyter-widgets/controls",
          "model_name": "DescriptionStyleModel",
          "model_module_version": "1.5.0",
          "state": {
            "_model_module": "@jupyter-widgets/controls",
            "_model_module_version": "1.5.0",
            "_model_name": "DescriptionStyleModel",
            "_view_count": null,
            "_view_module": "@jupyter-widgets/base",
            "_view_module_version": "1.2.0",
            "_view_name": "StyleView",
            "description_width": ""
          }
        },
        "aa71a745a4fc4aebbf6a4cea0e4846e0": {
          "model_module": "@jupyter-widgets/base",
          "model_name": "LayoutModel",
          "model_module_version": "1.2.0",
          "state": {
            "_model_module": "@jupyter-widgets/base",
            "_model_module_version": "1.2.0",
            "_model_name": "LayoutModel",
            "_view_count": null,
            "_view_module": "@jupyter-widgets/base",
            "_view_module_version": "1.2.0",
            "_view_name": "LayoutView",
            "align_content": null,
            "align_items": null,
            "align_self": null,
            "border": null,
            "bottom": null,
            "display": null,
            "flex": null,
            "flex_flow": null,
            "grid_area": null,
            "grid_auto_columns": null,
            "grid_auto_flow": null,
            "grid_auto_rows": null,
            "grid_column": null,
            "grid_gap": null,
            "grid_row": null,
            "grid_template_areas": null,
            "grid_template_columns": null,
            "grid_template_rows": null,
            "height": null,
            "justify_content": null,
            "justify_items": null,
            "left": null,
            "margin": null,
            "max_height": null,
            "max_width": null,
            "min_height": null,
            "min_width": null,
            "object_fit": null,
            "object_position": null,
            "order": null,
            "overflow": null,
            "overflow_x": null,
            "overflow_y": null,
            "padding": null,
            "right": null,
            "top": null,
            "visibility": null,
            "width": null
          }
        },
        "a7d490717a63442d885454efa4eb6dd8": {
          "model_module": "@jupyter-widgets/controls",
          "model_name": "ProgressStyleModel",
          "model_module_version": "1.5.0",
          "state": {
            "_model_module": "@jupyter-widgets/controls",
            "_model_module_version": "1.5.0",
            "_model_name": "ProgressStyleModel",
            "_view_count": null,
            "_view_module": "@jupyter-widgets/base",
            "_view_module_version": "1.2.0",
            "_view_name": "StyleView",
            "bar_color": null,
            "description_width": ""
          }
        },
        "41641d832bed460e8b05c630d1359e64": {
          "model_module": "@jupyter-widgets/base",
          "model_name": "LayoutModel",
          "model_module_version": "1.2.0",
          "state": {
            "_model_module": "@jupyter-widgets/base",
            "_model_module_version": "1.2.0",
            "_model_name": "LayoutModel",
            "_view_count": null,
            "_view_module": "@jupyter-widgets/base",
            "_view_module_version": "1.2.0",
            "_view_name": "LayoutView",
            "align_content": null,
            "align_items": null,
            "align_self": null,
            "border": null,
            "bottom": null,
            "display": null,
            "flex": null,
            "flex_flow": null,
            "grid_area": null,
            "grid_auto_columns": null,
            "grid_auto_flow": null,
            "grid_auto_rows": null,
            "grid_column": null,
            "grid_gap": null,
            "grid_row": null,
            "grid_template_areas": null,
            "grid_template_columns": null,
            "grid_template_rows": null,
            "height": null,
            "justify_content": null,
            "justify_items": null,
            "left": null,
            "margin": null,
            "max_height": null,
            "max_width": null,
            "min_height": null,
            "min_width": null,
            "object_fit": null,
            "object_position": null,
            "order": null,
            "overflow": null,
            "overflow_x": null,
            "overflow_y": null,
            "padding": null,
            "right": null,
            "top": null,
            "visibility": null,
            "width": null
          }
        },
        "62eea9cf0eeb480381a5d1b16bd6ae4d": {
          "model_module": "@jupyter-widgets/controls",
          "model_name": "DescriptionStyleModel",
          "model_module_version": "1.5.0",
          "state": {
            "_model_module": "@jupyter-widgets/controls",
            "_model_module_version": "1.5.0",
            "_model_name": "DescriptionStyleModel",
            "_view_count": null,
            "_view_module": "@jupyter-widgets/base",
            "_view_module_version": "1.2.0",
            "_view_name": "StyleView",
            "description_width": ""
          }
        },
        "d5e641d450914c52b37b8f1e351a9b6c": {
          "model_module": "@jupyter-widgets/controls",
          "model_name": "HBoxModel",
          "model_module_version": "1.5.0",
          "state": {
            "_dom_classes": [],
            "_model_module": "@jupyter-widgets/controls",
            "_model_module_version": "1.5.0",
            "_model_name": "HBoxModel",
            "_view_count": null,
            "_view_module": "@jupyter-widgets/controls",
            "_view_module_version": "1.5.0",
            "_view_name": "HBoxView",
            "box_style": "",
            "children": [
              "IPY_MODEL_aed50e67850f4328824388b9b3aaabbc",
              "IPY_MODEL_3ad44640859d44c2893ae559aedfe3bf",
              "IPY_MODEL_438660f20ae144d7b838f4b2ef54a44e"
            ],
            "layout": "IPY_MODEL_8d8e37a324fe473f8e5f339bae0bb295"
          }
        },
        "aed50e67850f4328824388b9b3aaabbc": {
          "model_module": "@jupyter-widgets/controls",
          "model_name": "HTMLModel",
          "model_module_version": "1.5.0",
          "state": {
            "_dom_classes": [],
            "_model_module": "@jupyter-widgets/controls",
            "_model_module_version": "1.5.0",
            "_model_name": "HTMLModel",
            "_view_count": null,
            "_view_module": "@jupyter-widgets/controls",
            "_view_module_version": "1.5.0",
            "_view_name": "HTMLView",
            "description": "",
            "description_tooltip": null,
            "layout": "IPY_MODEL_792bd8d320eb4ae0bf0bd5ccf12d0a0e",
            "placeholder": "​",
            "style": "IPY_MODEL_e6af2691df3349c3b24c8e52ec907b4d",
            "value": "100%"
          }
        },
        "3ad44640859d44c2893ae559aedfe3bf": {
          "model_module": "@jupyter-widgets/controls",
          "model_name": "FloatProgressModel",
          "model_module_version": "1.5.0",
          "state": {
            "_dom_classes": [],
            "_model_module": "@jupyter-widgets/controls",
            "_model_module_version": "1.5.0",
            "_model_name": "FloatProgressModel",
            "_view_count": null,
            "_view_module": "@jupyter-widgets/controls",
            "_view_module_version": "1.5.0",
            "_view_name": "ProgressView",
            "bar_style": "success",
            "description": "",
            "description_tooltip": null,
            "layout": "IPY_MODEL_e09760291dba4ec0b0622e91f21d92bf",
            "max": 618,
            "min": 0,
            "orientation": "horizontal",
            "style": "IPY_MODEL_3712cdc7668d4544ae27d678c8b008b4",
            "value": 618
          }
        },
        "438660f20ae144d7b838f4b2ef54a44e": {
          "model_module": "@jupyter-widgets/controls",
          "model_name": "HTMLModel",
          "model_module_version": "1.5.0",
          "state": {
            "_dom_classes": [],
            "_model_module": "@jupyter-widgets/controls",
            "_model_module_version": "1.5.0",
            "_model_name": "HTMLModel",
            "_view_count": null,
            "_view_module": "@jupyter-widgets/controls",
            "_view_module_version": "1.5.0",
            "_view_name": "HTMLView",
            "description": "",
            "description_tooltip": null,
            "layout": "IPY_MODEL_6c9faa75a5bc4ce298a2967ee3d18ce3",
            "placeholder": "​",
            "style": "IPY_MODEL_2a8f2a03834647bb9400d836b3007a8b",
            "value": " 618/618 [00:00&lt;00:00, 11768.70ex/s]"
          }
        },
        "8d8e37a324fe473f8e5f339bae0bb295": {
          "model_module": "@jupyter-widgets/base",
          "model_name": "LayoutModel",
          "model_module_version": "1.2.0",
          "state": {
            "_model_module": "@jupyter-widgets/base",
            "_model_module_version": "1.2.0",
            "_model_name": "LayoutModel",
            "_view_count": null,
            "_view_module": "@jupyter-widgets/base",
            "_view_module_version": "1.2.0",
            "_view_name": "LayoutView",
            "align_content": null,
            "align_items": null,
            "align_self": null,
            "border": null,
            "bottom": null,
            "display": null,
            "flex": null,
            "flex_flow": null,
            "grid_area": null,
            "grid_auto_columns": null,
            "grid_auto_flow": null,
            "grid_auto_rows": null,
            "grid_column": null,
            "grid_gap": null,
            "grid_row": null,
            "grid_template_areas": null,
            "grid_template_columns": null,
            "grid_template_rows": null,
            "height": null,
            "justify_content": null,
            "justify_items": null,
            "left": null,
            "margin": null,
            "max_height": null,
            "max_width": null,
            "min_height": null,
            "min_width": null,
            "object_fit": null,
            "object_position": null,
            "order": null,
            "overflow": null,
            "overflow_x": null,
            "overflow_y": null,
            "padding": null,
            "right": null,
            "top": null,
            "visibility": null,
            "width": null
          }
        },
        "792bd8d320eb4ae0bf0bd5ccf12d0a0e": {
          "model_module": "@jupyter-widgets/base",
          "model_name": "LayoutModel",
          "model_module_version": "1.2.0",
          "state": {
            "_model_module": "@jupyter-widgets/base",
            "_model_module_version": "1.2.0",
            "_model_name": "LayoutModel",
            "_view_count": null,
            "_view_module": "@jupyter-widgets/base",
            "_view_module_version": "1.2.0",
            "_view_name": "LayoutView",
            "align_content": null,
            "align_items": null,
            "align_self": null,
            "border": null,
            "bottom": null,
            "display": null,
            "flex": null,
            "flex_flow": null,
            "grid_area": null,
            "grid_auto_columns": null,
            "grid_auto_flow": null,
            "grid_auto_rows": null,
            "grid_column": null,
            "grid_gap": null,
            "grid_row": null,
            "grid_template_areas": null,
            "grid_template_columns": null,
            "grid_template_rows": null,
            "height": null,
            "justify_content": null,
            "justify_items": null,
            "left": null,
            "margin": null,
            "max_height": null,
            "max_width": null,
            "min_height": null,
            "min_width": null,
            "object_fit": null,
            "object_position": null,
            "order": null,
            "overflow": null,
            "overflow_x": null,
            "overflow_y": null,
            "padding": null,
            "right": null,
            "top": null,
            "visibility": null,
            "width": null
          }
        },
        "e6af2691df3349c3b24c8e52ec907b4d": {
          "model_module": "@jupyter-widgets/controls",
          "model_name": "DescriptionStyleModel",
          "model_module_version": "1.5.0",
          "state": {
            "_model_module": "@jupyter-widgets/controls",
            "_model_module_version": "1.5.0",
            "_model_name": "DescriptionStyleModel",
            "_view_count": null,
            "_view_module": "@jupyter-widgets/base",
            "_view_module_version": "1.2.0",
            "_view_name": "StyleView",
            "description_width": ""
          }
        },
        "e09760291dba4ec0b0622e91f21d92bf": {
          "model_module": "@jupyter-widgets/base",
          "model_name": "LayoutModel",
          "model_module_version": "1.2.0",
          "state": {
            "_model_module": "@jupyter-widgets/base",
            "_model_module_version": "1.2.0",
            "_model_name": "LayoutModel",
            "_view_count": null,
            "_view_module": "@jupyter-widgets/base",
            "_view_module_version": "1.2.0",
            "_view_name": "LayoutView",
            "align_content": null,
            "align_items": null,
            "align_self": null,
            "border": null,
            "bottom": null,
            "display": null,
            "flex": null,
            "flex_flow": null,
            "grid_area": null,
            "grid_auto_columns": null,
            "grid_auto_flow": null,
            "grid_auto_rows": null,
            "grid_column": null,
            "grid_gap": null,
            "grid_row": null,
            "grid_template_areas": null,
            "grid_template_columns": null,
            "grid_template_rows": null,
            "height": null,
            "justify_content": null,
            "justify_items": null,
            "left": null,
            "margin": null,
            "max_height": null,
            "max_width": null,
            "min_height": null,
            "min_width": null,
            "object_fit": null,
            "object_position": null,
            "order": null,
            "overflow": null,
            "overflow_x": null,
            "overflow_y": null,
            "padding": null,
            "right": null,
            "top": null,
            "visibility": null,
            "width": null
          }
        },
        "3712cdc7668d4544ae27d678c8b008b4": {
          "model_module": "@jupyter-widgets/controls",
          "model_name": "ProgressStyleModel",
          "model_module_version": "1.5.0",
          "state": {
            "_model_module": "@jupyter-widgets/controls",
            "_model_module_version": "1.5.0",
            "_model_name": "ProgressStyleModel",
            "_view_count": null,
            "_view_module": "@jupyter-widgets/base",
            "_view_module_version": "1.2.0",
            "_view_name": "StyleView",
            "bar_color": null,
            "description_width": ""
          }
        },
        "6c9faa75a5bc4ce298a2967ee3d18ce3": {
          "model_module": "@jupyter-widgets/base",
          "model_name": "LayoutModel",
          "model_module_version": "1.2.0",
          "state": {
            "_model_module": "@jupyter-widgets/base",
            "_model_module_version": "1.2.0",
            "_model_name": "LayoutModel",
            "_view_count": null,
            "_view_module": "@jupyter-widgets/base",
            "_view_module_version": "1.2.0",
            "_view_name": "LayoutView",
            "align_content": null,
            "align_items": null,
            "align_self": null,
            "border": null,
            "bottom": null,
            "display": null,
            "flex": null,
            "flex_flow": null,
            "grid_area": null,
            "grid_auto_columns": null,
            "grid_auto_flow": null,
            "grid_auto_rows": null,
            "grid_column": null,
            "grid_gap": null,
            "grid_row": null,
            "grid_template_areas": null,
            "grid_template_columns": null,
            "grid_template_rows": null,
            "height": null,
            "justify_content": null,
            "justify_items": null,
            "left": null,
            "margin": null,
            "max_height": null,
            "max_width": null,
            "min_height": null,
            "min_width": null,
            "object_fit": null,
            "object_position": null,
            "order": null,
            "overflow": null,
            "overflow_x": null,
            "overflow_y": null,
            "padding": null,
            "right": null,
            "top": null,
            "visibility": null,
            "width": null
          }
        },
        "2a8f2a03834647bb9400d836b3007a8b": {
          "model_module": "@jupyter-widgets/controls",
          "model_name": "DescriptionStyleModel",
          "model_module_version": "1.5.0",
          "state": {
            "_model_module": "@jupyter-widgets/controls",
            "_model_module_version": "1.5.0",
            "_model_name": "DescriptionStyleModel",
            "_view_count": null,
            "_view_module": "@jupyter-widgets/base",
            "_view_module_version": "1.2.0",
            "_view_name": "StyleView",
            "description_width": ""
          }
        },
        "96915a0415e7400e812ce4e008e2debc": {
          "model_module": "@jupyter-widgets/controls",
          "model_name": "HBoxModel",
          "model_module_version": "1.5.0",
          "state": {
            "_dom_classes": [],
            "_model_module": "@jupyter-widgets/controls",
            "_model_module_version": "1.5.0",
            "_model_name": "HBoxModel",
            "_view_count": null,
            "_view_module": "@jupyter-widgets/controls",
            "_view_module_version": "1.5.0",
            "_view_name": "HBoxView",
            "box_style": "",
            "children": [
              "IPY_MODEL_a0cccb9c29ee4df186feb33ba466e694",
              "IPY_MODEL_f24ef914aa234102ae62e4cf5c38d206",
              "IPY_MODEL_7370c291348a41229a96381abed55615"
            ],
            "layout": "IPY_MODEL_9b6a66b2f5f0435191b74ff7ea4bd4ab"
          }
        },
        "a0cccb9c29ee4df186feb33ba466e694": {
          "model_module": "@jupyter-widgets/controls",
          "model_name": "HTMLModel",
          "model_module_version": "1.5.0",
          "state": {
            "_dom_classes": [],
            "_model_module": "@jupyter-widgets/controls",
            "_model_module_version": "1.5.0",
            "_model_name": "HTMLModel",
            "_view_count": null,
            "_view_module": "@jupyter-widgets/controls",
            "_view_module_version": "1.5.0",
            "_view_name": "HTMLView",
            "description": "",
            "description_tooltip": null,
            "layout": "IPY_MODEL_6123d9676f784915ad32e43842c4e085",
            "placeholder": "​",
            "style": "IPY_MODEL_248dbab35ec9474796211f85e7a8dece",
            "value": "100%"
          }
        },
        "f24ef914aa234102ae62e4cf5c38d206": {
          "model_module": "@jupyter-widgets/controls",
          "model_name": "FloatProgressModel",
          "model_module_version": "1.5.0",
          "state": {
            "_dom_classes": [],
            "_model_module": "@jupyter-widgets/controls",
            "_model_module_version": "1.5.0",
            "_model_name": "FloatProgressModel",
            "_view_count": null,
            "_view_module": "@jupyter-widgets/controls",
            "_view_module_version": "1.5.0",
            "_view_name": "ProgressView",
            "bar_style": "success",
            "description": "",
            "description_tooltip": null,
            "layout": "IPY_MODEL_83ea07c102f24a07890f3b63027f0b7f",
            "max": 1,
            "min": 0,
            "orientation": "horizontal",
            "style": "IPY_MODEL_59fb4b4b515c4a29898f015134a78765",
            "value": 1
          }
        },
        "7370c291348a41229a96381abed55615": {
          "model_module": "@jupyter-widgets/controls",
          "model_name": "HTMLModel",
          "model_module_version": "1.5.0",
          "state": {
            "_dom_classes": [],
            "_model_module": "@jupyter-widgets/controls",
            "_model_module_version": "1.5.0",
            "_model_name": "HTMLModel",
            "_view_count": null,
            "_view_module": "@jupyter-widgets/controls",
            "_view_module_version": "1.5.0",
            "_view_name": "HTMLView",
            "description": "",
            "description_tooltip": null,
            "layout": "IPY_MODEL_54e897427bc54acc807ab115cf945fd3",
            "placeholder": "​",
            "style": "IPY_MODEL_fab594d5eb1443b899f03d442825a066",
            "value": " 1/1 [00:00&lt;00:00,  6.41ba/s]"
          }
        },
        "9b6a66b2f5f0435191b74ff7ea4bd4ab": {
          "model_module": "@jupyter-widgets/base",
          "model_name": "LayoutModel",
          "model_module_version": "1.2.0",
          "state": {
            "_model_module": "@jupyter-widgets/base",
            "_model_module_version": "1.2.0",
            "_model_name": "LayoutModel",
            "_view_count": null,
            "_view_module": "@jupyter-widgets/base",
            "_view_module_version": "1.2.0",
            "_view_name": "LayoutView",
            "align_content": null,
            "align_items": null,
            "align_self": null,
            "border": null,
            "bottom": null,
            "display": null,
            "flex": null,
            "flex_flow": null,
            "grid_area": null,
            "grid_auto_columns": null,
            "grid_auto_flow": null,
            "grid_auto_rows": null,
            "grid_column": null,
            "grid_gap": null,
            "grid_row": null,
            "grid_template_areas": null,
            "grid_template_columns": null,
            "grid_template_rows": null,
            "height": null,
            "justify_content": null,
            "justify_items": null,
            "left": null,
            "margin": null,
            "max_height": null,
            "max_width": null,
            "min_height": null,
            "min_width": null,
            "object_fit": null,
            "object_position": null,
            "order": null,
            "overflow": null,
            "overflow_x": null,
            "overflow_y": null,
            "padding": null,
            "right": null,
            "top": null,
            "visibility": null,
            "width": null
          }
        },
        "6123d9676f784915ad32e43842c4e085": {
          "model_module": "@jupyter-widgets/base",
          "model_name": "LayoutModel",
          "model_module_version": "1.2.0",
          "state": {
            "_model_module": "@jupyter-widgets/base",
            "_model_module_version": "1.2.0",
            "_model_name": "LayoutModel",
            "_view_count": null,
            "_view_module": "@jupyter-widgets/base",
            "_view_module_version": "1.2.0",
            "_view_name": "LayoutView",
            "align_content": null,
            "align_items": null,
            "align_self": null,
            "border": null,
            "bottom": null,
            "display": null,
            "flex": null,
            "flex_flow": null,
            "grid_area": null,
            "grid_auto_columns": null,
            "grid_auto_flow": null,
            "grid_auto_rows": null,
            "grid_column": null,
            "grid_gap": null,
            "grid_row": null,
            "grid_template_areas": null,
            "grid_template_columns": null,
            "grid_template_rows": null,
            "height": null,
            "justify_content": null,
            "justify_items": null,
            "left": null,
            "margin": null,
            "max_height": null,
            "max_width": null,
            "min_height": null,
            "min_width": null,
            "object_fit": null,
            "object_position": null,
            "order": null,
            "overflow": null,
            "overflow_x": null,
            "overflow_y": null,
            "padding": null,
            "right": null,
            "top": null,
            "visibility": null,
            "width": null
          }
        },
        "248dbab35ec9474796211f85e7a8dece": {
          "model_module": "@jupyter-widgets/controls",
          "model_name": "DescriptionStyleModel",
          "model_module_version": "1.5.0",
          "state": {
            "_model_module": "@jupyter-widgets/controls",
            "_model_module_version": "1.5.0",
            "_model_name": "DescriptionStyleModel",
            "_view_count": null,
            "_view_module": "@jupyter-widgets/base",
            "_view_module_version": "1.2.0",
            "_view_name": "StyleView",
            "description_width": ""
          }
        },
        "83ea07c102f24a07890f3b63027f0b7f": {
          "model_module": "@jupyter-widgets/base",
          "model_name": "LayoutModel",
          "model_module_version": "1.2.0",
          "state": {
            "_model_module": "@jupyter-widgets/base",
            "_model_module_version": "1.2.0",
            "_model_name": "LayoutModel",
            "_view_count": null,
            "_view_module": "@jupyter-widgets/base",
            "_view_module_version": "1.2.0",
            "_view_name": "LayoutView",
            "align_content": null,
            "align_items": null,
            "align_self": null,
            "border": null,
            "bottom": null,
            "display": null,
            "flex": null,
            "flex_flow": null,
            "grid_area": null,
            "grid_auto_columns": null,
            "grid_auto_flow": null,
            "grid_auto_rows": null,
            "grid_column": null,
            "grid_gap": null,
            "grid_row": null,
            "grid_template_areas": null,
            "grid_template_columns": null,
            "grid_template_rows": null,
            "height": null,
            "justify_content": null,
            "justify_items": null,
            "left": null,
            "margin": null,
            "max_height": null,
            "max_width": null,
            "min_height": null,
            "min_width": null,
            "object_fit": null,
            "object_position": null,
            "order": null,
            "overflow": null,
            "overflow_x": null,
            "overflow_y": null,
            "padding": null,
            "right": null,
            "top": null,
            "visibility": null,
            "width": null
          }
        },
        "59fb4b4b515c4a29898f015134a78765": {
          "model_module": "@jupyter-widgets/controls",
          "model_name": "ProgressStyleModel",
          "model_module_version": "1.5.0",
          "state": {
            "_model_module": "@jupyter-widgets/controls",
            "_model_module_version": "1.5.0",
            "_model_name": "ProgressStyleModel",
            "_view_count": null,
            "_view_module": "@jupyter-widgets/base",
            "_view_module_version": "1.2.0",
            "_view_name": "StyleView",
            "bar_color": null,
            "description_width": ""
          }
        },
        "54e897427bc54acc807ab115cf945fd3": {
          "model_module": "@jupyter-widgets/base",
          "model_name": "LayoutModel",
          "model_module_version": "1.2.0",
          "state": {
            "_model_module": "@jupyter-widgets/base",
            "_model_module_version": "1.2.0",
            "_model_name": "LayoutModel",
            "_view_count": null,
            "_view_module": "@jupyter-widgets/base",
            "_view_module_version": "1.2.0",
            "_view_name": "LayoutView",
            "align_content": null,
            "align_items": null,
            "align_self": null,
            "border": null,
            "bottom": null,
            "display": null,
            "flex": null,
            "flex_flow": null,
            "grid_area": null,
            "grid_auto_columns": null,
            "grid_auto_flow": null,
            "grid_auto_rows": null,
            "grid_column": null,
            "grid_gap": null,
            "grid_row": null,
            "grid_template_areas": null,
            "grid_template_columns": null,
            "grid_template_rows": null,
            "height": null,
            "justify_content": null,
            "justify_items": null,
            "left": null,
            "margin": null,
            "max_height": null,
            "max_width": null,
            "min_height": null,
            "min_width": null,
            "object_fit": null,
            "object_position": null,
            "order": null,
            "overflow": null,
            "overflow_x": null,
            "overflow_y": null,
            "padding": null,
            "right": null,
            "top": null,
            "visibility": null,
            "width": null
          }
        },
        "fab594d5eb1443b899f03d442825a066": {
          "model_module": "@jupyter-widgets/controls",
          "model_name": "DescriptionStyleModel",
          "model_module_version": "1.5.0",
          "state": {
            "_model_module": "@jupyter-widgets/controls",
            "_model_module_version": "1.5.0",
            "_model_name": "DescriptionStyleModel",
            "_view_count": null,
            "_view_module": "@jupyter-widgets/base",
            "_view_module_version": "1.2.0",
            "_view_name": "StyleView",
            "description_width": ""
          }
        },
        "ef6ce30d327f44c2bb2705987886f607": {
          "model_module": "@jupyter-widgets/controls",
          "model_name": "HBoxModel",
          "model_module_version": "1.5.0",
          "state": {
            "_dom_classes": [],
            "_model_module": "@jupyter-widgets/controls",
            "_model_module_version": "1.5.0",
            "_model_name": "HBoxModel",
            "_view_count": null,
            "_view_module": "@jupyter-widgets/controls",
            "_view_module_version": "1.5.0",
            "_view_name": "HBoxView",
            "box_style": "",
            "children": [
              "IPY_MODEL_560b7ac2414d47d4910869ecaffe8da1",
              "IPY_MODEL_0c0f28e2896c4c1d93f9e2890077b4d8",
              "IPY_MODEL_66e4f106f98042da9603b4aa208cd3e1"
            ],
            "layout": "IPY_MODEL_98e62379e75448818f1b76299c4c3677"
          }
        },
        "560b7ac2414d47d4910869ecaffe8da1": {
          "model_module": "@jupyter-widgets/controls",
          "model_name": "HTMLModel",
          "model_module_version": "1.5.0",
          "state": {
            "_dom_classes": [],
            "_model_module": "@jupyter-widgets/controls",
            "_model_module_version": "1.5.0",
            "_model_name": "HTMLModel",
            "_view_count": null,
            "_view_module": "@jupyter-widgets/controls",
            "_view_module_version": "1.5.0",
            "_view_name": "HTMLView",
            "description": "",
            "description_tooltip": null,
            "layout": "IPY_MODEL_ecbe21bc2f0b4a11ba3dbdb8dd1c8637",
            "placeholder": "​",
            "style": "IPY_MODEL_ab1abc0d910848cc82e415342b82ccd6",
            "value": "100%"
          }
        },
        "0c0f28e2896c4c1d93f9e2890077b4d8": {
          "model_module": "@jupyter-widgets/controls",
          "model_name": "FloatProgressModel",
          "model_module_version": "1.5.0",
          "state": {
            "_dom_classes": [],
            "_model_module": "@jupyter-widgets/controls",
            "_model_module_version": "1.5.0",
            "_model_name": "FloatProgressModel",
            "_view_count": null,
            "_view_module": "@jupyter-widgets/controls",
            "_view_module_version": "1.5.0",
            "_view_name": "ProgressView",
            "bar_style": "success",
            "description": "",
            "description_tooltip": null,
            "layout": "IPY_MODEL_a3399ec20ff440cba86adfcfe59be7c3",
            "max": 618,
            "min": 0,
            "orientation": "horizontal",
            "style": "IPY_MODEL_34f8ce41ca4b47f2bd6616ad3a244353",
            "value": 618
          }
        },
        "66e4f106f98042da9603b4aa208cd3e1": {
          "model_module": "@jupyter-widgets/controls",
          "model_name": "HTMLModel",
          "model_module_version": "1.5.0",
          "state": {
            "_dom_classes": [],
            "_model_module": "@jupyter-widgets/controls",
            "_model_module_version": "1.5.0",
            "_model_name": "HTMLModel",
            "_view_count": null,
            "_view_module": "@jupyter-widgets/controls",
            "_view_module_version": "1.5.0",
            "_view_name": "HTMLView",
            "description": "",
            "description_tooltip": null,
            "layout": "IPY_MODEL_d48eeed97391478fa89555a416228462",
            "placeholder": "​",
            "style": "IPY_MODEL_f808bf3abdc34f769595fadb16317894",
            "value": " 618/618 [00:00&lt;00:00, 6062.72ex/s]"
          }
        },
        "98e62379e75448818f1b76299c4c3677": {
          "model_module": "@jupyter-widgets/base",
          "model_name": "LayoutModel",
          "model_module_version": "1.2.0",
          "state": {
            "_model_module": "@jupyter-widgets/base",
            "_model_module_version": "1.2.0",
            "_model_name": "LayoutModel",
            "_view_count": null,
            "_view_module": "@jupyter-widgets/base",
            "_view_module_version": "1.2.0",
            "_view_name": "LayoutView",
            "align_content": null,
            "align_items": null,
            "align_self": null,
            "border": null,
            "bottom": null,
            "display": null,
            "flex": null,
            "flex_flow": null,
            "grid_area": null,
            "grid_auto_columns": null,
            "grid_auto_flow": null,
            "grid_auto_rows": null,
            "grid_column": null,
            "grid_gap": null,
            "grid_row": null,
            "grid_template_areas": null,
            "grid_template_columns": null,
            "grid_template_rows": null,
            "height": null,
            "justify_content": null,
            "justify_items": null,
            "left": null,
            "margin": null,
            "max_height": null,
            "max_width": null,
            "min_height": null,
            "min_width": null,
            "object_fit": null,
            "object_position": null,
            "order": null,
            "overflow": null,
            "overflow_x": null,
            "overflow_y": null,
            "padding": null,
            "right": null,
            "top": null,
            "visibility": null,
            "width": null
          }
        },
        "ecbe21bc2f0b4a11ba3dbdb8dd1c8637": {
          "model_module": "@jupyter-widgets/base",
          "model_name": "LayoutModel",
          "model_module_version": "1.2.0",
          "state": {
            "_model_module": "@jupyter-widgets/base",
            "_model_module_version": "1.2.0",
            "_model_name": "LayoutModel",
            "_view_count": null,
            "_view_module": "@jupyter-widgets/base",
            "_view_module_version": "1.2.0",
            "_view_name": "LayoutView",
            "align_content": null,
            "align_items": null,
            "align_self": null,
            "border": null,
            "bottom": null,
            "display": null,
            "flex": null,
            "flex_flow": null,
            "grid_area": null,
            "grid_auto_columns": null,
            "grid_auto_flow": null,
            "grid_auto_rows": null,
            "grid_column": null,
            "grid_gap": null,
            "grid_row": null,
            "grid_template_areas": null,
            "grid_template_columns": null,
            "grid_template_rows": null,
            "height": null,
            "justify_content": null,
            "justify_items": null,
            "left": null,
            "margin": null,
            "max_height": null,
            "max_width": null,
            "min_height": null,
            "min_width": null,
            "object_fit": null,
            "object_position": null,
            "order": null,
            "overflow": null,
            "overflow_x": null,
            "overflow_y": null,
            "padding": null,
            "right": null,
            "top": null,
            "visibility": null,
            "width": null
          }
        },
        "ab1abc0d910848cc82e415342b82ccd6": {
          "model_module": "@jupyter-widgets/controls",
          "model_name": "DescriptionStyleModel",
          "model_module_version": "1.5.0",
          "state": {
            "_model_module": "@jupyter-widgets/controls",
            "_model_module_version": "1.5.0",
            "_model_name": "DescriptionStyleModel",
            "_view_count": null,
            "_view_module": "@jupyter-widgets/base",
            "_view_module_version": "1.2.0",
            "_view_name": "StyleView",
            "description_width": ""
          }
        },
        "a3399ec20ff440cba86adfcfe59be7c3": {
          "model_module": "@jupyter-widgets/base",
          "model_name": "LayoutModel",
          "model_module_version": "1.2.0",
          "state": {
            "_model_module": "@jupyter-widgets/base",
            "_model_module_version": "1.2.0",
            "_model_name": "LayoutModel",
            "_view_count": null,
            "_view_module": "@jupyter-widgets/base",
            "_view_module_version": "1.2.0",
            "_view_name": "LayoutView",
            "align_content": null,
            "align_items": null,
            "align_self": null,
            "border": null,
            "bottom": null,
            "display": null,
            "flex": null,
            "flex_flow": null,
            "grid_area": null,
            "grid_auto_columns": null,
            "grid_auto_flow": null,
            "grid_auto_rows": null,
            "grid_column": null,
            "grid_gap": null,
            "grid_row": null,
            "grid_template_areas": null,
            "grid_template_columns": null,
            "grid_template_rows": null,
            "height": null,
            "justify_content": null,
            "justify_items": null,
            "left": null,
            "margin": null,
            "max_height": null,
            "max_width": null,
            "min_height": null,
            "min_width": null,
            "object_fit": null,
            "object_position": null,
            "order": null,
            "overflow": null,
            "overflow_x": null,
            "overflow_y": null,
            "padding": null,
            "right": null,
            "top": null,
            "visibility": null,
            "width": null
          }
        },
        "34f8ce41ca4b47f2bd6616ad3a244353": {
          "model_module": "@jupyter-widgets/controls",
          "model_name": "ProgressStyleModel",
          "model_module_version": "1.5.0",
          "state": {
            "_model_module": "@jupyter-widgets/controls",
            "_model_module_version": "1.5.0",
            "_model_name": "ProgressStyleModel",
            "_view_count": null,
            "_view_module": "@jupyter-widgets/base",
            "_view_module_version": "1.2.0",
            "_view_name": "StyleView",
            "bar_color": null,
            "description_width": ""
          }
        },
        "d48eeed97391478fa89555a416228462": {
          "model_module": "@jupyter-widgets/base",
          "model_name": "LayoutModel",
          "model_module_version": "1.2.0",
          "state": {
            "_model_module": "@jupyter-widgets/base",
            "_model_module_version": "1.2.0",
            "_model_name": "LayoutModel",
            "_view_count": null,
            "_view_module": "@jupyter-widgets/base",
            "_view_module_version": "1.2.0",
            "_view_name": "LayoutView",
            "align_content": null,
            "align_items": null,
            "align_self": null,
            "border": null,
            "bottom": null,
            "display": null,
            "flex": null,
            "flex_flow": null,
            "grid_area": null,
            "grid_auto_columns": null,
            "grid_auto_flow": null,
            "grid_auto_rows": null,
            "grid_column": null,
            "grid_gap": null,
            "grid_row": null,
            "grid_template_areas": null,
            "grid_template_columns": null,
            "grid_template_rows": null,
            "height": null,
            "justify_content": null,
            "justify_items": null,
            "left": null,
            "margin": null,
            "max_height": null,
            "max_width": null,
            "min_height": null,
            "min_width": null,
            "object_fit": null,
            "object_position": null,
            "order": null,
            "overflow": null,
            "overflow_x": null,
            "overflow_y": null,
            "padding": null,
            "right": null,
            "top": null,
            "visibility": null,
            "width": null
          }
        },
        "f808bf3abdc34f769595fadb16317894": {
          "model_module": "@jupyter-widgets/controls",
          "model_name": "DescriptionStyleModel",
          "model_module_version": "1.5.0",
          "state": {
            "_model_module": "@jupyter-widgets/controls",
            "_model_module_version": "1.5.0",
            "_model_name": "DescriptionStyleModel",
            "_view_count": null,
            "_view_module": "@jupyter-widgets/base",
            "_view_module_version": "1.2.0",
            "_view_name": "StyleView",
            "description_width": ""
          }
        },
        "5ea56ff916ff46c0be1e46bcfd4be808": {
          "model_module": "@jupyter-widgets/controls",
          "model_name": "HBoxModel",
          "model_module_version": "1.5.0",
          "state": {
            "_dom_classes": [],
            "_model_module": "@jupyter-widgets/controls",
            "_model_module_version": "1.5.0",
            "_model_name": "HBoxModel",
            "_view_count": null,
            "_view_module": "@jupyter-widgets/controls",
            "_view_module_version": "1.5.0",
            "_view_name": "HBoxView",
            "box_style": "",
            "children": [
              "IPY_MODEL_9c6e6e8f0d8f406eb6c119118fd7d16b",
              "IPY_MODEL_82f9694660c44495a20be9e8ed542812",
              "IPY_MODEL_8cffc55d7a3d4ff18faf7654a4fd3c86"
            ],
            "layout": "IPY_MODEL_4bf2a2ac324c431290fc61bc2b3a0005"
          }
        },
        "9c6e6e8f0d8f406eb6c119118fd7d16b": {
          "model_module": "@jupyter-widgets/controls",
          "model_name": "HTMLModel",
          "model_module_version": "1.5.0",
          "state": {
            "_dom_classes": [],
            "_model_module": "@jupyter-widgets/controls",
            "_model_module_version": "1.5.0",
            "_model_name": "HTMLModel",
            "_view_count": null,
            "_view_module": "@jupyter-widgets/controls",
            "_view_module_version": "1.5.0",
            "_view_name": "HTMLView",
            "description": "",
            "description_tooltip": null,
            "layout": "IPY_MODEL_6ec1ab9c54e5433992fc97df0116cf79",
            "placeholder": "​",
            "style": "IPY_MODEL_8a5651a814924c429c955415914fd27e",
            "value": "100%"
          }
        },
        "82f9694660c44495a20be9e8ed542812": {
          "model_module": "@jupyter-widgets/controls",
          "model_name": "FloatProgressModel",
          "model_module_version": "1.5.0",
          "state": {
            "_dom_classes": [],
            "_model_module": "@jupyter-widgets/controls",
            "_model_module_version": "1.5.0",
            "_model_name": "FloatProgressModel",
            "_view_count": null,
            "_view_module": "@jupyter-widgets/controls",
            "_view_module_version": "1.5.0",
            "_view_name": "ProgressView",
            "bar_style": "success",
            "description": "",
            "description_tooltip": null,
            "layout": "IPY_MODEL_dc4b03c590e74db68d2203b60fb97b00",
            "max": 1,
            "min": 0,
            "orientation": "horizontal",
            "style": "IPY_MODEL_b00fc1b3b3b243d894095497c5fd2bb9",
            "value": 1
          }
        },
        "8cffc55d7a3d4ff18faf7654a4fd3c86": {
          "model_module": "@jupyter-widgets/controls",
          "model_name": "HTMLModel",
          "model_module_version": "1.5.0",
          "state": {
            "_dom_classes": [],
            "_model_module": "@jupyter-widgets/controls",
            "_model_module_version": "1.5.0",
            "_model_name": "HTMLModel",
            "_view_count": null,
            "_view_module": "@jupyter-widgets/controls",
            "_view_module_version": "1.5.0",
            "_view_name": "HTMLView",
            "description": "",
            "description_tooltip": null,
            "layout": "IPY_MODEL_fac0201dd8614dc9859e413b32fd4d93",
            "placeholder": "​",
            "style": "IPY_MODEL_e825b478e81d414dbcfb181a1bcc8f1e",
            "value": " 1/1 [00:00&lt;00:00, 12.60ba/s]"
          }
        },
        "4bf2a2ac324c431290fc61bc2b3a0005": {
          "model_module": "@jupyter-widgets/base",
          "model_name": "LayoutModel",
          "model_module_version": "1.2.0",
          "state": {
            "_model_module": "@jupyter-widgets/base",
            "_model_module_version": "1.2.0",
            "_model_name": "LayoutModel",
            "_view_count": null,
            "_view_module": "@jupyter-widgets/base",
            "_view_module_version": "1.2.0",
            "_view_name": "LayoutView",
            "align_content": null,
            "align_items": null,
            "align_self": null,
            "border": null,
            "bottom": null,
            "display": null,
            "flex": null,
            "flex_flow": null,
            "grid_area": null,
            "grid_auto_columns": null,
            "grid_auto_flow": null,
            "grid_auto_rows": null,
            "grid_column": null,
            "grid_gap": null,
            "grid_row": null,
            "grid_template_areas": null,
            "grid_template_columns": null,
            "grid_template_rows": null,
            "height": null,
            "justify_content": null,
            "justify_items": null,
            "left": null,
            "margin": null,
            "max_height": null,
            "max_width": null,
            "min_height": null,
            "min_width": null,
            "object_fit": null,
            "object_position": null,
            "order": null,
            "overflow": null,
            "overflow_x": null,
            "overflow_y": null,
            "padding": null,
            "right": null,
            "top": null,
            "visibility": null,
            "width": null
          }
        },
        "6ec1ab9c54e5433992fc97df0116cf79": {
          "model_module": "@jupyter-widgets/base",
          "model_name": "LayoutModel",
          "model_module_version": "1.2.0",
          "state": {
            "_model_module": "@jupyter-widgets/base",
            "_model_module_version": "1.2.0",
            "_model_name": "LayoutModel",
            "_view_count": null,
            "_view_module": "@jupyter-widgets/base",
            "_view_module_version": "1.2.0",
            "_view_name": "LayoutView",
            "align_content": null,
            "align_items": null,
            "align_self": null,
            "border": null,
            "bottom": null,
            "display": null,
            "flex": null,
            "flex_flow": null,
            "grid_area": null,
            "grid_auto_columns": null,
            "grid_auto_flow": null,
            "grid_auto_rows": null,
            "grid_column": null,
            "grid_gap": null,
            "grid_row": null,
            "grid_template_areas": null,
            "grid_template_columns": null,
            "grid_template_rows": null,
            "height": null,
            "justify_content": null,
            "justify_items": null,
            "left": null,
            "margin": null,
            "max_height": null,
            "max_width": null,
            "min_height": null,
            "min_width": null,
            "object_fit": null,
            "object_position": null,
            "order": null,
            "overflow": null,
            "overflow_x": null,
            "overflow_y": null,
            "padding": null,
            "right": null,
            "top": null,
            "visibility": null,
            "width": null
          }
        },
        "8a5651a814924c429c955415914fd27e": {
          "model_module": "@jupyter-widgets/controls",
          "model_name": "DescriptionStyleModel",
          "model_module_version": "1.5.0",
          "state": {
            "_model_module": "@jupyter-widgets/controls",
            "_model_module_version": "1.5.0",
            "_model_name": "DescriptionStyleModel",
            "_view_count": null,
            "_view_module": "@jupyter-widgets/base",
            "_view_module_version": "1.2.0",
            "_view_name": "StyleView",
            "description_width": ""
          }
        },
        "dc4b03c590e74db68d2203b60fb97b00": {
          "model_module": "@jupyter-widgets/base",
          "model_name": "LayoutModel",
          "model_module_version": "1.2.0",
          "state": {
            "_model_module": "@jupyter-widgets/base",
            "_model_module_version": "1.2.0",
            "_model_name": "LayoutModel",
            "_view_count": null,
            "_view_module": "@jupyter-widgets/base",
            "_view_module_version": "1.2.0",
            "_view_name": "LayoutView",
            "align_content": null,
            "align_items": null,
            "align_self": null,
            "border": null,
            "bottom": null,
            "display": null,
            "flex": null,
            "flex_flow": null,
            "grid_area": null,
            "grid_auto_columns": null,
            "grid_auto_flow": null,
            "grid_auto_rows": null,
            "grid_column": null,
            "grid_gap": null,
            "grid_row": null,
            "grid_template_areas": null,
            "grid_template_columns": null,
            "grid_template_rows": null,
            "height": null,
            "justify_content": null,
            "justify_items": null,
            "left": null,
            "margin": null,
            "max_height": null,
            "max_width": null,
            "min_height": null,
            "min_width": null,
            "object_fit": null,
            "object_position": null,
            "order": null,
            "overflow": null,
            "overflow_x": null,
            "overflow_y": null,
            "padding": null,
            "right": null,
            "top": null,
            "visibility": null,
            "width": null
          }
        },
        "b00fc1b3b3b243d894095497c5fd2bb9": {
          "model_module": "@jupyter-widgets/controls",
          "model_name": "ProgressStyleModel",
          "model_module_version": "1.5.0",
          "state": {
            "_model_module": "@jupyter-widgets/controls",
            "_model_module_version": "1.5.0",
            "_model_name": "ProgressStyleModel",
            "_view_count": null,
            "_view_module": "@jupyter-widgets/base",
            "_view_module_version": "1.2.0",
            "_view_name": "StyleView",
            "bar_color": null,
            "description_width": ""
          }
        },
        "fac0201dd8614dc9859e413b32fd4d93": {
          "model_module": "@jupyter-widgets/base",
          "model_name": "LayoutModel",
          "model_module_version": "1.2.0",
          "state": {
            "_model_module": "@jupyter-widgets/base",
            "_model_module_version": "1.2.0",
            "_model_name": "LayoutModel",
            "_view_count": null,
            "_view_module": "@jupyter-widgets/base",
            "_view_module_version": "1.2.0",
            "_view_name": "LayoutView",
            "align_content": null,
            "align_items": null,
            "align_self": null,
            "border": null,
            "bottom": null,
            "display": null,
            "flex": null,
            "flex_flow": null,
            "grid_area": null,
            "grid_auto_columns": null,
            "grid_auto_flow": null,
            "grid_auto_rows": null,
            "grid_column": null,
            "grid_gap": null,
            "grid_row": null,
            "grid_template_areas": null,
            "grid_template_columns": null,
            "grid_template_rows": null,
            "height": null,
            "justify_content": null,
            "justify_items": null,
            "left": null,
            "margin": null,
            "max_height": null,
            "max_width": null,
            "min_height": null,
            "min_width": null,
            "object_fit": null,
            "object_position": null,
            "order": null,
            "overflow": null,
            "overflow_x": null,
            "overflow_y": null,
            "padding": null,
            "right": null,
            "top": null,
            "visibility": null,
            "width": null
          }
        },
        "e825b478e81d414dbcfb181a1bcc8f1e": {
          "model_module": "@jupyter-widgets/controls",
          "model_name": "DescriptionStyleModel",
          "model_module_version": "1.5.0",
          "state": {
            "_model_module": "@jupyter-widgets/controls",
            "_model_module_version": "1.5.0",
            "_model_name": "DescriptionStyleModel",
            "_view_count": null,
            "_view_module": "@jupyter-widgets/base",
            "_view_module_version": "1.2.0",
            "_view_name": "StyleView",
            "description_width": ""
          }
        },
        "89ea1502b86641e3b9a00ea078f2f957": {
          "model_module": "@jupyter-widgets/controls",
          "model_name": "HBoxModel",
          "model_module_version": "1.5.0",
          "state": {
            "_dom_classes": [],
            "_model_module": "@jupyter-widgets/controls",
            "_model_module_version": "1.5.0",
            "_model_name": "HBoxModel",
            "_view_count": null,
            "_view_module": "@jupyter-widgets/controls",
            "_view_module_version": "1.5.0",
            "_view_name": "HBoxView",
            "box_style": "",
            "children": [
              "IPY_MODEL_343bb7818a694852be1e567e4e52a5b7",
              "IPY_MODEL_557c87775ff041619f5b528d8a0f4624",
              "IPY_MODEL_5f99b3b7e01b4588b56a824db35a5f0c"
            ],
            "layout": "IPY_MODEL_27ab0bab80a54b549aa9f54ee182803c"
          }
        },
        "343bb7818a694852be1e567e4e52a5b7": {
          "model_module": "@jupyter-widgets/controls",
          "model_name": "HTMLModel",
          "model_module_version": "1.5.0",
          "state": {
            "_dom_classes": [],
            "_model_module": "@jupyter-widgets/controls",
            "_model_module_version": "1.5.0",
            "_model_name": "HTMLModel",
            "_view_count": null,
            "_view_module": "@jupyter-widgets/controls",
            "_view_module_version": "1.5.0",
            "_view_name": "HTMLView",
            "description": "",
            "description_tooltip": null,
            "layout": "IPY_MODEL_2d561b48da314eb2ab7b8ffead7dd719",
            "placeholder": "​",
            "style": "IPY_MODEL_e3796e9649154e04a56264f974bb3654",
            "value": "100%"
          }
        },
        "557c87775ff041619f5b528d8a0f4624": {
          "model_module": "@jupyter-widgets/controls",
          "model_name": "FloatProgressModel",
          "model_module_version": "1.5.0",
          "state": {
            "_dom_classes": [],
            "_model_module": "@jupyter-widgets/controls",
            "_model_module_version": "1.5.0",
            "_model_name": "FloatProgressModel",
            "_view_count": null,
            "_view_module": "@jupyter-widgets/controls",
            "_view_module_version": "1.5.0",
            "_view_name": "ProgressView",
            "bar_style": "success",
            "description": "",
            "description_tooltip": null,
            "layout": "IPY_MODEL_d35d46af7b124967879248a5afb05aa0",
            "max": 458,
            "min": 0,
            "orientation": "horizontal",
            "style": "IPY_MODEL_1a90ac3aa95442da9522868e0fe50cad",
            "value": 458
          }
        },
        "5f99b3b7e01b4588b56a824db35a5f0c": {
          "model_module": "@jupyter-widgets/controls",
          "model_name": "HTMLModel",
          "model_module_version": "1.5.0",
          "state": {
            "_dom_classes": [],
            "_model_module": "@jupyter-widgets/controls",
            "_model_module_version": "1.5.0",
            "_model_name": "HTMLModel",
            "_view_count": null,
            "_view_module": "@jupyter-widgets/controls",
            "_view_module_version": "1.5.0",
            "_view_name": "HTMLView",
            "description": "",
            "description_tooltip": null,
            "layout": "IPY_MODEL_c1438a55997d4d52886becd115844057",
            "placeholder": "​",
            "style": "IPY_MODEL_41ff13f6b3194292a7e6a1da15894c14",
            "value": " 458/458 [00:00&lt;00:00, 2278.61ex/s]"
          }
        },
        "27ab0bab80a54b549aa9f54ee182803c": {
          "model_module": "@jupyter-widgets/base",
          "model_name": "LayoutModel",
          "model_module_version": "1.2.0",
          "state": {
            "_model_module": "@jupyter-widgets/base",
            "_model_module_version": "1.2.0",
            "_model_name": "LayoutModel",
            "_view_count": null,
            "_view_module": "@jupyter-widgets/base",
            "_view_module_version": "1.2.0",
            "_view_name": "LayoutView",
            "align_content": null,
            "align_items": null,
            "align_self": null,
            "border": null,
            "bottom": null,
            "display": null,
            "flex": null,
            "flex_flow": null,
            "grid_area": null,
            "grid_auto_columns": null,
            "grid_auto_flow": null,
            "grid_auto_rows": null,
            "grid_column": null,
            "grid_gap": null,
            "grid_row": null,
            "grid_template_areas": null,
            "grid_template_columns": null,
            "grid_template_rows": null,
            "height": null,
            "justify_content": null,
            "justify_items": null,
            "left": null,
            "margin": null,
            "max_height": null,
            "max_width": null,
            "min_height": null,
            "min_width": null,
            "object_fit": null,
            "object_position": null,
            "order": null,
            "overflow": null,
            "overflow_x": null,
            "overflow_y": null,
            "padding": null,
            "right": null,
            "top": null,
            "visibility": null,
            "width": null
          }
        },
        "2d561b48da314eb2ab7b8ffead7dd719": {
          "model_module": "@jupyter-widgets/base",
          "model_name": "LayoutModel",
          "model_module_version": "1.2.0",
          "state": {
            "_model_module": "@jupyter-widgets/base",
            "_model_module_version": "1.2.0",
            "_model_name": "LayoutModel",
            "_view_count": null,
            "_view_module": "@jupyter-widgets/base",
            "_view_module_version": "1.2.0",
            "_view_name": "LayoutView",
            "align_content": null,
            "align_items": null,
            "align_self": null,
            "border": null,
            "bottom": null,
            "display": null,
            "flex": null,
            "flex_flow": null,
            "grid_area": null,
            "grid_auto_columns": null,
            "grid_auto_flow": null,
            "grid_auto_rows": null,
            "grid_column": null,
            "grid_gap": null,
            "grid_row": null,
            "grid_template_areas": null,
            "grid_template_columns": null,
            "grid_template_rows": null,
            "height": null,
            "justify_content": null,
            "justify_items": null,
            "left": null,
            "margin": null,
            "max_height": null,
            "max_width": null,
            "min_height": null,
            "min_width": null,
            "object_fit": null,
            "object_position": null,
            "order": null,
            "overflow": null,
            "overflow_x": null,
            "overflow_y": null,
            "padding": null,
            "right": null,
            "top": null,
            "visibility": null,
            "width": null
          }
        },
        "e3796e9649154e04a56264f974bb3654": {
          "model_module": "@jupyter-widgets/controls",
          "model_name": "DescriptionStyleModel",
          "model_module_version": "1.5.0",
          "state": {
            "_model_module": "@jupyter-widgets/controls",
            "_model_module_version": "1.5.0",
            "_model_name": "DescriptionStyleModel",
            "_view_count": null,
            "_view_module": "@jupyter-widgets/base",
            "_view_module_version": "1.2.0",
            "_view_name": "StyleView",
            "description_width": ""
          }
        },
        "d35d46af7b124967879248a5afb05aa0": {
          "model_module": "@jupyter-widgets/base",
          "model_name": "LayoutModel",
          "model_module_version": "1.2.0",
          "state": {
            "_model_module": "@jupyter-widgets/base",
            "_model_module_version": "1.2.0",
            "_model_name": "LayoutModel",
            "_view_count": null,
            "_view_module": "@jupyter-widgets/base",
            "_view_module_version": "1.2.0",
            "_view_name": "LayoutView",
            "align_content": null,
            "align_items": null,
            "align_self": null,
            "border": null,
            "bottom": null,
            "display": null,
            "flex": null,
            "flex_flow": null,
            "grid_area": null,
            "grid_auto_columns": null,
            "grid_auto_flow": null,
            "grid_auto_rows": null,
            "grid_column": null,
            "grid_gap": null,
            "grid_row": null,
            "grid_template_areas": null,
            "grid_template_columns": null,
            "grid_template_rows": null,
            "height": null,
            "justify_content": null,
            "justify_items": null,
            "left": null,
            "margin": null,
            "max_height": null,
            "max_width": null,
            "min_height": null,
            "min_width": null,
            "object_fit": null,
            "object_position": null,
            "order": null,
            "overflow": null,
            "overflow_x": null,
            "overflow_y": null,
            "padding": null,
            "right": null,
            "top": null,
            "visibility": null,
            "width": null
          }
        },
        "1a90ac3aa95442da9522868e0fe50cad": {
          "model_module": "@jupyter-widgets/controls",
          "model_name": "ProgressStyleModel",
          "model_module_version": "1.5.0",
          "state": {
            "_model_module": "@jupyter-widgets/controls",
            "_model_module_version": "1.5.0",
            "_model_name": "ProgressStyleModel",
            "_view_count": null,
            "_view_module": "@jupyter-widgets/base",
            "_view_module_version": "1.2.0",
            "_view_name": "StyleView",
            "bar_color": null,
            "description_width": ""
          }
        },
        "c1438a55997d4d52886becd115844057": {
          "model_module": "@jupyter-widgets/base",
          "model_name": "LayoutModel",
          "model_module_version": "1.2.0",
          "state": {
            "_model_module": "@jupyter-widgets/base",
            "_model_module_version": "1.2.0",
            "_model_name": "LayoutModel",
            "_view_count": null,
            "_view_module": "@jupyter-widgets/base",
            "_view_module_version": "1.2.0",
            "_view_name": "LayoutView",
            "align_content": null,
            "align_items": null,
            "align_self": null,
            "border": null,
            "bottom": null,
            "display": null,
            "flex": null,
            "flex_flow": null,
            "grid_area": null,
            "grid_auto_columns": null,
            "grid_auto_flow": null,
            "grid_auto_rows": null,
            "grid_column": null,
            "grid_gap": null,
            "grid_row": null,
            "grid_template_areas": null,
            "grid_template_columns": null,
            "grid_template_rows": null,
            "height": null,
            "justify_content": null,
            "justify_items": null,
            "left": null,
            "margin": null,
            "max_height": null,
            "max_width": null,
            "min_height": null,
            "min_width": null,
            "object_fit": null,
            "object_position": null,
            "order": null,
            "overflow": null,
            "overflow_x": null,
            "overflow_y": null,
            "padding": null,
            "right": null,
            "top": null,
            "visibility": null,
            "width": null
          }
        },
        "41ff13f6b3194292a7e6a1da15894c14": {
          "model_module": "@jupyter-widgets/controls",
          "model_name": "DescriptionStyleModel",
          "model_module_version": "1.5.0",
          "state": {
            "_model_module": "@jupyter-widgets/controls",
            "_model_module_version": "1.5.0",
            "_model_name": "DescriptionStyleModel",
            "_view_count": null,
            "_view_module": "@jupyter-widgets/base",
            "_view_module_version": "1.2.0",
            "_view_name": "StyleView",
            "description_width": ""
          }
        },
        "ddeb954985b94b24b00d2383fb8ce303": {
          "model_module": "@jupyter-widgets/controls",
          "model_name": "HBoxModel",
          "model_module_version": "1.5.0",
          "state": {
            "_dom_classes": [],
            "_model_module": "@jupyter-widgets/controls",
            "_model_module_version": "1.5.0",
            "_model_name": "HBoxModel",
            "_view_count": null,
            "_view_module": "@jupyter-widgets/controls",
            "_view_module_version": "1.5.0",
            "_view_name": "HBoxView",
            "box_style": "",
            "children": [
              "IPY_MODEL_e96a77a82938405c82a0924e441bc723",
              "IPY_MODEL_7a0a0891b9954e1db414ee0d31970f86",
              "IPY_MODEL_63fde95abaa44ee389beeea78856d044"
            ],
            "layout": "IPY_MODEL_af674b70c56d4bea8b772a08b8f4cb24"
          }
        },
        "e96a77a82938405c82a0924e441bc723": {
          "model_module": "@jupyter-widgets/controls",
          "model_name": "HTMLModel",
          "model_module_version": "1.5.0",
          "state": {
            "_dom_classes": [],
            "_model_module": "@jupyter-widgets/controls",
            "_model_module_version": "1.5.0",
            "_model_name": "HTMLModel",
            "_view_count": null,
            "_view_module": "@jupyter-widgets/controls",
            "_view_module_version": "1.5.0",
            "_view_name": "HTMLView",
            "description": "",
            "description_tooltip": null,
            "layout": "IPY_MODEL_e2c71905e4414363bd73d9c386fe2717",
            "placeholder": "​",
            "style": "IPY_MODEL_bef47d7cef594b97928c5f48bb320cba",
            "value": "100%"
          }
        },
        "7a0a0891b9954e1db414ee0d31970f86": {
          "model_module": "@jupyter-widgets/controls",
          "model_name": "FloatProgressModel",
          "model_module_version": "1.5.0",
          "state": {
            "_dom_classes": [],
            "_model_module": "@jupyter-widgets/controls",
            "_model_module_version": "1.5.0",
            "_model_name": "FloatProgressModel",
            "_view_count": null,
            "_view_module": "@jupyter-widgets/controls",
            "_view_module_version": "1.5.0",
            "_view_name": "ProgressView",
            "bar_style": "success",
            "description": "",
            "description_tooltip": null,
            "layout": "IPY_MODEL_bb00a3fea9f743a294c8107fdf89e6c3",
            "max": 458,
            "min": 0,
            "orientation": "horizontal",
            "style": "IPY_MODEL_333e88cd442743db95307903eda9589a",
            "value": 458
          }
        },
        "63fde95abaa44ee389beeea78856d044": {
          "model_module": "@jupyter-widgets/controls",
          "model_name": "HTMLModel",
          "model_module_version": "1.5.0",
          "state": {
            "_dom_classes": [],
            "_model_module": "@jupyter-widgets/controls",
            "_model_module_version": "1.5.0",
            "_model_name": "HTMLModel",
            "_view_count": null,
            "_view_module": "@jupyter-widgets/controls",
            "_view_module_version": "1.5.0",
            "_view_name": "HTMLView",
            "description": "",
            "description_tooltip": null,
            "layout": "IPY_MODEL_e1541c23a02242c2a4170cbbfd54c91c",
            "placeholder": "​",
            "style": "IPY_MODEL_c68fb324ab944c4787ecc04da67a0102",
            "value": " 458/458 [00:00&lt;00:00, 2477.10ex/s]"
          }
        },
        "af674b70c56d4bea8b772a08b8f4cb24": {
          "model_module": "@jupyter-widgets/base",
          "model_name": "LayoutModel",
          "model_module_version": "1.2.0",
          "state": {
            "_model_module": "@jupyter-widgets/base",
            "_model_module_version": "1.2.0",
            "_model_name": "LayoutModel",
            "_view_count": null,
            "_view_module": "@jupyter-widgets/base",
            "_view_module_version": "1.2.0",
            "_view_name": "LayoutView",
            "align_content": null,
            "align_items": null,
            "align_self": null,
            "border": null,
            "bottom": null,
            "display": null,
            "flex": null,
            "flex_flow": null,
            "grid_area": null,
            "grid_auto_columns": null,
            "grid_auto_flow": null,
            "grid_auto_rows": null,
            "grid_column": null,
            "grid_gap": null,
            "grid_row": null,
            "grid_template_areas": null,
            "grid_template_columns": null,
            "grid_template_rows": null,
            "height": null,
            "justify_content": null,
            "justify_items": null,
            "left": null,
            "margin": null,
            "max_height": null,
            "max_width": null,
            "min_height": null,
            "min_width": null,
            "object_fit": null,
            "object_position": null,
            "order": null,
            "overflow": null,
            "overflow_x": null,
            "overflow_y": null,
            "padding": null,
            "right": null,
            "top": null,
            "visibility": null,
            "width": null
          }
        },
        "e2c71905e4414363bd73d9c386fe2717": {
          "model_module": "@jupyter-widgets/base",
          "model_name": "LayoutModel",
          "model_module_version": "1.2.0",
          "state": {
            "_model_module": "@jupyter-widgets/base",
            "_model_module_version": "1.2.0",
            "_model_name": "LayoutModel",
            "_view_count": null,
            "_view_module": "@jupyter-widgets/base",
            "_view_module_version": "1.2.0",
            "_view_name": "LayoutView",
            "align_content": null,
            "align_items": null,
            "align_self": null,
            "border": null,
            "bottom": null,
            "display": null,
            "flex": null,
            "flex_flow": null,
            "grid_area": null,
            "grid_auto_columns": null,
            "grid_auto_flow": null,
            "grid_auto_rows": null,
            "grid_column": null,
            "grid_gap": null,
            "grid_row": null,
            "grid_template_areas": null,
            "grid_template_columns": null,
            "grid_template_rows": null,
            "height": null,
            "justify_content": null,
            "justify_items": null,
            "left": null,
            "margin": null,
            "max_height": null,
            "max_width": null,
            "min_height": null,
            "min_width": null,
            "object_fit": null,
            "object_position": null,
            "order": null,
            "overflow": null,
            "overflow_x": null,
            "overflow_y": null,
            "padding": null,
            "right": null,
            "top": null,
            "visibility": null,
            "width": null
          }
        },
        "bef47d7cef594b97928c5f48bb320cba": {
          "model_module": "@jupyter-widgets/controls",
          "model_name": "DescriptionStyleModel",
          "model_module_version": "1.5.0",
          "state": {
            "_model_module": "@jupyter-widgets/controls",
            "_model_module_version": "1.5.0",
            "_model_name": "DescriptionStyleModel",
            "_view_count": null,
            "_view_module": "@jupyter-widgets/base",
            "_view_module_version": "1.2.0",
            "_view_name": "StyleView",
            "description_width": ""
          }
        },
        "bb00a3fea9f743a294c8107fdf89e6c3": {
          "model_module": "@jupyter-widgets/base",
          "model_name": "LayoutModel",
          "model_module_version": "1.2.0",
          "state": {
            "_model_module": "@jupyter-widgets/base",
            "_model_module_version": "1.2.0",
            "_model_name": "LayoutModel",
            "_view_count": null,
            "_view_module": "@jupyter-widgets/base",
            "_view_module_version": "1.2.0",
            "_view_name": "LayoutView",
            "align_content": null,
            "align_items": null,
            "align_self": null,
            "border": null,
            "bottom": null,
            "display": null,
            "flex": null,
            "flex_flow": null,
            "grid_area": null,
            "grid_auto_columns": null,
            "grid_auto_flow": null,
            "grid_auto_rows": null,
            "grid_column": null,
            "grid_gap": null,
            "grid_row": null,
            "grid_template_areas": null,
            "grid_template_columns": null,
            "grid_template_rows": null,
            "height": null,
            "justify_content": null,
            "justify_items": null,
            "left": null,
            "margin": null,
            "max_height": null,
            "max_width": null,
            "min_height": null,
            "min_width": null,
            "object_fit": null,
            "object_position": null,
            "order": null,
            "overflow": null,
            "overflow_x": null,
            "overflow_y": null,
            "padding": null,
            "right": null,
            "top": null,
            "visibility": null,
            "width": null
          }
        },
        "333e88cd442743db95307903eda9589a": {
          "model_module": "@jupyter-widgets/controls",
          "model_name": "ProgressStyleModel",
          "model_module_version": "1.5.0",
          "state": {
            "_model_module": "@jupyter-widgets/controls",
            "_model_module_version": "1.5.0",
            "_model_name": "ProgressStyleModel",
            "_view_count": null,
            "_view_module": "@jupyter-widgets/base",
            "_view_module_version": "1.2.0",
            "_view_name": "StyleView",
            "bar_color": null,
            "description_width": ""
          }
        },
        "e1541c23a02242c2a4170cbbfd54c91c": {
          "model_module": "@jupyter-widgets/base",
          "model_name": "LayoutModel",
          "model_module_version": "1.2.0",
          "state": {
            "_model_module": "@jupyter-widgets/base",
            "_model_module_version": "1.2.0",
            "_model_name": "LayoutModel",
            "_view_count": null,
            "_view_module": "@jupyter-widgets/base",
            "_view_module_version": "1.2.0",
            "_view_name": "LayoutView",
            "align_content": null,
            "align_items": null,
            "align_self": null,
            "border": null,
            "bottom": null,
            "display": null,
            "flex": null,
            "flex_flow": null,
            "grid_area": null,
            "grid_auto_columns": null,
            "grid_auto_flow": null,
            "grid_auto_rows": null,
            "grid_column": null,
            "grid_gap": null,
            "grid_row": null,
            "grid_template_areas": null,
            "grid_template_columns": null,
            "grid_template_rows": null,
            "height": null,
            "justify_content": null,
            "justify_items": null,
            "left": null,
            "margin": null,
            "max_height": null,
            "max_width": null,
            "min_height": null,
            "min_width": null,
            "object_fit": null,
            "object_position": null,
            "order": null,
            "overflow": null,
            "overflow_x": null,
            "overflow_y": null,
            "padding": null,
            "right": null,
            "top": null,
            "visibility": null,
            "width": null
          }
        },
        "c68fb324ab944c4787ecc04da67a0102": {
          "model_module": "@jupyter-widgets/controls",
          "model_name": "DescriptionStyleModel",
          "model_module_version": "1.5.0",
          "state": {
            "_model_module": "@jupyter-widgets/controls",
            "_model_module_version": "1.5.0",
            "_model_name": "DescriptionStyleModel",
            "_view_count": null,
            "_view_module": "@jupyter-widgets/base",
            "_view_module_version": "1.2.0",
            "_view_name": "StyleView",
            "description_width": ""
          }
        },
        "0ebe7836e79844228de2a6e3f2ce103f": {
          "model_module": "@jupyter-widgets/controls",
          "model_name": "HBoxModel",
          "model_module_version": "1.5.0",
          "state": {
            "_dom_classes": [],
            "_model_module": "@jupyter-widgets/controls",
            "_model_module_version": "1.5.0",
            "_model_name": "HBoxModel",
            "_view_count": null,
            "_view_module": "@jupyter-widgets/controls",
            "_view_module_version": "1.5.0",
            "_view_name": "HBoxView",
            "box_style": "",
            "children": [
              "IPY_MODEL_3c9900206cbe418cafd403d02e185def",
              "IPY_MODEL_f1dad1024f7442188e5badc76149a383",
              "IPY_MODEL_29c245c563c84ce0a9cf7bfd9eee3a8b"
            ],
            "layout": "IPY_MODEL_8522c5bec03544c2a4ce5ad506afc740"
          }
        },
        "3c9900206cbe418cafd403d02e185def": {
          "model_module": "@jupyter-widgets/controls",
          "model_name": "HTMLModel",
          "model_module_version": "1.5.0",
          "state": {
            "_dom_classes": [],
            "_model_module": "@jupyter-widgets/controls",
            "_model_module_version": "1.5.0",
            "_model_name": "HTMLModel",
            "_view_count": null,
            "_view_module": "@jupyter-widgets/controls",
            "_view_module_version": "1.5.0",
            "_view_name": "HTMLView",
            "description": "",
            "description_tooltip": null,
            "layout": "IPY_MODEL_2769553952b348d39585623f24bbc18a",
            "placeholder": "​",
            "style": "IPY_MODEL_76a803377d08404c88c45adb7f7e5097",
            "value": "100%"
          }
        },
        "f1dad1024f7442188e5badc76149a383": {
          "model_module": "@jupyter-widgets/controls",
          "model_name": "FloatProgressModel",
          "model_module_version": "1.5.0",
          "state": {
            "_dom_classes": [],
            "_model_module": "@jupyter-widgets/controls",
            "_model_module_version": "1.5.0",
            "_model_name": "FloatProgressModel",
            "_view_count": null,
            "_view_module": "@jupyter-widgets/controls",
            "_view_module_version": "1.5.0",
            "_view_name": "ProgressView",
            "bar_style": "success",
            "description": "",
            "description_tooltip": null,
            "layout": "IPY_MODEL_d49a0f6f664e446590f421985c9e99e5",
            "max": 1,
            "min": 0,
            "orientation": "horizontal",
            "style": "IPY_MODEL_52f5d9a5541d4aeea8999f0d79d1078b",
            "value": 1
          }
        },
        "29c245c563c84ce0a9cf7bfd9eee3a8b": {
          "model_module": "@jupyter-widgets/controls",
          "model_name": "HTMLModel",
          "model_module_version": "1.5.0",
          "state": {
            "_dom_classes": [],
            "_model_module": "@jupyter-widgets/controls",
            "_model_module_version": "1.5.0",
            "_model_name": "HTMLModel",
            "_view_count": null,
            "_view_module": "@jupyter-widgets/controls",
            "_view_module_version": "1.5.0",
            "_view_name": "HTMLView",
            "description": "",
            "description_tooltip": null,
            "layout": "IPY_MODEL_3a2ddea3057e466c8a774f93e8fce912",
            "placeholder": "​",
            "style": "IPY_MODEL_f1d09d27b1754d958cc3f350531a078e",
            "value": " 1/1 [00:00&lt;00:00,  2.40ba/s]"
          }
        },
        "8522c5bec03544c2a4ce5ad506afc740": {
          "model_module": "@jupyter-widgets/base",
          "model_name": "LayoutModel",
          "model_module_version": "1.2.0",
          "state": {
            "_model_module": "@jupyter-widgets/base",
            "_model_module_version": "1.2.0",
            "_model_name": "LayoutModel",
            "_view_count": null,
            "_view_module": "@jupyter-widgets/base",
            "_view_module_version": "1.2.0",
            "_view_name": "LayoutView",
            "align_content": null,
            "align_items": null,
            "align_self": null,
            "border": null,
            "bottom": null,
            "display": null,
            "flex": null,
            "flex_flow": null,
            "grid_area": null,
            "grid_auto_columns": null,
            "grid_auto_flow": null,
            "grid_auto_rows": null,
            "grid_column": null,
            "grid_gap": null,
            "grid_row": null,
            "grid_template_areas": null,
            "grid_template_columns": null,
            "grid_template_rows": null,
            "height": null,
            "justify_content": null,
            "justify_items": null,
            "left": null,
            "margin": null,
            "max_height": null,
            "max_width": null,
            "min_height": null,
            "min_width": null,
            "object_fit": null,
            "object_position": null,
            "order": null,
            "overflow": null,
            "overflow_x": null,
            "overflow_y": null,
            "padding": null,
            "right": null,
            "top": null,
            "visibility": null,
            "width": null
          }
        },
        "2769553952b348d39585623f24bbc18a": {
          "model_module": "@jupyter-widgets/base",
          "model_name": "LayoutModel",
          "model_module_version": "1.2.0",
          "state": {
            "_model_module": "@jupyter-widgets/base",
            "_model_module_version": "1.2.0",
            "_model_name": "LayoutModel",
            "_view_count": null,
            "_view_module": "@jupyter-widgets/base",
            "_view_module_version": "1.2.0",
            "_view_name": "LayoutView",
            "align_content": null,
            "align_items": null,
            "align_self": null,
            "border": null,
            "bottom": null,
            "display": null,
            "flex": null,
            "flex_flow": null,
            "grid_area": null,
            "grid_auto_columns": null,
            "grid_auto_flow": null,
            "grid_auto_rows": null,
            "grid_column": null,
            "grid_gap": null,
            "grid_row": null,
            "grid_template_areas": null,
            "grid_template_columns": null,
            "grid_template_rows": null,
            "height": null,
            "justify_content": null,
            "justify_items": null,
            "left": null,
            "margin": null,
            "max_height": null,
            "max_width": null,
            "min_height": null,
            "min_width": null,
            "object_fit": null,
            "object_position": null,
            "order": null,
            "overflow": null,
            "overflow_x": null,
            "overflow_y": null,
            "padding": null,
            "right": null,
            "top": null,
            "visibility": null,
            "width": null
          }
        },
        "76a803377d08404c88c45adb7f7e5097": {
          "model_module": "@jupyter-widgets/controls",
          "model_name": "DescriptionStyleModel",
          "model_module_version": "1.5.0",
          "state": {
            "_model_module": "@jupyter-widgets/controls",
            "_model_module_version": "1.5.0",
            "_model_name": "DescriptionStyleModel",
            "_view_count": null,
            "_view_module": "@jupyter-widgets/base",
            "_view_module_version": "1.2.0",
            "_view_name": "StyleView",
            "description_width": ""
          }
        },
        "d49a0f6f664e446590f421985c9e99e5": {
          "model_module": "@jupyter-widgets/base",
          "model_name": "LayoutModel",
          "model_module_version": "1.2.0",
          "state": {
            "_model_module": "@jupyter-widgets/base",
            "_model_module_version": "1.2.0",
            "_model_name": "LayoutModel",
            "_view_count": null,
            "_view_module": "@jupyter-widgets/base",
            "_view_module_version": "1.2.0",
            "_view_name": "LayoutView",
            "align_content": null,
            "align_items": null,
            "align_self": null,
            "border": null,
            "bottom": null,
            "display": null,
            "flex": null,
            "flex_flow": null,
            "grid_area": null,
            "grid_auto_columns": null,
            "grid_auto_flow": null,
            "grid_auto_rows": null,
            "grid_column": null,
            "grid_gap": null,
            "grid_row": null,
            "grid_template_areas": null,
            "grid_template_columns": null,
            "grid_template_rows": null,
            "height": null,
            "justify_content": null,
            "justify_items": null,
            "left": null,
            "margin": null,
            "max_height": null,
            "max_width": null,
            "min_height": null,
            "min_width": null,
            "object_fit": null,
            "object_position": null,
            "order": null,
            "overflow": null,
            "overflow_x": null,
            "overflow_y": null,
            "padding": null,
            "right": null,
            "top": null,
            "visibility": null,
            "width": null
          }
        },
        "52f5d9a5541d4aeea8999f0d79d1078b": {
          "model_module": "@jupyter-widgets/controls",
          "model_name": "ProgressStyleModel",
          "model_module_version": "1.5.0",
          "state": {
            "_model_module": "@jupyter-widgets/controls",
            "_model_module_version": "1.5.0",
            "_model_name": "ProgressStyleModel",
            "_view_count": null,
            "_view_module": "@jupyter-widgets/base",
            "_view_module_version": "1.2.0",
            "_view_name": "StyleView",
            "bar_color": null,
            "description_width": ""
          }
        },
        "3a2ddea3057e466c8a774f93e8fce912": {
          "model_module": "@jupyter-widgets/base",
          "model_name": "LayoutModel",
          "model_module_version": "1.2.0",
          "state": {
            "_model_module": "@jupyter-widgets/base",
            "_model_module_version": "1.2.0",
            "_model_name": "LayoutModel",
            "_view_count": null,
            "_view_module": "@jupyter-widgets/base",
            "_view_module_version": "1.2.0",
            "_view_name": "LayoutView",
            "align_content": null,
            "align_items": null,
            "align_self": null,
            "border": null,
            "bottom": null,
            "display": null,
            "flex": null,
            "flex_flow": null,
            "grid_area": null,
            "grid_auto_columns": null,
            "grid_auto_flow": null,
            "grid_auto_rows": null,
            "grid_column": null,
            "grid_gap": null,
            "grid_row": null,
            "grid_template_areas": null,
            "grid_template_columns": null,
            "grid_template_rows": null,
            "height": null,
            "justify_content": null,
            "justify_items": null,
            "left": null,
            "margin": null,
            "max_height": null,
            "max_width": null,
            "min_height": null,
            "min_width": null,
            "object_fit": null,
            "object_position": null,
            "order": null,
            "overflow": null,
            "overflow_x": null,
            "overflow_y": null,
            "padding": null,
            "right": null,
            "top": null,
            "visibility": null,
            "width": null
          }
        },
        "f1d09d27b1754d958cc3f350531a078e": {
          "model_module": "@jupyter-widgets/controls",
          "model_name": "DescriptionStyleModel",
          "model_module_version": "1.5.0",
          "state": {
            "_model_module": "@jupyter-widgets/controls",
            "_model_module_version": "1.5.0",
            "_model_name": "DescriptionStyleModel",
            "_view_count": null,
            "_view_module": "@jupyter-widgets/base",
            "_view_module_version": "1.2.0",
            "_view_name": "StyleView",
            "description_width": ""
          }
        },
        "9408ddd914f94f8897d6e86ffc1ebb16": {
          "model_module": "@jupyter-widgets/controls",
          "model_name": "HBoxModel",
          "model_module_version": "1.5.0",
          "state": {
            "_dom_classes": [],
            "_model_module": "@jupyter-widgets/controls",
            "_model_module_version": "1.5.0",
            "_model_name": "HBoxModel",
            "_view_count": null,
            "_view_module": "@jupyter-widgets/controls",
            "_view_module_version": "1.5.0",
            "_view_name": "HBoxView",
            "box_style": "",
            "children": [
              "IPY_MODEL_8268dfdeede94bd882c78ee2016ab177",
              "IPY_MODEL_c0bb4aaa81694b699af159b1c195ebf3",
              "IPY_MODEL_d7523225a87c4a65b46594412a35fc31"
            ],
            "layout": "IPY_MODEL_5f7aa908ffd349f8b684e66f7de621b8"
          }
        },
        "8268dfdeede94bd882c78ee2016ab177": {
          "model_module": "@jupyter-widgets/controls",
          "model_name": "HTMLModel",
          "model_module_version": "1.5.0",
          "state": {
            "_dom_classes": [],
            "_model_module": "@jupyter-widgets/controls",
            "_model_module_version": "1.5.0",
            "_model_name": "HTMLModel",
            "_view_count": null,
            "_view_module": "@jupyter-widgets/controls",
            "_view_module_version": "1.5.0",
            "_view_name": "HTMLView",
            "description": "",
            "description_tooltip": null,
            "layout": "IPY_MODEL_0042ab1fcea7403db7090092fc3ff8de",
            "placeholder": "​",
            "style": "IPY_MODEL_f5a882099295422481ee7cf193a14a2e",
            "value": "100%"
          }
        },
        "c0bb4aaa81694b699af159b1c195ebf3": {
          "model_module": "@jupyter-widgets/controls",
          "model_name": "FloatProgressModel",
          "model_module_version": "1.5.0",
          "state": {
            "_dom_classes": [],
            "_model_module": "@jupyter-widgets/controls",
            "_model_module_version": "1.5.0",
            "_model_name": "FloatProgressModel",
            "_view_count": null,
            "_view_module": "@jupyter-widgets/controls",
            "_view_module_version": "1.5.0",
            "_view_name": "ProgressView",
            "bar_style": "success",
            "description": "",
            "description_tooltip": null,
            "layout": "IPY_MODEL_a5b3427f280942ef9b6d9b8d2cbf3528",
            "max": 3,
            "min": 0,
            "orientation": "horizontal",
            "style": "IPY_MODEL_483d33185a524c779436dead042812ae",
            "value": 3
          }
        },
        "d7523225a87c4a65b46594412a35fc31": {
          "model_module": "@jupyter-widgets/controls",
          "model_name": "HTMLModel",
          "model_module_version": "1.5.0",
          "state": {
            "_dom_classes": [],
            "_model_module": "@jupyter-widgets/controls",
            "_model_module_version": "1.5.0",
            "_model_name": "HTMLModel",
            "_view_count": null,
            "_view_module": "@jupyter-widgets/controls",
            "_view_module_version": "1.5.0",
            "_view_name": "HTMLView",
            "description": "",
            "description_tooltip": null,
            "layout": "IPY_MODEL_bdbe4336fca6426faaaf8860938f3a91",
            "placeholder": "​",
            "style": "IPY_MODEL_9e170f74b1de4ef8a1513159e395e45e",
            "value": " 3/3 [00:00&lt;00:00, 53.76it/s]"
          }
        },
        "5f7aa908ffd349f8b684e66f7de621b8": {
          "model_module": "@jupyter-widgets/base",
          "model_name": "LayoutModel",
          "model_module_version": "1.2.0",
          "state": {
            "_model_module": "@jupyter-widgets/base",
            "_model_module_version": "1.2.0",
            "_model_name": "LayoutModel",
            "_view_count": null,
            "_view_module": "@jupyter-widgets/base",
            "_view_module_version": "1.2.0",
            "_view_name": "LayoutView",
            "align_content": null,
            "align_items": null,
            "align_self": null,
            "border": null,
            "bottom": null,
            "display": null,
            "flex": null,
            "flex_flow": null,
            "grid_area": null,
            "grid_auto_columns": null,
            "grid_auto_flow": null,
            "grid_auto_rows": null,
            "grid_column": null,
            "grid_gap": null,
            "grid_row": null,
            "grid_template_areas": null,
            "grid_template_columns": null,
            "grid_template_rows": null,
            "height": null,
            "justify_content": null,
            "justify_items": null,
            "left": null,
            "margin": null,
            "max_height": null,
            "max_width": null,
            "min_height": null,
            "min_width": null,
            "object_fit": null,
            "object_position": null,
            "order": null,
            "overflow": null,
            "overflow_x": null,
            "overflow_y": null,
            "padding": null,
            "right": null,
            "top": null,
            "visibility": null,
            "width": null
          }
        },
        "0042ab1fcea7403db7090092fc3ff8de": {
          "model_module": "@jupyter-widgets/base",
          "model_name": "LayoutModel",
          "model_module_version": "1.2.0",
          "state": {
            "_model_module": "@jupyter-widgets/base",
            "_model_module_version": "1.2.0",
            "_model_name": "LayoutModel",
            "_view_count": null,
            "_view_module": "@jupyter-widgets/base",
            "_view_module_version": "1.2.0",
            "_view_name": "LayoutView",
            "align_content": null,
            "align_items": null,
            "align_self": null,
            "border": null,
            "bottom": null,
            "display": null,
            "flex": null,
            "flex_flow": null,
            "grid_area": null,
            "grid_auto_columns": null,
            "grid_auto_flow": null,
            "grid_auto_rows": null,
            "grid_column": null,
            "grid_gap": null,
            "grid_row": null,
            "grid_template_areas": null,
            "grid_template_columns": null,
            "grid_template_rows": null,
            "height": null,
            "justify_content": null,
            "justify_items": null,
            "left": null,
            "margin": null,
            "max_height": null,
            "max_width": null,
            "min_height": null,
            "min_width": null,
            "object_fit": null,
            "object_position": null,
            "order": null,
            "overflow": null,
            "overflow_x": null,
            "overflow_y": null,
            "padding": null,
            "right": null,
            "top": null,
            "visibility": null,
            "width": null
          }
        },
        "f5a882099295422481ee7cf193a14a2e": {
          "model_module": "@jupyter-widgets/controls",
          "model_name": "DescriptionStyleModel",
          "model_module_version": "1.5.0",
          "state": {
            "_model_module": "@jupyter-widgets/controls",
            "_model_module_version": "1.5.0",
            "_model_name": "DescriptionStyleModel",
            "_view_count": null,
            "_view_module": "@jupyter-widgets/base",
            "_view_module_version": "1.2.0",
            "_view_name": "StyleView",
            "description_width": ""
          }
        },
        "a5b3427f280942ef9b6d9b8d2cbf3528": {
          "model_module": "@jupyter-widgets/base",
          "model_name": "LayoutModel",
          "model_module_version": "1.2.0",
          "state": {
            "_model_module": "@jupyter-widgets/base",
            "_model_module_version": "1.2.0",
            "_model_name": "LayoutModel",
            "_view_count": null,
            "_view_module": "@jupyter-widgets/base",
            "_view_module_version": "1.2.0",
            "_view_name": "LayoutView",
            "align_content": null,
            "align_items": null,
            "align_self": null,
            "border": null,
            "bottom": null,
            "display": null,
            "flex": null,
            "flex_flow": null,
            "grid_area": null,
            "grid_auto_columns": null,
            "grid_auto_flow": null,
            "grid_auto_rows": null,
            "grid_column": null,
            "grid_gap": null,
            "grid_row": null,
            "grid_template_areas": null,
            "grid_template_columns": null,
            "grid_template_rows": null,
            "height": null,
            "justify_content": null,
            "justify_items": null,
            "left": null,
            "margin": null,
            "max_height": null,
            "max_width": null,
            "min_height": null,
            "min_width": null,
            "object_fit": null,
            "object_position": null,
            "order": null,
            "overflow": null,
            "overflow_x": null,
            "overflow_y": null,
            "padding": null,
            "right": null,
            "top": null,
            "visibility": null,
            "width": null
          }
        },
        "483d33185a524c779436dead042812ae": {
          "model_module": "@jupyter-widgets/controls",
          "model_name": "ProgressStyleModel",
          "model_module_version": "1.5.0",
          "state": {
            "_model_module": "@jupyter-widgets/controls",
            "_model_module_version": "1.5.0",
            "_model_name": "ProgressStyleModel",
            "_view_count": null,
            "_view_module": "@jupyter-widgets/base",
            "_view_module_version": "1.2.0",
            "_view_name": "StyleView",
            "bar_color": null,
            "description_width": ""
          }
        },
        "bdbe4336fca6426faaaf8860938f3a91": {
          "model_module": "@jupyter-widgets/base",
          "model_name": "LayoutModel",
          "model_module_version": "1.2.0",
          "state": {
            "_model_module": "@jupyter-widgets/base",
            "_model_module_version": "1.2.0",
            "_model_name": "LayoutModel",
            "_view_count": null,
            "_view_module": "@jupyter-widgets/base",
            "_view_module_version": "1.2.0",
            "_view_name": "LayoutView",
            "align_content": null,
            "align_items": null,
            "align_self": null,
            "border": null,
            "bottom": null,
            "display": null,
            "flex": null,
            "flex_flow": null,
            "grid_area": null,
            "grid_auto_columns": null,
            "grid_auto_flow": null,
            "grid_auto_rows": null,
            "grid_column": null,
            "grid_gap": null,
            "grid_row": null,
            "grid_template_areas": null,
            "grid_template_columns": null,
            "grid_template_rows": null,
            "height": null,
            "justify_content": null,
            "justify_items": null,
            "left": null,
            "margin": null,
            "max_height": null,
            "max_width": null,
            "min_height": null,
            "min_width": null,
            "object_fit": null,
            "object_position": null,
            "order": null,
            "overflow": null,
            "overflow_x": null,
            "overflow_y": null,
            "padding": null,
            "right": null,
            "top": null,
            "visibility": null,
            "width": null
          }
        },
        "9e170f74b1de4ef8a1513159e395e45e": {
          "model_module": "@jupyter-widgets/controls",
          "model_name": "DescriptionStyleModel",
          "model_module_version": "1.5.0",
          "state": {
            "_model_module": "@jupyter-widgets/controls",
            "_model_module_version": "1.5.0",
            "_model_name": "DescriptionStyleModel",
            "_view_count": null,
            "_view_module": "@jupyter-widgets/base",
            "_view_module_version": "1.2.0",
            "_view_name": "StyleView",
            "description_width": ""
          }
        },
        "fb366c021f4d4ed5b7a93d6992e6c4ca": {
          "model_module": "@jupyter-widgets/controls",
          "model_name": "HBoxModel",
          "model_module_version": "1.5.0",
          "state": {
            "_dom_classes": [],
            "_model_module": "@jupyter-widgets/controls",
            "_model_module_version": "1.5.0",
            "_model_name": "HBoxModel",
            "_view_count": null,
            "_view_module": "@jupyter-widgets/controls",
            "_view_module_version": "1.5.0",
            "_view_name": "HBoxView",
            "box_style": "",
            "children": [
              "IPY_MODEL_2004a2125d434f51b49dcb5b981985d6",
              "IPY_MODEL_e327590d7a234fc283ad50a071150f05",
              "IPY_MODEL_338809f157704432ab7791bc6173658b"
            ],
            "layout": "IPY_MODEL_c62abcc3a6dc45eb93a6595eaaa3e7b2"
          }
        },
        "2004a2125d434f51b49dcb5b981985d6": {
          "model_module": "@jupyter-widgets/controls",
          "model_name": "HTMLModel",
          "model_module_version": "1.5.0",
          "state": {
            "_dom_classes": [],
            "_model_module": "@jupyter-widgets/controls",
            "_model_module_version": "1.5.0",
            "_model_name": "HTMLModel",
            "_view_count": null,
            "_view_module": "@jupyter-widgets/controls",
            "_view_module_version": "1.5.0",
            "_view_name": "HTMLView",
            "description": "",
            "description_tooltip": null,
            "layout": "IPY_MODEL_3f71b04dbfc74c728463c3d3011f48bf",
            "placeholder": "​",
            "style": "IPY_MODEL_63291260a518464186e91c699f227d7e",
            "value": "100%"
          }
        },
        "e327590d7a234fc283ad50a071150f05": {
          "model_module": "@jupyter-widgets/controls",
          "model_name": "FloatProgressModel",
          "model_module_version": "1.5.0",
          "state": {
            "_dom_classes": [],
            "_model_module": "@jupyter-widgets/controls",
            "_model_module_version": "1.5.0",
            "_model_name": "FloatProgressModel",
            "_view_count": null,
            "_view_module": "@jupyter-widgets/controls",
            "_view_module_version": "1.5.0",
            "_view_name": "ProgressView",
            "bar_style": "success",
            "description": "",
            "description_tooltip": null,
            "layout": "IPY_MODEL_c8ec963d276b4153ab3b5e9a3ca1872c",
            "max": 7,
            "min": 0,
            "orientation": "horizontal",
            "style": "IPY_MODEL_964a0bb1637f4e8187e117b60e46ac8b",
            "value": 7
          }
        },
        "338809f157704432ab7791bc6173658b": {
          "model_module": "@jupyter-widgets/controls",
          "model_name": "HTMLModel",
          "model_module_version": "1.5.0",
          "state": {
            "_dom_classes": [],
            "_model_module": "@jupyter-widgets/controls",
            "_model_module_version": "1.5.0",
            "_model_name": "HTMLModel",
            "_view_count": null,
            "_view_module": "@jupyter-widgets/controls",
            "_view_module_version": "1.5.0",
            "_view_name": "HTMLView",
            "description": "",
            "description_tooltip": null,
            "layout": "IPY_MODEL_470af579f4fc4d66a012d88b40af36aa",
            "placeholder": "​",
            "style": "IPY_MODEL_fc345f9f52964ea1a71d3d9a9839597e",
            "value": " 7/7 [00:00&lt;00:00, 45.71ba/s]"
          }
        },
        "c62abcc3a6dc45eb93a6595eaaa3e7b2": {
          "model_module": "@jupyter-widgets/base",
          "model_name": "LayoutModel",
          "model_module_version": "1.2.0",
          "state": {
            "_model_module": "@jupyter-widgets/base",
            "_model_module_version": "1.2.0",
            "_model_name": "LayoutModel",
            "_view_count": null,
            "_view_module": "@jupyter-widgets/base",
            "_view_module_version": "1.2.0",
            "_view_name": "LayoutView",
            "align_content": null,
            "align_items": null,
            "align_self": null,
            "border": null,
            "bottom": null,
            "display": null,
            "flex": null,
            "flex_flow": null,
            "grid_area": null,
            "grid_auto_columns": null,
            "grid_auto_flow": null,
            "grid_auto_rows": null,
            "grid_column": null,
            "grid_gap": null,
            "grid_row": null,
            "grid_template_areas": null,
            "grid_template_columns": null,
            "grid_template_rows": null,
            "height": null,
            "justify_content": null,
            "justify_items": null,
            "left": null,
            "margin": null,
            "max_height": null,
            "max_width": null,
            "min_height": null,
            "min_width": null,
            "object_fit": null,
            "object_position": null,
            "order": null,
            "overflow": null,
            "overflow_x": null,
            "overflow_y": null,
            "padding": null,
            "right": null,
            "top": null,
            "visibility": null,
            "width": null
          }
        },
        "3f71b04dbfc74c728463c3d3011f48bf": {
          "model_module": "@jupyter-widgets/base",
          "model_name": "LayoutModel",
          "model_module_version": "1.2.0",
          "state": {
            "_model_module": "@jupyter-widgets/base",
            "_model_module_version": "1.2.0",
            "_model_name": "LayoutModel",
            "_view_count": null,
            "_view_module": "@jupyter-widgets/base",
            "_view_module_version": "1.2.0",
            "_view_name": "LayoutView",
            "align_content": null,
            "align_items": null,
            "align_self": null,
            "border": null,
            "bottom": null,
            "display": null,
            "flex": null,
            "flex_flow": null,
            "grid_area": null,
            "grid_auto_columns": null,
            "grid_auto_flow": null,
            "grid_auto_rows": null,
            "grid_column": null,
            "grid_gap": null,
            "grid_row": null,
            "grid_template_areas": null,
            "grid_template_columns": null,
            "grid_template_rows": null,
            "height": null,
            "justify_content": null,
            "justify_items": null,
            "left": null,
            "margin": null,
            "max_height": null,
            "max_width": null,
            "min_height": null,
            "min_width": null,
            "object_fit": null,
            "object_position": null,
            "order": null,
            "overflow": null,
            "overflow_x": null,
            "overflow_y": null,
            "padding": null,
            "right": null,
            "top": null,
            "visibility": null,
            "width": null
          }
        },
        "63291260a518464186e91c699f227d7e": {
          "model_module": "@jupyter-widgets/controls",
          "model_name": "DescriptionStyleModel",
          "model_module_version": "1.5.0",
          "state": {
            "_model_module": "@jupyter-widgets/controls",
            "_model_module_version": "1.5.0",
            "_model_name": "DescriptionStyleModel",
            "_view_count": null,
            "_view_module": "@jupyter-widgets/base",
            "_view_module_version": "1.2.0",
            "_view_name": "StyleView",
            "description_width": ""
          }
        },
        "c8ec963d276b4153ab3b5e9a3ca1872c": {
          "model_module": "@jupyter-widgets/base",
          "model_name": "LayoutModel",
          "model_module_version": "1.2.0",
          "state": {
            "_model_module": "@jupyter-widgets/base",
            "_model_module_version": "1.2.0",
            "_model_name": "LayoutModel",
            "_view_count": null,
            "_view_module": "@jupyter-widgets/base",
            "_view_module_version": "1.2.0",
            "_view_name": "LayoutView",
            "align_content": null,
            "align_items": null,
            "align_self": null,
            "border": null,
            "bottom": null,
            "display": null,
            "flex": null,
            "flex_flow": null,
            "grid_area": null,
            "grid_auto_columns": null,
            "grid_auto_flow": null,
            "grid_auto_rows": null,
            "grid_column": null,
            "grid_gap": null,
            "grid_row": null,
            "grid_template_areas": null,
            "grid_template_columns": null,
            "grid_template_rows": null,
            "height": null,
            "justify_content": null,
            "justify_items": null,
            "left": null,
            "margin": null,
            "max_height": null,
            "max_width": null,
            "min_height": null,
            "min_width": null,
            "object_fit": null,
            "object_position": null,
            "order": null,
            "overflow": null,
            "overflow_x": null,
            "overflow_y": null,
            "padding": null,
            "right": null,
            "top": null,
            "visibility": null,
            "width": null
          }
        },
        "964a0bb1637f4e8187e117b60e46ac8b": {
          "model_module": "@jupyter-widgets/controls",
          "model_name": "ProgressStyleModel",
          "model_module_version": "1.5.0",
          "state": {
            "_model_module": "@jupyter-widgets/controls",
            "_model_module_version": "1.5.0",
            "_model_name": "ProgressStyleModel",
            "_view_count": null,
            "_view_module": "@jupyter-widgets/base",
            "_view_module_version": "1.2.0",
            "_view_name": "StyleView",
            "bar_color": null,
            "description_width": ""
          }
        },
        "470af579f4fc4d66a012d88b40af36aa": {
          "model_module": "@jupyter-widgets/base",
          "model_name": "LayoutModel",
          "model_module_version": "1.2.0",
          "state": {
            "_model_module": "@jupyter-widgets/base",
            "_model_module_version": "1.2.0",
            "_model_name": "LayoutModel",
            "_view_count": null,
            "_view_module": "@jupyter-widgets/base",
            "_view_module_version": "1.2.0",
            "_view_name": "LayoutView",
            "align_content": null,
            "align_items": null,
            "align_self": null,
            "border": null,
            "bottom": null,
            "display": null,
            "flex": null,
            "flex_flow": null,
            "grid_area": null,
            "grid_auto_columns": null,
            "grid_auto_flow": null,
            "grid_auto_rows": null,
            "grid_column": null,
            "grid_gap": null,
            "grid_row": null,
            "grid_template_areas": null,
            "grid_template_columns": null,
            "grid_template_rows": null,
            "height": null,
            "justify_content": null,
            "justify_items": null,
            "left": null,
            "margin": null,
            "max_height": null,
            "max_width": null,
            "min_height": null,
            "min_width": null,
            "object_fit": null,
            "object_position": null,
            "order": null,
            "overflow": null,
            "overflow_x": null,
            "overflow_y": null,
            "padding": null,
            "right": null,
            "top": null,
            "visibility": null,
            "width": null
          }
        },
        "fc345f9f52964ea1a71d3d9a9839597e": {
          "model_module": "@jupyter-widgets/controls",
          "model_name": "DescriptionStyleModel",
          "model_module_version": "1.5.0",
          "state": {
            "_model_module": "@jupyter-widgets/controls",
            "_model_module_version": "1.5.0",
            "_model_name": "DescriptionStyleModel",
            "_view_count": null,
            "_view_module": "@jupyter-widgets/base",
            "_view_module_version": "1.2.0",
            "_view_name": "StyleView",
            "description_width": ""
          }
        },
        "d6a11cc06a9d458e9b460833fa5320dd": {
          "model_module": "@jupyter-widgets/controls",
          "model_name": "HBoxModel",
          "model_module_version": "1.5.0",
          "state": {
            "_dom_classes": [],
            "_model_module": "@jupyter-widgets/controls",
            "_model_module_version": "1.5.0",
            "_model_name": "HBoxModel",
            "_view_count": null,
            "_view_module": "@jupyter-widgets/controls",
            "_view_module_version": "1.5.0",
            "_view_name": "HBoxView",
            "box_style": "",
            "children": [
              "IPY_MODEL_3a16024278444cbeb4e229707124d5c4",
              "IPY_MODEL_afffc2027f7c4722abae46a315eee88a",
              "IPY_MODEL_22f6010fe9174a219dda67c7069680af"
            ],
            "layout": "IPY_MODEL_1ddcb243dcfa4474a5dff2ef45c2bc6b"
          }
        },
        "3a16024278444cbeb4e229707124d5c4": {
          "model_module": "@jupyter-widgets/controls",
          "model_name": "HTMLModel",
          "model_module_version": "1.5.0",
          "state": {
            "_dom_classes": [],
            "_model_module": "@jupyter-widgets/controls",
            "_model_module_version": "1.5.0",
            "_model_name": "HTMLModel",
            "_view_count": null,
            "_view_module": "@jupyter-widgets/controls",
            "_view_module_version": "1.5.0",
            "_view_name": "HTMLView",
            "description": "",
            "description_tooltip": null,
            "layout": "IPY_MODEL_e081eec66f1d4aa698176a2748ff0dfa",
            "placeholder": "​",
            "style": "IPY_MODEL_0fc323cabc704759a1d0a317505cab0d",
            "value": "100%"
          }
        },
        "afffc2027f7c4722abae46a315eee88a": {
          "model_module": "@jupyter-widgets/controls",
          "model_name": "FloatProgressModel",
          "model_module_version": "1.5.0",
          "state": {
            "_dom_classes": [],
            "_model_module": "@jupyter-widgets/controls",
            "_model_module_version": "1.5.0",
            "_model_name": "FloatProgressModel",
            "_view_count": null,
            "_view_module": "@jupyter-widgets/controls",
            "_view_module_version": "1.5.0",
            "_view_name": "ProgressView",
            "bar_style": "success",
            "description": "",
            "description_tooltip": null,
            "layout": "IPY_MODEL_c58cf3e22bb74e8da37c4e2efa5a876e",
            "max": 7,
            "min": 0,
            "orientation": "horizontal",
            "style": "IPY_MODEL_795df9c701ce402aa02c688afa73dd83",
            "value": 7
          }
        },
        "22f6010fe9174a219dda67c7069680af": {
          "model_module": "@jupyter-widgets/controls",
          "model_name": "HTMLModel",
          "model_module_version": "1.5.0",
          "state": {
            "_dom_classes": [],
            "_model_module": "@jupyter-widgets/controls",
            "_model_module_version": "1.5.0",
            "_model_name": "HTMLModel",
            "_view_count": null,
            "_view_module": "@jupyter-widgets/controls",
            "_view_module_version": "1.5.0",
            "_view_name": "HTMLView",
            "description": "",
            "description_tooltip": null,
            "layout": "IPY_MODEL_8d499bf494974413ab295f368e9880d9",
            "placeholder": "​",
            "style": "IPY_MODEL_46682a61f4934c7498db2d66156028d8",
            "value": " 7/7 [00:00&lt;00:00, 89.17ba/s]"
          }
        },
        "1ddcb243dcfa4474a5dff2ef45c2bc6b": {
          "model_module": "@jupyter-widgets/base",
          "model_name": "LayoutModel",
          "model_module_version": "1.2.0",
          "state": {
            "_model_module": "@jupyter-widgets/base",
            "_model_module_version": "1.2.0",
            "_model_name": "LayoutModel",
            "_view_count": null,
            "_view_module": "@jupyter-widgets/base",
            "_view_module_version": "1.2.0",
            "_view_name": "LayoutView",
            "align_content": null,
            "align_items": null,
            "align_self": null,
            "border": null,
            "bottom": null,
            "display": null,
            "flex": null,
            "flex_flow": null,
            "grid_area": null,
            "grid_auto_columns": null,
            "grid_auto_flow": null,
            "grid_auto_rows": null,
            "grid_column": null,
            "grid_gap": null,
            "grid_row": null,
            "grid_template_areas": null,
            "grid_template_columns": null,
            "grid_template_rows": null,
            "height": null,
            "justify_content": null,
            "justify_items": null,
            "left": null,
            "margin": null,
            "max_height": null,
            "max_width": null,
            "min_height": null,
            "min_width": null,
            "object_fit": null,
            "object_position": null,
            "order": null,
            "overflow": null,
            "overflow_x": null,
            "overflow_y": null,
            "padding": null,
            "right": null,
            "top": null,
            "visibility": null,
            "width": null
          }
        },
        "e081eec66f1d4aa698176a2748ff0dfa": {
          "model_module": "@jupyter-widgets/base",
          "model_name": "LayoutModel",
          "model_module_version": "1.2.0",
          "state": {
            "_model_module": "@jupyter-widgets/base",
            "_model_module_version": "1.2.0",
            "_model_name": "LayoutModel",
            "_view_count": null,
            "_view_module": "@jupyter-widgets/base",
            "_view_module_version": "1.2.0",
            "_view_name": "LayoutView",
            "align_content": null,
            "align_items": null,
            "align_self": null,
            "border": null,
            "bottom": null,
            "display": null,
            "flex": null,
            "flex_flow": null,
            "grid_area": null,
            "grid_auto_columns": null,
            "grid_auto_flow": null,
            "grid_auto_rows": null,
            "grid_column": null,
            "grid_gap": null,
            "grid_row": null,
            "grid_template_areas": null,
            "grid_template_columns": null,
            "grid_template_rows": null,
            "height": null,
            "justify_content": null,
            "justify_items": null,
            "left": null,
            "margin": null,
            "max_height": null,
            "max_width": null,
            "min_height": null,
            "min_width": null,
            "object_fit": null,
            "object_position": null,
            "order": null,
            "overflow": null,
            "overflow_x": null,
            "overflow_y": null,
            "padding": null,
            "right": null,
            "top": null,
            "visibility": null,
            "width": null
          }
        },
        "0fc323cabc704759a1d0a317505cab0d": {
          "model_module": "@jupyter-widgets/controls",
          "model_name": "DescriptionStyleModel",
          "model_module_version": "1.5.0",
          "state": {
            "_model_module": "@jupyter-widgets/controls",
            "_model_module_version": "1.5.0",
            "_model_name": "DescriptionStyleModel",
            "_view_count": null,
            "_view_module": "@jupyter-widgets/base",
            "_view_module_version": "1.2.0",
            "_view_name": "StyleView",
            "description_width": ""
          }
        },
        "c58cf3e22bb74e8da37c4e2efa5a876e": {
          "model_module": "@jupyter-widgets/base",
          "model_name": "LayoutModel",
          "model_module_version": "1.2.0",
          "state": {
            "_model_module": "@jupyter-widgets/base",
            "_model_module_version": "1.2.0",
            "_model_name": "LayoutModel",
            "_view_count": null,
            "_view_module": "@jupyter-widgets/base",
            "_view_module_version": "1.2.0",
            "_view_name": "LayoutView",
            "align_content": null,
            "align_items": null,
            "align_self": null,
            "border": null,
            "bottom": null,
            "display": null,
            "flex": null,
            "flex_flow": null,
            "grid_area": null,
            "grid_auto_columns": null,
            "grid_auto_flow": null,
            "grid_auto_rows": null,
            "grid_column": null,
            "grid_gap": null,
            "grid_row": null,
            "grid_template_areas": null,
            "grid_template_columns": null,
            "grid_template_rows": null,
            "height": null,
            "justify_content": null,
            "justify_items": null,
            "left": null,
            "margin": null,
            "max_height": null,
            "max_width": null,
            "min_height": null,
            "min_width": null,
            "object_fit": null,
            "object_position": null,
            "order": null,
            "overflow": null,
            "overflow_x": null,
            "overflow_y": null,
            "padding": null,
            "right": null,
            "top": null,
            "visibility": null,
            "width": null
          }
        },
        "795df9c701ce402aa02c688afa73dd83": {
          "model_module": "@jupyter-widgets/controls",
          "model_name": "ProgressStyleModel",
          "model_module_version": "1.5.0",
          "state": {
            "_model_module": "@jupyter-widgets/controls",
            "_model_module_version": "1.5.0",
            "_model_name": "ProgressStyleModel",
            "_view_count": null,
            "_view_module": "@jupyter-widgets/base",
            "_view_module_version": "1.2.0",
            "_view_name": "StyleView",
            "bar_color": null,
            "description_width": ""
          }
        },
        "8d499bf494974413ab295f368e9880d9": {
          "model_module": "@jupyter-widgets/base",
          "model_name": "LayoutModel",
          "model_module_version": "1.2.0",
          "state": {
            "_model_module": "@jupyter-widgets/base",
            "_model_module_version": "1.2.0",
            "_model_name": "LayoutModel",
            "_view_count": null,
            "_view_module": "@jupyter-widgets/base",
            "_view_module_version": "1.2.0",
            "_view_name": "LayoutView",
            "align_content": null,
            "align_items": null,
            "align_self": null,
            "border": null,
            "bottom": null,
            "display": null,
            "flex": null,
            "flex_flow": null,
            "grid_area": null,
            "grid_auto_columns": null,
            "grid_auto_flow": null,
            "grid_auto_rows": null,
            "grid_column": null,
            "grid_gap": null,
            "grid_row": null,
            "grid_template_areas": null,
            "grid_template_columns": null,
            "grid_template_rows": null,
            "height": null,
            "justify_content": null,
            "justify_items": null,
            "left": null,
            "margin": null,
            "max_height": null,
            "max_width": null,
            "min_height": null,
            "min_width": null,
            "object_fit": null,
            "object_position": null,
            "order": null,
            "overflow": null,
            "overflow_x": null,
            "overflow_y": null,
            "padding": null,
            "right": null,
            "top": null,
            "visibility": null,
            "width": null
          }
        },
        "46682a61f4934c7498db2d66156028d8": {
          "model_module": "@jupyter-widgets/controls",
          "model_name": "DescriptionStyleModel",
          "model_module_version": "1.5.0",
          "state": {
            "_model_module": "@jupyter-widgets/controls",
            "_model_module_version": "1.5.0",
            "_model_name": "DescriptionStyleModel",
            "_view_count": null,
            "_view_module": "@jupyter-widgets/base",
            "_view_module_version": "1.2.0",
            "_view_name": "StyleView",
            "description_width": ""
          }
        },
        "c295f4312cc74f36947f025456cdf51d": {
          "model_module": "@jupyter-widgets/controls",
          "model_name": "HBoxModel",
          "model_module_version": "1.5.0",
          "state": {
            "_dom_classes": [],
            "_model_module": "@jupyter-widgets/controls",
            "_model_module_version": "1.5.0",
            "_model_name": "HBoxModel",
            "_view_count": null,
            "_view_module": "@jupyter-widgets/controls",
            "_view_module_version": "1.5.0",
            "_view_name": "HBoxView",
            "box_style": "",
            "children": [
              "IPY_MODEL_6bbad4bfaa0e40a999bb2b8af6b277a6",
              "IPY_MODEL_39bc05407c05407da0d38aa5515152c2",
              "IPY_MODEL_a5ffce1c598c4bc59d5d67f3315f1aa4"
            ],
            "layout": "IPY_MODEL_36bdfdf0662d4ad8b5e72f432d77ac94"
          }
        },
        "6bbad4bfaa0e40a999bb2b8af6b277a6": {
          "model_module": "@jupyter-widgets/controls",
          "model_name": "HTMLModel",
          "model_module_version": "1.5.0",
          "state": {
            "_dom_classes": [],
            "_model_module": "@jupyter-widgets/controls",
            "_model_module_version": "1.5.0",
            "_model_name": "HTMLModel",
            "_view_count": null,
            "_view_module": "@jupyter-widgets/controls",
            "_view_module_version": "1.5.0",
            "_view_name": "HTMLView",
            "description": "",
            "description_tooltip": null,
            "layout": "IPY_MODEL_08fa5eb72a2a4b0c9a57f874ac55dd6c",
            "placeholder": "​",
            "style": "IPY_MODEL_244d20ac09764ebc96d790454ba4b20f",
            "value": "100%"
          }
        },
        "39bc05407c05407da0d38aa5515152c2": {
          "model_module": "@jupyter-widgets/controls",
          "model_name": "FloatProgressModel",
          "model_module_version": "1.5.0",
          "state": {
            "_dom_classes": [],
            "_model_module": "@jupyter-widgets/controls",
            "_model_module_version": "1.5.0",
            "_model_name": "FloatProgressModel",
            "_view_count": null,
            "_view_module": "@jupyter-widgets/controls",
            "_view_module_version": "1.5.0",
            "_view_name": "ProgressView",
            "bar_style": "success",
            "description": "",
            "description_tooltip": null,
            "layout": "IPY_MODEL_9789da7ddb8c41ea8261dc462e988119",
            "max": 7,
            "min": 0,
            "orientation": "horizontal",
            "style": "IPY_MODEL_a5d56fac7bc14d77b51cc41bf7ae813d",
            "value": 7
          }
        },
        "a5ffce1c598c4bc59d5d67f3315f1aa4": {
          "model_module": "@jupyter-widgets/controls",
          "model_name": "HTMLModel",
          "model_module_version": "1.5.0",
          "state": {
            "_dom_classes": [],
            "_model_module": "@jupyter-widgets/controls",
            "_model_module_version": "1.5.0",
            "_model_name": "HTMLModel",
            "_view_count": null,
            "_view_module": "@jupyter-widgets/controls",
            "_view_module_version": "1.5.0",
            "_view_name": "HTMLView",
            "description": "",
            "description_tooltip": null,
            "layout": "IPY_MODEL_9cc11eabd0d44139a6e0e98a7b46b25a",
            "placeholder": "​",
            "style": "IPY_MODEL_79ba7b4fbfe94611a8aefc6a41a9e412",
            "value": " 7/7 [00:00&lt;00:00, 97.58ba/s]"
          }
        },
        "36bdfdf0662d4ad8b5e72f432d77ac94": {
          "model_module": "@jupyter-widgets/base",
          "model_name": "LayoutModel",
          "model_module_version": "1.2.0",
          "state": {
            "_model_module": "@jupyter-widgets/base",
            "_model_module_version": "1.2.0",
            "_model_name": "LayoutModel",
            "_view_count": null,
            "_view_module": "@jupyter-widgets/base",
            "_view_module_version": "1.2.0",
            "_view_name": "LayoutView",
            "align_content": null,
            "align_items": null,
            "align_self": null,
            "border": null,
            "bottom": null,
            "display": null,
            "flex": null,
            "flex_flow": null,
            "grid_area": null,
            "grid_auto_columns": null,
            "grid_auto_flow": null,
            "grid_auto_rows": null,
            "grid_column": null,
            "grid_gap": null,
            "grid_row": null,
            "grid_template_areas": null,
            "grid_template_columns": null,
            "grid_template_rows": null,
            "height": null,
            "justify_content": null,
            "justify_items": null,
            "left": null,
            "margin": null,
            "max_height": null,
            "max_width": null,
            "min_height": null,
            "min_width": null,
            "object_fit": null,
            "object_position": null,
            "order": null,
            "overflow": null,
            "overflow_x": null,
            "overflow_y": null,
            "padding": null,
            "right": null,
            "top": null,
            "visibility": null,
            "width": null
          }
        },
        "08fa5eb72a2a4b0c9a57f874ac55dd6c": {
          "model_module": "@jupyter-widgets/base",
          "model_name": "LayoutModel",
          "model_module_version": "1.2.0",
          "state": {
            "_model_module": "@jupyter-widgets/base",
            "_model_module_version": "1.2.0",
            "_model_name": "LayoutModel",
            "_view_count": null,
            "_view_module": "@jupyter-widgets/base",
            "_view_module_version": "1.2.0",
            "_view_name": "LayoutView",
            "align_content": null,
            "align_items": null,
            "align_self": null,
            "border": null,
            "bottom": null,
            "display": null,
            "flex": null,
            "flex_flow": null,
            "grid_area": null,
            "grid_auto_columns": null,
            "grid_auto_flow": null,
            "grid_auto_rows": null,
            "grid_column": null,
            "grid_gap": null,
            "grid_row": null,
            "grid_template_areas": null,
            "grid_template_columns": null,
            "grid_template_rows": null,
            "height": null,
            "justify_content": null,
            "justify_items": null,
            "left": null,
            "margin": null,
            "max_height": null,
            "max_width": null,
            "min_height": null,
            "min_width": null,
            "object_fit": null,
            "object_position": null,
            "order": null,
            "overflow": null,
            "overflow_x": null,
            "overflow_y": null,
            "padding": null,
            "right": null,
            "top": null,
            "visibility": null,
            "width": null
          }
        },
        "244d20ac09764ebc96d790454ba4b20f": {
          "model_module": "@jupyter-widgets/controls",
          "model_name": "DescriptionStyleModel",
          "model_module_version": "1.5.0",
          "state": {
            "_model_module": "@jupyter-widgets/controls",
            "_model_module_version": "1.5.0",
            "_model_name": "DescriptionStyleModel",
            "_view_count": null,
            "_view_module": "@jupyter-widgets/base",
            "_view_module_version": "1.2.0",
            "_view_name": "StyleView",
            "description_width": ""
          }
        },
        "9789da7ddb8c41ea8261dc462e988119": {
          "model_module": "@jupyter-widgets/base",
          "model_name": "LayoutModel",
          "model_module_version": "1.2.0",
          "state": {
            "_model_module": "@jupyter-widgets/base",
            "_model_module_version": "1.2.0",
            "_model_name": "LayoutModel",
            "_view_count": null,
            "_view_module": "@jupyter-widgets/base",
            "_view_module_version": "1.2.0",
            "_view_name": "LayoutView",
            "align_content": null,
            "align_items": null,
            "align_self": null,
            "border": null,
            "bottom": null,
            "display": null,
            "flex": null,
            "flex_flow": null,
            "grid_area": null,
            "grid_auto_columns": null,
            "grid_auto_flow": null,
            "grid_auto_rows": null,
            "grid_column": null,
            "grid_gap": null,
            "grid_row": null,
            "grid_template_areas": null,
            "grid_template_columns": null,
            "grid_template_rows": null,
            "height": null,
            "justify_content": null,
            "justify_items": null,
            "left": null,
            "margin": null,
            "max_height": null,
            "max_width": null,
            "min_height": null,
            "min_width": null,
            "object_fit": null,
            "object_position": null,
            "order": null,
            "overflow": null,
            "overflow_x": null,
            "overflow_y": null,
            "padding": null,
            "right": null,
            "top": null,
            "visibility": null,
            "width": null
          }
        },
        "a5d56fac7bc14d77b51cc41bf7ae813d": {
          "model_module": "@jupyter-widgets/controls",
          "model_name": "ProgressStyleModel",
          "model_module_version": "1.5.0",
          "state": {
            "_model_module": "@jupyter-widgets/controls",
            "_model_module_version": "1.5.0",
            "_model_name": "ProgressStyleModel",
            "_view_count": null,
            "_view_module": "@jupyter-widgets/base",
            "_view_module_version": "1.2.0",
            "_view_name": "StyleView",
            "bar_color": null,
            "description_width": ""
          }
        },
        "9cc11eabd0d44139a6e0e98a7b46b25a": {
          "model_module": "@jupyter-widgets/base",
          "model_name": "LayoutModel",
          "model_module_version": "1.2.0",
          "state": {
            "_model_module": "@jupyter-widgets/base",
            "_model_module_version": "1.2.0",
            "_model_name": "LayoutModel",
            "_view_count": null,
            "_view_module": "@jupyter-widgets/base",
            "_view_module_version": "1.2.0",
            "_view_name": "LayoutView",
            "align_content": null,
            "align_items": null,
            "align_self": null,
            "border": null,
            "bottom": null,
            "display": null,
            "flex": null,
            "flex_flow": null,
            "grid_area": null,
            "grid_auto_columns": null,
            "grid_auto_flow": null,
            "grid_auto_rows": null,
            "grid_column": null,
            "grid_gap": null,
            "grid_row": null,
            "grid_template_areas": null,
            "grid_template_columns": null,
            "grid_template_rows": null,
            "height": null,
            "justify_content": null,
            "justify_items": null,
            "left": null,
            "margin": null,
            "max_height": null,
            "max_width": null,
            "min_height": null,
            "min_width": null,
            "object_fit": null,
            "object_position": null,
            "order": null,
            "overflow": null,
            "overflow_x": null,
            "overflow_y": null,
            "padding": null,
            "right": null,
            "top": null,
            "visibility": null,
            "width": null
          }
        },
        "79ba7b4fbfe94611a8aefc6a41a9e412": {
          "model_module": "@jupyter-widgets/controls",
          "model_name": "DescriptionStyleModel",
          "model_module_version": "1.5.0",
          "state": {
            "_model_module": "@jupyter-widgets/controls",
            "_model_module_version": "1.5.0",
            "_model_name": "DescriptionStyleModel",
            "_view_count": null,
            "_view_module": "@jupyter-widgets/base",
            "_view_module_version": "1.2.0",
            "_view_name": "StyleView",
            "description_width": ""
          }
        },
        "4adb5cab39ae46279c1d086f99977f4d": {
          "model_module": "@jupyter-widgets/controls",
          "model_name": "HBoxModel",
          "model_module_version": "1.5.0",
          "state": {
            "_dom_classes": [],
            "_model_module": "@jupyter-widgets/controls",
            "_model_module_version": "1.5.0",
            "_model_name": "HBoxModel",
            "_view_count": null,
            "_view_module": "@jupyter-widgets/controls",
            "_view_module_version": "1.5.0",
            "_view_name": "HBoxView",
            "box_style": "",
            "children": [
              "IPY_MODEL_25f5234b7f0d47f7ab4c4a7d610a3269",
              "IPY_MODEL_58c729fd386a47ab9f7e9ee5af21ee94",
              "IPY_MODEL_1b161b8321ec4f828621fca02be74448"
            ],
            "layout": "IPY_MODEL_467aa6e27eb4404ba5c8eaa4a96cc351"
          }
        },
        "25f5234b7f0d47f7ab4c4a7d610a3269": {
          "model_module": "@jupyter-widgets/controls",
          "model_name": "HTMLModel",
          "model_module_version": "1.5.0",
          "state": {
            "_dom_classes": [],
            "_model_module": "@jupyter-widgets/controls",
            "_model_module_version": "1.5.0",
            "_model_name": "HTMLModel",
            "_view_count": null,
            "_view_module": "@jupyter-widgets/controls",
            "_view_module_version": "1.5.0",
            "_view_name": "HTMLView",
            "description": "",
            "description_tooltip": null,
            "layout": "IPY_MODEL_cae5912d089c433a8e34e89ae20fbd06",
            "placeholder": "​",
            "style": "IPY_MODEL_ec477f72520d486fb6773ab9ba85ef43",
            "value": "100%"
          }
        },
        "58c729fd386a47ab9f7e9ee5af21ee94": {
          "model_module": "@jupyter-widgets/controls",
          "model_name": "FloatProgressModel",
          "model_module_version": "1.5.0",
          "state": {
            "_dom_classes": [],
            "_model_module": "@jupyter-widgets/controls",
            "_model_module_version": "1.5.0",
            "_model_name": "FloatProgressModel",
            "_view_count": null,
            "_view_module": "@jupyter-widgets/controls",
            "_view_module_version": "1.5.0",
            "_view_name": "ProgressView",
            "bar_style": "success",
            "description": "",
            "description_tooltip": null,
            "layout": "IPY_MODEL_89b64c1c8f15480ba12cc2e1901e45f9",
            "max": 7,
            "min": 0,
            "orientation": "horizontal",
            "style": "IPY_MODEL_3d55de6ab5174d91be5966ee990a3b46",
            "value": 7
          }
        },
        "1b161b8321ec4f828621fca02be74448": {
          "model_module": "@jupyter-widgets/controls",
          "model_name": "HTMLModel",
          "model_module_version": "1.5.0",
          "state": {
            "_dom_classes": [],
            "_model_module": "@jupyter-widgets/controls",
            "_model_module_version": "1.5.0",
            "_model_name": "HTMLModel",
            "_view_count": null,
            "_view_module": "@jupyter-widgets/controls",
            "_view_module_version": "1.5.0",
            "_view_name": "HTMLView",
            "description": "",
            "description_tooltip": null,
            "layout": "IPY_MODEL_c674e683aed9497387535e627466eeed",
            "placeholder": "​",
            "style": "IPY_MODEL_3d94a4d8bf0e4e6c8d378e57daa5111b",
            "value": " 7/7 [00:13&lt;00:00,  1.83s/ba]"
          }
        },
        "467aa6e27eb4404ba5c8eaa4a96cc351": {
          "model_module": "@jupyter-widgets/base",
          "model_name": "LayoutModel",
          "model_module_version": "1.2.0",
          "state": {
            "_model_module": "@jupyter-widgets/base",
            "_model_module_version": "1.2.0",
            "_model_name": "LayoutModel",
            "_view_count": null,
            "_view_module": "@jupyter-widgets/base",
            "_view_module_version": "1.2.0",
            "_view_name": "LayoutView",
            "align_content": null,
            "align_items": null,
            "align_self": null,
            "border": null,
            "bottom": null,
            "display": null,
            "flex": null,
            "flex_flow": null,
            "grid_area": null,
            "grid_auto_columns": null,
            "grid_auto_flow": null,
            "grid_auto_rows": null,
            "grid_column": null,
            "grid_gap": null,
            "grid_row": null,
            "grid_template_areas": null,
            "grid_template_columns": null,
            "grid_template_rows": null,
            "height": null,
            "justify_content": null,
            "justify_items": null,
            "left": null,
            "margin": null,
            "max_height": null,
            "max_width": null,
            "min_height": null,
            "min_width": null,
            "object_fit": null,
            "object_position": null,
            "order": null,
            "overflow": null,
            "overflow_x": null,
            "overflow_y": null,
            "padding": null,
            "right": null,
            "top": null,
            "visibility": null,
            "width": null
          }
        },
        "cae5912d089c433a8e34e89ae20fbd06": {
          "model_module": "@jupyter-widgets/base",
          "model_name": "LayoutModel",
          "model_module_version": "1.2.0",
          "state": {
            "_model_module": "@jupyter-widgets/base",
            "_model_module_version": "1.2.0",
            "_model_name": "LayoutModel",
            "_view_count": null,
            "_view_module": "@jupyter-widgets/base",
            "_view_module_version": "1.2.0",
            "_view_name": "LayoutView",
            "align_content": null,
            "align_items": null,
            "align_self": null,
            "border": null,
            "bottom": null,
            "display": null,
            "flex": null,
            "flex_flow": null,
            "grid_area": null,
            "grid_auto_columns": null,
            "grid_auto_flow": null,
            "grid_auto_rows": null,
            "grid_column": null,
            "grid_gap": null,
            "grid_row": null,
            "grid_template_areas": null,
            "grid_template_columns": null,
            "grid_template_rows": null,
            "height": null,
            "justify_content": null,
            "justify_items": null,
            "left": null,
            "margin": null,
            "max_height": null,
            "max_width": null,
            "min_height": null,
            "min_width": null,
            "object_fit": null,
            "object_position": null,
            "order": null,
            "overflow": null,
            "overflow_x": null,
            "overflow_y": null,
            "padding": null,
            "right": null,
            "top": null,
            "visibility": null,
            "width": null
          }
        },
        "ec477f72520d486fb6773ab9ba85ef43": {
          "model_module": "@jupyter-widgets/controls",
          "model_name": "DescriptionStyleModel",
          "model_module_version": "1.5.0",
          "state": {
            "_model_module": "@jupyter-widgets/controls",
            "_model_module_version": "1.5.0",
            "_model_name": "DescriptionStyleModel",
            "_view_count": null,
            "_view_module": "@jupyter-widgets/base",
            "_view_module_version": "1.2.0",
            "_view_name": "StyleView",
            "description_width": ""
          }
        },
        "89b64c1c8f15480ba12cc2e1901e45f9": {
          "model_module": "@jupyter-widgets/base",
          "model_name": "LayoutModel",
          "model_module_version": "1.2.0",
          "state": {
            "_model_module": "@jupyter-widgets/base",
            "_model_module_version": "1.2.0",
            "_model_name": "LayoutModel",
            "_view_count": null,
            "_view_module": "@jupyter-widgets/base",
            "_view_module_version": "1.2.0",
            "_view_name": "LayoutView",
            "align_content": null,
            "align_items": null,
            "align_self": null,
            "border": null,
            "bottom": null,
            "display": null,
            "flex": null,
            "flex_flow": null,
            "grid_area": null,
            "grid_auto_columns": null,
            "grid_auto_flow": null,
            "grid_auto_rows": null,
            "grid_column": null,
            "grid_gap": null,
            "grid_row": null,
            "grid_template_areas": null,
            "grid_template_columns": null,
            "grid_template_rows": null,
            "height": null,
            "justify_content": null,
            "justify_items": null,
            "left": null,
            "margin": null,
            "max_height": null,
            "max_width": null,
            "min_height": null,
            "min_width": null,
            "object_fit": null,
            "object_position": null,
            "order": null,
            "overflow": null,
            "overflow_x": null,
            "overflow_y": null,
            "padding": null,
            "right": null,
            "top": null,
            "visibility": null,
            "width": null
          }
        },
        "3d55de6ab5174d91be5966ee990a3b46": {
          "model_module": "@jupyter-widgets/controls",
          "model_name": "ProgressStyleModel",
          "model_module_version": "1.5.0",
          "state": {
            "_model_module": "@jupyter-widgets/controls",
            "_model_module_version": "1.5.0",
            "_model_name": "ProgressStyleModel",
            "_view_count": null,
            "_view_module": "@jupyter-widgets/base",
            "_view_module_version": "1.2.0",
            "_view_name": "StyleView",
            "bar_color": null,
            "description_width": ""
          }
        },
        "c674e683aed9497387535e627466eeed": {
          "model_module": "@jupyter-widgets/base",
          "model_name": "LayoutModel",
          "model_module_version": "1.2.0",
          "state": {
            "_model_module": "@jupyter-widgets/base",
            "_model_module_version": "1.2.0",
            "_model_name": "LayoutModel",
            "_view_count": null,
            "_view_module": "@jupyter-widgets/base",
            "_view_module_version": "1.2.0",
            "_view_name": "LayoutView",
            "align_content": null,
            "align_items": null,
            "align_self": null,
            "border": null,
            "bottom": null,
            "display": null,
            "flex": null,
            "flex_flow": null,
            "grid_area": null,
            "grid_auto_columns": null,
            "grid_auto_flow": null,
            "grid_auto_rows": null,
            "grid_column": null,
            "grid_gap": null,
            "grid_row": null,
            "grid_template_areas": null,
            "grid_template_columns": null,
            "grid_template_rows": null,
            "height": null,
            "justify_content": null,
            "justify_items": null,
            "left": null,
            "margin": null,
            "max_height": null,
            "max_width": null,
            "min_height": null,
            "min_width": null,
            "object_fit": null,
            "object_position": null,
            "order": null,
            "overflow": null,
            "overflow_x": null,
            "overflow_y": null,
            "padding": null,
            "right": null,
            "top": null,
            "visibility": null,
            "width": null
          }
        },
        "3d94a4d8bf0e4e6c8d378e57daa5111b": {
          "model_module": "@jupyter-widgets/controls",
          "model_name": "DescriptionStyleModel",
          "model_module_version": "1.5.0",
          "state": {
            "_model_module": "@jupyter-widgets/controls",
            "_model_module_version": "1.5.0",
            "_model_name": "DescriptionStyleModel",
            "_view_count": null,
            "_view_module": "@jupyter-widgets/base",
            "_view_module_version": "1.2.0",
            "_view_name": "StyleView",
            "description_width": ""
          }
        },
        "1e2d7807e9004c728f1a0df3b2e0743c": {
          "model_module": "@jupyter-widgets/controls",
          "model_name": "HBoxModel",
          "model_module_version": "1.5.0",
          "state": {
            "_dom_classes": [],
            "_model_module": "@jupyter-widgets/controls",
            "_model_module_version": "1.5.0",
            "_model_name": "HBoxModel",
            "_view_count": null,
            "_view_module": "@jupyter-widgets/controls",
            "_view_module_version": "1.5.0",
            "_view_name": "HBoxView",
            "box_style": "",
            "children": [
              "IPY_MODEL_8101b9860f7b44e593e2d5d28f69c62e",
              "IPY_MODEL_f63545e902724d9eae5121419be9f123",
              "IPY_MODEL_56da0aa9d84643b48d468f381629090c"
            ],
            "layout": "IPY_MODEL_4bfb7eda922546699cbe7f77c1047850"
          }
        },
        "8101b9860f7b44e593e2d5d28f69c62e": {
          "model_module": "@jupyter-widgets/controls",
          "model_name": "HTMLModel",
          "model_module_version": "1.5.0",
          "state": {
            "_dom_classes": [],
            "_model_module": "@jupyter-widgets/controls",
            "_model_module_version": "1.5.0",
            "_model_name": "HTMLModel",
            "_view_count": null,
            "_view_module": "@jupyter-widgets/controls",
            "_view_module_version": "1.5.0",
            "_view_name": "HTMLView",
            "description": "",
            "description_tooltip": null,
            "layout": "IPY_MODEL_82f0756fa34d40f5b686be2c5d1acec1",
            "placeholder": "​",
            "style": "IPY_MODEL_21dad8c573a6493e8973faac47f81f79",
            "value": "100%"
          }
        },
        "f63545e902724d9eae5121419be9f123": {
          "model_module": "@jupyter-widgets/controls",
          "model_name": "FloatProgressModel",
          "model_module_version": "1.5.0",
          "state": {
            "_dom_classes": [],
            "_model_module": "@jupyter-widgets/controls",
            "_model_module_version": "1.5.0",
            "_model_name": "FloatProgressModel",
            "_view_count": null,
            "_view_module": "@jupyter-widgets/controls",
            "_view_module_version": "1.5.0",
            "_view_name": "ProgressView",
            "bar_style": "success",
            "description": "",
            "description_tooltip": null,
            "layout": "IPY_MODEL_1d1095ce05cc4cfd97d38766e817d7e6",
            "max": 618,
            "min": 0,
            "orientation": "horizontal",
            "style": "IPY_MODEL_ab813a6737734dca80ae7be759e92902",
            "value": 618
          }
        },
        "56da0aa9d84643b48d468f381629090c": {
          "model_module": "@jupyter-widgets/controls",
          "model_name": "HTMLModel",
          "model_module_version": "1.5.0",
          "state": {
            "_dom_classes": [],
            "_model_module": "@jupyter-widgets/controls",
            "_model_module_version": "1.5.0",
            "_model_name": "HTMLModel",
            "_view_count": null,
            "_view_module": "@jupyter-widgets/controls",
            "_view_module_version": "1.5.0",
            "_view_name": "HTMLView",
            "description": "",
            "description_tooltip": null,
            "layout": "IPY_MODEL_e52b285ca6094f30a0eb808c6e32250d",
            "placeholder": "​",
            "style": "IPY_MODEL_6146dac28fe546f18e62b67836524cf7",
            "value": " 618/618 [00:00&lt;00:00, 17052.93ex/s]"
          }
        },
        "4bfb7eda922546699cbe7f77c1047850": {
          "model_module": "@jupyter-widgets/base",
          "model_name": "LayoutModel",
          "model_module_version": "1.2.0",
          "state": {
            "_model_module": "@jupyter-widgets/base",
            "_model_module_version": "1.2.0",
            "_model_name": "LayoutModel",
            "_view_count": null,
            "_view_module": "@jupyter-widgets/base",
            "_view_module_version": "1.2.0",
            "_view_name": "LayoutView",
            "align_content": null,
            "align_items": null,
            "align_self": null,
            "border": null,
            "bottom": null,
            "display": null,
            "flex": null,
            "flex_flow": null,
            "grid_area": null,
            "grid_auto_columns": null,
            "grid_auto_flow": null,
            "grid_auto_rows": null,
            "grid_column": null,
            "grid_gap": null,
            "grid_row": null,
            "grid_template_areas": null,
            "grid_template_columns": null,
            "grid_template_rows": null,
            "height": null,
            "justify_content": null,
            "justify_items": null,
            "left": null,
            "margin": null,
            "max_height": null,
            "max_width": null,
            "min_height": null,
            "min_width": null,
            "object_fit": null,
            "object_position": null,
            "order": null,
            "overflow": null,
            "overflow_x": null,
            "overflow_y": null,
            "padding": null,
            "right": null,
            "top": null,
            "visibility": null,
            "width": null
          }
        },
        "82f0756fa34d40f5b686be2c5d1acec1": {
          "model_module": "@jupyter-widgets/base",
          "model_name": "LayoutModel",
          "model_module_version": "1.2.0",
          "state": {
            "_model_module": "@jupyter-widgets/base",
            "_model_module_version": "1.2.0",
            "_model_name": "LayoutModel",
            "_view_count": null,
            "_view_module": "@jupyter-widgets/base",
            "_view_module_version": "1.2.0",
            "_view_name": "LayoutView",
            "align_content": null,
            "align_items": null,
            "align_self": null,
            "border": null,
            "bottom": null,
            "display": null,
            "flex": null,
            "flex_flow": null,
            "grid_area": null,
            "grid_auto_columns": null,
            "grid_auto_flow": null,
            "grid_auto_rows": null,
            "grid_column": null,
            "grid_gap": null,
            "grid_row": null,
            "grid_template_areas": null,
            "grid_template_columns": null,
            "grid_template_rows": null,
            "height": null,
            "justify_content": null,
            "justify_items": null,
            "left": null,
            "margin": null,
            "max_height": null,
            "max_width": null,
            "min_height": null,
            "min_width": null,
            "object_fit": null,
            "object_position": null,
            "order": null,
            "overflow": null,
            "overflow_x": null,
            "overflow_y": null,
            "padding": null,
            "right": null,
            "top": null,
            "visibility": null,
            "width": null
          }
        },
        "21dad8c573a6493e8973faac47f81f79": {
          "model_module": "@jupyter-widgets/controls",
          "model_name": "DescriptionStyleModel",
          "model_module_version": "1.5.0",
          "state": {
            "_model_module": "@jupyter-widgets/controls",
            "_model_module_version": "1.5.0",
            "_model_name": "DescriptionStyleModel",
            "_view_count": null,
            "_view_module": "@jupyter-widgets/base",
            "_view_module_version": "1.2.0",
            "_view_name": "StyleView",
            "description_width": ""
          }
        },
        "1d1095ce05cc4cfd97d38766e817d7e6": {
          "model_module": "@jupyter-widgets/base",
          "model_name": "LayoutModel",
          "model_module_version": "1.2.0",
          "state": {
            "_model_module": "@jupyter-widgets/base",
            "_model_module_version": "1.2.0",
            "_model_name": "LayoutModel",
            "_view_count": null,
            "_view_module": "@jupyter-widgets/base",
            "_view_module_version": "1.2.0",
            "_view_name": "LayoutView",
            "align_content": null,
            "align_items": null,
            "align_self": null,
            "border": null,
            "bottom": null,
            "display": null,
            "flex": null,
            "flex_flow": null,
            "grid_area": null,
            "grid_auto_columns": null,
            "grid_auto_flow": null,
            "grid_auto_rows": null,
            "grid_column": null,
            "grid_gap": null,
            "grid_row": null,
            "grid_template_areas": null,
            "grid_template_columns": null,
            "grid_template_rows": null,
            "height": null,
            "justify_content": null,
            "justify_items": null,
            "left": null,
            "margin": null,
            "max_height": null,
            "max_width": null,
            "min_height": null,
            "min_width": null,
            "object_fit": null,
            "object_position": null,
            "order": null,
            "overflow": null,
            "overflow_x": null,
            "overflow_y": null,
            "padding": null,
            "right": null,
            "top": null,
            "visibility": null,
            "width": null
          }
        },
        "ab813a6737734dca80ae7be759e92902": {
          "model_module": "@jupyter-widgets/controls",
          "model_name": "ProgressStyleModel",
          "model_module_version": "1.5.0",
          "state": {
            "_model_module": "@jupyter-widgets/controls",
            "_model_module_version": "1.5.0",
            "_model_name": "ProgressStyleModel",
            "_view_count": null,
            "_view_module": "@jupyter-widgets/base",
            "_view_module_version": "1.2.0",
            "_view_name": "StyleView",
            "bar_color": null,
            "description_width": ""
          }
        },
        "e52b285ca6094f30a0eb808c6e32250d": {
          "model_module": "@jupyter-widgets/base",
          "model_name": "LayoutModel",
          "model_module_version": "1.2.0",
          "state": {
            "_model_module": "@jupyter-widgets/base",
            "_model_module_version": "1.2.0",
            "_model_name": "LayoutModel",
            "_view_count": null,
            "_view_module": "@jupyter-widgets/base",
            "_view_module_version": "1.2.0",
            "_view_name": "LayoutView",
            "align_content": null,
            "align_items": null,
            "align_self": null,
            "border": null,
            "bottom": null,
            "display": null,
            "flex": null,
            "flex_flow": null,
            "grid_area": null,
            "grid_auto_columns": null,
            "grid_auto_flow": null,
            "grid_auto_rows": null,
            "grid_column": null,
            "grid_gap": null,
            "grid_row": null,
            "grid_template_areas": null,
            "grid_template_columns": null,
            "grid_template_rows": null,
            "height": null,
            "justify_content": null,
            "justify_items": null,
            "left": null,
            "margin": null,
            "max_height": null,
            "max_width": null,
            "min_height": null,
            "min_width": null,
            "object_fit": null,
            "object_position": null,
            "order": null,
            "overflow": null,
            "overflow_x": null,
            "overflow_y": null,
            "padding": null,
            "right": null,
            "top": null,
            "visibility": null,
            "width": null
          }
        },
        "6146dac28fe546f18e62b67836524cf7": {
          "model_module": "@jupyter-widgets/controls",
          "model_name": "DescriptionStyleModel",
          "model_module_version": "1.5.0",
          "state": {
            "_model_module": "@jupyter-widgets/controls",
            "_model_module_version": "1.5.0",
            "_model_name": "DescriptionStyleModel",
            "_view_count": null,
            "_view_module": "@jupyter-widgets/base",
            "_view_module_version": "1.2.0",
            "_view_name": "StyleView",
            "description_width": ""
          }
        },
        "33fbb55371414ba4bbc3bff6f3a29d05": {
          "model_module": "@jupyter-widgets/controls",
          "model_name": "HBoxModel",
          "model_module_version": "1.5.0",
          "state": {
            "_dom_classes": [],
            "_model_module": "@jupyter-widgets/controls",
            "_model_module_version": "1.5.0",
            "_model_name": "HBoxModel",
            "_view_count": null,
            "_view_module": "@jupyter-widgets/controls",
            "_view_module_version": "1.5.0",
            "_view_name": "HBoxView",
            "box_style": "",
            "children": [
              "IPY_MODEL_ecd4b236e02f4ddd9c1238aa836ca327",
              "IPY_MODEL_449ce055266543dfb691f029c309fadc",
              "IPY_MODEL_bdc19873d200427ebfda25eb238ee3f1"
            ],
            "layout": "IPY_MODEL_584e0b4537ee4dfeaf69dfdbaf946ae9"
          }
        },
        "ecd4b236e02f4ddd9c1238aa836ca327": {
          "model_module": "@jupyter-widgets/controls",
          "model_name": "HTMLModel",
          "model_module_version": "1.5.0",
          "state": {
            "_dom_classes": [],
            "_model_module": "@jupyter-widgets/controls",
            "_model_module_version": "1.5.0",
            "_model_name": "HTMLModel",
            "_view_count": null,
            "_view_module": "@jupyter-widgets/controls",
            "_view_module_version": "1.5.0",
            "_view_name": "HTMLView",
            "description": "",
            "description_tooltip": null,
            "layout": "IPY_MODEL_05e9631977b743399cf34233c7eee7ec",
            "placeholder": "​",
            "style": "IPY_MODEL_dc267c1d7fba4acab95eec21efa997a7",
            "value": "100%"
          }
        },
        "449ce055266543dfb691f029c309fadc": {
          "model_module": "@jupyter-widgets/controls",
          "model_name": "FloatProgressModel",
          "model_module_version": "1.5.0",
          "state": {
            "_dom_classes": [],
            "_model_module": "@jupyter-widgets/controls",
            "_model_module_version": "1.5.0",
            "_model_name": "FloatProgressModel",
            "_view_count": null,
            "_view_module": "@jupyter-widgets/controls",
            "_view_module_version": "1.5.0",
            "_view_name": "ProgressView",
            "bar_style": "success",
            "description": "",
            "description_tooltip": null,
            "layout": "IPY_MODEL_222af1c853074838aacd523723e37d09",
            "max": 618,
            "min": 0,
            "orientation": "horizontal",
            "style": "IPY_MODEL_8e73abc478484dafbe2e0baf6942f911",
            "value": 618
          }
        },
        "bdc19873d200427ebfda25eb238ee3f1": {
          "model_module": "@jupyter-widgets/controls",
          "model_name": "HTMLModel",
          "model_module_version": "1.5.0",
          "state": {
            "_dom_classes": [],
            "_model_module": "@jupyter-widgets/controls",
            "_model_module_version": "1.5.0",
            "_model_name": "HTMLModel",
            "_view_count": null,
            "_view_module": "@jupyter-widgets/controls",
            "_view_module_version": "1.5.0",
            "_view_name": "HTMLView",
            "description": "",
            "description_tooltip": null,
            "layout": "IPY_MODEL_1cf593141fa541339495234d5c55bd2d",
            "placeholder": "​",
            "style": "IPY_MODEL_a5db7f047a7a45a2aad8f4176791b967",
            "value": " 618/618 [00:00&lt;00:00, 12348.18ex/s]"
          }
        },
        "584e0b4537ee4dfeaf69dfdbaf946ae9": {
          "model_module": "@jupyter-widgets/base",
          "model_name": "LayoutModel",
          "model_module_version": "1.2.0",
          "state": {
            "_model_module": "@jupyter-widgets/base",
            "_model_module_version": "1.2.0",
            "_model_name": "LayoutModel",
            "_view_count": null,
            "_view_module": "@jupyter-widgets/base",
            "_view_module_version": "1.2.0",
            "_view_name": "LayoutView",
            "align_content": null,
            "align_items": null,
            "align_self": null,
            "border": null,
            "bottom": null,
            "display": null,
            "flex": null,
            "flex_flow": null,
            "grid_area": null,
            "grid_auto_columns": null,
            "grid_auto_flow": null,
            "grid_auto_rows": null,
            "grid_column": null,
            "grid_gap": null,
            "grid_row": null,
            "grid_template_areas": null,
            "grid_template_columns": null,
            "grid_template_rows": null,
            "height": null,
            "justify_content": null,
            "justify_items": null,
            "left": null,
            "margin": null,
            "max_height": null,
            "max_width": null,
            "min_height": null,
            "min_width": null,
            "object_fit": null,
            "object_position": null,
            "order": null,
            "overflow": null,
            "overflow_x": null,
            "overflow_y": null,
            "padding": null,
            "right": null,
            "top": null,
            "visibility": null,
            "width": null
          }
        },
        "05e9631977b743399cf34233c7eee7ec": {
          "model_module": "@jupyter-widgets/base",
          "model_name": "LayoutModel",
          "model_module_version": "1.2.0",
          "state": {
            "_model_module": "@jupyter-widgets/base",
            "_model_module_version": "1.2.0",
            "_model_name": "LayoutModel",
            "_view_count": null,
            "_view_module": "@jupyter-widgets/base",
            "_view_module_version": "1.2.0",
            "_view_name": "LayoutView",
            "align_content": null,
            "align_items": null,
            "align_self": null,
            "border": null,
            "bottom": null,
            "display": null,
            "flex": null,
            "flex_flow": null,
            "grid_area": null,
            "grid_auto_columns": null,
            "grid_auto_flow": null,
            "grid_auto_rows": null,
            "grid_column": null,
            "grid_gap": null,
            "grid_row": null,
            "grid_template_areas": null,
            "grid_template_columns": null,
            "grid_template_rows": null,
            "height": null,
            "justify_content": null,
            "justify_items": null,
            "left": null,
            "margin": null,
            "max_height": null,
            "max_width": null,
            "min_height": null,
            "min_width": null,
            "object_fit": null,
            "object_position": null,
            "order": null,
            "overflow": null,
            "overflow_x": null,
            "overflow_y": null,
            "padding": null,
            "right": null,
            "top": null,
            "visibility": null,
            "width": null
          }
        },
        "dc267c1d7fba4acab95eec21efa997a7": {
          "model_module": "@jupyter-widgets/controls",
          "model_name": "DescriptionStyleModel",
          "model_module_version": "1.5.0",
          "state": {
            "_model_module": "@jupyter-widgets/controls",
            "_model_module_version": "1.5.0",
            "_model_name": "DescriptionStyleModel",
            "_view_count": null,
            "_view_module": "@jupyter-widgets/base",
            "_view_module_version": "1.2.0",
            "_view_name": "StyleView",
            "description_width": ""
          }
        },
        "222af1c853074838aacd523723e37d09": {
          "model_module": "@jupyter-widgets/base",
          "model_name": "LayoutModel",
          "model_module_version": "1.2.0",
          "state": {
            "_model_module": "@jupyter-widgets/base",
            "_model_module_version": "1.2.0",
            "_model_name": "LayoutModel",
            "_view_count": null,
            "_view_module": "@jupyter-widgets/base",
            "_view_module_version": "1.2.0",
            "_view_name": "LayoutView",
            "align_content": null,
            "align_items": null,
            "align_self": null,
            "border": null,
            "bottom": null,
            "display": null,
            "flex": null,
            "flex_flow": null,
            "grid_area": null,
            "grid_auto_columns": null,
            "grid_auto_flow": null,
            "grid_auto_rows": null,
            "grid_column": null,
            "grid_gap": null,
            "grid_row": null,
            "grid_template_areas": null,
            "grid_template_columns": null,
            "grid_template_rows": null,
            "height": null,
            "justify_content": null,
            "justify_items": null,
            "left": null,
            "margin": null,
            "max_height": null,
            "max_width": null,
            "min_height": null,
            "min_width": null,
            "object_fit": null,
            "object_position": null,
            "order": null,
            "overflow": null,
            "overflow_x": null,
            "overflow_y": null,
            "padding": null,
            "right": null,
            "top": null,
            "visibility": null,
            "width": null
          }
        },
        "8e73abc478484dafbe2e0baf6942f911": {
          "model_module": "@jupyter-widgets/controls",
          "model_name": "ProgressStyleModel",
          "model_module_version": "1.5.0",
          "state": {
            "_model_module": "@jupyter-widgets/controls",
            "_model_module_version": "1.5.0",
            "_model_name": "ProgressStyleModel",
            "_view_count": null,
            "_view_module": "@jupyter-widgets/base",
            "_view_module_version": "1.2.0",
            "_view_name": "StyleView",
            "bar_color": null,
            "description_width": ""
          }
        },
        "1cf593141fa541339495234d5c55bd2d": {
          "model_module": "@jupyter-widgets/base",
          "model_name": "LayoutModel",
          "model_module_version": "1.2.0",
          "state": {
            "_model_module": "@jupyter-widgets/base",
            "_model_module_version": "1.2.0",
            "_model_name": "LayoutModel",
            "_view_count": null,
            "_view_module": "@jupyter-widgets/base",
            "_view_module_version": "1.2.0",
            "_view_name": "LayoutView",
            "align_content": null,
            "align_items": null,
            "align_self": null,
            "border": null,
            "bottom": null,
            "display": null,
            "flex": null,
            "flex_flow": null,
            "grid_area": null,
            "grid_auto_columns": null,
            "grid_auto_flow": null,
            "grid_auto_rows": null,
            "grid_column": null,
            "grid_gap": null,
            "grid_row": null,
            "grid_template_areas": null,
            "grid_template_columns": null,
            "grid_template_rows": null,
            "height": null,
            "justify_content": null,
            "justify_items": null,
            "left": null,
            "margin": null,
            "max_height": null,
            "max_width": null,
            "min_height": null,
            "min_width": null,
            "object_fit": null,
            "object_position": null,
            "order": null,
            "overflow": null,
            "overflow_x": null,
            "overflow_y": null,
            "padding": null,
            "right": null,
            "top": null,
            "visibility": null,
            "width": null
          }
        },
        "a5db7f047a7a45a2aad8f4176791b967": {
          "model_module": "@jupyter-widgets/controls",
          "model_name": "DescriptionStyleModel",
          "model_module_version": "1.5.0",
          "state": {
            "_model_module": "@jupyter-widgets/controls",
            "_model_module_version": "1.5.0",
            "_model_name": "DescriptionStyleModel",
            "_view_count": null,
            "_view_module": "@jupyter-widgets/base",
            "_view_module_version": "1.2.0",
            "_view_name": "StyleView",
            "description_width": ""
          }
        },
        "bff59d4d49124651b63ec0aa9f2c19bb": {
          "model_module": "@jupyter-widgets/controls",
          "model_name": "HBoxModel",
          "model_module_version": "1.5.0",
          "state": {
            "_dom_classes": [],
            "_model_module": "@jupyter-widgets/controls",
            "_model_module_version": "1.5.0",
            "_model_name": "HBoxModel",
            "_view_count": null,
            "_view_module": "@jupyter-widgets/controls",
            "_view_module_version": "1.5.0",
            "_view_name": "HBoxView",
            "box_style": "",
            "children": [
              "IPY_MODEL_35161cafcd8649f8bd60ae1e26cf5474",
              "IPY_MODEL_626f09a42b754e33860b6628d3e0393e",
              "IPY_MODEL_dc7b4ab0f2f047c6ac637dbce1bd2e39"
            ],
            "layout": "IPY_MODEL_05de7e60fad74dafa19cb4b102508f08"
          }
        },
        "35161cafcd8649f8bd60ae1e26cf5474": {
          "model_module": "@jupyter-widgets/controls",
          "model_name": "HTMLModel",
          "model_module_version": "1.5.0",
          "state": {
            "_dom_classes": [],
            "_model_module": "@jupyter-widgets/controls",
            "_model_module_version": "1.5.0",
            "_model_name": "HTMLModel",
            "_view_count": null,
            "_view_module": "@jupyter-widgets/controls",
            "_view_module_version": "1.5.0",
            "_view_name": "HTMLView",
            "description": "",
            "description_tooltip": null,
            "layout": "IPY_MODEL_7c6eb5775c8c4e6b8eb55361f532f326",
            "placeholder": "​",
            "style": "IPY_MODEL_4103fbe3040e40aa8e4f803dcc81a2f2",
            "value": "Downloading: 100%"
          }
        },
        "626f09a42b754e33860b6628d3e0393e": {
          "model_module": "@jupyter-widgets/controls",
          "model_name": "FloatProgressModel",
          "model_module_version": "1.5.0",
          "state": {
            "_dom_classes": [],
            "_model_module": "@jupyter-widgets/controls",
            "_model_module_version": "1.5.0",
            "_model_name": "FloatProgressModel",
            "_view_count": null,
            "_view_module": "@jupyter-widgets/controls",
            "_view_module_version": "1.5.0",
            "_view_name": "ProgressView",
            "bar_style": "success",
            "description": "",
            "description_tooltip": null,
            "layout": "IPY_MODEL_411ca987f3e242928788c9ea27203466",
            "max": 1053,
            "min": 0,
            "orientation": "horizontal",
            "style": "IPY_MODEL_bb969719b12d4ab1816e0cd27627db18",
            "value": 1053
          }
        },
        "dc7b4ab0f2f047c6ac637dbce1bd2e39": {
          "model_module": "@jupyter-widgets/controls",
          "model_name": "HTMLModel",
          "model_module_version": "1.5.0",
          "state": {
            "_dom_classes": [],
            "_model_module": "@jupyter-widgets/controls",
            "_model_module_version": "1.5.0",
            "_model_name": "HTMLModel",
            "_view_count": null,
            "_view_module": "@jupyter-widgets/controls",
            "_view_module_version": "1.5.0",
            "_view_name": "HTMLView",
            "description": "",
            "description_tooltip": null,
            "layout": "IPY_MODEL_c5677137a13b4ff78b077219c95a3422",
            "placeholder": "​",
            "style": "IPY_MODEL_0eecd31406604de28a18f592714f6c56",
            "value": " 1.03k/1.03k [00:00&lt;00:00, 30.1kB/s]"
          }
        },
        "05de7e60fad74dafa19cb4b102508f08": {
          "model_module": "@jupyter-widgets/base",
          "model_name": "LayoutModel",
          "model_module_version": "1.2.0",
          "state": {
            "_model_module": "@jupyter-widgets/base",
            "_model_module_version": "1.2.0",
            "_model_name": "LayoutModel",
            "_view_count": null,
            "_view_module": "@jupyter-widgets/base",
            "_view_module_version": "1.2.0",
            "_view_name": "LayoutView",
            "align_content": null,
            "align_items": null,
            "align_self": null,
            "border": null,
            "bottom": null,
            "display": null,
            "flex": null,
            "flex_flow": null,
            "grid_area": null,
            "grid_auto_columns": null,
            "grid_auto_flow": null,
            "grid_auto_rows": null,
            "grid_column": null,
            "grid_gap": null,
            "grid_row": null,
            "grid_template_areas": null,
            "grid_template_columns": null,
            "grid_template_rows": null,
            "height": null,
            "justify_content": null,
            "justify_items": null,
            "left": null,
            "margin": null,
            "max_height": null,
            "max_width": null,
            "min_height": null,
            "min_width": null,
            "object_fit": null,
            "object_position": null,
            "order": null,
            "overflow": null,
            "overflow_x": null,
            "overflow_y": null,
            "padding": null,
            "right": null,
            "top": null,
            "visibility": null,
            "width": null
          }
        },
        "7c6eb5775c8c4e6b8eb55361f532f326": {
          "model_module": "@jupyter-widgets/base",
          "model_name": "LayoutModel",
          "model_module_version": "1.2.0",
          "state": {
            "_model_module": "@jupyter-widgets/base",
            "_model_module_version": "1.2.0",
            "_model_name": "LayoutModel",
            "_view_count": null,
            "_view_module": "@jupyter-widgets/base",
            "_view_module_version": "1.2.0",
            "_view_name": "LayoutView",
            "align_content": null,
            "align_items": null,
            "align_self": null,
            "border": null,
            "bottom": null,
            "display": null,
            "flex": null,
            "flex_flow": null,
            "grid_area": null,
            "grid_auto_columns": null,
            "grid_auto_flow": null,
            "grid_auto_rows": null,
            "grid_column": null,
            "grid_gap": null,
            "grid_row": null,
            "grid_template_areas": null,
            "grid_template_columns": null,
            "grid_template_rows": null,
            "height": null,
            "justify_content": null,
            "justify_items": null,
            "left": null,
            "margin": null,
            "max_height": null,
            "max_width": null,
            "min_height": null,
            "min_width": null,
            "object_fit": null,
            "object_position": null,
            "order": null,
            "overflow": null,
            "overflow_x": null,
            "overflow_y": null,
            "padding": null,
            "right": null,
            "top": null,
            "visibility": null,
            "width": null
          }
        },
        "4103fbe3040e40aa8e4f803dcc81a2f2": {
          "model_module": "@jupyter-widgets/controls",
          "model_name": "DescriptionStyleModel",
          "model_module_version": "1.5.0",
          "state": {
            "_model_module": "@jupyter-widgets/controls",
            "_model_module_version": "1.5.0",
            "_model_name": "DescriptionStyleModel",
            "_view_count": null,
            "_view_module": "@jupyter-widgets/base",
            "_view_module_version": "1.2.0",
            "_view_name": "StyleView",
            "description_width": ""
          }
        },
        "411ca987f3e242928788c9ea27203466": {
          "model_module": "@jupyter-widgets/base",
          "model_name": "LayoutModel",
          "model_module_version": "1.2.0",
          "state": {
            "_model_module": "@jupyter-widgets/base",
            "_model_module_version": "1.2.0",
            "_model_name": "LayoutModel",
            "_view_count": null,
            "_view_module": "@jupyter-widgets/base",
            "_view_module_version": "1.2.0",
            "_view_name": "LayoutView",
            "align_content": null,
            "align_items": null,
            "align_self": null,
            "border": null,
            "bottom": null,
            "display": null,
            "flex": null,
            "flex_flow": null,
            "grid_area": null,
            "grid_auto_columns": null,
            "grid_auto_flow": null,
            "grid_auto_rows": null,
            "grid_column": null,
            "grid_gap": null,
            "grid_row": null,
            "grid_template_areas": null,
            "grid_template_columns": null,
            "grid_template_rows": null,
            "height": null,
            "justify_content": null,
            "justify_items": null,
            "left": null,
            "margin": null,
            "max_height": null,
            "max_width": null,
            "min_height": null,
            "min_width": null,
            "object_fit": null,
            "object_position": null,
            "order": null,
            "overflow": null,
            "overflow_x": null,
            "overflow_y": null,
            "padding": null,
            "right": null,
            "top": null,
            "visibility": null,
            "width": null
          }
        },
        "bb969719b12d4ab1816e0cd27627db18": {
          "model_module": "@jupyter-widgets/controls",
          "model_name": "ProgressStyleModel",
          "model_module_version": "1.5.0",
          "state": {
            "_model_module": "@jupyter-widgets/controls",
            "_model_module_version": "1.5.0",
            "_model_name": "ProgressStyleModel",
            "_view_count": null,
            "_view_module": "@jupyter-widgets/base",
            "_view_module_version": "1.2.0",
            "_view_name": "StyleView",
            "bar_color": null,
            "description_width": ""
          }
        },
        "c5677137a13b4ff78b077219c95a3422": {
          "model_module": "@jupyter-widgets/base",
          "model_name": "LayoutModel",
          "model_module_version": "1.2.0",
          "state": {
            "_model_module": "@jupyter-widgets/base",
            "_model_module_version": "1.2.0",
            "_model_name": "LayoutModel",
            "_view_count": null,
            "_view_module": "@jupyter-widgets/base",
            "_view_module_version": "1.2.0",
            "_view_name": "LayoutView",
            "align_content": null,
            "align_items": null,
            "align_self": null,
            "border": null,
            "bottom": null,
            "display": null,
            "flex": null,
            "flex_flow": null,
            "grid_area": null,
            "grid_auto_columns": null,
            "grid_auto_flow": null,
            "grid_auto_rows": null,
            "grid_column": null,
            "grid_gap": null,
            "grid_row": null,
            "grid_template_areas": null,
            "grid_template_columns": null,
            "grid_template_rows": null,
            "height": null,
            "justify_content": null,
            "justify_items": null,
            "left": null,
            "margin": null,
            "max_height": null,
            "max_width": null,
            "min_height": null,
            "min_width": null,
            "object_fit": null,
            "object_position": null,
            "order": null,
            "overflow": null,
            "overflow_x": null,
            "overflow_y": null,
            "padding": null,
            "right": null,
            "top": null,
            "visibility": null,
            "width": null
          }
        },
        "0eecd31406604de28a18f592714f6c56": {
          "model_module": "@jupyter-widgets/controls",
          "model_name": "DescriptionStyleModel",
          "model_module_version": "1.5.0",
          "state": {
            "_model_module": "@jupyter-widgets/controls",
            "_model_module_version": "1.5.0",
            "_model_name": "DescriptionStyleModel",
            "_view_count": null,
            "_view_module": "@jupyter-widgets/base",
            "_view_module_version": "1.2.0",
            "_view_name": "StyleView",
            "description_width": ""
          }
        },
        "aa42dc534c024134926f142169206823": {
          "model_module": "@jupyter-widgets/controls",
          "model_name": "HBoxModel",
          "model_module_version": "1.5.0",
          "state": {
            "_dom_classes": [],
            "_model_module": "@jupyter-widgets/controls",
            "_model_module_version": "1.5.0",
            "_model_name": "HBoxModel",
            "_view_count": null,
            "_view_module": "@jupyter-widgets/controls",
            "_view_module_version": "1.5.0",
            "_view_name": "HBoxView",
            "box_style": "",
            "children": [
              "IPY_MODEL_2b7fa79a48c84fa9b06086aee1e58aab",
              "IPY_MODEL_ae2fd73c2e294effbded2f80eb9f13f0",
              "IPY_MODEL_62150d7e1bef4ae3aee49f9e26392fa3"
            ],
            "layout": "IPY_MODEL_ea227fb5b0ba40d69b38c099f31f1750"
          }
        },
        "2b7fa79a48c84fa9b06086aee1e58aab": {
          "model_module": "@jupyter-widgets/controls",
          "model_name": "HTMLModel",
          "model_module_version": "1.5.0",
          "state": {
            "_dom_classes": [],
            "_model_module": "@jupyter-widgets/controls",
            "_model_module_version": "1.5.0",
            "_model_name": "HTMLModel",
            "_view_count": null,
            "_view_module": "@jupyter-widgets/controls",
            "_view_module_version": "1.5.0",
            "_view_name": "HTMLView",
            "description": "",
            "description_tooltip": null,
            "layout": "IPY_MODEL_c2cc9272ea1042d49774f34d772c3f5a",
            "placeholder": "​",
            "style": "IPY_MODEL_e6dd795a44144a5394d087ae05a8934c",
            "value": "Downloading: 100%"
          }
        },
        "ae2fd73c2e294effbded2f80eb9f13f0": {
          "model_module": "@jupyter-widgets/controls",
          "model_name": "FloatProgressModel",
          "model_module_version": "1.5.0",
          "state": {
            "_dom_classes": [],
            "_model_module": "@jupyter-widgets/controls",
            "_model_module_version": "1.5.0",
            "_model_name": "FloatProgressModel",
            "_view_count": null,
            "_view_module": "@jupyter-widgets/controls",
            "_view_module_version": "1.5.0",
            "_view_name": "ProgressView",
            "bar_style": "success",
            "description": "",
            "description_tooltip": null,
            "layout": "IPY_MODEL_fcc6c3d259e24efabcc697601fdc6558",
            "max": 2308148159,
            "min": 0,
            "orientation": "horizontal",
            "style": "IPY_MODEL_aec07aedbfc44dcbbde43704d0bd069d",
            "value": 2308148159
          }
        },
        "62150d7e1bef4ae3aee49f9e26392fa3": {
          "model_module": "@jupyter-widgets/controls",
          "model_name": "HTMLModel",
          "model_module_version": "1.5.0",
          "state": {
            "_dom_classes": [],
            "_model_module": "@jupyter-widgets/controls",
            "_model_module_version": "1.5.0",
            "_model_name": "HTMLModel",
            "_view_count": null,
            "_view_module": "@jupyter-widgets/controls",
            "_view_module_version": "1.5.0",
            "_view_name": "HTMLView",
            "description": "",
            "description_tooltip": null,
            "layout": "IPY_MODEL_aa0182f08fd149a0a9972bf56d56b889",
            "placeholder": "​",
            "style": "IPY_MODEL_aa9b819ec196407b99925f35f88ac4f4",
            "value": " 2.15G/2.15G [22:21&lt;00:00, 1.92MB/s]"
          }
        },
        "ea227fb5b0ba40d69b38c099f31f1750": {
          "model_module": "@jupyter-widgets/base",
          "model_name": "LayoutModel",
          "model_module_version": "1.2.0",
          "state": {
            "_model_module": "@jupyter-widgets/base",
            "_model_module_version": "1.2.0",
            "_model_name": "LayoutModel",
            "_view_count": null,
            "_view_module": "@jupyter-widgets/base",
            "_view_module_version": "1.2.0",
            "_view_name": "LayoutView",
            "align_content": null,
            "align_items": null,
            "align_self": null,
            "border": null,
            "bottom": null,
            "display": null,
            "flex": null,
            "flex_flow": null,
            "grid_area": null,
            "grid_auto_columns": null,
            "grid_auto_flow": null,
            "grid_auto_rows": null,
            "grid_column": null,
            "grid_gap": null,
            "grid_row": null,
            "grid_template_areas": null,
            "grid_template_columns": null,
            "grid_template_rows": null,
            "height": null,
            "justify_content": null,
            "justify_items": null,
            "left": null,
            "margin": null,
            "max_height": null,
            "max_width": null,
            "min_height": null,
            "min_width": null,
            "object_fit": null,
            "object_position": null,
            "order": null,
            "overflow": null,
            "overflow_x": null,
            "overflow_y": null,
            "padding": null,
            "right": null,
            "top": null,
            "visibility": null,
            "width": null
          }
        },
        "c2cc9272ea1042d49774f34d772c3f5a": {
          "model_module": "@jupyter-widgets/base",
          "model_name": "LayoutModel",
          "model_module_version": "1.2.0",
          "state": {
            "_model_module": "@jupyter-widgets/base",
            "_model_module_version": "1.2.0",
            "_model_name": "LayoutModel",
            "_view_count": null,
            "_view_module": "@jupyter-widgets/base",
            "_view_module_version": "1.2.0",
            "_view_name": "LayoutView",
            "align_content": null,
            "align_items": null,
            "align_self": null,
            "border": null,
            "bottom": null,
            "display": null,
            "flex": null,
            "flex_flow": null,
            "grid_area": null,
            "grid_auto_columns": null,
            "grid_auto_flow": null,
            "grid_auto_rows": null,
            "grid_column": null,
            "grid_gap": null,
            "grid_row": null,
            "grid_template_areas": null,
            "grid_template_columns": null,
            "grid_template_rows": null,
            "height": null,
            "justify_content": null,
            "justify_items": null,
            "left": null,
            "margin": null,
            "max_height": null,
            "max_width": null,
            "min_height": null,
            "min_width": null,
            "object_fit": null,
            "object_position": null,
            "order": null,
            "overflow": null,
            "overflow_x": null,
            "overflow_y": null,
            "padding": null,
            "right": null,
            "top": null,
            "visibility": null,
            "width": null
          }
        },
        "e6dd795a44144a5394d087ae05a8934c": {
          "model_module": "@jupyter-widgets/controls",
          "model_name": "DescriptionStyleModel",
          "model_module_version": "1.5.0",
          "state": {
            "_model_module": "@jupyter-widgets/controls",
            "_model_module_version": "1.5.0",
            "_model_name": "DescriptionStyleModel",
            "_view_count": null,
            "_view_module": "@jupyter-widgets/base",
            "_view_module_version": "1.2.0",
            "_view_name": "StyleView",
            "description_width": ""
          }
        },
        "fcc6c3d259e24efabcc697601fdc6558": {
          "model_module": "@jupyter-widgets/base",
          "model_name": "LayoutModel",
          "model_module_version": "1.2.0",
          "state": {
            "_model_module": "@jupyter-widgets/base",
            "_model_module_version": "1.2.0",
            "_model_name": "LayoutModel",
            "_view_count": null,
            "_view_module": "@jupyter-widgets/base",
            "_view_module_version": "1.2.0",
            "_view_name": "LayoutView",
            "align_content": null,
            "align_items": null,
            "align_self": null,
            "border": null,
            "bottom": null,
            "display": null,
            "flex": null,
            "flex_flow": null,
            "grid_area": null,
            "grid_auto_columns": null,
            "grid_auto_flow": null,
            "grid_auto_rows": null,
            "grid_column": null,
            "grid_gap": null,
            "grid_row": null,
            "grid_template_areas": null,
            "grid_template_columns": null,
            "grid_template_rows": null,
            "height": null,
            "justify_content": null,
            "justify_items": null,
            "left": null,
            "margin": null,
            "max_height": null,
            "max_width": null,
            "min_height": null,
            "min_width": null,
            "object_fit": null,
            "object_position": null,
            "order": null,
            "overflow": null,
            "overflow_x": null,
            "overflow_y": null,
            "padding": null,
            "right": null,
            "top": null,
            "visibility": null,
            "width": null
          }
        },
        "aec07aedbfc44dcbbde43704d0bd069d": {
          "model_module": "@jupyter-widgets/controls",
          "model_name": "ProgressStyleModel",
          "model_module_version": "1.5.0",
          "state": {
            "_model_module": "@jupyter-widgets/controls",
            "_model_module_version": "1.5.0",
            "_model_name": "ProgressStyleModel",
            "_view_count": null,
            "_view_module": "@jupyter-widgets/base",
            "_view_module_version": "1.2.0",
            "_view_name": "StyleView",
            "bar_color": null,
            "description_width": ""
          }
        },
        "aa0182f08fd149a0a9972bf56d56b889": {
          "model_module": "@jupyter-widgets/base",
          "model_name": "LayoutModel",
          "model_module_version": "1.2.0",
          "state": {
            "_model_module": "@jupyter-widgets/base",
            "_model_module_version": "1.2.0",
            "_model_name": "LayoutModel",
            "_view_count": null,
            "_view_module": "@jupyter-widgets/base",
            "_view_module_version": "1.2.0",
            "_view_name": "LayoutView",
            "align_content": null,
            "align_items": null,
            "align_self": null,
            "border": null,
            "bottom": null,
            "display": null,
            "flex": null,
            "flex_flow": null,
            "grid_area": null,
            "grid_auto_columns": null,
            "grid_auto_flow": null,
            "grid_auto_rows": null,
            "grid_column": null,
            "grid_gap": null,
            "grid_row": null,
            "grid_template_areas": null,
            "grid_template_columns": null,
            "grid_template_rows": null,
            "height": null,
            "justify_content": null,
            "justify_items": null,
            "left": null,
            "margin": null,
            "max_height": null,
            "max_width": null,
            "min_height": null,
            "min_width": null,
            "object_fit": null,
            "object_position": null,
            "order": null,
            "overflow": null,
            "overflow_x": null,
            "overflow_y": null,
            "padding": null,
            "right": null,
            "top": null,
            "visibility": null,
            "width": null
          }
        },
        "aa9b819ec196407b99925f35f88ac4f4": {
          "model_module": "@jupyter-widgets/controls",
          "model_name": "DescriptionStyleModel",
          "model_module_version": "1.5.0",
          "state": {
            "_model_module": "@jupyter-widgets/controls",
            "_model_module_version": "1.5.0",
            "_model_name": "DescriptionStyleModel",
            "_view_count": null,
            "_view_module": "@jupyter-widgets/base",
            "_view_module_version": "1.2.0",
            "_view_name": "StyleView",
            "description_width": ""
          }
        },
        "2f3b1baf1b87412a9522fe19fe7b5d26": {
          "model_module": "@jupyter-widgets/controls",
          "model_name": "HBoxModel",
          "model_module_version": "1.5.0",
          "state": {
            "_dom_classes": [],
            "_model_module": "@jupyter-widgets/controls",
            "_model_module_version": "1.5.0",
            "_model_name": "HBoxModel",
            "_view_count": null,
            "_view_module": "@jupyter-widgets/controls",
            "_view_module_version": "1.5.0",
            "_view_name": "HBoxView",
            "box_style": "",
            "children": [
              "IPY_MODEL_537c9e4041ea4adba121f2456496f476",
              "IPY_MODEL_db9f524e334244cd91611824fa9caba6",
              "IPY_MODEL_2c482534e73a43408e311ed983d77d8b"
            ],
            "layout": "IPY_MODEL_ac3e8b3a121f4b59b72a4d7980fc047d"
          }
        },
        "537c9e4041ea4adba121f2456496f476": {
          "model_module": "@jupyter-widgets/controls",
          "model_name": "HTMLModel",
          "model_module_version": "1.5.0",
          "state": {
            "_dom_classes": [],
            "_model_module": "@jupyter-widgets/controls",
            "_model_module_version": "1.5.0",
            "_model_name": "HTMLModel",
            "_view_count": null,
            "_view_module": "@jupyter-widgets/controls",
            "_view_module_version": "1.5.0",
            "_view_name": "HTMLView",
            "description": "",
            "description_tooltip": null,
            "layout": "IPY_MODEL_28e547cc3c8b4d56af68dcc3f858c496",
            "placeholder": "​",
            "style": "IPY_MODEL_ed5269806c37446aa3c6e2092bedbf38",
            "value": "Downloading: 100%"
          }
        },
        "db9f524e334244cd91611824fa9caba6": {
          "model_module": "@jupyter-widgets/controls",
          "model_name": "FloatProgressModel",
          "model_module_version": "1.5.0",
          "state": {
            "_dom_classes": [],
            "_model_module": "@jupyter-widgets/controls",
            "_model_module_version": "1.5.0",
            "_model_name": "FloatProgressModel",
            "_view_count": null,
            "_view_module": "@jupyter-widgets/controls",
            "_view_module_version": "1.5.0",
            "_view_name": "ProgressView",
            "bar_style": "success",
            "description": "",
            "description_tooltip": null,
            "layout": "IPY_MODEL_4a4ab7112c444a908dd308b13f61da78",
            "max": 1195,
            "min": 0,
            "orientation": "horizontal",
            "style": "IPY_MODEL_ad22d6b505c9453cb353dac5b0509bc0",
            "value": 1195
          }
        },
        "2c482534e73a43408e311ed983d77d8b": {
          "model_module": "@jupyter-widgets/controls",
          "model_name": "HTMLModel",
          "model_module_version": "1.5.0",
          "state": {
            "_dom_classes": [],
            "_model_module": "@jupyter-widgets/controls",
            "_model_module_version": "1.5.0",
            "_model_name": "HTMLModel",
            "_view_count": null,
            "_view_module": "@jupyter-widgets/controls",
            "_view_module_version": "1.5.0",
            "_view_name": "HTMLView",
            "description": "",
            "description_tooltip": null,
            "layout": "IPY_MODEL_ae499f50fff54140a21d7f709e3dedad",
            "placeholder": "​",
            "style": "IPY_MODEL_7b78e83cc2ac4a919ae3ac5819fbe5a0",
            "value": " 1.17k/1.17k [00:00&lt;00:00, 33.4kB/s]"
          }
        },
        "ac3e8b3a121f4b59b72a4d7980fc047d": {
          "model_module": "@jupyter-widgets/base",
          "model_name": "LayoutModel",
          "model_module_version": "1.2.0",
          "state": {
            "_model_module": "@jupyter-widgets/base",
            "_model_module_version": "1.2.0",
            "_model_name": "LayoutModel",
            "_view_count": null,
            "_view_module": "@jupyter-widgets/base",
            "_view_module_version": "1.2.0",
            "_view_name": "LayoutView",
            "align_content": null,
            "align_items": null,
            "align_self": null,
            "border": null,
            "bottom": null,
            "display": null,
            "flex": null,
            "flex_flow": null,
            "grid_area": null,
            "grid_auto_columns": null,
            "grid_auto_flow": null,
            "grid_auto_rows": null,
            "grid_column": null,
            "grid_gap": null,
            "grid_row": null,
            "grid_template_areas": null,
            "grid_template_columns": null,
            "grid_template_rows": null,
            "height": null,
            "justify_content": null,
            "justify_items": null,
            "left": null,
            "margin": null,
            "max_height": null,
            "max_width": null,
            "min_height": null,
            "min_width": null,
            "object_fit": null,
            "object_position": null,
            "order": null,
            "overflow": null,
            "overflow_x": null,
            "overflow_y": null,
            "padding": null,
            "right": null,
            "top": null,
            "visibility": null,
            "width": null
          }
        },
        "28e547cc3c8b4d56af68dcc3f858c496": {
          "model_module": "@jupyter-widgets/base",
          "model_name": "LayoutModel",
          "model_module_version": "1.2.0",
          "state": {
            "_model_module": "@jupyter-widgets/base",
            "_model_module_version": "1.2.0",
            "_model_name": "LayoutModel",
            "_view_count": null,
            "_view_module": "@jupyter-widgets/base",
            "_view_module_version": "1.2.0",
            "_view_name": "LayoutView",
            "align_content": null,
            "align_items": null,
            "align_self": null,
            "border": null,
            "bottom": null,
            "display": null,
            "flex": null,
            "flex_flow": null,
            "grid_area": null,
            "grid_auto_columns": null,
            "grid_auto_flow": null,
            "grid_auto_rows": null,
            "grid_column": null,
            "grid_gap": null,
            "grid_row": null,
            "grid_template_areas": null,
            "grid_template_columns": null,
            "grid_template_rows": null,
            "height": null,
            "justify_content": null,
            "justify_items": null,
            "left": null,
            "margin": null,
            "max_height": null,
            "max_width": null,
            "min_height": null,
            "min_width": null,
            "object_fit": null,
            "object_position": null,
            "order": null,
            "overflow": null,
            "overflow_x": null,
            "overflow_y": null,
            "padding": null,
            "right": null,
            "top": null,
            "visibility": null,
            "width": null
          }
        },
        "ed5269806c37446aa3c6e2092bedbf38": {
          "model_module": "@jupyter-widgets/controls",
          "model_name": "DescriptionStyleModel",
          "model_module_version": "1.5.0",
          "state": {
            "_model_module": "@jupyter-widgets/controls",
            "_model_module_version": "1.5.0",
            "_model_name": "DescriptionStyleModel",
            "_view_count": null,
            "_view_module": "@jupyter-widgets/base",
            "_view_module_version": "1.2.0",
            "_view_name": "StyleView",
            "description_width": ""
          }
        },
        "4a4ab7112c444a908dd308b13f61da78": {
          "model_module": "@jupyter-widgets/base",
          "model_name": "LayoutModel",
          "model_module_version": "1.2.0",
          "state": {
            "_model_module": "@jupyter-widgets/base",
            "_model_module_version": "1.2.0",
            "_model_name": "LayoutModel",
            "_view_count": null,
            "_view_module": "@jupyter-widgets/base",
            "_view_module_version": "1.2.0",
            "_view_name": "LayoutView",
            "align_content": null,
            "align_items": null,
            "align_self": null,
            "border": null,
            "bottom": null,
            "display": null,
            "flex": null,
            "flex_flow": null,
            "grid_area": null,
            "grid_auto_columns": null,
            "grid_auto_flow": null,
            "grid_auto_rows": null,
            "grid_column": null,
            "grid_gap": null,
            "grid_row": null,
            "grid_template_areas": null,
            "grid_template_columns": null,
            "grid_template_rows": null,
            "height": null,
            "justify_content": null,
            "justify_items": null,
            "left": null,
            "margin": null,
            "max_height": null,
            "max_width": null,
            "min_height": null,
            "min_width": null,
            "object_fit": null,
            "object_position": null,
            "order": null,
            "overflow": null,
            "overflow_x": null,
            "overflow_y": null,
            "padding": null,
            "right": null,
            "top": null,
            "visibility": null,
            "width": null
          }
        },
        "ad22d6b505c9453cb353dac5b0509bc0": {
          "model_module": "@jupyter-widgets/controls",
          "model_name": "ProgressStyleModel",
          "model_module_version": "1.5.0",
          "state": {
            "_model_module": "@jupyter-widgets/controls",
            "_model_module_version": "1.5.0",
            "_model_name": "ProgressStyleModel",
            "_view_count": null,
            "_view_module": "@jupyter-widgets/base",
            "_view_module_version": "1.2.0",
            "_view_name": "StyleView",
            "bar_color": null,
            "description_width": ""
          }
        },
        "ae499f50fff54140a21d7f709e3dedad": {
          "model_module": "@jupyter-widgets/base",
          "model_name": "LayoutModel",
          "model_module_version": "1.2.0",
          "state": {
            "_model_module": "@jupyter-widgets/base",
            "_model_module_version": "1.2.0",
            "_model_name": "LayoutModel",
            "_view_count": null,
            "_view_module": "@jupyter-widgets/base",
            "_view_module_version": "1.2.0",
            "_view_name": "LayoutView",
            "align_content": null,
            "align_items": null,
            "align_self": null,
            "border": null,
            "bottom": null,
            "display": null,
            "flex": null,
            "flex_flow": null,
            "grid_area": null,
            "grid_auto_columns": null,
            "grid_auto_flow": null,
            "grid_auto_rows": null,
            "grid_column": null,
            "grid_gap": null,
            "grid_row": null,
            "grid_template_areas": null,
            "grid_template_columns": null,
            "grid_template_rows": null,
            "height": null,
            "justify_content": null,
            "justify_items": null,
            "left": null,
            "margin": null,
            "max_height": null,
            "max_width": null,
            "min_height": null,
            "min_width": null,
            "object_fit": null,
            "object_position": null,
            "order": null,
            "overflow": null,
            "overflow_x": null,
            "overflow_y": null,
            "padding": null,
            "right": null,
            "top": null,
            "visibility": null,
            "width": null
          }
        },
        "7b78e83cc2ac4a919ae3ac5819fbe5a0": {
          "model_module": "@jupyter-widgets/controls",
          "model_name": "DescriptionStyleModel",
          "model_module_version": "1.5.0",
          "state": {
            "_model_module": "@jupyter-widgets/controls",
            "_model_module_version": "1.5.0",
            "_model_name": "DescriptionStyleModel",
            "_view_count": null,
            "_view_module": "@jupyter-widgets/base",
            "_view_module_version": "1.2.0",
            "_view_name": "StyleView",
            "description_width": ""
          }
        },
        "9ea6058bdba74bed9da821d2af7e89fc": {
          "model_module": "@jupyter-widgets/controls",
          "model_name": "HBoxModel",
          "model_module_version": "1.5.0",
          "state": {
            "_dom_classes": [],
            "_model_module": "@jupyter-widgets/controls",
            "_model_module_version": "1.5.0",
            "_model_name": "HBoxModel",
            "_view_count": null,
            "_view_module": "@jupyter-widgets/controls",
            "_view_module_version": "1.5.0",
            "_view_name": "HBoxView",
            "box_style": "",
            "children": [
              "IPY_MODEL_d22a1bf4214d4127abb91c60e68c8bf0",
              "IPY_MODEL_35f5e32eef6840f78818783cb7600b5f",
              "IPY_MODEL_fcd403bffb2044ebbf001eaafb768e6f"
            ],
            "layout": "IPY_MODEL_ba056899cfbe45f69e325b4b962e4da5"
          }
        },
        "d22a1bf4214d4127abb91c60e68c8bf0": {
          "model_module": "@jupyter-widgets/controls",
          "model_name": "HTMLModel",
          "model_module_version": "1.5.0",
          "state": {
            "_dom_classes": [],
            "_model_module": "@jupyter-widgets/controls",
            "_model_module_version": "1.5.0",
            "_model_name": "HTMLModel",
            "_view_count": null,
            "_view_module": "@jupyter-widgets/controls",
            "_view_module_version": "1.5.0",
            "_view_name": "HTMLView",
            "description": "",
            "description_tooltip": null,
            "layout": "IPY_MODEL_120f0a98fb824032a3ae990ae74e09ee",
            "placeholder": "​",
            "style": "IPY_MODEL_477e7fa5f40b4dbc985feb6e1e3649f8",
            "value": "Downloading: 100%"
          }
        },
        "35f5e32eef6840f78818783cb7600b5f": {
          "model_module": "@jupyter-widgets/controls",
          "model_name": "FloatProgressModel",
          "model_module_version": "1.5.0",
          "state": {
            "_dom_classes": [],
            "_model_module": "@jupyter-widgets/controls",
            "_model_module_version": "1.5.0",
            "_model_name": "FloatProgressModel",
            "_view_count": null,
            "_view_module": "@jupyter-widgets/controls",
            "_view_module_version": "1.5.0",
            "_view_name": "ProgressView",
            "bar_style": "success",
            "description": "",
            "description_tooltip": null,
            "layout": "IPY_MODEL_c2269dd1d23149eabd184a1540f2b0e8",
            "max": 1915455,
            "min": 0,
            "orientation": "horizontal",
            "style": "IPY_MODEL_20290335e3e446b19b02e2f6402a1d9e",
            "value": 1915455
          }
        },
        "fcd403bffb2044ebbf001eaafb768e6f": {
          "model_module": "@jupyter-widgets/controls",
          "model_name": "HTMLModel",
          "model_module_version": "1.5.0",
          "state": {
            "_dom_classes": [],
            "_model_module": "@jupyter-widgets/controls",
            "_model_module_version": "1.5.0",
            "_model_name": "HTMLModel",
            "_view_count": null,
            "_view_module": "@jupyter-widgets/controls",
            "_view_module_version": "1.5.0",
            "_view_name": "HTMLView",
            "description": "",
            "description_tooltip": null,
            "layout": "IPY_MODEL_9bce29d589204f07bca481767ac9f17b",
            "placeholder": "​",
            "style": "IPY_MODEL_3ab45fd4c8fd42a9a874a69da76a3168",
            "value": " 1.83M/1.83M [00:01&lt;00:00, 1.71MB/s]"
          }
        },
        "ba056899cfbe45f69e325b4b962e4da5": {
          "model_module": "@jupyter-widgets/base",
          "model_name": "LayoutModel",
          "model_module_version": "1.2.0",
          "state": {
            "_model_module": "@jupyter-widgets/base",
            "_model_module_version": "1.2.0",
            "_model_name": "LayoutModel",
            "_view_count": null,
            "_view_module": "@jupyter-widgets/base",
            "_view_module_version": "1.2.0",
            "_view_name": "LayoutView",
            "align_content": null,
            "align_items": null,
            "align_self": null,
            "border": null,
            "bottom": null,
            "display": null,
            "flex": null,
            "flex_flow": null,
            "grid_area": null,
            "grid_auto_columns": null,
            "grid_auto_flow": null,
            "grid_auto_rows": null,
            "grid_column": null,
            "grid_gap": null,
            "grid_row": null,
            "grid_template_areas": null,
            "grid_template_columns": null,
            "grid_template_rows": null,
            "height": null,
            "justify_content": null,
            "justify_items": null,
            "left": null,
            "margin": null,
            "max_height": null,
            "max_width": null,
            "min_height": null,
            "min_width": null,
            "object_fit": null,
            "object_position": null,
            "order": null,
            "overflow": null,
            "overflow_x": null,
            "overflow_y": null,
            "padding": null,
            "right": null,
            "top": null,
            "visibility": null,
            "width": null
          }
        },
        "120f0a98fb824032a3ae990ae74e09ee": {
          "model_module": "@jupyter-widgets/base",
          "model_name": "LayoutModel",
          "model_module_version": "1.2.0",
          "state": {
            "_model_module": "@jupyter-widgets/base",
            "_model_module_version": "1.2.0",
            "_model_name": "LayoutModel",
            "_view_count": null,
            "_view_module": "@jupyter-widgets/base",
            "_view_module_version": "1.2.0",
            "_view_name": "LayoutView",
            "align_content": null,
            "align_items": null,
            "align_self": null,
            "border": null,
            "bottom": null,
            "display": null,
            "flex": null,
            "flex_flow": null,
            "grid_area": null,
            "grid_auto_columns": null,
            "grid_auto_flow": null,
            "grid_auto_rows": null,
            "grid_column": null,
            "grid_gap": null,
            "grid_row": null,
            "grid_template_areas": null,
            "grid_template_columns": null,
            "grid_template_rows": null,
            "height": null,
            "justify_content": null,
            "justify_items": null,
            "left": null,
            "margin": null,
            "max_height": null,
            "max_width": null,
            "min_height": null,
            "min_width": null,
            "object_fit": null,
            "object_position": null,
            "order": null,
            "overflow": null,
            "overflow_x": null,
            "overflow_y": null,
            "padding": null,
            "right": null,
            "top": null,
            "visibility": null,
            "width": null
          }
        },
        "477e7fa5f40b4dbc985feb6e1e3649f8": {
          "model_module": "@jupyter-widgets/controls",
          "model_name": "DescriptionStyleModel",
          "model_module_version": "1.5.0",
          "state": {
            "_model_module": "@jupyter-widgets/controls",
            "_model_module_version": "1.5.0",
            "_model_name": "DescriptionStyleModel",
            "_view_count": null,
            "_view_module": "@jupyter-widgets/base",
            "_view_module_version": "1.2.0",
            "_view_name": "StyleView",
            "description_width": ""
          }
        },
        "c2269dd1d23149eabd184a1540f2b0e8": {
          "model_module": "@jupyter-widgets/base",
          "model_name": "LayoutModel",
          "model_module_version": "1.2.0",
          "state": {
            "_model_module": "@jupyter-widgets/base",
            "_model_module_version": "1.2.0",
            "_model_name": "LayoutModel",
            "_view_count": null,
            "_view_module": "@jupyter-widgets/base",
            "_view_module_version": "1.2.0",
            "_view_name": "LayoutView",
            "align_content": null,
            "align_items": null,
            "align_self": null,
            "border": null,
            "bottom": null,
            "display": null,
            "flex": null,
            "flex_flow": null,
            "grid_area": null,
            "grid_auto_columns": null,
            "grid_auto_flow": null,
            "grid_auto_rows": null,
            "grid_column": null,
            "grid_gap": null,
            "grid_row": null,
            "grid_template_areas": null,
            "grid_template_columns": null,
            "grid_template_rows": null,
            "height": null,
            "justify_content": null,
            "justify_items": null,
            "left": null,
            "margin": null,
            "max_height": null,
            "max_width": null,
            "min_height": null,
            "min_width": null,
            "object_fit": null,
            "object_position": null,
            "order": null,
            "overflow": null,
            "overflow_x": null,
            "overflow_y": null,
            "padding": null,
            "right": null,
            "top": null,
            "visibility": null,
            "width": null
          }
        },
        "20290335e3e446b19b02e2f6402a1d9e": {
          "model_module": "@jupyter-widgets/controls",
          "model_name": "ProgressStyleModel",
          "model_module_version": "1.5.0",
          "state": {
            "_model_module": "@jupyter-widgets/controls",
            "_model_module_version": "1.5.0",
            "_model_name": "ProgressStyleModel",
            "_view_count": null,
            "_view_module": "@jupyter-widgets/base",
            "_view_module_version": "1.2.0",
            "_view_name": "StyleView",
            "bar_color": null,
            "description_width": ""
          }
        },
        "9bce29d589204f07bca481767ac9f17b": {
          "model_module": "@jupyter-widgets/base",
          "model_name": "LayoutModel",
          "model_module_version": "1.2.0",
          "state": {
            "_model_module": "@jupyter-widgets/base",
            "_model_module_version": "1.2.0",
            "_model_name": "LayoutModel",
            "_view_count": null,
            "_view_module": "@jupyter-widgets/base",
            "_view_module_version": "1.2.0",
            "_view_name": "LayoutView",
            "align_content": null,
            "align_items": null,
            "align_self": null,
            "border": null,
            "bottom": null,
            "display": null,
            "flex": null,
            "flex_flow": null,
            "grid_area": null,
            "grid_auto_columns": null,
            "grid_auto_flow": null,
            "grid_auto_rows": null,
            "grid_column": null,
            "grid_gap": null,
            "grid_row": null,
            "grid_template_areas": null,
            "grid_template_columns": null,
            "grid_template_rows": null,
            "height": null,
            "justify_content": null,
            "justify_items": null,
            "left": null,
            "margin": null,
            "max_height": null,
            "max_width": null,
            "min_height": null,
            "min_width": null,
            "object_fit": null,
            "object_position": null,
            "order": null,
            "overflow": null,
            "overflow_x": null,
            "overflow_y": null,
            "padding": null,
            "right": null,
            "top": null,
            "visibility": null,
            "width": null
          }
        },
        "3ab45fd4c8fd42a9a874a69da76a3168": {
          "model_module": "@jupyter-widgets/controls",
          "model_name": "DescriptionStyleModel",
          "model_module_version": "1.5.0",
          "state": {
            "_model_module": "@jupyter-widgets/controls",
            "_model_module_version": "1.5.0",
            "_model_name": "DescriptionStyleModel",
            "_view_count": null,
            "_view_module": "@jupyter-widgets/base",
            "_view_module_version": "1.2.0",
            "_view_name": "StyleView",
            "description_width": ""
          }
        },
        "f3becf59fb1a47b89fea350a3b798680": {
          "model_module": "@jupyter-widgets/controls",
          "model_name": "HBoxModel",
          "model_module_version": "1.5.0",
          "state": {
            "_dom_classes": [],
            "_model_module": "@jupyter-widgets/controls",
            "_model_module_version": "1.5.0",
            "_model_name": "HBoxModel",
            "_view_count": null,
            "_view_module": "@jupyter-widgets/controls",
            "_view_module_version": "1.5.0",
            "_view_name": "HBoxView",
            "box_style": "",
            "children": [
              "IPY_MODEL_12096acfc309424d86ed935d2c199665",
              "IPY_MODEL_2456446d7a0e43d19162f46de761ab17",
              "IPY_MODEL_a16f272b331843379edbe8149f24b1ef"
            ],
            "layout": "IPY_MODEL_11f8ed49fcaf4939a5b7fb6a2abaeae1"
          }
        },
        "12096acfc309424d86ed935d2c199665": {
          "model_module": "@jupyter-widgets/controls",
          "model_name": "HTMLModel",
          "model_module_version": "1.5.0",
          "state": {
            "_dom_classes": [],
            "_model_module": "@jupyter-widgets/controls",
            "_model_module_version": "1.5.0",
            "_model_name": "HTMLModel",
            "_view_count": null,
            "_view_module": "@jupyter-widgets/controls",
            "_view_module_version": "1.5.0",
            "_view_name": "HTMLView",
            "description": "",
            "description_tooltip": null,
            "layout": "IPY_MODEL_2690bdb0631e45019bc11ce160af73c6",
            "placeholder": "​",
            "style": "IPY_MODEL_06998579fae84ef299e28a80e788eecb",
            "value": "Downloading: 100%"
          }
        },
        "2456446d7a0e43d19162f46de761ab17": {
          "model_module": "@jupyter-widgets/controls",
          "model_name": "FloatProgressModel",
          "model_module_version": "1.5.0",
          "state": {
            "_dom_classes": [],
            "_model_module": "@jupyter-widgets/controls",
            "_model_module_version": "1.5.0",
            "_model_name": "FloatProgressModel",
            "_view_count": null,
            "_view_module": "@jupyter-widgets/controls",
            "_view_module_version": "1.5.0",
            "_view_name": "ProgressView",
            "bar_style": "success",
            "description": "",
            "description_tooltip": null,
            "layout": "IPY_MODEL_888e5880ada44138a3f9bc0bf2856dc8",
            "max": 3508743,
            "min": 0,
            "orientation": "horizontal",
            "style": "IPY_MODEL_9b898669cdb744b2927cf5e968ef0d9e",
            "value": 3508743
          }
        },
        "a16f272b331843379edbe8149f24b1ef": {
          "model_module": "@jupyter-widgets/controls",
          "model_name": "HTMLModel",
          "model_module_version": "1.5.0",
          "state": {
            "_dom_classes": [],
            "_model_module": "@jupyter-widgets/controls",
            "_model_module_version": "1.5.0",
            "_model_name": "HTMLModel",
            "_view_count": null,
            "_view_module": "@jupyter-widgets/controls",
            "_view_module_version": "1.5.0",
            "_view_name": "HTMLView",
            "description": "",
            "description_tooltip": null,
            "layout": "IPY_MODEL_903e00a695364fef913a69e0ec628bff",
            "placeholder": "​",
            "style": "IPY_MODEL_be673cee99a1411fa4ea4133bd6d8185",
            "value": " 3.35M/3.35M [00:02&lt;00:00, 1.73MB/s]"
          }
        },
        "11f8ed49fcaf4939a5b7fb6a2abaeae1": {
          "model_module": "@jupyter-widgets/base",
          "model_name": "LayoutModel",
          "model_module_version": "1.2.0",
          "state": {
            "_model_module": "@jupyter-widgets/base",
            "_model_module_version": "1.2.0",
            "_model_name": "LayoutModel",
            "_view_count": null,
            "_view_module": "@jupyter-widgets/base",
            "_view_module_version": "1.2.0",
            "_view_name": "LayoutView",
            "align_content": null,
            "align_items": null,
            "align_self": null,
            "border": null,
            "bottom": null,
            "display": null,
            "flex": null,
            "flex_flow": null,
            "grid_area": null,
            "grid_auto_columns": null,
            "grid_auto_flow": null,
            "grid_auto_rows": null,
            "grid_column": null,
            "grid_gap": null,
            "grid_row": null,
            "grid_template_areas": null,
            "grid_template_columns": null,
            "grid_template_rows": null,
            "height": null,
            "justify_content": null,
            "justify_items": null,
            "left": null,
            "margin": null,
            "max_height": null,
            "max_width": null,
            "min_height": null,
            "min_width": null,
            "object_fit": null,
            "object_position": null,
            "order": null,
            "overflow": null,
            "overflow_x": null,
            "overflow_y": null,
            "padding": null,
            "right": null,
            "top": null,
            "visibility": null,
            "width": null
          }
        },
        "2690bdb0631e45019bc11ce160af73c6": {
          "model_module": "@jupyter-widgets/base",
          "model_name": "LayoutModel",
          "model_module_version": "1.2.0",
          "state": {
            "_model_module": "@jupyter-widgets/base",
            "_model_module_version": "1.2.0",
            "_model_name": "LayoutModel",
            "_view_count": null,
            "_view_module": "@jupyter-widgets/base",
            "_view_module_version": "1.2.0",
            "_view_name": "LayoutView",
            "align_content": null,
            "align_items": null,
            "align_self": null,
            "border": null,
            "bottom": null,
            "display": null,
            "flex": null,
            "flex_flow": null,
            "grid_area": null,
            "grid_auto_columns": null,
            "grid_auto_flow": null,
            "grid_auto_rows": null,
            "grid_column": null,
            "grid_gap": null,
            "grid_row": null,
            "grid_template_areas": null,
            "grid_template_columns": null,
            "grid_template_rows": null,
            "height": null,
            "justify_content": null,
            "justify_items": null,
            "left": null,
            "margin": null,
            "max_height": null,
            "max_width": null,
            "min_height": null,
            "min_width": null,
            "object_fit": null,
            "object_position": null,
            "order": null,
            "overflow": null,
            "overflow_x": null,
            "overflow_y": null,
            "padding": null,
            "right": null,
            "top": null,
            "visibility": null,
            "width": null
          }
        },
        "06998579fae84ef299e28a80e788eecb": {
          "model_module": "@jupyter-widgets/controls",
          "model_name": "DescriptionStyleModel",
          "model_module_version": "1.5.0",
          "state": {
            "_model_module": "@jupyter-widgets/controls",
            "_model_module_version": "1.5.0",
            "_model_name": "DescriptionStyleModel",
            "_view_count": null,
            "_view_module": "@jupyter-widgets/base",
            "_view_module_version": "1.2.0",
            "_view_name": "StyleView",
            "description_width": ""
          }
        },
        "888e5880ada44138a3f9bc0bf2856dc8": {
          "model_module": "@jupyter-widgets/base",
          "model_name": "LayoutModel",
          "model_module_version": "1.2.0",
          "state": {
            "_model_module": "@jupyter-widgets/base",
            "_model_module_version": "1.2.0",
            "_model_name": "LayoutModel",
            "_view_count": null,
            "_view_module": "@jupyter-widgets/base",
            "_view_module_version": "1.2.0",
            "_view_name": "LayoutView",
            "align_content": null,
            "align_items": null,
            "align_self": null,
            "border": null,
            "bottom": null,
            "display": null,
            "flex": null,
            "flex_flow": null,
            "grid_area": null,
            "grid_auto_columns": null,
            "grid_auto_flow": null,
            "grid_auto_rows": null,
            "grid_column": null,
            "grid_gap": null,
            "grid_row": null,
            "grid_template_areas": null,
            "grid_template_columns": null,
            "grid_template_rows": null,
            "height": null,
            "justify_content": null,
            "justify_items": null,
            "left": null,
            "margin": null,
            "max_height": null,
            "max_width": null,
            "min_height": null,
            "min_width": null,
            "object_fit": null,
            "object_position": null,
            "order": null,
            "overflow": null,
            "overflow_x": null,
            "overflow_y": null,
            "padding": null,
            "right": null,
            "top": null,
            "visibility": null,
            "width": null
          }
        },
        "9b898669cdb744b2927cf5e968ef0d9e": {
          "model_module": "@jupyter-widgets/controls",
          "model_name": "ProgressStyleModel",
          "model_module_version": "1.5.0",
          "state": {
            "_model_module": "@jupyter-widgets/controls",
            "_model_module_version": "1.5.0",
            "_model_name": "ProgressStyleModel",
            "_view_count": null,
            "_view_module": "@jupyter-widgets/base",
            "_view_module_version": "1.2.0",
            "_view_name": "StyleView",
            "bar_color": null,
            "description_width": ""
          }
        },
        "903e00a695364fef913a69e0ec628bff": {
          "model_module": "@jupyter-widgets/base",
          "model_name": "LayoutModel",
          "model_module_version": "1.2.0",
          "state": {
            "_model_module": "@jupyter-widgets/base",
            "_model_module_version": "1.2.0",
            "_model_name": "LayoutModel",
            "_view_count": null,
            "_view_module": "@jupyter-widgets/base",
            "_view_module_version": "1.2.0",
            "_view_name": "LayoutView",
            "align_content": null,
            "align_items": null,
            "align_self": null,
            "border": null,
            "bottom": null,
            "display": null,
            "flex": null,
            "flex_flow": null,
            "grid_area": null,
            "grid_auto_columns": null,
            "grid_auto_flow": null,
            "grid_auto_rows": null,
            "grid_column": null,
            "grid_gap": null,
            "grid_row": null,
            "grid_template_areas": null,
            "grid_template_columns": null,
            "grid_template_rows": null,
            "height": null,
            "justify_content": null,
            "justify_items": null,
            "left": null,
            "margin": null,
            "max_height": null,
            "max_width": null,
            "min_height": null,
            "min_width": null,
            "object_fit": null,
            "object_position": null,
            "order": null,
            "overflow": null,
            "overflow_x": null,
            "overflow_y": null,
            "padding": null,
            "right": null,
            "top": null,
            "visibility": null,
            "width": null
          }
        },
        "be673cee99a1411fa4ea4133bd6d8185": {
          "model_module": "@jupyter-widgets/controls",
          "model_name": "DescriptionStyleModel",
          "model_module_version": "1.5.0",
          "state": {
            "_model_module": "@jupyter-widgets/controls",
            "_model_module_version": "1.5.0",
            "_model_name": "DescriptionStyleModel",
            "_view_count": null,
            "_view_module": "@jupyter-widgets/base",
            "_view_module_version": "1.2.0",
            "_view_name": "StyleView",
            "description_width": ""
          }
        },
        "adfc515677124936bdff9202fdc3ee99": {
          "model_module": "@jupyter-widgets/controls",
          "model_name": "HBoxModel",
          "model_module_version": "1.5.0",
          "state": {
            "_dom_classes": [],
            "_model_module": "@jupyter-widgets/controls",
            "_model_module_version": "1.5.0",
            "_model_name": "HBoxModel",
            "_view_count": null,
            "_view_module": "@jupyter-widgets/controls",
            "_view_module_version": "1.5.0",
            "_view_name": "HBoxView",
            "box_style": "",
            "children": [
              "IPY_MODEL_fa9dc5cbe1ea4283b277790d2f690e45",
              "IPY_MODEL_a437cc41915a456191503b051b6f7931",
              "IPY_MODEL_ab0daeb72cd84fa79cbe3fd38cb9622b"
            ],
            "layout": "IPY_MODEL_2b04aeee7afe4774a2a93812e07f1159"
          }
        },
        "fa9dc5cbe1ea4283b277790d2f690e45": {
          "model_module": "@jupyter-widgets/controls",
          "model_name": "HTMLModel",
          "model_module_version": "1.5.0",
          "state": {
            "_dom_classes": [],
            "_model_module": "@jupyter-widgets/controls",
            "_model_module_version": "1.5.0",
            "_model_name": "HTMLModel",
            "_view_count": null,
            "_view_module": "@jupyter-widgets/controls",
            "_view_module_version": "1.5.0",
            "_view_name": "HTMLView",
            "description": "",
            "description_tooltip": null,
            "layout": "IPY_MODEL_2e5100427bc2419083e5c632611bbd10",
            "placeholder": "​",
            "style": "IPY_MODEL_b627db57bc584e7ab2ede42065ce6aed",
            "value": "Downloading: 100%"
          }
        },
        "a437cc41915a456191503b051b6f7931": {
          "model_module": "@jupyter-widgets/controls",
          "model_name": "FloatProgressModel",
          "model_module_version": "1.5.0",
          "state": {
            "_dom_classes": [],
            "_model_module": "@jupyter-widgets/controls",
            "_model_module_version": "1.5.0",
            "_model_name": "FloatProgressModel",
            "_view_count": null,
            "_view_module": "@jupyter-widgets/controls",
            "_view_module_version": "1.5.0",
            "_view_name": "ProgressView",
            "bar_style": "success",
            "description": "",
            "description_tooltip": null,
            "layout": "IPY_MODEL_79ce1efc5c01446ebe0de41f0de4d827",
            "max": 775,
            "min": 0,
            "orientation": "horizontal",
            "style": "IPY_MODEL_07c4e104573a4b1e9ae9e104a944a738",
            "value": 775
          }
        },
        "ab0daeb72cd84fa79cbe3fd38cb9622b": {
          "model_module": "@jupyter-widgets/controls",
          "model_name": "HTMLModel",
          "model_module_version": "1.5.0",
          "state": {
            "_dom_classes": [],
            "_model_module": "@jupyter-widgets/controls",
            "_model_module_version": "1.5.0",
            "_model_name": "HTMLModel",
            "_view_count": null,
            "_view_module": "@jupyter-widgets/controls",
            "_view_module_version": "1.5.0",
            "_view_name": "HTMLView",
            "description": "",
            "description_tooltip": null,
            "layout": "IPY_MODEL_7e20d2b13650454fa2b4e40e2b3a3142",
            "placeholder": "​",
            "style": "IPY_MODEL_a99e90255b824b9881fd63a66afdc4c3",
            "value": " 775/775 [00:00&lt;00:00, 25.7kB/s]"
          }
        },
        "2b04aeee7afe4774a2a93812e07f1159": {
          "model_module": "@jupyter-widgets/base",
          "model_name": "LayoutModel",
          "model_module_version": "1.2.0",
          "state": {
            "_model_module": "@jupyter-widgets/base",
            "_model_module_version": "1.2.0",
            "_model_name": "LayoutModel",
            "_view_count": null,
            "_view_module": "@jupyter-widgets/base",
            "_view_module_version": "1.2.0",
            "_view_name": "LayoutView",
            "align_content": null,
            "align_items": null,
            "align_self": null,
            "border": null,
            "bottom": null,
            "display": null,
            "flex": null,
            "flex_flow": null,
            "grid_area": null,
            "grid_auto_columns": null,
            "grid_auto_flow": null,
            "grid_auto_rows": null,
            "grid_column": null,
            "grid_gap": null,
            "grid_row": null,
            "grid_template_areas": null,
            "grid_template_columns": null,
            "grid_template_rows": null,
            "height": null,
            "justify_content": null,
            "justify_items": null,
            "left": null,
            "margin": null,
            "max_height": null,
            "max_width": null,
            "min_height": null,
            "min_width": null,
            "object_fit": null,
            "object_position": null,
            "order": null,
            "overflow": null,
            "overflow_x": null,
            "overflow_y": null,
            "padding": null,
            "right": null,
            "top": null,
            "visibility": null,
            "width": null
          }
        },
        "2e5100427bc2419083e5c632611bbd10": {
          "model_module": "@jupyter-widgets/base",
          "model_name": "LayoutModel",
          "model_module_version": "1.2.0",
          "state": {
            "_model_module": "@jupyter-widgets/base",
            "_model_module_version": "1.2.0",
            "_model_name": "LayoutModel",
            "_view_count": null,
            "_view_module": "@jupyter-widgets/base",
            "_view_module_version": "1.2.0",
            "_view_name": "LayoutView",
            "align_content": null,
            "align_items": null,
            "align_self": null,
            "border": null,
            "bottom": null,
            "display": null,
            "flex": null,
            "flex_flow": null,
            "grid_area": null,
            "grid_auto_columns": null,
            "grid_auto_flow": null,
            "grid_auto_rows": null,
            "grid_column": null,
            "grid_gap": null,
            "grid_row": null,
            "grid_template_areas": null,
            "grid_template_columns": null,
            "grid_template_rows": null,
            "height": null,
            "justify_content": null,
            "justify_items": null,
            "left": null,
            "margin": null,
            "max_height": null,
            "max_width": null,
            "min_height": null,
            "min_width": null,
            "object_fit": null,
            "object_position": null,
            "order": null,
            "overflow": null,
            "overflow_x": null,
            "overflow_y": null,
            "padding": null,
            "right": null,
            "top": null,
            "visibility": null,
            "width": null
          }
        },
        "b627db57bc584e7ab2ede42065ce6aed": {
          "model_module": "@jupyter-widgets/controls",
          "model_name": "DescriptionStyleModel",
          "model_module_version": "1.5.0",
          "state": {
            "_model_module": "@jupyter-widgets/controls",
            "_model_module_version": "1.5.0",
            "_model_name": "DescriptionStyleModel",
            "_view_count": null,
            "_view_module": "@jupyter-widgets/base",
            "_view_module_version": "1.2.0",
            "_view_name": "StyleView",
            "description_width": ""
          }
        },
        "79ce1efc5c01446ebe0de41f0de4d827": {
          "model_module": "@jupyter-widgets/base",
          "model_name": "LayoutModel",
          "model_module_version": "1.2.0",
          "state": {
            "_model_module": "@jupyter-widgets/base",
            "_model_module_version": "1.2.0",
            "_model_name": "LayoutModel",
            "_view_count": null,
            "_view_module": "@jupyter-widgets/base",
            "_view_module_version": "1.2.0",
            "_view_name": "LayoutView",
            "align_content": null,
            "align_items": null,
            "align_self": null,
            "border": null,
            "bottom": null,
            "display": null,
            "flex": null,
            "flex_flow": null,
            "grid_area": null,
            "grid_auto_columns": null,
            "grid_auto_flow": null,
            "grid_auto_rows": null,
            "grid_column": null,
            "grid_gap": null,
            "grid_row": null,
            "grid_template_areas": null,
            "grid_template_columns": null,
            "grid_template_rows": null,
            "height": null,
            "justify_content": null,
            "justify_items": null,
            "left": null,
            "margin": null,
            "max_height": null,
            "max_width": null,
            "min_height": null,
            "min_width": null,
            "object_fit": null,
            "object_position": null,
            "order": null,
            "overflow": null,
            "overflow_x": null,
            "overflow_y": null,
            "padding": null,
            "right": null,
            "top": null,
            "visibility": null,
            "width": null
          }
        },
        "07c4e104573a4b1e9ae9e104a944a738": {
          "model_module": "@jupyter-widgets/controls",
          "model_name": "ProgressStyleModel",
          "model_module_version": "1.5.0",
          "state": {
            "_model_module": "@jupyter-widgets/controls",
            "_model_module_version": "1.5.0",
            "_model_name": "ProgressStyleModel",
            "_view_count": null,
            "_view_module": "@jupyter-widgets/base",
            "_view_module_version": "1.2.0",
            "_view_name": "StyleView",
            "bar_color": null,
            "description_width": ""
          }
        },
        "7e20d2b13650454fa2b4e40e2b3a3142": {
          "model_module": "@jupyter-widgets/base",
          "model_name": "LayoutModel",
          "model_module_version": "1.2.0",
          "state": {
            "_model_module": "@jupyter-widgets/base",
            "_model_module_version": "1.2.0",
            "_model_name": "LayoutModel",
            "_view_count": null,
            "_view_module": "@jupyter-widgets/base",
            "_view_module_version": "1.2.0",
            "_view_name": "LayoutView",
            "align_content": null,
            "align_items": null,
            "align_self": null,
            "border": null,
            "bottom": null,
            "display": null,
            "flex": null,
            "flex_flow": null,
            "grid_area": null,
            "grid_auto_columns": null,
            "grid_auto_flow": null,
            "grid_auto_rows": null,
            "grid_column": null,
            "grid_gap": null,
            "grid_row": null,
            "grid_template_areas": null,
            "grid_template_columns": null,
            "grid_template_rows": null,
            "height": null,
            "justify_content": null,
            "justify_items": null,
            "left": null,
            "margin": null,
            "max_height": null,
            "max_width": null,
            "min_height": null,
            "min_width": null,
            "object_fit": null,
            "object_position": null,
            "order": null,
            "overflow": null,
            "overflow_x": null,
            "overflow_y": null,
            "padding": null,
            "right": null,
            "top": null,
            "visibility": null,
            "width": null
          }
        },
        "a99e90255b824b9881fd63a66afdc4c3": {
          "model_module": "@jupyter-widgets/controls",
          "model_name": "DescriptionStyleModel",
          "model_module_version": "1.5.0",
          "state": {
            "_model_module": "@jupyter-widgets/controls",
            "_model_module_version": "1.5.0",
            "_model_name": "DescriptionStyleModel",
            "_view_count": null,
            "_view_module": "@jupyter-widgets/base",
            "_view_module_version": "1.2.0",
            "_view_name": "StyleView",
            "description_width": ""
          }
        }
      }
    }
  },
  "nbformat": 4,
  "nbformat_minor": 0
}